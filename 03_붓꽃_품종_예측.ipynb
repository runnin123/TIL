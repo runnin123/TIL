{
  "nbformat": 4,
  "nbformat_minor": 0,
  "metadata": {
    "colab": {
      "name": "03 붓꽃 품종 예측.ipynb",
      "provenance": [],
      "mount_file_id": "1eIioVUY2FVYnVMM5gGd7czDfHTzurelX",
      "authorship_tag": "ABX9TyM94i8SoCDEPh7Arz7FhFF1",
      "include_colab_link": true
    },
    "kernelspec": {
      "name": "python3",
      "display_name": "Python 3"
    }
  },
  "cells": [
    {
      "cell_type": "markdown",
      "metadata": {
        "id": "view-in-github",
        "colab_type": "text"
      },
      "source": [
        "<a href=\"https://colab.research.google.com/github/runnin123/TIL/blob/master/03_%EB%B6%93%EA%BD%83_%ED%92%88%EC%A2%85_%EC%98%88%EC%B8%A1.ipynb\" target=\"_parent\"><img src=\"https://colab.research.google.com/assets/colab-badge.svg\" alt=\"Open In Colab\"/></a>"
      ]
    },
    {
      "cell_type": "code",
      "metadata": {
        "id": "rKqXnDAZdrc8",
        "colab_type": "code",
        "colab": {}
      },
      "source": [
        "import sklearn"
      ],
      "execution_count": 1,
      "outputs": []
    },
    {
      "cell_type": "markdown",
      "metadata": {
        "id": "IwzUhwnomlIh",
        "colab_type": "text"
      },
      "source": [
        "- 붓꽃 데이터 셋: 꽃잎 길이와 너비, 꽃받침 길이와 너비 → 붓꽃 품종 예측\n",
        "- 분류: 지도학습 방법 중 하나\n",
        "- 지도학습: "
      ]
    },
    {
      "cell_type": "code",
      "metadata": {
        "id": "Xcno-5D-mXLf",
        "colab_type": "code",
        "colab": {}
      },
      "source": [
        ""
      ],
      "execution_count": null,
      "outputs": []
    }
  ]
}