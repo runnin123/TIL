{
  "nbformat": 4,
  "nbformat_minor": 0,
  "metadata": {
    "colab": {
      "name": "03 붓꽃 품종 예측.ipynb",
      "provenance": [],
      "collapsed_sections": [],
      "authorship_tag": "ABX9TyPH0GCleQCW1tAEvI49MArC",
      "include_colab_link": true
    },
    "kernelspec": {
      "name": "python3",
      "display_name": "Python 3"
    }
  },
  "cells": [
    {
      "cell_type": "markdown",
      "metadata": {
        "id": "view-in-github",
        "colab_type": "text"
      },
      "source": [
        "<a href=\"https://colab.research.google.com/github/runnin123/TIL/blob/master/03_%EB%B6%93%EA%BD%83_%ED%92%88%EC%A2%85_%EC%98%88%EC%B8%A1.ipynb\" target=\"_parent\"><img src=\"https://colab.research.google.com/assets/colab-badge.svg\" alt=\"Open In Colab\"/></a>"
      ]
    },
    {
      "cell_type": "code",
      "metadata": {
        "id": "1Jo07XDwow0t",
        "colab_type": "code",
        "colab": {
          "base_uri": "https://localhost:8080/",
          "height": 34
        },
        "outputId": "d32bd099-53da-44ab-ec26-fd8ccd21a925"
      },
      "source": [
        "# 사이킷런 임포트, 버전 확인\n",
        "import sklearn\n",
        "\n",
        "print(sklearn.__version__)"
      ],
      "execution_count": 1,
      "outputs": [
        {
          "output_type": "stream",
          "text": [
            "0.22.2.post1\n"
          ],
          "name": "stdout"
        }
      ]
    },
    {
      "cell_type": "markdown",
      "metadata": {
        "id": "oLAXZmOXpa5j",
        "colab_type": "text"
      },
      "source": [
        "- 붓꽃 데이터셋: 꽃잎 길이/너비, 꽃받침 길이/너비 → 붓꽃 품종 예측\n",
        "- 분류: 대표적인 지도학습 방법 중 하나\n",
        "- 지도학습: 학습을 위한 데이터셋으로 모델 학습 → 별도의 테스트 데이터셋에서 미지의 레이블 예측\n",
        "- 즉, 정답 데이터셋(학습 데이터셋)을 학습, 미지의 정답(테스트 데이터셋)을 예측"
      ]
    },
    {
      "cell_type": "markdown",
      "metadata": {
        "id": "UDhtd-jTqUd-",
        "colab_type": "text"
      },
      "source": [
        "- sklearn.datasets: 사이킷런이 제공하는 자체 데이터셋\n",
        "- sklearn.tree: 트리 기반 머신러닝 알고리즘 클래스\n",
        "- sklearn.model_selection: 학습 데이터/검증 데이터, 예측 데이터로 데이터를 분리 or 최적의 하이퍼 파라미터로 평가하기 위한 모듈들"
      ]
    },
    {
      "cell_type": "code",
      "metadata": {
        "id": "io1cFbaxo75b",
        "colab_type": "code",
        "colab": {}
      },
      "source": [
        "from sklearn.datasets import load_iris\n",
        "from sklearn.tree import DecisionTreeClassifier # 의사 결정 트리 알고리즘 사용\n",
        "from sklearn.model_selection import train_test_split"
      ],
      "execution_count": 4,
      "outputs": []
    },
    {
      "cell_type": "code",
      "metadata": {
        "id": "dz-yyHwqpLE7",
        "colab_type": "code",
        "colab": {
          "base_uri": "https://localhost:8080/",
          "height": 242
        },
        "outputId": "a77c3ca2-6b43-4477-8890-a92a29d95262"
      },
      "source": [
        "import pandas as pd\n",
        "\n",
        "# 붓꽃 데이터셋 로드\n",
        "iris = load_iris()\n",
        "\n",
        "# iris.data: iris 데이터셋에서 피처만으로 이루어진 numpy 데이터\n",
        "iris_data = iris.data\n",
        "\n",
        "# iris.target: iris 데이터셋에서 레이블(결정 값)로 이루어진 numpy 데이터\n",
        "iris_label = iris.target\n",
        "print('iris target값:', iris_label)\n",
        "print('iris target명:', iris.target_names)\n",
        "\n",
        "# DataFrame으로 변환\n",
        "iris_df = pd.DataFrame(data = iris_data, columns = iris.feature_names)\n",
        "iris_df['label'] = iris.target\n",
        "iris_df.head(3)"
      ],
      "execution_count": 5,
      "outputs": [
        {
          "output_type": "stream",
          "text": [
            "iris target값: [0 0 0 0 0 0 0 0 0 0 0 0 0 0 0 0 0 0 0 0 0 0 0 0 0 0 0 0 0 0 0 0 0 0 0 0 0\n",
            " 0 0 0 0 0 0 0 0 0 0 0 0 0 1 1 1 1 1 1 1 1 1 1 1 1 1 1 1 1 1 1 1 1 1 1 1 1\n",
            " 1 1 1 1 1 1 1 1 1 1 1 1 1 1 1 1 1 1 1 1 1 1 1 1 1 1 2 2 2 2 2 2 2 2 2 2 2\n",
            " 2 2 2 2 2 2 2 2 2 2 2 2 2 2 2 2 2 2 2 2 2 2 2 2 2 2 2 2 2 2 2 2 2 2 2 2 2\n",
            " 2 2]\n",
            "iris target명: ['setosa' 'versicolor' 'virginica']\n"
          ],
          "name": "stdout"
        },
        {
          "output_type": "execute_result",
          "data": {
            "text/html": [
              "<div>\n",
              "<style scoped>\n",
              "    .dataframe tbody tr th:only-of-type {\n",
              "        vertical-align: middle;\n",
              "    }\n",
              "\n",
              "    .dataframe tbody tr th {\n",
              "        vertical-align: top;\n",
              "    }\n",
              "\n",
              "    .dataframe thead th {\n",
              "        text-align: right;\n",
              "    }\n",
              "</style>\n",
              "<table border=\"1\" class=\"dataframe\">\n",
              "  <thead>\n",
              "    <tr style=\"text-align: right;\">\n",
              "      <th></th>\n",
              "      <th>sepal length (cm)</th>\n",
              "      <th>sepal width (cm)</th>\n",
              "      <th>petal length (cm)</th>\n",
              "      <th>petal width (cm)</th>\n",
              "      <th>label</th>\n",
              "    </tr>\n",
              "  </thead>\n",
              "  <tbody>\n",
              "    <tr>\n",
              "      <th>0</th>\n",
              "      <td>5.1</td>\n",
              "      <td>3.5</td>\n",
              "      <td>1.4</td>\n",
              "      <td>0.2</td>\n",
              "      <td>0</td>\n",
              "    </tr>\n",
              "    <tr>\n",
              "      <th>1</th>\n",
              "      <td>4.9</td>\n",
              "      <td>3.0</td>\n",
              "      <td>1.4</td>\n",
              "      <td>0.2</td>\n",
              "      <td>0</td>\n",
              "    </tr>\n",
              "    <tr>\n",
              "      <th>2</th>\n",
              "      <td>4.7</td>\n",
              "      <td>3.2</td>\n",
              "      <td>1.3</td>\n",
              "      <td>0.2</td>\n",
              "      <td>0</td>\n",
              "    </tr>\n",
              "  </tbody>\n",
              "</table>\n",
              "</div>"
            ],
            "text/plain": [
              "   sepal length (cm)  sepal width (cm)  ...  petal width (cm)  label\n",
              "0                5.1               3.5  ...               0.2      0\n",
              "1                4.9               3.0  ...               0.2      0\n",
              "2                4.7               3.2  ...               0.2      0\n",
              "\n",
              "[3 rows x 5 columns]"
            ]
          },
          "metadata": {
            "tags": []
          },
          "execution_count": 5
        }
      ]
    },
    {
      "cell_type": "markdown",
      "metadata": {
        "id": "BwhlTW8Ftc80",
        "colab_type": "text"
      },
      "source": [
        "- 피처: sepal length, sepal width, petal length, petal width\n",
        "- 레이블: 0, 1, 2 (0: setosa, 1: versicolor, 2: virginica)"
      ]
    },
    {
      "cell_type": "markdown",
      "metadata": {
        "id": "cP-ONDGFt0ID",
        "colab_type": "text"
      },
      "source": [
        "- 학습 데이터로 학습된 모델의 성능 평가를 위해선 테스트 데이터셋이 반드시 필요\n",
        "- 사이킷런 → train_test_split( ) API 제공: test_size로 테스트 데이터셋 분할 가능"
      ]
    },
    {
      "cell_type": "code",
      "metadata": {
        "id": "u_nnicEBtGjz",
        "colab_type": "code",
        "colab": {}
      },
      "source": [
        "X_train, X_test, y_train, y_test = train_test_split(iris_data, iris_label, test_size = 0.2, random_state = 11)"
      ],
      "execution_count": 6,
      "outputs": []
    },
    {
      "cell_type": "markdown",
      "metadata": {
        "id": "fuzt_sSuuPK4",
        "colab_type": "text"
      },
      "source": [
        "- test_size = 0.2 : 테스트 데이터셋 20%, 학습 데이터셋 80%로 분할\n",
        "- random_state: 같은 숫자를 줄 경우 수행할 때마다 같은 난수 발생\n",
        "- train: 학습용 데이터셋\n",
        "- test: 테스트용 데이터셋\n",
        "- X: 피처 데이터\n",
        "- y: 레이블 데이터"
      ]
    },
    {
      "cell_type": "code",
      "metadata": {
        "id": "pQJosdZcuNwN",
        "colab_type": "code",
        "colab": {
          "base_uri": "https://localhost:8080/",
          "height": 122
        },
        "outputId": "7464ead8-dc56-48fc-b183-9405f6caf9ff"
      },
      "source": [
        "# DecisionTreeClassfier 객체 생성\n",
        "df_clf = DecisionTreeClassifier(random_state = 11)\n",
        "\n",
        "# 학습 수행(fit() 메서드 사용)\n",
        "df_clf.fit(X_train, y_train)"
      ],
      "execution_count": 7,
      "outputs": [
        {
          "output_type": "execute_result",
          "data": {
            "text/plain": [
              "DecisionTreeClassifier(ccp_alpha=0.0, class_weight=None, criterion='gini',\n",
              "                       max_depth=None, max_features=None, max_leaf_nodes=None,\n",
              "                       min_impurity_decrease=0.0, min_impurity_split=None,\n",
              "                       min_samples_leaf=1, min_samples_split=2,\n",
              "                       min_weight_fraction_leaf=0.0, presort='deprecated',\n",
              "                       random_state=11, splitter='best')"
            ]
          },
          "metadata": {
            "tags": []
          },
          "execution_count": 7
        }
      ]
    },
    {
      "cell_type": "markdown",
      "metadata": {
        "id": "qfFQul94wpK2",
        "colab_type": "text"
      },
      "source": [
        "- 예측 수행: 학습 데이터가 아닌 데이터를 사용해야 함. 일반적으로는 테스트 데이터셋 이용\n",
        "- predict( ) 메서드 이용"
      ]
    },
    {
      "cell_type": "code",
      "metadata": {
        "id": "sHlICh5hwZXQ",
        "colab_type": "code",
        "colab": {}
      },
      "source": [
        "# 예측 수행\n",
        "pred = df_clf.predict(X_test)"
      ],
      "execution_count": 8,
      "outputs": []
    },
    {
      "cell_type": "markdown",
      "metadata": {
        "id": "ix1ou2h1w7xg",
        "colab_type": "text"
      },
      "source": [
        "- 모델 정확도 평가: 예측 품종과 실제 품종의 일치율 비교\n",
        "- accuracy_score(실제 레이블 데이터, 예측 레이블 데이터) 함수 이용"
      ]
    },
    {
      "cell_type": "code",
      "metadata": {
        "id": "njuAHJBaw5WW",
        "colab_type": "code",
        "colab": {
          "base_uri": "https://localhost:8080/",
          "height": 34
        },
        "outputId": "7983e1fe-bf0a-40b6-f8a5-aa77cf9873c5"
      },
      "source": [
        "# 정확도 평가\n",
        "from sklearn.metrics import accuracy_score\n",
        "print('예측 정확도: {0:.4f}'.format(accuracy_score(y_test, pred)))"
      ],
      "execution_count": 11,
      "outputs": [
        {
          "output_type": "stream",
          "text": [
            "예측 정확도: 0.9333\n"
          ],
          "name": "stdout"
        }
      ]
    },
    {
      "cell_type": "markdown",
      "metadata": {
        "id": "Idg5arYTxgok",
        "colab_type": "text"
      },
      "source": [
        "붓꽃 데이터셋 분류 예측 프로세스 정리\n",
        "1. 데이터 세트 분리: 학습 데이터 / 테스트 데이터 분리\n",
        "2. 모델 학습: ML 알고리즘 적용\n",
        "3. 예측 수행: 학습된 ML 모델 → 데이터 분류 예측\n",
        "4. 평가: 예측값과 실제값 비교, 모델 성능 평가"
      ]
    },
    {
      "cell_type": "code",
      "metadata": {
        "id": "Ih-mSMFExVqI",
        "colab_type": "code",
        "colab": {}
      },
      "source": [
        ""
      ],
      "execution_count": null,
      "outputs": []
    }
  ]
}