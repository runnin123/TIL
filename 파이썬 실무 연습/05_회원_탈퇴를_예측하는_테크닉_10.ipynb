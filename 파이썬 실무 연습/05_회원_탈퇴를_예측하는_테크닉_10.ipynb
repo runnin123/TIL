{
  "nbformat": 4,
  "nbformat_minor": 0,
  "metadata": {
    "colab": {
      "name": "05 회원 탈퇴를 예측하는 테크닉 10.ipynb",
      "provenance": [],
      "collapsed_sections": []
    },
    "kernelspec": {
      "name": "python3",
      "display_name": "Python 3"
    }
  },
  "cells": [
    {
      "cell_type": "markdown",
      "metadata": {
        "id": "fcjcxKzstllw",
        "colab_type": "text"
      },
      "source": [
        "- 이미 탈퇴한 회원과 계속 이용 중인 회원의 데이터를 이용, 지도학습의 분류 알고리즘 중 하나인 '의사결정 트리'로 탈퇴를 예측\n",
        "- 의사결정 트리의 경우 간단한 알고리즘이지만 쉽게 원인 분석이 가능하므로 실무에서 자주 사용됨"
      ]
    },
    {
      "cell_type": "markdown",
      "metadata": {
        "id": "MRU_qtJpt8o-",
        "colab_type": "text"
      },
      "source": [
        "### 데이터\n",
        "- uselog_months.csv : 이용 이력을 연월/고객별로 집계한 데이터\n",
        "- customer_join.csv : 이용 이력을 포함한 고객 데이터"
      ]
    },
    {
      "cell_type": "markdown",
      "metadata": {
        "id": "obPRUgUmuHqX",
        "colab_type": "text"
      },
      "source": [
        "### 테크닉 041 : 데이터를 읽어 들이고 이용 데이터를 수정하자"
      ]
    },
    {
      "cell_type": "code",
      "metadata": {
        "id": "cefDheeltRaV",
        "colab_type": "code",
        "colab": {}
      },
      "source": [
        "import pandas as pd\n",
        "\n",
        "customer = pd.read_csv('/content/drive/My Drive/pyda100/pyda100-master/5장/customer_join.csv')\n",
        "uselog_months = pd.read_csv('/content/drive/My Drive/pyda100/pyda100-master/5장/use_log_months.csv')"
      ],
      "execution_count": 23,
      "outputs": []
    },
    {
      "cell_type": "markdown",
      "metadata": {
        "id": "Z6YeOrnyusdM",
        "colab_type": "text"
      },
      "source": [
        "- 머신러닝을 위한 데이터 가공 필요\n",
        "- 해당 달과 1개월 전의 이용 이력으로 데이터 생성 (6개월 분의 데이터를 이용할 경우, 5개월 이내에 가입한 회원의 탈퇴 예측이 불가능함)"
      ]
    },
    {
      "cell_type": "code",
      "metadata": {
        "id": "PogS8EjRuoQE",
        "colab_type": "code",
        "colab": {
          "base_uri": "https://localhost:8080/",
          "height": 303
        },
        "outputId": "05d7b138-ef09-4b1e-e64c-d0c855a1fd6d"
      },
      "source": [
        "year_months = list(uselog_months['연월'].unique())\n",
        "uselog = pd.DataFrame()\n",
        "\n",
        "for i in range(1, len(year_months)): # 해당 달과 1개월 전 데이터만 있으면 되므로 2018년 5월 데이터부터 반복\n",
        "  tmp = uselog_months.loc[uselog_months['연월'] == year_months[i]]\n",
        "  tmp.rename(columns = {'count' : 'count_0'}, inplace = True)\n",
        "\n",
        "  tmp_before = uselog_months.loc[uselog_months['연월'] == year_months[i-1]]\n",
        "  del tmp_before['연월']\n",
        "  tmp_before.rename(columns = {'count' : 'count_1'}, inplace = True)\n",
        "  \n",
        "  tmp = pd.merge(tmp, tmp_before, on = 'customer_id', how = 'left')\n",
        "  uselog = pd.concat([uselog, tmp], ignore_index = True)\n",
        "uselog.head()"
      ],
      "execution_count": 24,
      "outputs": [
        {
          "output_type": "stream",
          "text": [
            "/usr/local/lib/python3.6/dist-packages/pandas/core/frame.py:4133: SettingWithCopyWarning: \n",
            "A value is trying to be set on a copy of a slice from a DataFrame\n",
            "\n",
            "See the caveats in the documentation: https://pandas.pydata.org/pandas-docs/stable/user_guide/indexing.html#returning-a-view-versus-a-copy\n",
            "  errors=errors,\n"
          ],
          "name": "stderr"
        },
        {
          "output_type": "execute_result",
          "data": {
            "text/html": [
              "<div>\n",
              "<style scoped>\n",
              "    .dataframe tbody tr th:only-of-type {\n",
              "        vertical-align: middle;\n",
              "    }\n",
              "\n",
              "    .dataframe tbody tr th {\n",
              "        vertical-align: top;\n",
              "    }\n",
              "\n",
              "    .dataframe thead th {\n",
              "        text-align: right;\n",
              "    }\n",
              "</style>\n",
              "<table border=\"1\" class=\"dataframe\">\n",
              "  <thead>\n",
              "    <tr style=\"text-align: right;\">\n",
              "      <th></th>\n",
              "      <th>연월</th>\n",
              "      <th>customer_id</th>\n",
              "      <th>count_0</th>\n",
              "      <th>count_1</th>\n",
              "    </tr>\n",
              "  </thead>\n",
              "  <tbody>\n",
              "    <tr>\n",
              "      <th>0</th>\n",
              "      <td>201805</td>\n",
              "      <td>AS002855</td>\n",
              "      <td>5</td>\n",
              "      <td>4.0</td>\n",
              "    </tr>\n",
              "    <tr>\n",
              "      <th>1</th>\n",
              "      <td>201805</td>\n",
              "      <td>AS009373</td>\n",
              "      <td>4</td>\n",
              "      <td>3.0</td>\n",
              "    </tr>\n",
              "    <tr>\n",
              "      <th>2</th>\n",
              "      <td>201805</td>\n",
              "      <td>AS015233</td>\n",
              "      <td>7</td>\n",
              "      <td>NaN</td>\n",
              "    </tr>\n",
              "    <tr>\n",
              "      <th>3</th>\n",
              "      <td>201805</td>\n",
              "      <td>AS015315</td>\n",
              "      <td>3</td>\n",
              "      <td>6.0</td>\n",
              "    </tr>\n",
              "    <tr>\n",
              "      <th>4</th>\n",
              "      <td>201805</td>\n",
              "      <td>AS015739</td>\n",
              "      <td>5</td>\n",
              "      <td>7.0</td>\n",
              "    </tr>\n",
              "  </tbody>\n",
              "</table>\n",
              "</div>"
            ],
            "text/plain": [
              "       연월 customer_id  count_0  count_1\n",
              "0  201805    AS002855        5      4.0\n",
              "1  201805    AS009373        4      3.0\n",
              "2  201805    AS015233        7      NaN\n",
              "3  201805    AS015315        3      6.0\n",
              "4  201805    AS015739        5      7.0"
            ]
          },
          "metadata": {
            "tags": []
          },
          "execution_count": 24
        }
      ]
    },
    {
      "cell_type": "markdown",
      "metadata": {
        "id": "qzUPz10pwPuD",
        "colab_type": "text"
      },
      "source": [
        "### 테크닉 042 : 탈퇴 전월의 탈퇴 고객 데이터를 작성하자"
      ]
    },
    {
      "cell_type": "markdown",
      "metadata": {
        "id": "QUGWTSc1wV40",
        "colab_type": "text"
      },
      "source": [
        "- end_date를 사용하지 않는 이유 : 탈퇴를 예측하는 목적은 탈퇴를 미연에 방지하는 것. 가령 9월 30일에 탈퇴하는 경우, 8월에 탈퇴 신청을 한 것이므로 9월 데이터를 사용해도 탈퇴 방지에 도움이 되지 않음\n",
        "- 따라서 탈퇴 월을 8월로 설정하고, 그 1개월 전인 7월 데이터로 탈퇴 신청을 할 확률을 예측해야 방지가 가능"
      ]
    },
    {
      "cell_type": "code",
      "metadata": {
        "id": "otPzs52dwLaU",
        "colab_type": "code",
        "colab": {
          "base_uri": "https://localhost:8080/",
          "height": 726
        },
        "outputId": "725ef0ab-cb6d-4363-dd01-0c71b2848387"
      },
      "source": [
        "from dateutil.relativedelta import relativedelta\n",
        "\n",
        "# 탈퇴한 회원 데이터를 추출, 저장\n",
        "exit_customer = customer.loc[customer['is_deleted'] == 1]\n",
        "exit_customer['exit_date'] = None\n",
        "exit_customer['end_date'] = pd.to_datetime(exit_customer['end_date'])\n",
        "\n",
        "for i in range(len(exit_customer)):\n",
        "  exit_customer['exit_date'].iloc[i] = exit_customer['end_date'].iloc[i] - relativedelta(months = 1) # 1개월 전 데이터를 exit_date에 저장\n",
        "\n",
        "exit_customer['연월'] = exit_customer['exit_date'].dt.strftime('%Y%m')\n",
        "uselog['연월'] = uselog['연월'].astype(str)\n",
        "exit_uselog = pd.merge(uselog, exit_customer, on = ['customer_id', '연월'], how = 'left')\n",
        "print(len(uselog))\n",
        "exit_uselog.head()"
      ],
      "execution_count": 25,
      "outputs": [
        {
          "output_type": "stream",
          "text": [
            "/usr/local/lib/python3.6/dist-packages/ipykernel_launcher.py:5: SettingWithCopyWarning: \n",
            "A value is trying to be set on a copy of a slice from a DataFrame.\n",
            "Try using .loc[row_indexer,col_indexer] = value instead\n",
            "\n",
            "See the caveats in the documentation: https://pandas.pydata.org/pandas-docs/stable/user_guide/indexing.html#returning-a-view-versus-a-copy\n",
            "  \"\"\"\n",
            "/usr/local/lib/python3.6/dist-packages/ipykernel_launcher.py:6: SettingWithCopyWarning: \n",
            "A value is trying to be set on a copy of a slice from a DataFrame.\n",
            "Try using .loc[row_indexer,col_indexer] = value instead\n",
            "\n",
            "See the caveats in the documentation: https://pandas.pydata.org/pandas-docs/stable/user_guide/indexing.html#returning-a-view-versus-a-copy\n",
            "  \n",
            "/usr/local/lib/python3.6/dist-packages/pandas/core/indexing.py:671: SettingWithCopyWarning: \n",
            "A value is trying to be set on a copy of a slice from a DataFrame\n",
            "\n",
            "See the caveats in the documentation: https://pandas.pydata.org/pandas-docs/stable/user_guide/indexing.html#returning-a-view-versus-a-copy\n",
            "  self._setitem_with_indexer(indexer, value)\n",
            "/usr/local/lib/python3.6/dist-packages/ipykernel_launcher.py:9: SettingWithCopyWarning: \n",
            "A value is trying to be set on a copy of a slice from a DataFrame\n",
            "\n",
            "See the caveats in the documentation: https://pandas.pydata.org/pandas-docs/stable/user_guide/indexing.html#returning-a-view-versus-a-copy\n",
            "  if __name__ == '__main__':\n"
          ],
          "name": "stderr"
        },
        {
          "output_type": "stream",
          "text": [
            "33851\n"
          ],
          "name": "stdout"
        },
        {
          "output_type": "stream",
          "text": [
            "/usr/local/lib/python3.6/dist-packages/ipykernel_launcher.py:11: SettingWithCopyWarning: \n",
            "A value is trying to be set on a copy of a slice from a DataFrame.\n",
            "Try using .loc[row_indexer,col_indexer] = value instead\n",
            "\n",
            "See the caveats in the documentation: https://pandas.pydata.org/pandas-docs/stable/user_guide/indexing.html#returning-a-view-versus-a-copy\n",
            "  # This is added back by InteractiveShellApp.init_path()\n"
          ],
          "name": "stderr"
        },
        {
          "output_type": "execute_result",
          "data": {
            "text/html": [
              "<div>\n",
              "<style scoped>\n",
              "    .dataframe tbody tr th:only-of-type {\n",
              "        vertical-align: middle;\n",
              "    }\n",
              "\n",
              "    .dataframe tbody tr th {\n",
              "        vertical-align: top;\n",
              "    }\n",
              "\n",
              "    .dataframe thead th {\n",
              "        text-align: right;\n",
              "    }\n",
              "</style>\n",
              "<table border=\"1\" class=\"dataframe\">\n",
              "  <thead>\n",
              "    <tr style=\"text-align: right;\">\n",
              "      <th></th>\n",
              "      <th>연월</th>\n",
              "      <th>customer_id</th>\n",
              "      <th>count_0</th>\n",
              "      <th>count_1</th>\n",
              "      <th>name</th>\n",
              "      <th>class</th>\n",
              "      <th>gender</th>\n",
              "      <th>start_date</th>\n",
              "      <th>end_date</th>\n",
              "      <th>campaign_id</th>\n",
              "      <th>is_deleted</th>\n",
              "      <th>class_name</th>\n",
              "      <th>price</th>\n",
              "      <th>campaign_name</th>\n",
              "      <th>mean</th>\n",
              "      <th>median</th>\n",
              "      <th>max</th>\n",
              "      <th>min</th>\n",
              "      <th>routine_flg</th>\n",
              "      <th>calc_date</th>\n",
              "      <th>membership_period</th>\n",
              "      <th>exit_date</th>\n",
              "    </tr>\n",
              "  </thead>\n",
              "  <tbody>\n",
              "    <tr>\n",
              "      <th>0</th>\n",
              "      <td>201805</td>\n",
              "      <td>AS002855</td>\n",
              "      <td>5</td>\n",
              "      <td>4.0</td>\n",
              "      <td>NaN</td>\n",
              "      <td>NaN</td>\n",
              "      <td>NaN</td>\n",
              "      <td>NaN</td>\n",
              "      <td>NaT</td>\n",
              "      <td>NaN</td>\n",
              "      <td>NaN</td>\n",
              "      <td>NaN</td>\n",
              "      <td>NaN</td>\n",
              "      <td>NaN</td>\n",
              "      <td>NaN</td>\n",
              "      <td>NaN</td>\n",
              "      <td>NaN</td>\n",
              "      <td>NaN</td>\n",
              "      <td>NaN</td>\n",
              "      <td>NaN</td>\n",
              "      <td>NaN</td>\n",
              "      <td>NaN</td>\n",
              "    </tr>\n",
              "    <tr>\n",
              "      <th>1</th>\n",
              "      <td>201805</td>\n",
              "      <td>AS009373</td>\n",
              "      <td>4</td>\n",
              "      <td>3.0</td>\n",
              "      <td>NaN</td>\n",
              "      <td>NaN</td>\n",
              "      <td>NaN</td>\n",
              "      <td>NaN</td>\n",
              "      <td>NaT</td>\n",
              "      <td>NaN</td>\n",
              "      <td>NaN</td>\n",
              "      <td>NaN</td>\n",
              "      <td>NaN</td>\n",
              "      <td>NaN</td>\n",
              "      <td>NaN</td>\n",
              "      <td>NaN</td>\n",
              "      <td>NaN</td>\n",
              "      <td>NaN</td>\n",
              "      <td>NaN</td>\n",
              "      <td>NaN</td>\n",
              "      <td>NaN</td>\n",
              "      <td>NaN</td>\n",
              "    </tr>\n",
              "    <tr>\n",
              "      <th>2</th>\n",
              "      <td>201805</td>\n",
              "      <td>AS015233</td>\n",
              "      <td>7</td>\n",
              "      <td>NaN</td>\n",
              "      <td>NaN</td>\n",
              "      <td>NaN</td>\n",
              "      <td>NaN</td>\n",
              "      <td>NaN</td>\n",
              "      <td>NaT</td>\n",
              "      <td>NaN</td>\n",
              "      <td>NaN</td>\n",
              "      <td>NaN</td>\n",
              "      <td>NaN</td>\n",
              "      <td>NaN</td>\n",
              "      <td>NaN</td>\n",
              "      <td>NaN</td>\n",
              "      <td>NaN</td>\n",
              "      <td>NaN</td>\n",
              "      <td>NaN</td>\n",
              "      <td>NaN</td>\n",
              "      <td>NaN</td>\n",
              "      <td>NaN</td>\n",
              "    </tr>\n",
              "    <tr>\n",
              "      <th>3</th>\n",
              "      <td>201805</td>\n",
              "      <td>AS015315</td>\n",
              "      <td>3</td>\n",
              "      <td>6.0</td>\n",
              "      <td>NaN</td>\n",
              "      <td>NaN</td>\n",
              "      <td>NaN</td>\n",
              "      <td>NaN</td>\n",
              "      <td>NaT</td>\n",
              "      <td>NaN</td>\n",
              "      <td>NaN</td>\n",
              "      <td>NaN</td>\n",
              "      <td>NaN</td>\n",
              "      <td>NaN</td>\n",
              "      <td>NaN</td>\n",
              "      <td>NaN</td>\n",
              "      <td>NaN</td>\n",
              "      <td>NaN</td>\n",
              "      <td>NaN</td>\n",
              "      <td>NaN</td>\n",
              "      <td>NaN</td>\n",
              "      <td>NaN</td>\n",
              "    </tr>\n",
              "    <tr>\n",
              "      <th>4</th>\n",
              "      <td>201805</td>\n",
              "      <td>AS015739</td>\n",
              "      <td>5</td>\n",
              "      <td>7.0</td>\n",
              "      <td>NaN</td>\n",
              "      <td>NaN</td>\n",
              "      <td>NaN</td>\n",
              "      <td>NaN</td>\n",
              "      <td>NaT</td>\n",
              "      <td>NaN</td>\n",
              "      <td>NaN</td>\n",
              "      <td>NaN</td>\n",
              "      <td>NaN</td>\n",
              "      <td>NaN</td>\n",
              "      <td>NaN</td>\n",
              "      <td>NaN</td>\n",
              "      <td>NaN</td>\n",
              "      <td>NaN</td>\n",
              "      <td>NaN</td>\n",
              "      <td>NaN</td>\n",
              "      <td>NaN</td>\n",
              "      <td>NaN</td>\n",
              "    </tr>\n",
              "  </tbody>\n",
              "</table>\n",
              "</div>"
            ],
            "text/plain": [
              "       연월 customer_id  count_0  ...  calc_date membership_period exit_date\n",
              "0  201805    AS002855        5  ...        NaN               NaN       NaN\n",
              "1  201805    AS009373        4  ...        NaN               NaN       NaN\n",
              "2  201805    AS015233        7  ...        NaN               NaN       NaN\n",
              "3  201805    AS015315        3  ...        NaN               NaN       NaN\n",
              "4  201805    AS015739        5  ...        NaN               NaN       NaN\n",
              "\n",
              "[5 rows x 22 columns]"
            ]
          },
          "metadata": {
            "tags": []
          },
          "execution_count": 25
        }
      ]
    },
    {
      "cell_type": "markdown",
      "metadata": {
        "id": "Gk_ck-c5yIDd",
        "colab_type": "text"
      },
      "source": [
        "- 결합한 데이터는 탈퇴한 회원의 전월 이용 데이터이므로 결측치가 다수 존재\n",
        "- 결측치가 없는 데이터만 남기고 나머지는 제거"
      ]
    },
    {
      "cell_type": "code",
      "metadata": {
        "id": "ysVrP0-ux4co",
        "colab_type": "code",
        "colab": {
          "base_uri": "https://localhost:8080/",
          "height": 418
        },
        "outputId": "83e15ad4-590b-4bfe-cb53-870be83f0cd4"
      },
      "source": [
        "exit_uselog = exit_uselog.dropna(subset = ['name']) # name 칼럼에 결측치가 있을 경우 삭제\n",
        "print(len(exit_uselog))\n",
        "print(len(exit_uselog['customer_id'].unique()))\n",
        "exit_uselog.head()"
      ],
      "execution_count": 26,
      "outputs": [
        {
          "output_type": "stream",
          "text": [
            "1104\n",
            "1104\n"
          ],
          "name": "stdout"
        },
        {
          "output_type": "execute_result",
          "data": {
            "text/html": [
              "<div>\n",
              "<style scoped>\n",
              "    .dataframe tbody tr th:only-of-type {\n",
              "        vertical-align: middle;\n",
              "    }\n",
              "\n",
              "    .dataframe tbody tr th {\n",
              "        vertical-align: top;\n",
              "    }\n",
              "\n",
              "    .dataframe thead th {\n",
              "        text-align: right;\n",
              "    }\n",
              "</style>\n",
              "<table border=\"1\" class=\"dataframe\">\n",
              "  <thead>\n",
              "    <tr style=\"text-align: right;\">\n",
              "      <th></th>\n",
              "      <th>연월</th>\n",
              "      <th>customer_id</th>\n",
              "      <th>count_0</th>\n",
              "      <th>count_1</th>\n",
              "      <th>name</th>\n",
              "      <th>class</th>\n",
              "      <th>gender</th>\n",
              "      <th>start_date</th>\n",
              "      <th>end_date</th>\n",
              "      <th>campaign_id</th>\n",
              "      <th>is_deleted</th>\n",
              "      <th>class_name</th>\n",
              "      <th>price</th>\n",
              "      <th>campaign_name</th>\n",
              "      <th>mean</th>\n",
              "      <th>median</th>\n",
              "      <th>max</th>\n",
              "      <th>min</th>\n",
              "      <th>routine_flg</th>\n",
              "      <th>calc_date</th>\n",
              "      <th>membership_period</th>\n",
              "      <th>exit_date</th>\n",
              "    </tr>\n",
              "  </thead>\n",
              "  <tbody>\n",
              "    <tr>\n",
              "      <th>19</th>\n",
              "      <td>201805</td>\n",
              "      <td>AS055680</td>\n",
              "      <td>3</td>\n",
              "      <td>3.0</td>\n",
              "      <td>XXXXX</td>\n",
              "      <td>C01</td>\n",
              "      <td>M</td>\n",
              "      <td>2018-03-01</td>\n",
              "      <td>2018-06-30</td>\n",
              "      <td>CA1</td>\n",
              "      <td>1.0</td>\n",
              "      <td>종일</td>\n",
              "      <td>10500.0</td>\n",
              "      <td>일반</td>\n",
              "      <td>3.000000</td>\n",
              "      <td>3.0</td>\n",
              "      <td>3.0</td>\n",
              "      <td>3.0</td>\n",
              "      <td>0.0</td>\n",
              "      <td>2018-06-30</td>\n",
              "      <td>3.0</td>\n",
              "      <td>2018-05-30 00:00:00</td>\n",
              "    </tr>\n",
              "    <tr>\n",
              "      <th>57</th>\n",
              "      <td>201805</td>\n",
              "      <td>AS169823</td>\n",
              "      <td>2</td>\n",
              "      <td>3.0</td>\n",
              "      <td>XX</td>\n",
              "      <td>C01</td>\n",
              "      <td>M</td>\n",
              "      <td>2017-11-01</td>\n",
              "      <td>2018-06-30</td>\n",
              "      <td>CA1</td>\n",
              "      <td>1.0</td>\n",
              "      <td>종일</td>\n",
              "      <td>10500.0</td>\n",
              "      <td>일반</td>\n",
              "      <td>3.000000</td>\n",
              "      <td>3.0</td>\n",
              "      <td>4.0</td>\n",
              "      <td>2.0</td>\n",
              "      <td>1.0</td>\n",
              "      <td>2018-06-30</td>\n",
              "      <td>7.0</td>\n",
              "      <td>2018-05-30 00:00:00</td>\n",
              "    </tr>\n",
              "    <tr>\n",
              "      <th>110</th>\n",
              "      <td>201805</td>\n",
              "      <td>AS305860</td>\n",
              "      <td>5</td>\n",
              "      <td>3.0</td>\n",
              "      <td>XXXX</td>\n",
              "      <td>C01</td>\n",
              "      <td>M</td>\n",
              "      <td>2017-06-01</td>\n",
              "      <td>2018-06-30</td>\n",
              "      <td>CA1</td>\n",
              "      <td>1.0</td>\n",
              "      <td>종일</td>\n",
              "      <td>10500.0</td>\n",
              "      <td>일반</td>\n",
              "      <td>3.333333</td>\n",
              "      <td>3.0</td>\n",
              "      <td>5.0</td>\n",
              "      <td>2.0</td>\n",
              "      <td>0.0</td>\n",
              "      <td>2018-06-30</td>\n",
              "      <td>12.0</td>\n",
              "      <td>2018-05-30 00:00:00</td>\n",
              "    </tr>\n",
              "    <tr>\n",
              "      <th>128</th>\n",
              "      <td>201805</td>\n",
              "      <td>AS363699</td>\n",
              "      <td>5</td>\n",
              "      <td>3.0</td>\n",
              "      <td>XXXXX</td>\n",
              "      <td>C01</td>\n",
              "      <td>M</td>\n",
              "      <td>2018-02-01</td>\n",
              "      <td>2018-06-30</td>\n",
              "      <td>CA1</td>\n",
              "      <td>1.0</td>\n",
              "      <td>종일</td>\n",
              "      <td>10500.0</td>\n",
              "      <td>일반</td>\n",
              "      <td>3.333333</td>\n",
              "      <td>3.0</td>\n",
              "      <td>5.0</td>\n",
              "      <td>2.0</td>\n",
              "      <td>0.0</td>\n",
              "      <td>2018-06-30</td>\n",
              "      <td>4.0</td>\n",
              "      <td>2018-05-30 00:00:00</td>\n",
              "    </tr>\n",
              "    <tr>\n",
              "      <th>147</th>\n",
              "      <td>201805</td>\n",
              "      <td>AS417696</td>\n",
              "      <td>1</td>\n",
              "      <td>4.0</td>\n",
              "      <td>XX</td>\n",
              "      <td>C03</td>\n",
              "      <td>F</td>\n",
              "      <td>2017-09-01</td>\n",
              "      <td>2018-06-30</td>\n",
              "      <td>CA1</td>\n",
              "      <td>1.0</td>\n",
              "      <td>야간</td>\n",
              "      <td>6000.0</td>\n",
              "      <td>일반</td>\n",
              "      <td>2.000000</td>\n",
              "      <td>1.0</td>\n",
              "      <td>4.0</td>\n",
              "      <td>1.0</td>\n",
              "      <td>0.0</td>\n",
              "      <td>2018-06-30</td>\n",
              "      <td>9.0</td>\n",
              "      <td>2018-05-30 00:00:00</td>\n",
              "    </tr>\n",
              "  </tbody>\n",
              "</table>\n",
              "</div>"
            ],
            "text/plain": [
              "         연월 customer_id  ...  membership_period            exit_date\n",
              "19   201805    AS055680  ...                3.0  2018-05-30 00:00:00\n",
              "57   201805    AS169823  ...                7.0  2018-05-30 00:00:00\n",
              "110  201805    AS305860  ...               12.0  2018-05-30 00:00:00\n",
              "128  201805    AS363699  ...                4.0  2018-05-30 00:00:00\n",
              "147  201805    AS417696  ...                9.0  2018-05-30 00:00:00\n",
              "\n",
              "[5 rows x 22 columns]"
            ]
          },
          "metadata": {
            "tags": []
          },
          "execution_count": 26
        }
      ]
    },
    {
      "cell_type": "markdown",
      "metadata": {
        "id": "dTB7spM9yzhV",
        "colab_type": "text"
      },
      "source": [
        "### 테크닉 043 : 지속 회원의 데이터를 작성하자"
      ]
    },
    {
      "cell_type": "markdown",
      "metadata": {
        "id": "wSSB3XeTy3Ab",
        "colab_type": "text"
      },
      "source": [
        "- 지속 회원의 경우 탈퇴 월이 없기 때문에 아무 연월의 데이터를 작성해도 상관 없음\n",
        "- 따라서 지속 회원 추출 후 uselog에 결합해주면 됨"
      ]
    },
    {
      "cell_type": "code",
      "metadata": {
        "id": "z-dPxfJ5ybWP",
        "colab_type": "code",
        "colab": {
          "base_uri": "https://localhost:8080/",
          "height": 52
        },
        "outputId": "5377d6dc-419e-4836-b9b4-6f08848e1c5c"
      },
      "source": [
        "# 지속 회원 추출 후 저장\n",
        "conti_customer = customer.loc[customer['is_deleted'] == 0]\n",
        "conti_uselog = pd.merge(uselog, conti_customer, on = ['customer_id'], how = 'left')\n",
        "print(len(conti_uselog))\n",
        "\n",
        "# name 칼럼에 결측치가 있을 경우 제거\n",
        "conti_uselog = conti_uselog.dropna(subset = ['name'])\n",
        "print(len(conti_uselog))"
      ],
      "execution_count": 27,
      "outputs": [
        {
          "output_type": "stream",
          "text": [
            "33851\n",
            "27422\n"
          ],
          "name": "stdout"
        }
      ]
    },
    {
      "cell_type": "markdown",
      "metadata": {
        "id": "2zLIwZNdzXQE",
        "colab_type": "text"
      },
      "source": [
        "- 탈퇴 데이터 : 1104개, 지속 데이터 : 27422개로, 데이터의 불균형이 존재\n",
        "- 이러한 경우, 샘플의 수를 조정하는 경우가 많음\n",
        "- 지속 회원 데이터도 회원당 1개가 되게 언더샘플링 적용 (지속 회원 A씨의 데이터들 중 한 개의 월 데이터만 선택)"
      ]
    },
    {
      "cell_type": "code",
      "metadata": {
        "id": "sdMrpnDlzSOD",
        "colab_type": "code",
        "colab": {
          "base_uri": "https://localhost:8080/",
          "height": 317
        },
        "outputId": "f0cb6ffe-7e4f-4519-8608-024eea647853"
      },
      "source": [
        "# 샘플링\n",
        "conti_uselog = conti_uselog.sample(frac = 1).reset_index(drop = True)\n",
        "# 중복 제거 : customer_id를 기준으로 중복 샘플링이 됐을 경우 중복 제거 → 한 회원 당 한 개의 데이터만 샘플링하게 됨\n",
        "conti_uselog = conti_uselog.drop_duplicates(subset = 'customer_id')\n",
        "print(len(conti_uselog))\n",
        "conti_uselog.head()"
      ],
      "execution_count": 28,
      "outputs": [
        {
          "output_type": "stream",
          "text": [
            "2842\n"
          ],
          "name": "stdout"
        },
        {
          "output_type": "execute_result",
          "data": {
            "text/html": [
              "<div>\n",
              "<style scoped>\n",
              "    .dataframe tbody tr th:only-of-type {\n",
              "        vertical-align: middle;\n",
              "    }\n",
              "\n",
              "    .dataframe tbody tr th {\n",
              "        vertical-align: top;\n",
              "    }\n",
              "\n",
              "    .dataframe thead th {\n",
              "        text-align: right;\n",
              "    }\n",
              "</style>\n",
              "<table border=\"1\" class=\"dataframe\">\n",
              "  <thead>\n",
              "    <tr style=\"text-align: right;\">\n",
              "      <th></th>\n",
              "      <th>연월</th>\n",
              "      <th>customer_id</th>\n",
              "      <th>count_0</th>\n",
              "      <th>count_1</th>\n",
              "      <th>name</th>\n",
              "      <th>class</th>\n",
              "      <th>gender</th>\n",
              "      <th>start_date</th>\n",
              "      <th>end_date</th>\n",
              "      <th>campaign_id</th>\n",
              "      <th>is_deleted</th>\n",
              "      <th>class_name</th>\n",
              "      <th>price</th>\n",
              "      <th>campaign_name</th>\n",
              "      <th>mean</th>\n",
              "      <th>median</th>\n",
              "      <th>max</th>\n",
              "      <th>min</th>\n",
              "      <th>routine_flg</th>\n",
              "      <th>calc_date</th>\n",
              "      <th>membership_period</th>\n",
              "    </tr>\n",
              "  </thead>\n",
              "  <tbody>\n",
              "    <tr>\n",
              "      <th>0</th>\n",
              "      <td>201903</td>\n",
              "      <td>PL102815</td>\n",
              "      <td>9</td>\n",
              "      <td>9.0</td>\n",
              "      <td>XXXXXX</td>\n",
              "      <td>C01</td>\n",
              "      <td>M</td>\n",
              "      <td>2018-10-13</td>\n",
              "      <td>NaN</td>\n",
              "      <td>CA1</td>\n",
              "      <td>0.0</td>\n",
              "      <td>종일</td>\n",
              "      <td>10500.0</td>\n",
              "      <td>일반</td>\n",
              "      <td>8.166667</td>\n",
              "      <td>8.0</td>\n",
              "      <td>11.0</td>\n",
              "      <td>6.0</td>\n",
              "      <td>1.0</td>\n",
              "      <td>2019-04-30</td>\n",
              "      <td>6.0</td>\n",
              "    </tr>\n",
              "    <tr>\n",
              "      <th>1</th>\n",
              "      <td>201807</td>\n",
              "      <td>IK771427</td>\n",
              "      <td>2</td>\n",
              "      <td>5.0</td>\n",
              "      <td>XXXX</td>\n",
              "      <td>C02</td>\n",
              "      <td>M</td>\n",
              "      <td>2015-10-01</td>\n",
              "      <td>NaN</td>\n",
              "      <td>CA1</td>\n",
              "      <td>0.0</td>\n",
              "      <td>주간</td>\n",
              "      <td>7500.0</td>\n",
              "      <td>일반</td>\n",
              "      <td>3.750000</td>\n",
              "      <td>3.5</td>\n",
              "      <td>6.0</td>\n",
              "      <td>1.0</td>\n",
              "      <td>1.0</td>\n",
              "      <td>2019-04-30</td>\n",
              "      <td>42.0</td>\n",
              "    </tr>\n",
              "    <tr>\n",
              "      <th>2</th>\n",
              "      <td>201901</td>\n",
              "      <td>PL003692</td>\n",
              "      <td>8</td>\n",
              "      <td>9.0</td>\n",
              "      <td>XXXX</td>\n",
              "      <td>C03</td>\n",
              "      <td>M</td>\n",
              "      <td>2018-05-12</td>\n",
              "      <td>NaN</td>\n",
              "      <td>CA2</td>\n",
              "      <td>0.0</td>\n",
              "      <td>야간</td>\n",
              "      <td>6000.0</td>\n",
              "      <td>입회비반액할인</td>\n",
              "      <td>7.272727</td>\n",
              "      <td>7.0</td>\n",
              "      <td>11.0</td>\n",
              "      <td>4.0</td>\n",
              "      <td>1.0</td>\n",
              "      <td>2019-04-30</td>\n",
              "      <td>11.0</td>\n",
              "    </tr>\n",
              "    <tr>\n",
              "      <th>3</th>\n",
              "      <td>201807</td>\n",
              "      <td>PL103369</td>\n",
              "      <td>3</td>\n",
              "      <td>7.0</td>\n",
              "      <td>XXXXXX</td>\n",
              "      <td>C02</td>\n",
              "      <td>F</td>\n",
              "      <td>2017-05-01</td>\n",
              "      <td>NaN</td>\n",
              "      <td>CA1</td>\n",
              "      <td>0.0</td>\n",
              "      <td>주간</td>\n",
              "      <td>7500.0</td>\n",
              "      <td>일반</td>\n",
              "      <td>5.416667</td>\n",
              "      <td>5.0</td>\n",
              "      <td>10.0</td>\n",
              "      <td>3.0</td>\n",
              "      <td>1.0</td>\n",
              "      <td>2019-04-30</td>\n",
              "      <td>23.0</td>\n",
              "    </tr>\n",
              "    <tr>\n",
              "      <th>4</th>\n",
              "      <td>201812</td>\n",
              "      <td>TS493191</td>\n",
              "      <td>6</td>\n",
              "      <td>8.0</td>\n",
              "      <td>XX</td>\n",
              "      <td>C03</td>\n",
              "      <td>F</td>\n",
              "      <td>2017-11-01</td>\n",
              "      <td>NaN</td>\n",
              "      <td>CA1</td>\n",
              "      <td>0.0</td>\n",
              "      <td>야간</td>\n",
              "      <td>6000.0</td>\n",
              "      <td>일반</td>\n",
              "      <td>6.750000</td>\n",
              "      <td>6.0</td>\n",
              "      <td>9.0</td>\n",
              "      <td>4.0</td>\n",
              "      <td>1.0</td>\n",
              "      <td>2019-04-30</td>\n",
              "      <td>17.0</td>\n",
              "    </tr>\n",
              "  </tbody>\n",
              "</table>\n",
              "</div>"
            ],
            "text/plain": [
              "       연월 customer_id  count_0  ...  routine_flg   calc_date membership_period\n",
              "0  201903    PL102815        9  ...          1.0  2019-04-30               6.0\n",
              "1  201807    IK771427        2  ...          1.0  2019-04-30              42.0\n",
              "2  201901    PL003692        8  ...          1.0  2019-04-30              11.0\n",
              "3  201807    PL103369        3  ...          1.0  2019-04-30              23.0\n",
              "4  201812    TS493191        6  ...          1.0  2019-04-30              17.0\n",
              "\n",
              "[5 rows x 21 columns]"
            ]
          },
          "metadata": {
            "tags": []
          },
          "execution_count": 28
        }
      ]
    },
    {
      "cell_type": "code",
      "metadata": {
        "id": "HxwUJlez0EYn",
        "colab_type": "code",
        "colab": {
          "base_uri": "https://localhost:8080/",
          "height": 317
        },
        "outputId": "47552769-1340-4bcb-8507-3ee3b5de103d"
      },
      "source": [
        "# 지속 회원 데이터와 탈퇴 회원 데이터를 세로로 결합\n",
        "predict_data = pd.concat([conti_uselog, exit_uselog], ignore_index = True)\n",
        "print(len(predict_data))\n",
        "predict_data.head()"
      ],
      "execution_count": 29,
      "outputs": [
        {
          "output_type": "stream",
          "text": [
            "3946\n"
          ],
          "name": "stdout"
        },
        {
          "output_type": "execute_result",
          "data": {
            "text/html": [
              "<div>\n",
              "<style scoped>\n",
              "    .dataframe tbody tr th:only-of-type {\n",
              "        vertical-align: middle;\n",
              "    }\n",
              "\n",
              "    .dataframe tbody tr th {\n",
              "        vertical-align: top;\n",
              "    }\n",
              "\n",
              "    .dataframe thead th {\n",
              "        text-align: right;\n",
              "    }\n",
              "</style>\n",
              "<table border=\"1\" class=\"dataframe\">\n",
              "  <thead>\n",
              "    <tr style=\"text-align: right;\">\n",
              "      <th></th>\n",
              "      <th>연월</th>\n",
              "      <th>customer_id</th>\n",
              "      <th>count_0</th>\n",
              "      <th>count_1</th>\n",
              "      <th>name</th>\n",
              "      <th>class</th>\n",
              "      <th>gender</th>\n",
              "      <th>start_date</th>\n",
              "      <th>end_date</th>\n",
              "      <th>campaign_id</th>\n",
              "      <th>is_deleted</th>\n",
              "      <th>class_name</th>\n",
              "      <th>price</th>\n",
              "      <th>campaign_name</th>\n",
              "      <th>mean</th>\n",
              "      <th>median</th>\n",
              "      <th>max</th>\n",
              "      <th>min</th>\n",
              "      <th>routine_flg</th>\n",
              "      <th>calc_date</th>\n",
              "      <th>membership_period</th>\n",
              "      <th>exit_date</th>\n",
              "    </tr>\n",
              "  </thead>\n",
              "  <tbody>\n",
              "    <tr>\n",
              "      <th>0</th>\n",
              "      <td>201903</td>\n",
              "      <td>PL102815</td>\n",
              "      <td>9</td>\n",
              "      <td>9.0</td>\n",
              "      <td>XXXXXX</td>\n",
              "      <td>C01</td>\n",
              "      <td>M</td>\n",
              "      <td>2018-10-13</td>\n",
              "      <td>NaN</td>\n",
              "      <td>CA1</td>\n",
              "      <td>0.0</td>\n",
              "      <td>종일</td>\n",
              "      <td>10500.0</td>\n",
              "      <td>일반</td>\n",
              "      <td>8.166667</td>\n",
              "      <td>8.0</td>\n",
              "      <td>11.0</td>\n",
              "      <td>6.0</td>\n",
              "      <td>1.0</td>\n",
              "      <td>2019-04-30</td>\n",
              "      <td>6.0</td>\n",
              "      <td>NaN</td>\n",
              "    </tr>\n",
              "    <tr>\n",
              "      <th>1</th>\n",
              "      <td>201807</td>\n",
              "      <td>IK771427</td>\n",
              "      <td>2</td>\n",
              "      <td>5.0</td>\n",
              "      <td>XXXX</td>\n",
              "      <td>C02</td>\n",
              "      <td>M</td>\n",
              "      <td>2015-10-01</td>\n",
              "      <td>NaN</td>\n",
              "      <td>CA1</td>\n",
              "      <td>0.0</td>\n",
              "      <td>주간</td>\n",
              "      <td>7500.0</td>\n",
              "      <td>일반</td>\n",
              "      <td>3.750000</td>\n",
              "      <td>3.5</td>\n",
              "      <td>6.0</td>\n",
              "      <td>1.0</td>\n",
              "      <td>1.0</td>\n",
              "      <td>2019-04-30</td>\n",
              "      <td>42.0</td>\n",
              "      <td>NaN</td>\n",
              "    </tr>\n",
              "    <tr>\n",
              "      <th>2</th>\n",
              "      <td>201901</td>\n",
              "      <td>PL003692</td>\n",
              "      <td>8</td>\n",
              "      <td>9.0</td>\n",
              "      <td>XXXX</td>\n",
              "      <td>C03</td>\n",
              "      <td>M</td>\n",
              "      <td>2018-05-12</td>\n",
              "      <td>NaN</td>\n",
              "      <td>CA2</td>\n",
              "      <td>0.0</td>\n",
              "      <td>야간</td>\n",
              "      <td>6000.0</td>\n",
              "      <td>입회비반액할인</td>\n",
              "      <td>7.272727</td>\n",
              "      <td>7.0</td>\n",
              "      <td>11.0</td>\n",
              "      <td>4.0</td>\n",
              "      <td>1.0</td>\n",
              "      <td>2019-04-30</td>\n",
              "      <td>11.0</td>\n",
              "      <td>NaN</td>\n",
              "    </tr>\n",
              "    <tr>\n",
              "      <th>3</th>\n",
              "      <td>201807</td>\n",
              "      <td>PL103369</td>\n",
              "      <td>3</td>\n",
              "      <td>7.0</td>\n",
              "      <td>XXXXXX</td>\n",
              "      <td>C02</td>\n",
              "      <td>F</td>\n",
              "      <td>2017-05-01</td>\n",
              "      <td>NaN</td>\n",
              "      <td>CA1</td>\n",
              "      <td>0.0</td>\n",
              "      <td>주간</td>\n",
              "      <td>7500.0</td>\n",
              "      <td>일반</td>\n",
              "      <td>5.416667</td>\n",
              "      <td>5.0</td>\n",
              "      <td>10.0</td>\n",
              "      <td>3.0</td>\n",
              "      <td>1.0</td>\n",
              "      <td>2019-04-30</td>\n",
              "      <td>23.0</td>\n",
              "      <td>NaN</td>\n",
              "    </tr>\n",
              "    <tr>\n",
              "      <th>4</th>\n",
              "      <td>201812</td>\n",
              "      <td>TS493191</td>\n",
              "      <td>6</td>\n",
              "      <td>8.0</td>\n",
              "      <td>XX</td>\n",
              "      <td>C03</td>\n",
              "      <td>F</td>\n",
              "      <td>2017-11-01</td>\n",
              "      <td>NaN</td>\n",
              "      <td>CA1</td>\n",
              "      <td>0.0</td>\n",
              "      <td>야간</td>\n",
              "      <td>6000.0</td>\n",
              "      <td>일반</td>\n",
              "      <td>6.750000</td>\n",
              "      <td>6.0</td>\n",
              "      <td>9.0</td>\n",
              "      <td>4.0</td>\n",
              "      <td>1.0</td>\n",
              "      <td>2019-04-30</td>\n",
              "      <td>17.0</td>\n",
              "      <td>NaN</td>\n",
              "    </tr>\n",
              "  </tbody>\n",
              "</table>\n",
              "</div>"
            ],
            "text/plain": [
              "       연월 customer_id  count_0  ...   calc_date membership_period exit_date\n",
              "0  201903    PL102815        9  ...  2019-04-30               6.0       NaN\n",
              "1  201807    IK771427        2  ...  2019-04-30              42.0       NaN\n",
              "2  201901    PL003692        8  ...  2019-04-30              11.0       NaN\n",
              "3  201807    PL103369        3  ...  2019-04-30              23.0       NaN\n",
              "4  201812    TS493191        6  ...  2019-04-30              17.0       NaN\n",
              "\n",
              "[5 rows x 22 columns]"
            ]
          },
          "metadata": {
            "tags": []
          },
          "execution_count": 29
        }
      ]
    },
    {
      "cell_type": "markdown",
      "metadata": {
        "id": "TdXazQyI0Vh3",
        "colab_type": "text"
      },
      "source": [
        "### 테크닉 044 : 예측할 달의 재적 기간을 작성하자"
      ]
    },
    {
      "cell_type": "code",
      "metadata": {
        "id": "mCBGwqCL0Qwa",
        "colab_type": "code",
        "colab": {
          "base_uri": "https://localhost:8080/",
          "height": 387
        },
        "outputId": "21c4462b-3fc5-46f2-f232-c94804687f99"
      },
      "source": [
        "predict_data['period'] = 0\n",
        "predict_data['now_date'] = pd.to_datetime(predict_data['연월'], format = '%Y%m')\n",
        "predict_data['start_date'] = pd.to_datetime(predict_data['start_date'])\n",
        "\n",
        "for i in range(len(predict_data)):\n",
        "  delta = relativedelta(predict_data['now_date'][i], predict_data['start_date'][i])\n",
        "  predict_data['period'][i] = int(delta.years*12 + delta.months) # 월 단위로 변환\n",
        "\n",
        "predict_data.head()"
      ],
      "execution_count": 30,
      "outputs": [
        {
          "output_type": "stream",
          "text": [
            "/usr/local/lib/python3.6/dist-packages/ipykernel_launcher.py:7: SettingWithCopyWarning: \n",
            "A value is trying to be set on a copy of a slice from a DataFrame\n",
            "\n",
            "See the caveats in the documentation: https://pandas.pydata.org/pandas-docs/stable/user_guide/indexing.html#returning-a-view-versus-a-copy\n",
            "  import sys\n"
          ],
          "name": "stderr"
        },
        {
          "output_type": "execute_result",
          "data": {
            "text/html": [
              "<div>\n",
              "<style scoped>\n",
              "    .dataframe tbody tr th:only-of-type {\n",
              "        vertical-align: middle;\n",
              "    }\n",
              "\n",
              "    .dataframe tbody tr th {\n",
              "        vertical-align: top;\n",
              "    }\n",
              "\n",
              "    .dataframe thead th {\n",
              "        text-align: right;\n",
              "    }\n",
              "</style>\n",
              "<table border=\"1\" class=\"dataframe\">\n",
              "  <thead>\n",
              "    <tr style=\"text-align: right;\">\n",
              "      <th></th>\n",
              "      <th>연월</th>\n",
              "      <th>customer_id</th>\n",
              "      <th>count_0</th>\n",
              "      <th>count_1</th>\n",
              "      <th>name</th>\n",
              "      <th>class</th>\n",
              "      <th>gender</th>\n",
              "      <th>start_date</th>\n",
              "      <th>end_date</th>\n",
              "      <th>campaign_id</th>\n",
              "      <th>is_deleted</th>\n",
              "      <th>class_name</th>\n",
              "      <th>price</th>\n",
              "      <th>campaign_name</th>\n",
              "      <th>mean</th>\n",
              "      <th>median</th>\n",
              "      <th>max</th>\n",
              "      <th>min</th>\n",
              "      <th>routine_flg</th>\n",
              "      <th>calc_date</th>\n",
              "      <th>membership_period</th>\n",
              "      <th>exit_date</th>\n",
              "      <th>period</th>\n",
              "      <th>now_date</th>\n",
              "    </tr>\n",
              "  </thead>\n",
              "  <tbody>\n",
              "    <tr>\n",
              "      <th>0</th>\n",
              "      <td>201903</td>\n",
              "      <td>PL102815</td>\n",
              "      <td>9</td>\n",
              "      <td>9.0</td>\n",
              "      <td>XXXXXX</td>\n",
              "      <td>C01</td>\n",
              "      <td>M</td>\n",
              "      <td>2018-10-13</td>\n",
              "      <td>NaN</td>\n",
              "      <td>CA1</td>\n",
              "      <td>0.0</td>\n",
              "      <td>종일</td>\n",
              "      <td>10500.0</td>\n",
              "      <td>일반</td>\n",
              "      <td>8.166667</td>\n",
              "      <td>8.0</td>\n",
              "      <td>11.0</td>\n",
              "      <td>6.0</td>\n",
              "      <td>1.0</td>\n",
              "      <td>2019-04-30</td>\n",
              "      <td>6.0</td>\n",
              "      <td>NaN</td>\n",
              "      <td>4</td>\n",
              "      <td>2019-03-01</td>\n",
              "    </tr>\n",
              "    <tr>\n",
              "      <th>1</th>\n",
              "      <td>201807</td>\n",
              "      <td>IK771427</td>\n",
              "      <td>2</td>\n",
              "      <td>5.0</td>\n",
              "      <td>XXXX</td>\n",
              "      <td>C02</td>\n",
              "      <td>M</td>\n",
              "      <td>2015-10-01</td>\n",
              "      <td>NaN</td>\n",
              "      <td>CA1</td>\n",
              "      <td>0.0</td>\n",
              "      <td>주간</td>\n",
              "      <td>7500.0</td>\n",
              "      <td>일반</td>\n",
              "      <td>3.750000</td>\n",
              "      <td>3.5</td>\n",
              "      <td>6.0</td>\n",
              "      <td>1.0</td>\n",
              "      <td>1.0</td>\n",
              "      <td>2019-04-30</td>\n",
              "      <td>42.0</td>\n",
              "      <td>NaN</td>\n",
              "      <td>33</td>\n",
              "      <td>2018-07-01</td>\n",
              "    </tr>\n",
              "    <tr>\n",
              "      <th>2</th>\n",
              "      <td>201901</td>\n",
              "      <td>PL003692</td>\n",
              "      <td>8</td>\n",
              "      <td>9.0</td>\n",
              "      <td>XXXX</td>\n",
              "      <td>C03</td>\n",
              "      <td>M</td>\n",
              "      <td>2018-05-12</td>\n",
              "      <td>NaN</td>\n",
              "      <td>CA2</td>\n",
              "      <td>0.0</td>\n",
              "      <td>야간</td>\n",
              "      <td>6000.0</td>\n",
              "      <td>입회비반액할인</td>\n",
              "      <td>7.272727</td>\n",
              "      <td>7.0</td>\n",
              "      <td>11.0</td>\n",
              "      <td>4.0</td>\n",
              "      <td>1.0</td>\n",
              "      <td>2019-04-30</td>\n",
              "      <td>11.0</td>\n",
              "      <td>NaN</td>\n",
              "      <td>7</td>\n",
              "      <td>2019-01-01</td>\n",
              "    </tr>\n",
              "    <tr>\n",
              "      <th>3</th>\n",
              "      <td>201807</td>\n",
              "      <td>PL103369</td>\n",
              "      <td>3</td>\n",
              "      <td>7.0</td>\n",
              "      <td>XXXXXX</td>\n",
              "      <td>C02</td>\n",
              "      <td>F</td>\n",
              "      <td>2017-05-01</td>\n",
              "      <td>NaN</td>\n",
              "      <td>CA1</td>\n",
              "      <td>0.0</td>\n",
              "      <td>주간</td>\n",
              "      <td>7500.0</td>\n",
              "      <td>일반</td>\n",
              "      <td>5.416667</td>\n",
              "      <td>5.0</td>\n",
              "      <td>10.0</td>\n",
              "      <td>3.0</td>\n",
              "      <td>1.0</td>\n",
              "      <td>2019-04-30</td>\n",
              "      <td>23.0</td>\n",
              "      <td>NaN</td>\n",
              "      <td>14</td>\n",
              "      <td>2018-07-01</td>\n",
              "    </tr>\n",
              "    <tr>\n",
              "      <th>4</th>\n",
              "      <td>201812</td>\n",
              "      <td>TS493191</td>\n",
              "      <td>6</td>\n",
              "      <td>8.0</td>\n",
              "      <td>XX</td>\n",
              "      <td>C03</td>\n",
              "      <td>F</td>\n",
              "      <td>2017-11-01</td>\n",
              "      <td>NaN</td>\n",
              "      <td>CA1</td>\n",
              "      <td>0.0</td>\n",
              "      <td>야간</td>\n",
              "      <td>6000.0</td>\n",
              "      <td>일반</td>\n",
              "      <td>6.750000</td>\n",
              "      <td>6.0</td>\n",
              "      <td>9.0</td>\n",
              "      <td>4.0</td>\n",
              "      <td>1.0</td>\n",
              "      <td>2019-04-30</td>\n",
              "      <td>17.0</td>\n",
              "      <td>NaN</td>\n",
              "      <td>13</td>\n",
              "      <td>2018-12-01</td>\n",
              "    </tr>\n",
              "  </tbody>\n",
              "</table>\n",
              "</div>"
            ],
            "text/plain": [
              "       연월 customer_id  count_0  ...  exit_date period   now_date\n",
              "0  201903    PL102815        9  ...        NaN      4 2019-03-01\n",
              "1  201807    IK771427        2  ...        NaN     33 2018-07-01\n",
              "2  201901    PL003692        8  ...        NaN      7 2019-01-01\n",
              "3  201807    PL103369        3  ...        NaN     14 2018-07-01\n",
              "4  201812    TS493191        6  ...        NaN     13 2018-12-01\n",
              "\n",
              "[5 rows x 24 columns]"
            ]
          },
          "metadata": {
            "tags": []
          },
          "execution_count": 30
        }
      ]
    },
    {
      "cell_type": "markdown",
      "metadata": {
        "id": "fguH-ETb1L2M",
        "colab_type": "text"
      },
      "source": [
        "### 테크닉 045 : 결측치를 제거하자"
      ]
    },
    {
      "cell_type": "code",
      "metadata": {
        "id": "LSK98b6A1FVK",
        "colab_type": "code",
        "colab": {
          "base_uri": "https://localhost:8080/",
          "height": 457
        },
        "outputId": "83fdac8f-ec06-4143-fb1a-8973172b4bc5"
      },
      "source": [
        "# 결측치 확인\n",
        "predict_data.isna().sum()"
      ],
      "execution_count": 31,
      "outputs": [
        {
          "output_type": "execute_result",
          "data": {
            "text/plain": [
              "연월                      0\n",
              "customer_id             0\n",
              "count_0                 0\n",
              "count_1               262\n",
              "name                    0\n",
              "class                   0\n",
              "gender                  0\n",
              "start_date              0\n",
              "end_date             2842\n",
              "campaign_id             0\n",
              "is_deleted              0\n",
              "class_name              0\n",
              "price                   0\n",
              "campaign_name           0\n",
              "mean                    0\n",
              "median                  0\n",
              "max                     0\n",
              "min                     0\n",
              "routine_flg             0\n",
              "calc_date               0\n",
              "membership_period       0\n",
              "exit_date            2842\n",
              "period                  0\n",
              "now_date                0\n",
              "dtype: int64"
            ]
          },
          "metadata": {
            "tags": []
          },
          "execution_count": 31
        }
      ]
    },
    {
      "cell_type": "markdown",
      "metadata": {
        "id": "bwDS1XTn1Vbu",
        "colab_type": "text"
      },
      "source": [
        "- end_date, exit_date : 탈퇴 회원 데이터만 존재하며 지속 회원의 경우 존재하지 않음\n",
        "- count_1 결측치만 제거"
      ]
    },
    {
      "cell_type": "code",
      "metadata": {
        "id": "jCnWbGTp1R6m",
        "colab_type": "code",
        "colab": {
          "base_uri": "https://localhost:8080/",
          "height": 457
        },
        "outputId": "d369ff93-ad62-4688-cad6-cdaa6acfb4c1"
      },
      "source": [
        "# count_1 칼럼 결측치 제거\n",
        "predict_data = predict_data.dropna(subset = ['count_1'])\n",
        "predict_data.isna().sum()"
      ],
      "execution_count": 32,
      "outputs": [
        {
          "output_type": "execute_result",
          "data": {
            "text/plain": [
              "연월                      0\n",
              "customer_id             0\n",
              "count_0                 0\n",
              "count_1                 0\n",
              "name                    0\n",
              "class                   0\n",
              "gender                  0\n",
              "start_date              0\n",
              "end_date             2632\n",
              "campaign_id             0\n",
              "is_deleted              0\n",
              "class_name              0\n",
              "price                   0\n",
              "campaign_name           0\n",
              "mean                    0\n",
              "median                  0\n",
              "max                     0\n",
              "min                     0\n",
              "routine_flg             0\n",
              "calc_date               0\n",
              "membership_period       0\n",
              "exit_date            2632\n",
              "period                  0\n",
              "now_date                0\n",
              "dtype: int64"
            ]
          },
          "metadata": {
            "tags": []
          },
          "execution_count": 32
        }
      ]
    },
    {
      "cell_type": "markdown",
      "metadata": {
        "id": "43Me8OIr1sF0",
        "colab_type": "text"
      },
      "source": [
        "### 테크닉 046 : 문자열 변수를 처리할 수 있게 가공하자"
      ]
    },
    {
      "cell_type": "markdown",
      "metadata": {
        "id": "nVsKQMtr1vUr",
        "colab_type": "text"
      },
      "source": [
        "- 가입 캠페인 구분, 회원 구분, 성별과 같은 문자열 데이터 : 카테고리 변수\n",
        "- 카테고리 변수를 활용하기 위해 플래그 생성 → '더미 변수' 생성\n",
        "- 사용할 설명 변수 : count_1(1개월 전 이용 횟수), 카테고리 변수(campaign_name, class_name, gender), routine_flg(정기적 이용 여부 플래그), period(재적 기간)\n",
        "- 목적 변수 : is_deleted(탈퇴 여부)\n",
        "- 분류의 경우 탈퇴/유지와 같은 이산치를 목적 변수로 사용"
      ]
    },
    {
      "cell_type": "code",
      "metadata": {
        "id": "ydZT4LQ41oEF",
        "colab_type": "code",
        "colab": {
          "base_uri": "https://localhost:8080/",
          "height": 195
        },
        "outputId": "fb2dbc9c-e875-4d43-b426-2eed7da08793"
      },
      "source": [
        "# 설명 변수, 목적 변수 추출 후 저장\n",
        "target_col = ['campaign_name', 'class_name', 'gender', 'count_1', 'routine_flg', 'period', 'is_deleted']\n",
        "predict_data = predict_data[target_col]\n",
        "predict_data.head()"
      ],
      "execution_count": 33,
      "outputs": [
        {
          "output_type": "execute_result",
          "data": {
            "text/html": [
              "<div>\n",
              "<style scoped>\n",
              "    .dataframe tbody tr th:only-of-type {\n",
              "        vertical-align: middle;\n",
              "    }\n",
              "\n",
              "    .dataframe tbody tr th {\n",
              "        vertical-align: top;\n",
              "    }\n",
              "\n",
              "    .dataframe thead th {\n",
              "        text-align: right;\n",
              "    }\n",
              "</style>\n",
              "<table border=\"1\" class=\"dataframe\">\n",
              "  <thead>\n",
              "    <tr style=\"text-align: right;\">\n",
              "      <th></th>\n",
              "      <th>campaign_name</th>\n",
              "      <th>class_name</th>\n",
              "      <th>gender</th>\n",
              "      <th>count_1</th>\n",
              "      <th>routine_flg</th>\n",
              "      <th>period</th>\n",
              "      <th>is_deleted</th>\n",
              "    </tr>\n",
              "  </thead>\n",
              "  <tbody>\n",
              "    <tr>\n",
              "      <th>0</th>\n",
              "      <td>일반</td>\n",
              "      <td>종일</td>\n",
              "      <td>M</td>\n",
              "      <td>9.0</td>\n",
              "      <td>1.0</td>\n",
              "      <td>4</td>\n",
              "      <td>0.0</td>\n",
              "    </tr>\n",
              "    <tr>\n",
              "      <th>1</th>\n",
              "      <td>일반</td>\n",
              "      <td>주간</td>\n",
              "      <td>M</td>\n",
              "      <td>5.0</td>\n",
              "      <td>1.0</td>\n",
              "      <td>33</td>\n",
              "      <td>0.0</td>\n",
              "    </tr>\n",
              "    <tr>\n",
              "      <th>2</th>\n",
              "      <td>입회비반액할인</td>\n",
              "      <td>야간</td>\n",
              "      <td>M</td>\n",
              "      <td>9.0</td>\n",
              "      <td>1.0</td>\n",
              "      <td>7</td>\n",
              "      <td>0.0</td>\n",
              "    </tr>\n",
              "    <tr>\n",
              "      <th>3</th>\n",
              "      <td>일반</td>\n",
              "      <td>주간</td>\n",
              "      <td>F</td>\n",
              "      <td>7.0</td>\n",
              "      <td>1.0</td>\n",
              "      <td>14</td>\n",
              "      <td>0.0</td>\n",
              "    </tr>\n",
              "    <tr>\n",
              "      <th>4</th>\n",
              "      <td>일반</td>\n",
              "      <td>야간</td>\n",
              "      <td>F</td>\n",
              "      <td>8.0</td>\n",
              "      <td>1.0</td>\n",
              "      <td>13</td>\n",
              "      <td>0.0</td>\n",
              "    </tr>\n",
              "  </tbody>\n",
              "</table>\n",
              "</div>"
            ],
            "text/plain": [
              "  campaign_name class_name gender  count_1  routine_flg  period  is_deleted\n",
              "0            일반         종일      M      9.0          1.0       4         0.0\n",
              "1            일반         주간      M      5.0          1.0      33         0.0\n",
              "2       입회비반액할인         야간      M      9.0          1.0       7         0.0\n",
              "3            일반         주간      F      7.0          1.0      14         0.0\n",
              "4            일반         야간      F      8.0          1.0      13         0.0"
            ]
          },
          "metadata": {
            "tags": []
          },
          "execution_count": 33
        }
      ]
    },
    {
      "cell_type": "code",
      "metadata": {
        "id": "T-gTPtze2bGR",
        "colab_type": "code",
        "colab": {
          "base_uri": "https://localhost:8080/",
          "height": 232
        },
        "outputId": "d13b9d1e-cc0e-4984-e573-dc949624852d"
      },
      "source": [
        "# 카테고리 변수 → 더미 변수\n",
        "predict_data = pd.get_dummies(predict_data) # get_dummies : 일괄적으로 더미 변수 생성 가능\n",
        "predict_data.head()"
      ],
      "execution_count": 34,
      "outputs": [
        {
          "output_type": "execute_result",
          "data": {
            "text/html": [
              "<div>\n",
              "<style scoped>\n",
              "    .dataframe tbody tr th:only-of-type {\n",
              "        vertical-align: middle;\n",
              "    }\n",
              "\n",
              "    .dataframe tbody tr th {\n",
              "        vertical-align: top;\n",
              "    }\n",
              "\n",
              "    .dataframe thead th {\n",
              "        text-align: right;\n",
              "    }\n",
              "</style>\n",
              "<table border=\"1\" class=\"dataframe\">\n",
              "  <thead>\n",
              "    <tr style=\"text-align: right;\">\n",
              "      <th></th>\n",
              "      <th>count_1</th>\n",
              "      <th>routine_flg</th>\n",
              "      <th>period</th>\n",
              "      <th>is_deleted</th>\n",
              "      <th>campaign_name_일반</th>\n",
              "      <th>campaign_name_입회비무료</th>\n",
              "      <th>campaign_name_입회비반액할인</th>\n",
              "      <th>class_name_야간</th>\n",
              "      <th>class_name_종일</th>\n",
              "      <th>class_name_주간</th>\n",
              "      <th>gender_F</th>\n",
              "      <th>gender_M</th>\n",
              "    </tr>\n",
              "  </thead>\n",
              "  <tbody>\n",
              "    <tr>\n",
              "      <th>0</th>\n",
              "      <td>9.0</td>\n",
              "      <td>1.0</td>\n",
              "      <td>4</td>\n",
              "      <td>0.0</td>\n",
              "      <td>1</td>\n",
              "      <td>0</td>\n",
              "      <td>0</td>\n",
              "      <td>0</td>\n",
              "      <td>1</td>\n",
              "      <td>0</td>\n",
              "      <td>0</td>\n",
              "      <td>1</td>\n",
              "    </tr>\n",
              "    <tr>\n",
              "      <th>1</th>\n",
              "      <td>5.0</td>\n",
              "      <td>1.0</td>\n",
              "      <td>33</td>\n",
              "      <td>0.0</td>\n",
              "      <td>1</td>\n",
              "      <td>0</td>\n",
              "      <td>0</td>\n",
              "      <td>0</td>\n",
              "      <td>0</td>\n",
              "      <td>1</td>\n",
              "      <td>0</td>\n",
              "      <td>1</td>\n",
              "    </tr>\n",
              "    <tr>\n",
              "      <th>2</th>\n",
              "      <td>9.0</td>\n",
              "      <td>1.0</td>\n",
              "      <td>7</td>\n",
              "      <td>0.0</td>\n",
              "      <td>0</td>\n",
              "      <td>0</td>\n",
              "      <td>1</td>\n",
              "      <td>1</td>\n",
              "      <td>0</td>\n",
              "      <td>0</td>\n",
              "      <td>0</td>\n",
              "      <td>1</td>\n",
              "    </tr>\n",
              "    <tr>\n",
              "      <th>3</th>\n",
              "      <td>7.0</td>\n",
              "      <td>1.0</td>\n",
              "      <td>14</td>\n",
              "      <td>0.0</td>\n",
              "      <td>1</td>\n",
              "      <td>0</td>\n",
              "      <td>0</td>\n",
              "      <td>0</td>\n",
              "      <td>0</td>\n",
              "      <td>1</td>\n",
              "      <td>1</td>\n",
              "      <td>0</td>\n",
              "    </tr>\n",
              "    <tr>\n",
              "      <th>4</th>\n",
              "      <td>8.0</td>\n",
              "      <td>1.0</td>\n",
              "      <td>13</td>\n",
              "      <td>0.0</td>\n",
              "      <td>1</td>\n",
              "      <td>0</td>\n",
              "      <td>0</td>\n",
              "      <td>1</td>\n",
              "      <td>0</td>\n",
              "      <td>0</td>\n",
              "      <td>1</td>\n",
              "      <td>0</td>\n",
              "    </tr>\n",
              "  </tbody>\n",
              "</table>\n",
              "</div>"
            ],
            "text/plain": [
              "   count_1  routine_flg  period  ...  class_name_주간  gender_F  gender_M\n",
              "0      9.0          1.0       4  ...              0         0         1\n",
              "1      5.0          1.0      33  ...              1         0         1\n",
              "2      9.0          1.0       7  ...              0         0         1\n",
              "3      7.0          1.0      14  ...              1         1         0\n",
              "4      8.0          1.0      13  ...              0         1         0\n",
              "\n",
              "[5 rows x 12 columns]"
            ]
          },
          "metadata": {
            "tags": []
          },
          "execution_count": 34
        }
      ]
    },
    {
      "cell_type": "markdown",
      "metadata": {
        "id": "FCQgzHdr2xQo",
        "colab_type": "text"
      },
      "source": [
        "- 더미 변수 생성 시 주의할 점\n",
        "- 가령 여성 칼럼의 값이 1일 경우 남성은 자동적으로 0이 되므로 일부러 남성 칼럼을 만들 필요가 없음\n",
        "- 마찬가지로 캠페인 구분, 회원권 구분 역시 마찬가지"
      ]
    },
    {
      "cell_type": "code",
      "metadata": {
        "id": "eH580aZN2pU_",
        "colab_type": "code",
        "colab": {
          "base_uri": "https://localhost:8080/",
          "height": 232
        },
        "outputId": "83f8699a-7772-4a0f-f89a-4baf5fad4bcd"
      },
      "source": [
        "# campaign_name_일반, class_name_야간, gender_M 삭제\n",
        "del predict_data['campaign_name_일반']\n",
        "del predict_data['class_name_야간']\n",
        "del predict_data['gender_M']\n",
        "\n",
        "predict_data.head()"
      ],
      "execution_count": 35,
      "outputs": [
        {
          "output_type": "execute_result",
          "data": {
            "text/html": [
              "<div>\n",
              "<style scoped>\n",
              "    .dataframe tbody tr th:only-of-type {\n",
              "        vertical-align: middle;\n",
              "    }\n",
              "\n",
              "    .dataframe tbody tr th {\n",
              "        vertical-align: top;\n",
              "    }\n",
              "\n",
              "    .dataframe thead th {\n",
              "        text-align: right;\n",
              "    }\n",
              "</style>\n",
              "<table border=\"1\" class=\"dataframe\">\n",
              "  <thead>\n",
              "    <tr style=\"text-align: right;\">\n",
              "      <th></th>\n",
              "      <th>count_1</th>\n",
              "      <th>routine_flg</th>\n",
              "      <th>period</th>\n",
              "      <th>is_deleted</th>\n",
              "      <th>campaign_name_입회비무료</th>\n",
              "      <th>campaign_name_입회비반액할인</th>\n",
              "      <th>class_name_종일</th>\n",
              "      <th>class_name_주간</th>\n",
              "      <th>gender_F</th>\n",
              "    </tr>\n",
              "  </thead>\n",
              "  <tbody>\n",
              "    <tr>\n",
              "      <th>0</th>\n",
              "      <td>9.0</td>\n",
              "      <td>1.0</td>\n",
              "      <td>4</td>\n",
              "      <td>0.0</td>\n",
              "      <td>0</td>\n",
              "      <td>0</td>\n",
              "      <td>1</td>\n",
              "      <td>0</td>\n",
              "      <td>0</td>\n",
              "    </tr>\n",
              "    <tr>\n",
              "      <th>1</th>\n",
              "      <td>5.0</td>\n",
              "      <td>1.0</td>\n",
              "      <td>33</td>\n",
              "      <td>0.0</td>\n",
              "      <td>0</td>\n",
              "      <td>0</td>\n",
              "      <td>0</td>\n",
              "      <td>1</td>\n",
              "      <td>0</td>\n",
              "    </tr>\n",
              "    <tr>\n",
              "      <th>2</th>\n",
              "      <td>9.0</td>\n",
              "      <td>1.0</td>\n",
              "      <td>7</td>\n",
              "      <td>0.0</td>\n",
              "      <td>0</td>\n",
              "      <td>1</td>\n",
              "      <td>0</td>\n",
              "      <td>0</td>\n",
              "      <td>0</td>\n",
              "    </tr>\n",
              "    <tr>\n",
              "      <th>3</th>\n",
              "      <td>7.0</td>\n",
              "      <td>1.0</td>\n",
              "      <td>14</td>\n",
              "      <td>0.0</td>\n",
              "      <td>0</td>\n",
              "      <td>0</td>\n",
              "      <td>0</td>\n",
              "      <td>1</td>\n",
              "      <td>1</td>\n",
              "    </tr>\n",
              "    <tr>\n",
              "      <th>4</th>\n",
              "      <td>8.0</td>\n",
              "      <td>1.0</td>\n",
              "      <td>13</td>\n",
              "      <td>0.0</td>\n",
              "      <td>0</td>\n",
              "      <td>0</td>\n",
              "      <td>0</td>\n",
              "      <td>0</td>\n",
              "      <td>1</td>\n",
              "    </tr>\n",
              "  </tbody>\n",
              "</table>\n",
              "</div>"
            ],
            "text/plain": [
              "   count_1  routine_flg  period  ...  class_name_종일  class_name_주간  gender_F\n",
              "0      9.0          1.0       4  ...              1              0         0\n",
              "1      5.0          1.0      33  ...              0              1         0\n",
              "2      9.0          1.0       7  ...              0              0         0\n",
              "3      7.0          1.0      14  ...              0              1         1\n",
              "4      8.0          1.0      13  ...              0              0         1\n",
              "\n",
              "[5 rows x 9 columns]"
            ]
          },
          "metadata": {
            "tags": []
          },
          "execution_count": 35
        }
      ]
    },
    {
      "cell_type": "markdown",
      "metadata": {
        "id": "SkGFjWQu5ncg",
        "colab_type": "text"
      },
      "source": [
        "- 데이터 분석의 경우 데이터 가공이 80%"
      ]
    },
    {
      "cell_type": "markdown",
      "metadata": {
        "id": "Gg7BeGmf5qB0",
        "colab_type": "text"
      },
      "source": [
        "### 테크닉 047 : 의사결정 트리를 사용해서 탈퇴 예측 모델을 구축하자"
      ]
    },
    {
      "cell_type": "code",
      "metadata": {
        "id": "OY8siSYd5hiY",
        "colab_type": "code",
        "colab": {
          "base_uri": "https://localhost:8080/",
          "height": 404
        },
        "outputId": "eae23e81-e271-4052-82e9-b84f3d932434"
      },
      "source": [
        "# 필요한 라이브러리 임포트\n",
        "from sklearn.tree import DecisionTreeClassifier\n",
        "import sklearn.model_selection\n",
        "\n",
        "# 탈퇴 회원, 지속 회원으로 분할 후 저장\n",
        "exit = predict_data.loc[predict_data['is_deleted'] == 1]\n",
        "conti = predict_data.loc[predict_data['is_deleted'] == 0].sample(len(exit)) # exit의 갯수와 동일하게 맞춰주기 위해 샘플링\n",
        "\n",
        "X = pd.concat([exit, conti], ignore_index = True) # exit와 conti 결합\n",
        "y = X['is_deleted'] # is_deleted 값을 목적 변수로 사용하기 위해 y에 저장\n",
        "del X['is_deleted']\n",
        "X_train, X_test, y_train, y_test = sklearn.model_selection.train_test_split(X, y) # 학습용 데이터와 평가용 데이터로 분할\n",
        "\n",
        "# 분류 모델 생성\n",
        "model = DecisionTreeClassifier(random_state = 0)\n",
        "model.fit(X_train, y_train)\n",
        "y_test_pred = model.predict(X_test)\n",
        "print(y_test_pred)"
      ],
      "execution_count": 36,
      "outputs": [
        {
          "output_type": "stream",
          "text": [
            "[0. 0. 1. 0. 0. 0. 0. 1. 1. 0. 1. 1. 1. 1. 0. 1. 1. 1. 0. 1. 1. 0. 1. 1.\n",
            " 0. 0. 1. 0. 1. 0. 1. 0. 1. 0. 1. 0. 0. 1. 0. 1. 0. 1. 1. 1. 1. 0. 1. 1.\n",
            " 0. 1. 1. 0. 0. 0. 1. 1. 0. 0. 0. 0. 1. 0. 0. 0. 0. 0. 0. 1. 0. 0. 1. 0.\n",
            " 1. 0. 1. 0. 1. 0. 0. 0. 0. 0. 1. 1. 1. 1. 0. 0. 0. 1. 1. 0. 0. 0. 0. 1.\n",
            " 1. 0. 0. 0. 1. 0. 0. 1. 1. 1. 0. 0. 1. 0. 0. 0. 1. 0. 1. 0. 0. 0. 0. 1.\n",
            " 1. 1. 1. 0. 0. 0. 0. 1. 1. 1. 1. 0. 0. 0. 0. 1. 0. 1. 1. 0. 1. 1. 1. 1.\n",
            " 0. 1. 1. 1. 0. 0. 0. 0. 1. 1. 1. 1. 1. 1. 1. 1. 1. 0. 0. 1. 0. 1. 1. 0.\n",
            " 0. 1. 1. 1. 0. 0. 1. 1. 0. 1. 1. 0. 1. 0. 1. 1. 1. 1. 1. 1. 0. 1. 1. 0.\n",
            " 0. 0. 0. 1. 1. 0. 1. 1. 1. 1. 1. 1. 0. 0. 1. 0. 0. 0. 1. 0. 0. 0. 1. 1.\n",
            " 0. 1. 1. 0. 0. 0. 0. 1. 0. 0. 1. 1. 0. 1. 1. 0. 0. 0. 1. 0. 0. 0. 0. 0.\n",
            " 0. 1. 0. 0. 1. 1. 0. 1. 1. 0. 1. 1. 0. 1. 1. 1. 1. 0. 0. 0. 0. 1. 0. 0.\n",
            " 0. 1. 0. 0. 1. 0. 0. 1. 0. 1. 0. 0. 1. 1. 0. 0. 1. 1. 1. 1. 1. 0. 0. 0.\n",
            " 0. 1. 0. 1. 1. 1. 1. 1. 1. 0. 0. 1. 0. 0. 1. 0. 1. 0. 1. 0. 1. 0. 1. 0.\n",
            " 1. 0. 1. 0. 0. 1. 0. 0. 1. 1. 0. 0. 0. 0. 1. 0. 1. 1. 0. 1. 0. 0. 1. 0.\n",
            " 1. 0. 1. 0. 0. 1. 0. 0. 0. 0. 0. 1. 1. 1. 0. 1. 1. 1. 1. 1. 0. 0. 0. 1.\n",
            " 0. 0. 0. 0. 1. 1. 0. 1. 0. 0. 0. 0. 1. 1. 0. 1. 1. 0. 1. 0. 0. 1. 0. 1.\n",
            " 0. 0. 0. 1. 1. 1. 0. 1. 0. 0. 1. 0. 0. 0. 1. 1. 0. 1. 0. 0. 0. 1. 0. 0.\n",
            " 1. 0. 1. 1. 1. 1. 0. 1. 0. 0. 0. 1. 0. 1. 0. 1. 0. 1. 1. 1. 1. 0. 0. 1.\n",
            " 1. 1. 0. 0. 1. 1. 1. 1. 0. 1. 1. 1. 0. 0. 0. 0. 1. 1. 0. 1. 0. 0. 1. 0.\n",
            " 1. 1. 0. 0. 1. 1. 0. 1. 1. 0. 0. 0. 1. 0. 0. 0. 0. 0. 1. 1. 0. 0. 0. 1.\n",
            " 0. 0. 1. 1. 1. 1. 0. 1. 0. 0. 0. 1. 0. 1. 0. 1. 0. 0. 0. 1. 1. 1. 1. 0.\n",
            " 0. 1. 1. 1. 1. 1. 0. 1. 1. 0. 1. 1. 1. 1. 1. 1. 1. 1. 0. 1. 1. 1.]\n"
          ],
          "name": "stdout"
        }
      ]
    },
    {
      "cell_type": "code",
      "metadata": {
        "id": "VRi4DHer6uWO",
        "colab_type": "code",
        "colab": {
          "base_uri": "https://localhost:8080/",
          "height": 195
        },
        "outputId": "72cc4b09-35e7-45de-ccdc-548bf2066d89"
      },
      "source": [
        "# 정답과 비교하기 위해 실제 값 y_test와 함께 저장\n",
        "results_test = pd.DataFrame({'y_test' : y_test, 'y_pred' : y_test_pred})\n",
        "results_test.head()"
      ],
      "execution_count": 37,
      "outputs": [
        {
          "output_type": "execute_result",
          "data": {
            "text/html": [
              "<div>\n",
              "<style scoped>\n",
              "    .dataframe tbody tr th:only-of-type {\n",
              "        vertical-align: middle;\n",
              "    }\n",
              "\n",
              "    .dataframe tbody tr th {\n",
              "        vertical-align: top;\n",
              "    }\n",
              "\n",
              "    .dataframe thead th {\n",
              "        text-align: right;\n",
              "    }\n",
              "</style>\n",
              "<table border=\"1\" class=\"dataframe\">\n",
              "  <thead>\n",
              "    <tr style=\"text-align: right;\">\n",
              "      <th></th>\n",
              "      <th>y_test</th>\n",
              "      <th>y_pred</th>\n",
              "    </tr>\n",
              "  </thead>\n",
              "  <tbody>\n",
              "    <tr>\n",
              "      <th>1944</th>\n",
              "      <td>0.0</td>\n",
              "      <td>0.0</td>\n",
              "    </tr>\n",
              "    <tr>\n",
              "      <th>1232</th>\n",
              "      <td>0.0</td>\n",
              "      <td>0.0</td>\n",
              "    </tr>\n",
              "    <tr>\n",
              "      <th>844</th>\n",
              "      <td>1.0</td>\n",
              "      <td>1.0</td>\n",
              "    </tr>\n",
              "    <tr>\n",
              "      <th>820</th>\n",
              "      <td>1.0</td>\n",
              "      <td>0.0</td>\n",
              "    </tr>\n",
              "    <tr>\n",
              "      <th>1691</th>\n",
              "      <td>0.0</td>\n",
              "      <td>0.0</td>\n",
              "    </tr>\n",
              "  </tbody>\n",
              "</table>\n",
              "</div>"
            ],
            "text/plain": [
              "      y_test  y_pred\n",
              "1944     0.0     0.0\n",
              "1232     0.0     0.0\n",
              "844      1.0     1.0\n",
              "820      1.0     0.0\n",
              "1691     0.0     0.0"
            ]
          },
          "metadata": {
            "tags": []
          },
          "execution_count": 37
        }
      ]
    },
    {
      "cell_type": "markdown",
      "metadata": {
        "id": "7WMTTtLv7QJJ",
        "colab_type": "text"
      },
      "source": [
        "### 테크닉 048 : 예측 모델을 평가하고 모델을 튜닝해 보자"
      ]
    },
    {
      "cell_type": "code",
      "metadata": {
        "id": "5UZKeiRA7MRa",
        "colab_type": "code",
        "colab": {
          "base_uri": "https://localhost:8080/",
          "height": 34
        },
        "outputId": "daee1321-c6de-41d5-ed28-615a8b1320e5"
      },
      "source": [
        "# 정답률 계산\n",
        "correct = len(results_test.loc[results_test['y_test'] == results_test['y_pred']]) # y_test와 y_pred가 같은 경우 정답으로 치고 그 갯수를 correct에 저장\n",
        "data_count = len(results_test)\n",
        "score_test = correct / data_count # 정답/전체 갯수\n",
        "print(score_test)"
      ],
      "execution_count": 38,
      "outputs": [
        {
          "output_type": "stream",
          "text": [
            "0.8916349809885932\n"
          ],
          "name": "stdout"
        }
      ]
    },
    {
      "cell_type": "markdown",
      "metadata": {
        "id": "WT5Xgy0o7sj9",
        "colab_type": "text"
      },
      "source": [
        "- 정답률은 약 90% 정도\n",
        "- 학습용 데이터로 예측한 정확도와 평가용 데이터로 예측한 정확도의 차이가 작은 것이 이상적"
      ]
    },
    {
      "cell_type": "code",
      "metadata": {
        "id": "1V_4pkwu7rLt",
        "colab_type": "code",
        "colab": {
          "base_uri": "https://localhost:8080/",
          "height": 52
        },
        "outputId": "a829cb45-f4e6-49f2-c3c7-9dfefcddd13a"
      },
      "source": [
        "# 각각의 데이터를 이용했을 때의 정확도 계산(score 함수 이용)\n",
        "print(model.score(X_test, y_test))\n",
        "print(model.score(X_train, y_train))"
      ],
      "execution_count": 39,
      "outputs": [
        {
          "output_type": "stream",
          "text": [
            "0.8916349809885932\n",
            "0.9771863117870723\n"
          ],
          "name": "stdout"
        }
      ]
    },
    {
      "cell_type": "markdown",
      "metadata": {
        "id": "Jice72Qe8S-g",
        "colab_type": "text"
      },
      "source": [
        "- 학습용 데이터의 경우 98%로, 과적합 경향을 보임\n",
        "- 해결 방법 : 데이터 늘리기, 변수 재검토, 파라미터 변경 등\n",
        "- 이번에는 파라미터 변경 사용"
      ]
    },
    {
      "cell_type": "code",
      "metadata": {
        "id": "VUc3GoBY8CF6",
        "colab_type": "code",
        "colab": {
          "base_uri": "https://localhost:8080/",
          "height": 52
        },
        "outputId": "28a01bfb-33e4-4888-d736-1aff2b1d97ab"
      },
      "source": [
        "X = pd.concat([exit, conti], ignore_index = True)\n",
        "y = X['is_deleted']\n",
        "del X['is_deleted']\n",
        "X_train, X_test, y_train, y_test = sklearn.model_selection.train_test_split(X, y)\n",
        "\n",
        "# 파라미터 max_depth를 5로 설정\n",
        "model = DecisionTreeClassifier(random_state = 0, max_depth = 5)\n",
        "model.fit(X_train, y_train)\n",
        "print(model.score(X_test, y_test))\n",
        "print(model.score(X_train, y_train))"
      ],
      "execution_count": 40,
      "outputs": [
        {
          "output_type": "stream",
          "text": [
            "0.9201520912547528\n",
            "0.9245880861850444\n"
          ],
          "name": "stdout"
        }
      ]
    },
    {
      "cell_type": "markdown",
      "metadata": {
        "id": "ksU4FI6b89H8",
        "colab_type": "text"
      },
      "source": [
        "- 학습용 데이터의 정확도가 다소 낮아짐\n",
        "- max_depth를 조정해줄 경우 모델이 단순해져 미지의 데이터에도 대응할 수 있는 모델이 만들어짐"
      ]
    },
    {
      "cell_type": "markdown",
      "metadata": {
        "id": "1xIqgnvS9F27",
        "colab_type": "text"
      },
      "source": [
        "### 테크닉 049 : 모델에 기여하는 변수를 확인하자"
      ]
    },
    {
      "cell_type": "code",
      "metadata": {
        "id": "ZFTPRLpK82Rw",
        "colab_type": "code",
        "colab": {
          "base_uri": "https://localhost:8080/",
          "height": 284
        },
        "outputId": "fc0a8a25-da84-462d-d588-9e1be9bf46c4"
      },
      "source": [
        "importance = pd.DataFrame({'feature_names' : X.columns, 'coefficient' : model.feature_importances_ })\n",
        "importance"
      ],
      "execution_count": 41,
      "outputs": [
        {
          "output_type": "execute_result",
          "data": {
            "text/html": [
              "<div>\n",
              "<style scoped>\n",
              "    .dataframe tbody tr th:only-of-type {\n",
              "        vertical-align: middle;\n",
              "    }\n",
              "\n",
              "    .dataframe tbody tr th {\n",
              "        vertical-align: top;\n",
              "    }\n",
              "\n",
              "    .dataframe thead th {\n",
              "        text-align: right;\n",
              "    }\n",
              "</style>\n",
              "<table border=\"1\" class=\"dataframe\">\n",
              "  <thead>\n",
              "    <tr style=\"text-align: right;\">\n",
              "      <th></th>\n",
              "      <th>feature_names</th>\n",
              "      <th>coefficient</th>\n",
              "    </tr>\n",
              "  </thead>\n",
              "  <tbody>\n",
              "    <tr>\n",
              "      <th>0</th>\n",
              "      <td>count_1</td>\n",
              "      <td>0.371799</td>\n",
              "    </tr>\n",
              "    <tr>\n",
              "      <th>1</th>\n",
              "      <td>routine_flg</td>\n",
              "      <td>0.139222</td>\n",
              "    </tr>\n",
              "    <tr>\n",
              "      <th>2</th>\n",
              "      <td>period</td>\n",
              "      <td>0.488877</td>\n",
              "    </tr>\n",
              "    <tr>\n",
              "      <th>3</th>\n",
              "      <td>campaign_name_입회비무료</td>\n",
              "      <td>0.000000</td>\n",
              "    </tr>\n",
              "    <tr>\n",
              "      <th>4</th>\n",
              "      <td>campaign_name_입회비반액할인</td>\n",
              "      <td>0.000000</td>\n",
              "    </tr>\n",
              "    <tr>\n",
              "      <th>5</th>\n",
              "      <td>class_name_종일</td>\n",
              "      <td>0.000101</td>\n",
              "    </tr>\n",
              "    <tr>\n",
              "      <th>6</th>\n",
              "      <td>class_name_주간</td>\n",
              "      <td>0.000000</td>\n",
              "    </tr>\n",
              "    <tr>\n",
              "      <th>7</th>\n",
              "      <td>gender_F</td>\n",
              "      <td>0.000000</td>\n",
              "    </tr>\n",
              "  </tbody>\n",
              "</table>\n",
              "</div>"
            ],
            "text/plain": [
              "           feature_names  coefficient\n",
              "0                count_1     0.371799\n",
              "1            routine_flg     0.139222\n",
              "2                 period     0.488877\n",
              "3    campaign_name_입회비무료     0.000000\n",
              "4  campaign_name_입회비반액할인     0.000000\n",
              "5          class_name_종일     0.000101\n",
              "6          class_name_주간     0.000000\n",
              "7               gender_F     0.000000"
            ]
          },
          "metadata": {
            "tags": []
          },
          "execution_count": 41
        }
      ]
    },
    {
      "cell_type": "markdown",
      "metadata": {
        "id": "cDoidIFe9mDO",
        "colab_type": "text"
      },
      "source": [
        "- 분류 모델의 경우 model.feature_importances_로 변수 중요도를 얻을 수 있음\n",
        "- graphviz와 같은 라이브러리를 이용하면 비교적 간단하게 시각화 가능"
      ]
    },
    {
      "cell_type": "markdown",
      "metadata": {
        "id": "X_wbJmQF9wPQ",
        "colab_type": "text"
      },
      "source": [
        "### 테크닉 050 : 회원 탈퇴를 예측하자"
      ]
    },
    {
      "cell_type": "code",
      "metadata": {
        "id": "7eGwFf6M9TQQ",
        "colab_type": "code",
        "colab": {}
      },
      "source": [
        "# 임의의 데이터 생성\n",
        "count_1 = 3\n",
        "routine_flg = 1\n",
        "period = 10\n",
        "campaign_name = '입회비무료'\n",
        "class_name = '종일'\n",
        "gender = 'M'"
      ],
      "execution_count": 42,
      "outputs": []
    },
    {
      "cell_type": "code",
      "metadata": {
        "id": "8-CzhPmF-C7r",
        "colab_type": "code",
        "colab": {}
      },
      "source": [
        "# 데이터 가공\n",
        "\n",
        "# 카테고리 변수 → 더미 변수로 변환\n",
        "if campaign_name == '입회비반값할인':\n",
        "  campaign_name_list = [1, 0]\n",
        "elif campaign_name == '입회비무료':\n",
        "  campaign_name_list = [0, 1]\n",
        "elif campaign_name == '일반':\n",
        "  campaign_name_list = [0, 0]\n",
        "\n",
        "if class_name == '종일':\n",
        "  class_name_list = [1, 0]\n",
        "elif class_name == '주간':\n",
        "  class_name_list = [0, 1]\n",
        "elif class_name == '야간':\n",
        "  class_name_list = [0, 0]\n",
        "\n",
        "if gender == 'F':\n",
        "  gender_list = [1]\n",
        "elif gender == 'M':\n",
        "  gender_list = [0]\n",
        "\n",
        "input_data = [count_1, routine_flg, period]\n",
        "input_data.extend(campaign_name_list)\n",
        "input_data.extend(class_name_list)\n",
        "input_data.extend(gender_list)"
      ],
      "execution_count": 43,
      "outputs": []
    },
    {
      "cell_type": "code",
      "metadata": {
        "id": "8lpLcpgP-6ug",
        "colab_type": "code",
        "colab": {
          "base_uri": "https://localhost:8080/",
          "height": 52
        },
        "outputId": "10632fb4-f788-4730-97ba-40a145714193"
      },
      "source": [
        "# 예측\n",
        "print(model.predict([input_data])) # 1 또는 0으로 분류\n",
        "print(model.predict_proba([input_data])) # 확률로 분류([0이 될 확률, 1이 될 확률])"
      ],
      "execution_count": 44,
      "outputs": [
        {
          "output_type": "stream",
          "text": [
            "[1.]\n",
            "[[0. 1.]]\n"
          ],
          "name": "stdout"
        }
      ]
    },
    {
      "cell_type": "markdown",
      "metadata": {
        "id": "tr-IU-yK_KTz",
        "colab_type": "text"
      },
      "source": [
        "- 이 회원의 경우 탈퇴가 될 것으로 예측되며, 100% 탈퇴할 것으로 예측"
      ]
    },
    {
      "cell_type": "markdown",
      "metadata": {
        "id": "Kq8q6UlJaPFU",
        "colab_type": "text"
      },
      "source": [
        "### 별도) graphviz 이용, 의사결정트리 그래프 생성"
      ]
    },
    {
      "cell_type": "code",
      "metadata": {
        "id": "hZXHHqndYhnl",
        "colab_type": "code",
        "colab": {
          "base_uri": "https://localhost:8080/",
          "height": 34
        },
        "outputId": "a6e03d86-89bd-4d6a-d695-3ff6dfe5edc9"
      },
      "source": [
        "! pip install graphviz # graphviz 설치"
      ],
      "execution_count": 46,
      "outputs": [
        {
          "output_type": "stream",
          "text": [
            "Requirement already satisfied: graphviz in /usr/local/lib/python3.6/dist-packages (0.10.1)\n"
          ],
          "name": "stdout"
        }
      ]
    },
    {
      "cell_type": "code",
      "metadata": {
        "id": "M5wa70hTaHvI",
        "colab_type": "code",
        "colab": {}
      },
      "source": [
        "import graphviz # graphviz 임포트"
      ],
      "execution_count": 59,
      "outputs": []
    },
    {
      "cell_type": "code",
      "metadata": {
        "id": "791DxmO9Ykff",
        "colab_type": "code",
        "colab": {}
      },
      "source": [
        "feature_names = X.columns # 설명 변수"
      ],
      "execution_count": 60,
      "outputs": []
    },
    {
      "cell_type": "code",
      "metadata": {
        "id": "d0XsGaAPYr1g",
        "colab_type": "code",
        "colab": {}
      },
      "source": [
        "import numpy as np\n",
        "target_name = np.array(['not deleted', 'deleted']) # 타겟 변수 : str 타입으로"
      ],
      "execution_count": 61,
      "outputs": []
    },
    {
      "cell_type": "code",
      "metadata": {
        "id": "2q_gXmcsYzio",
        "colab_type": "code",
        "colab": {}
      },
      "source": [
        "from sklearn import tree\n",
        "dt_dot_data = tree.export_graphviz(model, out_file = None, feature_names = feature_names, class_names = target_name, filled = True, rounded = True, special_characters = True)"
      ],
      "execution_count": 62,
      "outputs": []
    },
    {
      "cell_type": "code",
      "metadata": {
        "id": "oaIWN5C8ZYHt",
        "colab_type": "code",
        "colab": {
          "base_uri": "https://localhost:8080/",
          "height": 934
        },
        "outputId": "04da4aaa-c6cd-4c47-aa53-b7c3bf9db596"
      },
      "source": [
        "graph = graphviz.Source(dt_dot_data) # 그래프 생성\n",
        "graph"
      ],
      "execution_count": 63,
      "outputs": [
        {
          "output_type": "execute_result",
          "data": {
            "text/plain": [
              "<graphviz.files.Source at 0x7f8ac7f962e8>"
            ],
            "image/svg+xml": "<?xml version=\"1.0\" encoding=\"UTF-8\" standalone=\"no\"?>\n<!DOCTYPE svg PUBLIC \"-//W3C//DTD SVG 1.1//EN\"\n \"http://www.w3.org/Graphics/SVG/1.1/DTD/svg11.dtd\">\n<!-- Generated by graphviz version 2.40.1 (20161225.0304)\n -->\n<!-- Title: Tree Pages: 1 -->\n<svg width=\"2274pt\" height=\"671pt\"\n viewBox=\"0.00 0.00 2274.00 671.00\" xmlns=\"http://www.w3.org/2000/svg\" xmlns:xlink=\"http://www.w3.org/1999/xlink\">\n<g id=\"graph0\" class=\"graph\" transform=\"scale(1 1) rotate(0) translate(4 667)\">\n<title>Tree</title>\n<polygon fill=\"#ffffff\" stroke=\"transparent\" points=\"-4,4 -4,-667 2270,-667 2270,4 -4,4\"/>\n<!-- 0 -->\n<g id=\"node1\" class=\"node\">\n<title>0</title>\n<path fill=\"#fdf8f3\" stroke=\"#000000\" d=\"M1476,-663C1476,-663 1362,-663 1362,-663 1356,-663 1350,-657 1350,-651 1350,-651 1350,-592 1350,-592 1350,-586 1356,-580 1362,-580 1362,-580 1476,-580 1476,-580 1482,-580 1488,-586 1488,-592 1488,-592 1488,-651 1488,-651 1488,-657 1482,-663 1476,-663\"/>\n<text text-anchor=\"start\" x=\"1376.5\" y=\"-647.8\" font-family=\"Helvetica,sans-Serif\" font-size=\"14.00\" fill=\"#000000\">period ≤ 11.5</text>\n<text text-anchor=\"start\" x=\"1389.5\" y=\"-632.8\" font-family=\"Helvetica,sans-Serif\" font-size=\"14.00\" fill=\"#000000\">gini = 0.5</text>\n<text text-anchor=\"start\" x=\"1367\" y=\"-617.8\" font-family=\"Helvetica,sans-Serif\" font-size=\"14.00\" fill=\"#000000\">samples = 1578</text>\n<text text-anchor=\"start\" x=\"1361\" y=\"-602.8\" font-family=\"Helvetica,sans-Serif\" font-size=\"14.00\" fill=\"#000000\">value = [813, 765]</text>\n<text text-anchor=\"start\" x=\"1358\" y=\"-587.8\" font-family=\"Helvetica,sans-Serif\" font-size=\"14.00\" fill=\"#000000\">class = not deleted</text>\n</g>\n<!-- 1 -->\n<g id=\"node2\" class=\"node\">\n<title>1</title>\n<path fill=\"#83c2ef\" stroke=\"#000000\" d=\"M1173,-544C1173,-544 1065,-544 1065,-544 1059,-544 1053,-538 1053,-532 1053,-532 1053,-473 1053,-473 1053,-467 1059,-461 1065,-461 1065,-461 1173,-461 1173,-461 1179,-461 1185,-467 1185,-473 1185,-473 1185,-532 1185,-532 1185,-538 1179,-544 1173,-544\"/>\n<text text-anchor=\"start\" x=\"1075\" y=\"-528.8\" font-family=\"Helvetica,sans-Serif\" font-size=\"14.00\" fill=\"#000000\">count_1 ≤ 5.5</text>\n<text text-anchor=\"start\" x=\"1081\" y=\"-513.8\" font-family=\"Helvetica,sans-Serif\" font-size=\"14.00\" fill=\"#000000\">gini = 0.396</text>\n<text text-anchor=\"start\" x=\"1071\" y=\"-498.8\" font-family=\"Helvetica,sans-Serif\" font-size=\"14.00\" fill=\"#000000\">samples = 933</text>\n<text text-anchor=\"start\" x=\"1061\" y=\"-483.8\" font-family=\"Helvetica,sans-Serif\" font-size=\"14.00\" fill=\"#000000\">value = [254, 679]</text>\n<text text-anchor=\"start\" x=\"1070\" y=\"-468.8\" font-family=\"Helvetica,sans-Serif\" font-size=\"14.00\" fill=\"#000000\">class = deleted</text>\n</g>\n<!-- 0&#45;&gt;1 -->\n<g id=\"edge1\" class=\"edge\">\n<title>0&#45;&gt;1</title>\n<path fill=\"none\" stroke=\"#000000\" d=\"M1349.7973,-594.0496C1303.3194,-575.6134 1242.0899,-551.3257 1194.377,-532.3995\"/>\n<polygon fill=\"#000000\" stroke=\"#000000\" points=\"1195.6089,-529.123 1185.023,-528.6891 1193.0279,-535.6298 1195.6089,-529.123\"/>\n<text text-anchor=\"middle\" x=\"1194.937\" y=\"-547.9393\" font-family=\"Helvetica,sans-Serif\" font-size=\"14.00\" fill=\"#000000\">True</text>\n</g>\n<!-- 28 -->\n<g id=\"node29\" class=\"node\">\n<title>28</title>\n<path fill=\"#e99457\" stroke=\"#000000\" d=\"M1736,-544C1736,-544 1622,-544 1622,-544 1616,-544 1610,-538 1610,-532 1610,-532 1610,-473 1610,-473 1610,-467 1616,-461 1622,-461 1622,-461 1736,-461 1736,-461 1742,-461 1748,-467 1748,-473 1748,-473 1748,-532 1748,-532 1748,-538 1742,-544 1736,-544\"/>\n<text text-anchor=\"start\" x=\"1636.5\" y=\"-528.8\" font-family=\"Helvetica,sans-Serif\" font-size=\"14.00\" fill=\"#000000\">period ≤ 22.5</text>\n<text text-anchor=\"start\" x=\"1641\" y=\"-513.8\" font-family=\"Helvetica,sans-Serif\" font-size=\"14.00\" fill=\"#000000\">gini = 0.231</text>\n<text text-anchor=\"start\" x=\"1631\" y=\"-498.8\" font-family=\"Helvetica,sans-Serif\" font-size=\"14.00\" fill=\"#000000\">samples = 645</text>\n<text text-anchor=\"start\" x=\"1625\" y=\"-483.8\" font-family=\"Helvetica,sans-Serif\" font-size=\"14.00\" fill=\"#000000\">value = [559, 86]</text>\n<text text-anchor=\"start\" x=\"1618\" y=\"-468.8\" font-family=\"Helvetica,sans-Serif\" font-size=\"14.00\" fill=\"#000000\">class = not deleted</text>\n</g>\n<!-- 0&#45;&gt;28 -->\n<g id=\"edge28\" class=\"edge\">\n<title>0&#45;&gt;28</title>\n<path fill=\"none\" stroke=\"#000000\" d=\"M1488.3337,-589.7665C1522.8567,-573.9656 1564.7377,-554.797 1600.4446,-538.4542\"/>\n<polygon fill=\"#000000\" stroke=\"#000000\" points=\"1602.2233,-541.4893 1609.8596,-534.145 1599.3101,-535.1243 1602.2233,-541.4893\"/>\n<text text-anchor=\"middle\" x=\"1601.1425\" y=\"-553.8761\" font-family=\"Helvetica,sans-Serif\" font-size=\"14.00\" fill=\"#000000\">False</text>\n</g>\n<!-- 2 -->\n<g id=\"node3\" class=\"node\">\n<title>2</title>\n<path fill=\"#40a1e6\" stroke=\"#000000\" d=\"M637,-425C637,-425 537,-425 537,-425 531,-425 525,-419 525,-413 525,-413 525,-354 525,-354 525,-348 531,-342 537,-342 537,-342 637,-342 637,-342 643,-342 649,-348 649,-354 649,-354 649,-413 649,-413 649,-419 643,-425 637,-425\"/>\n<text text-anchor=\"start\" x=\"543\" y=\"-409.8\" font-family=\"Helvetica,sans-Serif\" font-size=\"14.00\" fill=\"#000000\">count_1 ≤ 4.5</text>\n<text text-anchor=\"start\" x=\"549\" y=\"-394.8\" font-family=\"Helvetica,sans-Serif\" font-size=\"14.00\" fill=\"#000000\">gini = 0.067</text>\n<text text-anchor=\"start\" x=\"539\" y=\"-379.8\" font-family=\"Helvetica,sans-Serif\" font-size=\"14.00\" fill=\"#000000\">samples = 577</text>\n<text text-anchor=\"start\" x=\"533\" y=\"-364.8\" font-family=\"Helvetica,sans-Serif\" font-size=\"14.00\" fill=\"#000000\">value = [20, 557]</text>\n<text text-anchor=\"start\" x=\"538\" y=\"-349.8\" font-family=\"Helvetica,sans-Serif\" font-size=\"14.00\" fill=\"#000000\">class = deleted</text>\n</g>\n<!-- 1&#45;&gt;2 -->\n<g id=\"edge2\" class=\"edge\">\n<title>1&#45;&gt;2</title>\n<path fill=\"none\" stroke=\"#000000\" d=\"M1052.9654,-487.7291C952.6834,-465.2976 762.7235,-422.8066 659.0078,-399.607\"/>\n<polygon fill=\"#000000\" stroke=\"#000000\" points=\"659.7688,-396.1908 649.246,-397.4234 658.2408,-403.022 659.7688,-396.1908\"/>\n</g>\n<!-- 15 -->\n<g id=\"node16\" class=\"node\">\n<title>15</title>\n<path fill=\"#f3c3a0\" stroke=\"#000000\" d=\"M1176,-425C1176,-425 1062,-425 1062,-425 1056,-425 1050,-419 1050,-413 1050,-413 1050,-354 1050,-354 1050,-348 1056,-342 1062,-342 1062,-342 1176,-342 1176,-342 1182,-342 1188,-348 1188,-354 1188,-354 1188,-413 1188,-413 1188,-419 1182,-425 1176,-425\"/>\n<text text-anchor=\"start\" x=\"1067.5\" y=\"-409.8\" font-family=\"Helvetica,sans-Serif\" font-size=\"14.00\" fill=\"#000000\">routine_flg ≤ 0.5</text>\n<text text-anchor=\"start\" x=\"1081\" y=\"-394.8\" font-family=\"Helvetica,sans-Serif\" font-size=\"14.00\" fill=\"#000000\">gini = 0.451</text>\n<text text-anchor=\"start\" x=\"1071\" y=\"-379.8\" font-family=\"Helvetica,sans-Serif\" font-size=\"14.00\" fill=\"#000000\">samples = 356</text>\n<text text-anchor=\"start\" x=\"1061\" y=\"-364.8\" font-family=\"Helvetica,sans-Serif\" font-size=\"14.00\" fill=\"#000000\">value = [234, 122]</text>\n<text text-anchor=\"start\" x=\"1058\" y=\"-349.8\" font-family=\"Helvetica,sans-Serif\" font-size=\"14.00\" fill=\"#000000\">class = not deleted</text>\n</g>\n<!-- 1&#45;&gt;15 -->\n<g id=\"edge15\" class=\"edge\">\n<title>1&#45;&gt;15</title>\n<path fill=\"none\" stroke=\"#000000\" d=\"M1119,-460.8796C1119,-452.6838 1119,-443.9891 1119,-435.5013\"/>\n<polygon fill=\"#000000\" stroke=\"#000000\" points=\"1122.5001,-435.298 1119,-425.2981 1115.5001,-435.2981 1122.5001,-435.298\"/>\n</g>\n<!-- 3 -->\n<g id=\"node4\" class=\"node\">\n<title>3</title>\n<path fill=\"#3c9fe5\" stroke=\"#000000\" d=\"M402,-306C402,-306 310,-306 310,-306 304,-306 298,-300 298,-294 298,-294 298,-235 298,-235 298,-229 304,-223 310,-223 310,-223 402,-223 402,-223 408,-223 414,-229 414,-235 414,-235 414,-294 414,-294 414,-300 408,-306 402,-306\"/>\n<text text-anchor=\"start\" x=\"312\" y=\"-290.8\" font-family=\"Helvetica,sans-Serif\" font-size=\"14.00\" fill=\"#000000\">count_1 ≤ 3.5</text>\n<text text-anchor=\"start\" x=\"318\" y=\"-275.8\" font-family=\"Helvetica,sans-Serif\" font-size=\"14.00\" fill=\"#000000\">gini = 0.032</text>\n<text text-anchor=\"start\" x=\"308\" y=\"-260.8\" font-family=\"Helvetica,sans-Serif\" font-size=\"14.00\" fill=\"#000000\">samples = 490</text>\n<text text-anchor=\"start\" x=\"306\" y=\"-245.8\" font-family=\"Helvetica,sans-Serif\" font-size=\"14.00\" fill=\"#000000\">value = [8, 482]</text>\n<text text-anchor=\"start\" x=\"307\" y=\"-230.8\" font-family=\"Helvetica,sans-Serif\" font-size=\"14.00\" fill=\"#000000\">class = deleted</text>\n</g>\n<!-- 2&#45;&gt;3 -->\n<g id=\"edge3\" class=\"edge\">\n<title>2&#45;&gt;3</title>\n<path fill=\"none\" stroke=\"#000000\" d=\"M524.7924,-351.4536C493.5349,-335.3513 455.6078,-315.8131 423.6293,-299.3393\"/>\n<polygon fill=\"#000000\" stroke=\"#000000\" points=\"424.8379,-296.0249 414.3453,-294.5567 421.6322,-302.2477 424.8379,-296.0249\"/>\n</g>\n<!-- 10 -->\n<g id=\"node11\" class=\"node\">\n<title>10</title>\n<path fill=\"#59ade9\" stroke=\"#000000\" d=\"M634.5,-306C634.5,-306 539.5,-306 539.5,-306 533.5,-306 527.5,-300 527.5,-294 527.5,-294 527.5,-235 527.5,-235 527.5,-229 533.5,-223 539.5,-223 539.5,-223 634.5,-223 634.5,-223 640.5,-223 646.5,-229 646.5,-235 646.5,-235 646.5,-294 646.5,-294 646.5,-300 640.5,-306 634.5,-306\"/>\n<text text-anchor=\"start\" x=\"535.5\" y=\"-290.8\" font-family=\"Helvetica,sans-Serif\" font-size=\"14.00\" fill=\"#000000\">routine_flg ≤ 0.5</text>\n<text text-anchor=\"start\" x=\"549\" y=\"-275.8\" font-family=\"Helvetica,sans-Serif\" font-size=\"14.00\" fill=\"#000000\">gini = 0.238</text>\n<text text-anchor=\"start\" x=\"543\" y=\"-260.8\" font-family=\"Helvetica,sans-Serif\" font-size=\"14.00\" fill=\"#000000\">samples = 87</text>\n<text text-anchor=\"start\" x=\"537\" y=\"-245.8\" font-family=\"Helvetica,sans-Serif\" font-size=\"14.00\" fill=\"#000000\">value = [12, 75]</text>\n<text text-anchor=\"start\" x=\"538\" y=\"-230.8\" font-family=\"Helvetica,sans-Serif\" font-size=\"14.00\" fill=\"#000000\">class = deleted</text>\n</g>\n<!-- 2&#45;&gt;10 -->\n<g id=\"edge10\" class=\"edge\">\n<title>2&#45;&gt;10</title>\n<path fill=\"none\" stroke=\"#000000\" d=\"M587,-341.8796C587,-333.6838 587,-324.9891 587,-316.5013\"/>\n<polygon fill=\"#000000\" stroke=\"#000000\" points=\"590.5001,-316.298 587,-306.2981 583.5001,-316.2981 590.5001,-316.298\"/>\n</g>\n<!-- 4 -->\n<g id=\"node5\" class=\"node\">\n<title>4</title>\n<path fill=\"#3a9de5\" stroke=\"#000000\" d=\"M237,-187C237,-187 145,-187 145,-187 139,-187 133,-181 133,-175 133,-175 133,-116 133,-116 133,-110 139,-104 145,-104 145,-104 237,-104 237,-104 243,-104 249,-110 249,-116 249,-116 249,-175 249,-175 249,-181 243,-187 237,-187\"/>\n<text text-anchor=\"start\" x=\"148.5\" y=\"-171.8\" font-family=\"Helvetica,sans-Serif\" font-size=\"14.00\" fill=\"#000000\">period ≤ 10.5</text>\n<text text-anchor=\"start\" x=\"153\" y=\"-156.8\" font-family=\"Helvetica,sans-Serif\" font-size=\"14.00\" fill=\"#000000\">gini = 0.006</text>\n<text text-anchor=\"start\" x=\"143\" y=\"-141.8\" font-family=\"Helvetica,sans-Serif\" font-size=\"14.00\" fill=\"#000000\">samples = 348</text>\n<text text-anchor=\"start\" x=\"141\" y=\"-126.8\" font-family=\"Helvetica,sans-Serif\" font-size=\"14.00\" fill=\"#000000\">value = [1, 347]</text>\n<text text-anchor=\"start\" x=\"142\" y=\"-111.8\" font-family=\"Helvetica,sans-Serif\" font-size=\"14.00\" fill=\"#000000\">class = deleted</text>\n</g>\n<!-- 3&#45;&gt;4 -->\n<g id=\"edge4\" class=\"edge\">\n<title>3&#45;&gt;4</title>\n<path fill=\"none\" stroke=\"#000000\" d=\"M298.291,-222.8796C284.977,-213.2774 270.7134,-202.9903 257.0741,-193.1534\"/>\n<polygon fill=\"#000000\" stroke=\"#000000\" points=\"258.8345,-190.1077 248.6764,-187.0969 254.7398,-195.7852 258.8345,-190.1077\"/>\n</g>\n<!-- 7 -->\n<g id=\"node8\" class=\"node\">\n<title>7</title>\n<path fill=\"#43a2e6\" stroke=\"#000000\" d=\"M402,-187C402,-187 310,-187 310,-187 304,-187 298,-181 298,-175 298,-175 298,-116 298,-116 298,-110 304,-104 310,-104 310,-104 402,-104 402,-104 408,-104 414,-110 414,-116 414,-116 414,-175 414,-175 414,-181 408,-187 402,-187\"/>\n<text text-anchor=\"start\" x=\"318\" y=\"-171.8\" font-family=\"Helvetica,sans-Serif\" font-size=\"14.00\" fill=\"#000000\">period ≤ 8.5</text>\n<text text-anchor=\"start\" x=\"318\" y=\"-156.8\" font-family=\"Helvetica,sans-Serif\" font-size=\"14.00\" fill=\"#000000\">gini = 0.094</text>\n<text text-anchor=\"start\" x=\"308\" y=\"-141.8\" font-family=\"Helvetica,sans-Serif\" font-size=\"14.00\" fill=\"#000000\">samples = 142</text>\n<text text-anchor=\"start\" x=\"306\" y=\"-126.8\" font-family=\"Helvetica,sans-Serif\" font-size=\"14.00\" fill=\"#000000\">value = [7, 135]</text>\n<text text-anchor=\"start\" x=\"307\" y=\"-111.8\" font-family=\"Helvetica,sans-Serif\" font-size=\"14.00\" fill=\"#000000\">class = deleted</text>\n</g>\n<!-- 3&#45;&gt;7 -->\n<g id=\"edge7\" class=\"edge\">\n<title>3&#45;&gt;7</title>\n<path fill=\"none\" stroke=\"#000000\" d=\"M356,-222.8796C356,-214.6838 356,-205.9891 356,-197.5013\"/>\n<polygon fill=\"#000000\" stroke=\"#000000\" points=\"359.5001,-197.298 356,-187.2981 352.5001,-197.2981 359.5001,-197.298\"/>\n</g>\n<!-- 5 -->\n<g id=\"node6\" class=\"node\">\n<title>5</title>\n<path fill=\"#399de5\" stroke=\"#000000\" d=\"M104,-68C104,-68 12,-68 12,-68 6,-68 0,-62 0,-56 0,-56 0,-12 0,-12 0,-6 6,0 12,0 12,0 104,0 104,0 110,0 116,-6 116,-12 116,-12 116,-56 116,-56 116,-62 110,-68 104,-68\"/>\n<text text-anchor=\"start\" x=\"28.5\" y=\"-52.8\" font-family=\"Helvetica,sans-Serif\" font-size=\"14.00\" fill=\"#000000\">gini = 0.0</text>\n<text text-anchor=\"start\" x=\"10\" y=\"-37.8\" font-family=\"Helvetica,sans-Serif\" font-size=\"14.00\" fill=\"#000000\">samples = 316</text>\n<text text-anchor=\"start\" x=\"8\" y=\"-22.8\" font-family=\"Helvetica,sans-Serif\" font-size=\"14.00\" fill=\"#000000\">value = [0, 316]</text>\n<text text-anchor=\"start\" x=\"9\" y=\"-7.8\" font-family=\"Helvetica,sans-Serif\" font-size=\"14.00\" fill=\"#000000\">class = deleted</text>\n</g>\n<!-- 4&#45;&gt;5 -->\n<g id=\"edge5\" class=\"edge\">\n<title>4&#45;&gt;5</title>\n<path fill=\"none\" stroke=\"#000000\" d=\"M141.4757,-103.9815C130.0743,-94.4232 117.9595,-84.2668 106.5979,-74.7419\"/>\n<polygon fill=\"#000000\" stroke=\"#000000\" points=\"108.7825,-72.006 98.8706,-68.2637 104.2853,-77.3704 108.7825,-72.006\"/>\n</g>\n<!-- 6 -->\n<g id=\"node7\" class=\"node\">\n<title>6</title>\n<path fill=\"#3fa0e6\" stroke=\"#000000\" d=\"M236,-68C236,-68 146,-68 146,-68 140,-68 134,-62 134,-56 134,-56 134,-12 134,-12 134,-6 140,0 146,0 146,0 236,0 236,0 242,0 248,-6 248,-12 248,-12 248,-56 248,-56 248,-62 242,-68 236,-68\"/>\n<text text-anchor=\"start\" x=\"153\" y=\"-52.8\" font-family=\"Helvetica,sans-Serif\" font-size=\"14.00\" fill=\"#000000\">gini = 0.061</text>\n<text text-anchor=\"start\" x=\"147\" y=\"-37.8\" font-family=\"Helvetica,sans-Serif\" font-size=\"14.00\" fill=\"#000000\">samples = 32</text>\n<text text-anchor=\"start\" x=\"145.5\" y=\"-22.8\" font-family=\"Helvetica,sans-Serif\" font-size=\"14.00\" fill=\"#000000\">value = [1, 31]</text>\n<text text-anchor=\"start\" x=\"142\" y=\"-7.8\" font-family=\"Helvetica,sans-Serif\" font-size=\"14.00\" fill=\"#000000\">class = deleted</text>\n</g>\n<!-- 4&#45;&gt;6 -->\n<g id=\"edge6\" class=\"edge\">\n<title>4&#45;&gt;6</title>\n<path fill=\"none\" stroke=\"#000000\" d=\"M191,-103.9815C191,-95.618 191,-86.7965 191,-78.3409\"/>\n<polygon fill=\"#000000\" stroke=\"#000000\" points=\"194.5001,-78.2636 191,-68.2637 187.5001,-78.2637 194.5001,-78.2636\"/>\n</g>\n<!-- 8 -->\n<g id=\"node9\" class=\"node\">\n<title>8</title>\n<path fill=\"#3d9fe6\" stroke=\"#000000\" d=\"M368,-68C368,-68 278,-68 278,-68 272,-68 266,-62 266,-56 266,-56 266,-12 266,-12 266,-6 272,0 278,0 278,0 368,0 368,0 374,0 380,-6 380,-12 380,-12 380,-56 380,-56 380,-62 374,-68 368,-68\"/>\n<text text-anchor=\"start\" x=\"285\" y=\"-52.8\" font-family=\"Helvetica,sans-Serif\" font-size=\"14.00\" fill=\"#000000\">gini = 0.039</text>\n<text text-anchor=\"start\" x=\"275\" y=\"-37.8\" font-family=\"Helvetica,sans-Serif\" font-size=\"14.00\" fill=\"#000000\">samples = 100</text>\n<text text-anchor=\"start\" x=\"277.5\" y=\"-22.8\" font-family=\"Helvetica,sans-Serif\" font-size=\"14.00\" fill=\"#000000\">value = [2, 98]</text>\n<text text-anchor=\"start\" x=\"274\" y=\"-7.8\" font-family=\"Helvetica,sans-Serif\" font-size=\"14.00\" fill=\"#000000\">class = deleted</text>\n</g>\n<!-- 7&#45;&gt;8 -->\n<g id=\"edge8\" class=\"edge\">\n<title>7&#45;&gt;8</title>\n<path fill=\"none\" stroke=\"#000000\" d=\"M343.712,-103.9815C341.2095,-95.5261 338.5685,-86.6026 336.0409,-78.0623\"/>\n<polygon fill=\"#000000\" stroke=\"#000000\" points=\"339.3349,-76.8592 333.1408,-68.2637 332.6227,-78.8458 339.3349,-76.8592\"/>\n</g>\n<!-- 9 -->\n<g id=\"node10\" class=\"node\">\n<title>9</title>\n<path fill=\"#54aae9\" stroke=\"#000000\" d=\"M500,-68C500,-68 410,-68 410,-68 404,-68 398,-62 398,-56 398,-56 398,-12 398,-12 398,-6 404,0 410,0 410,0 500,0 500,0 506,0 512,-6 512,-12 512,-12 512,-56 512,-56 512,-62 506,-68 500,-68\"/>\n<text text-anchor=\"start\" x=\"421.5\" y=\"-52.8\" font-family=\"Helvetica,sans-Serif\" font-size=\"14.00\" fill=\"#000000\">gini = 0.21</text>\n<text text-anchor=\"start\" x=\"411\" y=\"-37.8\" font-family=\"Helvetica,sans-Serif\" font-size=\"14.00\" fill=\"#000000\">samples = 42</text>\n<text text-anchor=\"start\" x=\"409.5\" y=\"-22.8\" font-family=\"Helvetica,sans-Serif\" font-size=\"14.00\" fill=\"#000000\">value = [5, 37]</text>\n<text text-anchor=\"start\" x=\"406\" y=\"-7.8\" font-family=\"Helvetica,sans-Serif\" font-size=\"14.00\" fill=\"#000000\">class = deleted</text>\n</g>\n<!-- 7&#45;&gt;9 -->\n<g id=\"edge9\" class=\"edge\">\n<title>7&#45;&gt;9</title>\n<path fill=\"none\" stroke=\"#000000\" d=\"M392.8639,-103.9815C401.0243,-94.7908 409.6756,-85.0472 417.8474,-75.8436\"/>\n<polygon fill=\"#000000\" stroke=\"#000000\" points=\"420.5553,-78.0653 424.5775,-68.2637 415.3208,-73.4177 420.5553,-78.0653\"/>\n</g>\n<!-- 11 -->\n<g id=\"node12\" class=\"node\">\n<title>11</title>\n<path fill=\"#399de5\" stroke=\"#000000\" d=\"M565,-179.5C565,-179.5 475,-179.5 475,-179.5 469,-179.5 463,-173.5 463,-167.5 463,-167.5 463,-123.5 463,-123.5 463,-117.5 469,-111.5 475,-111.5 475,-111.5 565,-111.5 565,-111.5 571,-111.5 577,-117.5 577,-123.5 577,-123.5 577,-167.5 577,-167.5 577,-173.5 571,-179.5 565,-179.5\"/>\n<text text-anchor=\"start\" x=\"490.5\" y=\"-164.3\" font-family=\"Helvetica,sans-Serif\" font-size=\"14.00\" fill=\"#000000\">gini = 0.0</text>\n<text text-anchor=\"start\" x=\"476\" y=\"-149.3\" font-family=\"Helvetica,sans-Serif\" font-size=\"14.00\" fill=\"#000000\">samples = 36</text>\n<text text-anchor=\"start\" x=\"474.5\" y=\"-134.3\" font-family=\"Helvetica,sans-Serif\" font-size=\"14.00\" fill=\"#000000\">value = [0, 36]</text>\n<text text-anchor=\"start\" x=\"471\" y=\"-119.3\" font-family=\"Helvetica,sans-Serif\" font-size=\"14.00\" fill=\"#000000\">class = deleted</text>\n</g>\n<!-- 10&#45;&gt;11 -->\n<g id=\"edge11\" class=\"edge\">\n<title>10&#45;&gt;11</title>\n<path fill=\"none\" stroke=\"#000000\" d=\"M563.5667,-222.8796C557.3137,-211.7735 550.5448,-199.7513 544.249,-188.5691\"/>\n<polygon fill=\"#000000\" stroke=\"#000000\" points=\"547.2761,-186.8116 539.3202,-179.8149 541.1765,-190.2459 547.2761,-186.8116\"/>\n</g>\n<!-- 12 -->\n<g id=\"node13\" class=\"node\">\n<title>12</title>\n<path fill=\"#76bbed\" stroke=\"#000000\" d=\"M699,-187C699,-187 607,-187 607,-187 601,-187 595,-181 595,-175 595,-175 595,-116 595,-116 595,-110 601,-104 607,-104 607,-104 699,-104 699,-104 705,-104 711,-110 711,-116 711,-116 711,-175 711,-175 711,-181 705,-187 699,-187\"/>\n<text text-anchor=\"start\" x=\"615\" y=\"-171.8\" font-family=\"Helvetica,sans-Serif\" font-size=\"14.00\" fill=\"#000000\">period ≤ 9.5</text>\n<text text-anchor=\"start\" x=\"619.5\" y=\"-156.8\" font-family=\"Helvetica,sans-Serif\" font-size=\"14.00\" fill=\"#000000\">gini = 0.36</text>\n<text text-anchor=\"start\" x=\"609\" y=\"-141.8\" font-family=\"Helvetica,sans-Serif\" font-size=\"14.00\" fill=\"#000000\">samples = 51</text>\n<text text-anchor=\"start\" x=\"603\" y=\"-126.8\" font-family=\"Helvetica,sans-Serif\" font-size=\"14.00\" fill=\"#000000\">value = [12, 39]</text>\n<text text-anchor=\"start\" x=\"604\" y=\"-111.8\" font-family=\"Helvetica,sans-Serif\" font-size=\"14.00\" fill=\"#000000\">class = deleted</text>\n</g>\n<!-- 10&#45;&gt;12 -->\n<g id=\"edge12\" class=\"edge\">\n<title>10&#45;&gt;12</title>\n<path fill=\"none\" stroke=\"#000000\" d=\"M610.0836,-222.8796C614.8789,-214.2335 619.9822,-205.0322 624.9338,-196.1042\"/>\n<polygon fill=\"#000000\" stroke=\"#000000\" points=\"628.0284,-197.7407 629.8179,-187.2981 621.9069,-194.3455 628.0284,-197.7407\"/>\n</g>\n<!-- 13 -->\n<g id=\"node14\" class=\"node\">\n<title>13</title>\n<path fill=\"#65b3eb\" stroke=\"#000000\" d=\"M632,-68C632,-68 542,-68 542,-68 536,-68 530,-62 530,-56 530,-56 530,-12 530,-12 530,-6 536,0 542,0 542,0 632,0 632,0 638,0 644,-6 644,-12 644,-12 644,-56 644,-56 644,-62 638,-68 632,-68\"/>\n<text text-anchor=\"start\" x=\"549\" y=\"-52.8\" font-family=\"Helvetica,sans-Serif\" font-size=\"14.00\" fill=\"#000000\">gini = 0.298</text>\n<text text-anchor=\"start\" x=\"543\" y=\"-37.8\" font-family=\"Helvetica,sans-Serif\" font-size=\"14.00\" fill=\"#000000\">samples = 44</text>\n<text text-anchor=\"start\" x=\"541.5\" y=\"-22.8\" font-family=\"Helvetica,sans-Serif\" font-size=\"14.00\" fill=\"#000000\">value = [8, 36]</text>\n<text text-anchor=\"start\" x=\"538\" y=\"-7.8\" font-family=\"Helvetica,sans-Serif\" font-size=\"14.00\" fill=\"#000000\">class = deleted</text>\n</g>\n<!-- 12&#45;&gt;13 -->\n<g id=\"edge13\" class=\"edge\">\n<title>12&#45;&gt;13</title>\n<path fill=\"none\" stroke=\"#000000\" d=\"M628.424,-103.9815C623.2014,-95.1585 617.6771,-85.8258 612.4237,-76.9506\"/>\n<polygon fill=\"#000000\" stroke=\"#000000\" points=\"615.3874,-75.0863 607.2816,-68.2637 609.3636,-78.652 615.3874,-75.0863\"/>\n</g>\n<!-- 14 -->\n<g id=\"node15\" class=\"node\">\n<title>14</title>\n<path fill=\"#f8e0ce\" stroke=\"#000000\" d=\"M788,-68C788,-68 674,-68 674,-68 668,-68 662,-62 662,-56 662,-56 662,-12 662,-12 662,-6 668,0 674,0 674,0 788,0 788,0 794,0 800,-6 800,-12 800,-12 800,-56 800,-56 800,-62 794,-68 788,-68\"/>\n<text text-anchor=\"start\" x=\"697.5\" y=\"-52.8\" font-family=\"Helvetica,sans-Serif\" font-size=\"14.00\" fill=\"#000000\">gini = 0.49</text>\n<text text-anchor=\"start\" x=\"691.5\" y=\"-37.8\" font-family=\"Helvetica,sans-Serif\" font-size=\"14.00\" fill=\"#000000\">samples = 7</text>\n<text text-anchor=\"start\" x=\"689.5\" y=\"-22.8\" font-family=\"Helvetica,sans-Serif\" font-size=\"14.00\" fill=\"#000000\">value = [4, 3]</text>\n<text text-anchor=\"start\" x=\"670\" y=\"-7.8\" font-family=\"Helvetica,sans-Serif\" font-size=\"14.00\" fill=\"#000000\">class = not deleted</text>\n</g>\n<!-- 12&#45;&gt;14 -->\n<g id=\"edge14\" class=\"edge\">\n<title>12&#45;&gt;14</title>\n<path fill=\"none\" stroke=\"#000000\" d=\"M682.0443,-103.9815C688.2808,-95.0666 694.8813,-85.6313 701.1478,-76.6734\"/>\n<polygon fill=\"#000000\" stroke=\"#000000\" points=\"704.1665,-78.464 707.0308,-68.2637 698.4307,-74.4515 704.1665,-78.464\"/>\n</g>\n<!-- 16 -->\n<g id=\"node17\" class=\"node\">\n<title>16</title>\n<path fill=\"#3c9ee5\" stroke=\"#000000\" d=\"M1052,-306C1052,-306 962,-306 962,-306 956,-306 950,-300 950,-294 950,-294 950,-235 950,-235 950,-229 956,-223 962,-223 962,-223 1052,-223 1052,-223 1058,-223 1064,-229 1064,-235 1064,-235 1064,-294 1064,-294 1064,-300 1058,-306 1052,-306\"/>\n<text text-anchor=\"start\" x=\"963\" y=\"-290.8\" font-family=\"Helvetica,sans-Serif\" font-size=\"14.00\" fill=\"#000000\">count_1 ≤ 8.5</text>\n<text text-anchor=\"start\" x=\"969\" y=\"-275.8\" font-family=\"Helvetica,sans-Serif\" font-size=\"14.00\" fill=\"#000000\">gini = 0.027</text>\n<text text-anchor=\"start\" x=\"963\" y=\"-260.8\" font-family=\"Helvetica,sans-Serif\" font-size=\"14.00\" fill=\"#000000\">samples = 73</text>\n<text text-anchor=\"start\" x=\"961.5\" y=\"-245.8\" font-family=\"Helvetica,sans-Serif\" font-size=\"14.00\" fill=\"#000000\">value = [1, 72]</text>\n<text text-anchor=\"start\" x=\"958\" y=\"-230.8\" font-family=\"Helvetica,sans-Serif\" font-size=\"14.00\" fill=\"#000000\">class = deleted</text>\n</g>\n<!-- 15&#45;&gt;16 -->\n<g id=\"edge16\" class=\"edge\">\n<title>15&#45;&gt;16</title>\n<path fill=\"none\" stroke=\"#000000\" d=\"M1079.8278,-341.8796C1071.2665,-332.7832 1062.1268,-323.0722 1053.3168,-313.7116\"/>\n<polygon fill=\"#000000\" stroke=\"#000000\" points=\"1055.7417,-311.1813 1046.3394,-306.2981 1050.6443,-315.9789 1055.7417,-311.1813\"/>\n</g>\n<!-- 21 -->\n<g id=\"node22\" class=\"node\">\n<title>21</title>\n<path fill=\"#eb9c63\" stroke=\"#000000\" d=\"M1289,-306C1289,-306 1175,-306 1175,-306 1169,-306 1163,-300 1163,-294 1163,-294 1163,-235 1163,-235 1163,-229 1169,-223 1175,-223 1175,-223 1289,-223 1289,-223 1295,-223 1301,-229 1301,-235 1301,-235 1301,-294 1301,-294 1301,-300 1295,-306 1289,-306\"/>\n<text text-anchor=\"start\" x=\"1188\" y=\"-290.8\" font-family=\"Helvetica,sans-Serif\" font-size=\"14.00\" fill=\"#000000\">count_1 ≤ 6.5</text>\n<text text-anchor=\"start\" x=\"1194\" y=\"-275.8\" font-family=\"Helvetica,sans-Serif\" font-size=\"14.00\" fill=\"#000000\">gini = 0.291</text>\n<text text-anchor=\"start\" x=\"1184\" y=\"-260.8\" font-family=\"Helvetica,sans-Serif\" font-size=\"14.00\" fill=\"#000000\">samples = 283</text>\n<text text-anchor=\"start\" x=\"1178\" y=\"-245.8\" font-family=\"Helvetica,sans-Serif\" font-size=\"14.00\" fill=\"#000000\">value = [233, 50]</text>\n<text text-anchor=\"start\" x=\"1171\" y=\"-230.8\" font-family=\"Helvetica,sans-Serif\" font-size=\"14.00\" fill=\"#000000\">class = not deleted</text>\n</g>\n<!-- 15&#45;&gt;21 -->\n<g id=\"edge21\" class=\"edge\">\n<title>15&#45;&gt;21</title>\n<path fill=\"none\" stroke=\"#000000\" d=\"M1158.5219,-341.8796C1167.1597,-332.7832 1176.381,-323.0722 1185.2697,-313.7116\"/>\n<polygon fill=\"#000000\" stroke=\"#000000\" points=\"1187.9615,-315.9597 1192.3094,-306.2981 1182.8854,-311.1395 1187.9615,-315.9597\"/>\n</g>\n<!-- 17 -->\n<g id=\"node18\" class=\"node\">\n<title>17</title>\n<path fill=\"#399de5\" stroke=\"#000000\" d=\"M893,-179.5C893,-179.5 803,-179.5 803,-179.5 797,-179.5 791,-173.5 791,-167.5 791,-167.5 791,-123.5 791,-123.5 791,-117.5 797,-111.5 803,-111.5 803,-111.5 893,-111.5 893,-111.5 899,-111.5 905,-117.5 905,-123.5 905,-123.5 905,-167.5 905,-167.5 905,-173.5 899,-179.5 893,-179.5\"/>\n<text text-anchor=\"start\" x=\"818.5\" y=\"-164.3\" font-family=\"Helvetica,sans-Serif\" font-size=\"14.00\" fill=\"#000000\">gini = 0.0</text>\n<text text-anchor=\"start\" x=\"804\" y=\"-149.3\" font-family=\"Helvetica,sans-Serif\" font-size=\"14.00\" fill=\"#000000\">samples = 41</text>\n<text text-anchor=\"start\" x=\"802.5\" y=\"-134.3\" font-family=\"Helvetica,sans-Serif\" font-size=\"14.00\" fill=\"#000000\">value = [0, 41]</text>\n<text text-anchor=\"start\" x=\"799\" y=\"-119.3\" font-family=\"Helvetica,sans-Serif\" font-size=\"14.00\" fill=\"#000000\">class = deleted</text>\n</g>\n<!-- 16&#45;&gt;17 -->\n<g id=\"edge17\" class=\"edge\">\n<title>16&#45;&gt;17</title>\n<path fill=\"none\" stroke=\"#000000\" d=\"M951.3895,-222.8796C935.2987,-210.8368 917.7685,-197.7167 901.7909,-185.7586\"/>\n<polygon fill=\"#000000\" stroke=\"#000000\" points=\"903.6962,-182.8129 893.593,-179.623 899.5018,-188.4171 903.6962,-182.8129\"/>\n</g>\n<!-- 18 -->\n<g id=\"node19\" class=\"node\">\n<title>18</title>\n<path fill=\"#3fa0e6\" stroke=\"#000000\" d=\"M1078.5,-187C1078.5,-187 935.5,-187 935.5,-187 929.5,-187 923.5,-181 923.5,-175 923.5,-175 923.5,-116 923.5,-116 923.5,-110 929.5,-104 935.5,-104 935.5,-104 1078.5,-104 1078.5,-104 1084.5,-104 1090.5,-110 1090.5,-116 1090.5,-116 1090.5,-175 1090.5,-175 1090.5,-181 1084.5,-187 1078.5,-187\"/>\n<text text-anchor=\"start\" x=\"931.5\" y=\"-171.8\" font-family=\"Helvetica,sans-Serif\" font-size=\"14.00\" fill=\"#000000\">class_name_종일 ≤ 0.5</text>\n<text text-anchor=\"start\" x=\"969\" y=\"-156.8\" font-family=\"Helvetica,sans-Serif\" font-size=\"14.00\" fill=\"#000000\">gini = 0.061</text>\n<text text-anchor=\"start\" x=\"963\" y=\"-141.8\" font-family=\"Helvetica,sans-Serif\" font-size=\"14.00\" fill=\"#000000\">samples = 32</text>\n<text text-anchor=\"start\" x=\"961.5\" y=\"-126.8\" font-family=\"Helvetica,sans-Serif\" font-size=\"14.00\" fill=\"#000000\">value = [1, 31]</text>\n<text text-anchor=\"start\" x=\"958\" y=\"-111.8\" font-family=\"Helvetica,sans-Serif\" font-size=\"14.00\" fill=\"#000000\">class = deleted</text>\n</g>\n<!-- 16&#45;&gt;18 -->\n<g id=\"edge18\" class=\"edge\">\n<title>16&#45;&gt;18</title>\n<path fill=\"none\" stroke=\"#000000\" d=\"M1007,-222.8796C1007,-214.6838 1007,-205.9891 1007,-197.5013\"/>\n<polygon fill=\"#000000\" stroke=\"#000000\" points=\"1010.5001,-197.298 1007,-187.2981 1003.5001,-197.2981 1010.5001,-197.298\"/>\n</g>\n<!-- 19 -->\n<g id=\"node20\" class=\"node\">\n<title>19</title>\n<path fill=\"#46a4e7\" stroke=\"#000000\" d=\"M920,-68C920,-68 830,-68 830,-68 824,-68 818,-62 818,-56 818,-56 818,-12 818,-12 818,-6 824,0 830,0 830,0 920,0 920,0 926,0 932,-6 932,-12 932,-12 932,-56 932,-56 932,-62 926,-68 920,-68\"/>\n<text text-anchor=\"start\" x=\"837\" y=\"-52.8\" font-family=\"Helvetica,sans-Serif\" font-size=\"14.00\" fill=\"#000000\">gini = 0.117</text>\n<text text-anchor=\"start\" x=\"831\" y=\"-37.8\" font-family=\"Helvetica,sans-Serif\" font-size=\"14.00\" fill=\"#000000\">samples = 16</text>\n<text text-anchor=\"start\" x=\"829.5\" y=\"-22.8\" font-family=\"Helvetica,sans-Serif\" font-size=\"14.00\" fill=\"#000000\">value = [1, 15]</text>\n<text text-anchor=\"start\" x=\"826\" y=\"-7.8\" font-family=\"Helvetica,sans-Serif\" font-size=\"14.00\" fill=\"#000000\">class = deleted</text>\n</g>\n<!-- 18&#45;&gt;19 -->\n<g id=\"edge19\" class=\"edge\">\n<title>18&#45;&gt;19</title>\n<path fill=\"none\" stroke=\"#000000\" d=\"M957.8481,-103.9815C946.5324,-94.4232 934.5087,-84.2668 923.2325,-74.7419\"/>\n<polygon fill=\"#000000\" stroke=\"#000000\" points=\"925.4612,-72.0429 915.5633,-68.2637 920.9441,-77.3904 925.4612,-72.0429\"/>\n</g>\n<!-- 20 -->\n<g id=\"node21\" class=\"node\">\n<title>20</title>\n<path fill=\"#399de5\" stroke=\"#000000\" d=\"M1052,-68C1052,-68 962,-68 962,-68 956,-68 950,-62 950,-56 950,-56 950,-12 950,-12 950,-6 956,0 962,0 962,0 1052,0 1052,0 1058,0 1064,-6 1064,-12 1064,-12 1064,-56 1064,-56 1064,-62 1058,-68 1052,-68\"/>\n<text text-anchor=\"start\" x=\"977.5\" y=\"-52.8\" font-family=\"Helvetica,sans-Serif\" font-size=\"14.00\" fill=\"#000000\">gini = 0.0</text>\n<text text-anchor=\"start\" x=\"963\" y=\"-37.8\" font-family=\"Helvetica,sans-Serif\" font-size=\"14.00\" fill=\"#000000\">samples = 16</text>\n<text text-anchor=\"start\" x=\"961.5\" y=\"-22.8\" font-family=\"Helvetica,sans-Serif\" font-size=\"14.00\" fill=\"#000000\">value = [0, 16]</text>\n<text text-anchor=\"start\" x=\"958\" y=\"-7.8\" font-family=\"Helvetica,sans-Serif\" font-size=\"14.00\" fill=\"#000000\">class = deleted</text>\n</g>\n<!-- 18&#45;&gt;20 -->\n<g id=\"edge20\" class=\"edge\">\n<title>18&#45;&gt;20</title>\n<path fill=\"none\" stroke=\"#000000\" d=\"M1007,-103.9815C1007,-95.618 1007,-86.7965 1007,-78.3409\"/>\n<polygon fill=\"#000000\" stroke=\"#000000\" points=\"1010.5001,-78.2636 1007,-68.2637 1003.5001,-78.2637 1010.5001,-78.2636\"/>\n</g>\n<!-- 22 -->\n<g id=\"node23\" class=\"node\">\n<title>22</title>\n<path fill=\"#fbeade\" stroke=\"#000000\" d=\"M1289,-187C1289,-187 1175,-187 1175,-187 1169,-187 1163,-181 1163,-175 1163,-175 1163,-116 1163,-116 1163,-110 1169,-104 1175,-104 1175,-104 1289,-104 1289,-104 1295,-104 1301,-110 1301,-116 1301,-116 1301,-175 1301,-175 1301,-181 1295,-187 1289,-187\"/>\n<text text-anchor=\"start\" x=\"1194\" y=\"-171.8\" font-family=\"Helvetica,sans-Serif\" font-size=\"14.00\" fill=\"#000000\">period ≤ 8.5</text>\n<text text-anchor=\"start\" x=\"1194\" y=\"-156.8\" font-family=\"Helvetica,sans-Serif\" font-size=\"14.00\" fill=\"#000000\">gini = 0.496</text>\n<text text-anchor=\"start\" x=\"1188\" y=\"-141.8\" font-family=\"Helvetica,sans-Serif\" font-size=\"14.00\" fill=\"#000000\">samples = 55</text>\n<text text-anchor=\"start\" x=\"1182\" y=\"-126.8\" font-family=\"Helvetica,sans-Serif\" font-size=\"14.00\" fill=\"#000000\">value = [30, 25]</text>\n<text text-anchor=\"start\" x=\"1171\" y=\"-111.8\" font-family=\"Helvetica,sans-Serif\" font-size=\"14.00\" fill=\"#000000\">class = not deleted</text>\n</g>\n<!-- 21&#45;&gt;22 -->\n<g id=\"edge22\" class=\"edge\">\n<title>21&#45;&gt;22</title>\n<path fill=\"none\" stroke=\"#000000\" d=\"M1232,-222.8796C1232,-214.6838 1232,-205.9891 1232,-197.5013\"/>\n<polygon fill=\"#000000\" stroke=\"#000000\" points=\"1235.5001,-197.298 1232,-187.2981 1228.5001,-197.2981 1235.5001,-197.298\"/>\n</g>\n<!-- 25 -->\n<g id=\"node26\" class=\"node\">\n<title>25</title>\n<path fill=\"#e89151\" stroke=\"#000000\" d=\"M1498,-187C1498,-187 1384,-187 1384,-187 1378,-187 1372,-181 1372,-175 1372,-175 1372,-116 1372,-116 1372,-110 1378,-104 1384,-104 1384,-104 1498,-104 1498,-104 1504,-104 1510,-110 1510,-116 1510,-116 1510,-175 1510,-175 1510,-181 1504,-187 1498,-187\"/>\n<text text-anchor=\"start\" x=\"1403\" y=\"-171.8\" font-family=\"Helvetica,sans-Serif\" font-size=\"14.00\" fill=\"#000000\">period ≤ 1.5</text>\n<text text-anchor=\"start\" x=\"1403\" y=\"-156.8\" font-family=\"Helvetica,sans-Serif\" font-size=\"14.00\" fill=\"#000000\">gini = 0.195</text>\n<text text-anchor=\"start\" x=\"1393\" y=\"-141.8\" font-family=\"Helvetica,sans-Serif\" font-size=\"14.00\" fill=\"#000000\">samples = 228</text>\n<text text-anchor=\"start\" x=\"1387\" y=\"-126.8\" font-family=\"Helvetica,sans-Serif\" font-size=\"14.00\" fill=\"#000000\">value = [203, 25]</text>\n<text text-anchor=\"start\" x=\"1380\" y=\"-111.8\" font-family=\"Helvetica,sans-Serif\" font-size=\"14.00\" fill=\"#000000\">class = not deleted</text>\n</g>\n<!-- 21&#45;&gt;25 -->\n<g id=\"edge25\" class=\"edge\">\n<title>21&#45;&gt;25</title>\n<path fill=\"none\" stroke=\"#000000\" d=\"M1301.0136,-225.2052C1320.7962,-213.9414 1342.504,-201.5814 1362.7969,-190.0272\"/>\n<polygon fill=\"#000000\" stroke=\"#000000\" points=\"1364.7437,-192.9463 1371.702,-184.9568 1361.2801,-186.8632 1364.7437,-192.9463\"/>\n</g>\n<!-- 23 -->\n<g id=\"node24\" class=\"node\">\n<title>23</title>\n<path fill=\"#d7ebfa\" stroke=\"#000000\" d=\"M1186,-68C1186,-68 1094,-68 1094,-68 1088,-68 1082,-62 1082,-56 1082,-56 1082,-12 1082,-12 1082,-6 1088,0 1094,0 1094,0 1186,0 1186,0 1192,0 1198,-6 1198,-12 1198,-12 1198,-56 1198,-56 1198,-62 1192,-68 1186,-68\"/>\n<text text-anchor=\"start\" x=\"1102\" y=\"-52.8\" font-family=\"Helvetica,sans-Serif\" font-size=\"14.00\" fill=\"#000000\">gini = 0.494</text>\n<text text-anchor=\"start\" x=\"1096\" y=\"-37.8\" font-family=\"Helvetica,sans-Serif\" font-size=\"14.00\" fill=\"#000000\">samples = 36</text>\n<text text-anchor=\"start\" x=\"1090\" y=\"-22.8\" font-family=\"Helvetica,sans-Serif\" font-size=\"14.00\" fill=\"#000000\">value = [16, 20]</text>\n<text text-anchor=\"start\" x=\"1091\" y=\"-7.8\" font-family=\"Helvetica,sans-Serif\" font-size=\"14.00\" fill=\"#000000\">class = deleted</text>\n</g>\n<!-- 22&#45;&gt;23 -->\n<g id=\"edge23\" class=\"edge\">\n<title>22&#45;&gt;23</title>\n<path fill=\"none\" stroke=\"#000000\" d=\"M1197.7426,-103.9815C1190.2351,-94.8828 1182.2804,-85.242 1174.7536,-76.1199\"/>\n<polygon fill=\"#000000\" stroke=\"#000000\" points=\"1177.3354,-73.7495 1168.2714,-68.2637 1171.9361,-78.2045 1177.3354,-73.7495\"/>\n</g>\n<!-- 24 -->\n<g id=\"node25\" class=\"node\">\n<title>24</title>\n<path fill=\"#eeae80\" stroke=\"#000000\" d=\"M1342,-68C1342,-68 1228,-68 1228,-68 1222,-68 1216,-62 1216,-56 1216,-56 1216,-12 1216,-12 1216,-6 1222,0 1228,0 1228,0 1342,0 1342,0 1348,0 1354,-6 1354,-12 1354,-12 1354,-56 1354,-56 1354,-62 1348,-68 1342,-68\"/>\n<text text-anchor=\"start\" x=\"1247\" y=\"-52.8\" font-family=\"Helvetica,sans-Serif\" font-size=\"14.00\" fill=\"#000000\">gini = 0.388</text>\n<text text-anchor=\"start\" x=\"1241\" y=\"-37.8\" font-family=\"Helvetica,sans-Serif\" font-size=\"14.00\" fill=\"#000000\">samples = 19</text>\n<text text-anchor=\"start\" x=\"1239.5\" y=\"-22.8\" font-family=\"Helvetica,sans-Serif\" font-size=\"14.00\" fill=\"#000000\">value = [14, 5]</text>\n<text text-anchor=\"start\" x=\"1224\" y=\"-7.8\" font-family=\"Helvetica,sans-Serif\" font-size=\"14.00\" fill=\"#000000\">class = not deleted</text>\n</g>\n<!-- 22&#45;&gt;24 -->\n<g id=\"edge24\" class=\"edge\">\n<title>22&#45;&gt;24</title>\n<path fill=\"none\" stroke=\"#000000\" d=\"M1251.7352,-103.9815C1255.8418,-95.3423 1260.1806,-86.2144 1264.3201,-77.5059\"/>\n<polygon fill=\"#000000\" stroke=\"#000000\" points=\"1267.5812,-78.7979 1268.7132,-68.2637 1261.2591,-75.7927 1267.5812,-78.7979\"/>\n</g>\n<!-- 26 -->\n<g id=\"node27\" class=\"node\">\n<title>26</title>\n<path fill=\"#eca46f\" stroke=\"#000000\" d=\"M1498,-68C1498,-68 1384,-68 1384,-68 1378,-68 1372,-62 1372,-56 1372,-56 1372,-12 1372,-12 1372,-6 1378,0 1384,0 1384,0 1498,0 1498,0 1504,0 1510,-6 1510,-12 1510,-12 1510,-56 1510,-56 1510,-62 1504,-68 1498,-68\"/>\n<text text-anchor=\"start\" x=\"1403\" y=\"-52.8\" font-family=\"Helvetica,sans-Serif\" font-size=\"14.00\" fill=\"#000000\">gini = 0.338</text>\n<text text-anchor=\"start\" x=\"1393\" y=\"-37.8\" font-family=\"Helvetica,sans-Serif\" font-size=\"14.00\" fill=\"#000000\">samples = 102</text>\n<text text-anchor=\"start\" x=\"1391\" y=\"-22.8\" font-family=\"Helvetica,sans-Serif\" font-size=\"14.00\" fill=\"#000000\">value = [80, 22]</text>\n<text text-anchor=\"start\" x=\"1380\" y=\"-7.8\" font-family=\"Helvetica,sans-Serif\" font-size=\"14.00\" fill=\"#000000\">class = not deleted</text>\n</g>\n<!-- 25&#45;&gt;26 -->\n<g id=\"edge26\" class=\"edge\">\n<title>25&#45;&gt;26</title>\n<path fill=\"none\" stroke=\"#000000\" d=\"M1441,-103.9815C1441,-95.618 1441,-86.7965 1441,-78.3409\"/>\n<polygon fill=\"#000000\" stroke=\"#000000\" points=\"1444.5001,-78.2636 1441,-68.2637 1437.5001,-78.2637 1444.5001,-78.2636\"/>\n</g>\n<!-- 27 -->\n<g id=\"node28\" class=\"node\">\n<title>27</title>\n<path fill=\"#e6843e\" stroke=\"#000000\" d=\"M1654,-68C1654,-68 1540,-68 1540,-68 1534,-68 1528,-62 1528,-56 1528,-56 1528,-12 1528,-12 1528,-6 1534,0 1540,0 1540,0 1654,0 1654,0 1660,0 1666,-6 1666,-12 1666,-12 1666,-56 1666,-56 1666,-62 1660,-68 1654,-68\"/>\n<text text-anchor=\"start\" x=\"1559\" y=\"-52.8\" font-family=\"Helvetica,sans-Serif\" font-size=\"14.00\" fill=\"#000000\">gini = 0.046</text>\n<text text-anchor=\"start\" x=\"1549\" y=\"-37.8\" font-family=\"Helvetica,sans-Serif\" font-size=\"14.00\" fill=\"#000000\">samples = 126</text>\n<text text-anchor=\"start\" x=\"1547\" y=\"-22.8\" font-family=\"Helvetica,sans-Serif\" font-size=\"14.00\" fill=\"#000000\">value = [123, 3]</text>\n<text text-anchor=\"start\" x=\"1536\" y=\"-7.8\" font-family=\"Helvetica,sans-Serif\" font-size=\"14.00\" fill=\"#000000\">class = not deleted</text>\n</g>\n<!-- 25&#45;&gt;27 -->\n<g id=\"edge27\" class=\"edge\">\n<title>25&#45;&gt;27</title>\n<path fill=\"none\" stroke=\"#000000\" d=\"M1499.0886,-103.9815C1512.7189,-94.2394 1527.2184,-83.8759 1540.7658,-74.193\"/>\n<polygon fill=\"#000000\" stroke=\"#000000\" points=\"1542.9612,-76.926 1549.0616,-68.2637 1538.8908,-71.2311 1542.9612,-76.926\"/>\n</g>\n<!-- 29 -->\n<g id=\"node30\" class=\"node\">\n<title>29</title>\n<path fill=\"#efb185\" stroke=\"#000000\" d=\"M1736,-425C1736,-425 1622,-425 1622,-425 1616,-425 1610,-419 1610,-413 1610,-413 1610,-354 1610,-354 1610,-348 1616,-342 1622,-342 1622,-342 1736,-342 1736,-342 1742,-342 1748,-348 1748,-354 1748,-354 1748,-413 1748,-413 1748,-419 1742,-425 1736,-425\"/>\n<text text-anchor=\"start\" x=\"1635\" y=\"-409.8\" font-family=\"Helvetica,sans-Serif\" font-size=\"14.00\" fill=\"#000000\">count_1 ≤ 4.5</text>\n<text text-anchor=\"start\" x=\"1641\" y=\"-394.8\" font-family=\"Helvetica,sans-Serif\" font-size=\"14.00\" fill=\"#000000\">gini = 0.401</text>\n<text text-anchor=\"start\" x=\"1631\" y=\"-379.8\" font-family=\"Helvetica,sans-Serif\" font-size=\"14.00\" fill=\"#000000\">samples = 310</text>\n<text text-anchor=\"start\" x=\"1625\" y=\"-364.8\" font-family=\"Helvetica,sans-Serif\" font-size=\"14.00\" fill=\"#000000\">value = [224, 86]</text>\n<text text-anchor=\"start\" x=\"1618\" y=\"-349.8\" font-family=\"Helvetica,sans-Serif\" font-size=\"14.00\" fill=\"#000000\">class = not deleted</text>\n</g>\n<!-- 28&#45;&gt;29 -->\n<g id=\"edge29\" class=\"edge\">\n<title>28&#45;&gt;29</title>\n<path fill=\"none\" stroke=\"#000000\" d=\"M1679,-460.8796C1679,-452.6838 1679,-443.9891 1679,-435.5013\"/>\n<polygon fill=\"#000000\" stroke=\"#000000\" points=\"1682.5001,-435.298 1679,-425.2981 1675.5001,-435.2981 1682.5001,-435.298\"/>\n</g>\n<!-- 40 -->\n<g id=\"node41\" class=\"node\">\n<title>40</title>\n<path fill=\"#e58139\" stroke=\"#000000\" d=\"M1892,-417.5C1892,-417.5 1778,-417.5 1778,-417.5 1772,-417.5 1766,-411.5 1766,-405.5 1766,-405.5 1766,-361.5 1766,-361.5 1766,-355.5 1772,-349.5 1778,-349.5 1778,-349.5 1892,-349.5 1892,-349.5 1898,-349.5 1904,-355.5 1904,-361.5 1904,-361.5 1904,-405.5 1904,-405.5 1904,-411.5 1898,-417.5 1892,-417.5\"/>\n<text text-anchor=\"start\" x=\"1805.5\" y=\"-402.3\" font-family=\"Helvetica,sans-Serif\" font-size=\"14.00\" fill=\"#000000\">gini = 0.0</text>\n<text text-anchor=\"start\" x=\"1787\" y=\"-387.3\" font-family=\"Helvetica,sans-Serif\" font-size=\"14.00\" fill=\"#000000\">samples = 335</text>\n<text text-anchor=\"start\" x=\"1785\" y=\"-372.3\" font-family=\"Helvetica,sans-Serif\" font-size=\"14.00\" fill=\"#000000\">value = [335, 0]</text>\n<text text-anchor=\"start\" x=\"1774\" y=\"-357.3\" font-family=\"Helvetica,sans-Serif\" font-size=\"14.00\" fill=\"#000000\">class = not deleted</text>\n</g>\n<!-- 28&#45;&gt;40 -->\n<g id=\"edge40\" class=\"edge\">\n<title>28&#45;&gt;40</title>\n<path fill=\"none\" stroke=\"#000000\" d=\"M1733.5612,-460.8796C1749.3484,-448.8368 1766.5479,-435.7167 1782.2241,-423.7586\"/>\n<polygon fill=\"#000000\" stroke=\"#000000\" points=\"1784.4392,-426.4709 1790.2673,-417.623 1780.1937,-420.9053 1784.4392,-426.4709\"/>\n</g>\n<!-- 30 -->\n<g id=\"node31\" class=\"node\">\n<title>30</title>\n<path fill=\"#cbe5f8\" stroke=\"#000000\" d=\"M1726.5,-306C1726.5,-306 1631.5,-306 1631.5,-306 1625.5,-306 1619.5,-300 1619.5,-294 1619.5,-294 1619.5,-235 1619.5,-235 1619.5,-229 1625.5,-223 1631.5,-223 1631.5,-223 1726.5,-223 1726.5,-223 1732.5,-223 1738.5,-229 1738.5,-235 1738.5,-235 1738.5,-294 1738.5,-294 1738.5,-300 1732.5,-306 1726.5,-306\"/>\n<text text-anchor=\"start\" x=\"1627.5\" y=\"-290.8\" font-family=\"Helvetica,sans-Serif\" font-size=\"14.00\" fill=\"#000000\">routine_flg ≤ 0.5</text>\n<text text-anchor=\"start\" x=\"1641\" y=\"-275.8\" font-family=\"Helvetica,sans-Serif\" font-size=\"14.00\" fill=\"#000000\">gini = 0.489</text>\n<text text-anchor=\"start\" x=\"1631\" y=\"-260.8\" font-family=\"Helvetica,sans-Serif\" font-size=\"14.00\" fill=\"#000000\">samples = 132</text>\n<text text-anchor=\"start\" x=\"1629\" y=\"-245.8\" font-family=\"Helvetica,sans-Serif\" font-size=\"14.00\" fill=\"#000000\">value = [56, 76]</text>\n<text text-anchor=\"start\" x=\"1630\" y=\"-230.8\" font-family=\"Helvetica,sans-Serif\" font-size=\"14.00\" fill=\"#000000\">class = deleted</text>\n</g>\n<!-- 29&#45;&gt;30 -->\n<g id=\"edge30\" class=\"edge\">\n<title>29&#45;&gt;30</title>\n<path fill=\"none\" stroke=\"#000000\" d=\"M1679,-341.8796C1679,-333.6838 1679,-324.9891 1679,-316.5013\"/>\n<polygon fill=\"#000000\" stroke=\"#000000\" points=\"1682.5001,-316.298 1679,-306.2981 1675.5001,-316.2981 1682.5001,-316.298\"/>\n</g>\n<!-- 35 -->\n<g id=\"node36\" class=\"node\">\n<title>35</title>\n<path fill=\"#e78845\" stroke=\"#000000\" d=\"M1943,-306C1943,-306 1829,-306 1829,-306 1823,-306 1817,-300 1817,-294 1817,-294 1817,-235 1817,-235 1817,-229 1823,-223 1829,-223 1829,-223 1943,-223 1943,-223 1949,-223 1955,-229 1955,-235 1955,-235 1955,-294 1955,-294 1955,-300 1949,-306 1943,-306\"/>\n<text text-anchor=\"start\" x=\"1834.5\" y=\"-290.8\" font-family=\"Helvetica,sans-Serif\" font-size=\"14.00\" fill=\"#000000\">routine_flg ≤ 0.5</text>\n<text text-anchor=\"start\" x=\"1848\" y=\"-275.8\" font-family=\"Helvetica,sans-Serif\" font-size=\"14.00\" fill=\"#000000\">gini = 0.106</text>\n<text text-anchor=\"start\" x=\"1838\" y=\"-260.8\" font-family=\"Helvetica,sans-Serif\" font-size=\"14.00\" fill=\"#000000\">samples = 178</text>\n<text text-anchor=\"start\" x=\"1832\" y=\"-245.8\" font-family=\"Helvetica,sans-Serif\" font-size=\"14.00\" fill=\"#000000\">value = [168, 10]</text>\n<text text-anchor=\"start\" x=\"1825\" y=\"-230.8\" font-family=\"Helvetica,sans-Serif\" font-size=\"14.00\" fill=\"#000000\">class = not deleted</text>\n</g>\n<!-- 29&#45;&gt;35 -->\n<g id=\"edge35\" class=\"edge\">\n<title>29&#45;&gt;35</title>\n<path fill=\"none\" stroke=\"#000000\" d=\"M1748.2158,-343.7093C1767.3772,-332.6938 1788.306,-320.6623 1807.9338,-309.3786\"/>\n<polygon fill=\"#000000\" stroke=\"#000000\" points=\"1809.9243,-312.2715 1816.8494,-304.2532 1806.4355,-306.2029 1809.9243,-312.2715\"/>\n</g>\n<!-- 31 -->\n<g id=\"node32\" class=\"node\">\n<title>31</title>\n<path fill=\"#399de5\" stroke=\"#000000\" d=\"M1659,-179.5C1659,-179.5 1569,-179.5 1569,-179.5 1563,-179.5 1557,-173.5 1557,-167.5 1557,-167.5 1557,-123.5 1557,-123.5 1557,-117.5 1563,-111.5 1569,-111.5 1569,-111.5 1659,-111.5 1659,-111.5 1665,-111.5 1671,-117.5 1671,-123.5 1671,-123.5 1671,-167.5 1671,-167.5 1671,-173.5 1665,-179.5 1659,-179.5\"/>\n<text text-anchor=\"start\" x=\"1584.5\" y=\"-164.3\" font-family=\"Helvetica,sans-Serif\" font-size=\"14.00\" fill=\"#000000\">gini = 0.0</text>\n<text text-anchor=\"start\" x=\"1570\" y=\"-149.3\" font-family=\"Helvetica,sans-Serif\" font-size=\"14.00\" fill=\"#000000\">samples = 15</text>\n<text text-anchor=\"start\" x=\"1568.5\" y=\"-134.3\" font-family=\"Helvetica,sans-Serif\" font-size=\"14.00\" fill=\"#000000\">value = [0, 15]</text>\n<text text-anchor=\"start\" x=\"1565\" y=\"-119.3\" font-family=\"Helvetica,sans-Serif\" font-size=\"14.00\" fill=\"#000000\">class = deleted</text>\n</g>\n<!-- 30&#45;&gt;31 -->\n<g id=\"edge31\" class=\"edge\">\n<title>30&#45;&gt;31</title>\n<path fill=\"none\" stroke=\"#000000\" d=\"M1656.2662,-222.8796C1650.2599,-211.8835 1643.763,-199.9893 1637.7067,-188.9015\"/>\n<polygon fill=\"#000000\" stroke=\"#000000\" points=\"1640.6088,-186.9133 1632.7435,-179.8149 1634.4655,-190.2689 1640.6088,-186.9133\"/>\n</g>\n<!-- 32 -->\n<g id=\"node33\" class=\"node\">\n<title>32</title>\n<path fill=\"#eff7fd\" stroke=\"#000000\" d=\"M1793,-187C1793,-187 1701,-187 1701,-187 1695,-187 1689,-181 1689,-175 1689,-175 1689,-116 1689,-116 1689,-110 1695,-104 1701,-104 1701,-104 1793,-104 1793,-104 1799,-104 1805,-110 1805,-116 1805,-116 1805,-175 1805,-175 1805,-181 1799,-187 1793,-187\"/>\n<text text-anchor=\"start\" x=\"1703\" y=\"-171.8\" font-family=\"Helvetica,sans-Serif\" font-size=\"14.00\" fill=\"#000000\">count_1 ≤ 2.5</text>\n<text text-anchor=\"start\" x=\"1709\" y=\"-156.8\" font-family=\"Helvetica,sans-Serif\" font-size=\"14.00\" fill=\"#000000\">gini = 0.499</text>\n<text text-anchor=\"start\" x=\"1699\" y=\"-141.8\" font-family=\"Helvetica,sans-Serif\" font-size=\"14.00\" fill=\"#000000\">samples = 117</text>\n<text text-anchor=\"start\" x=\"1697\" y=\"-126.8\" font-family=\"Helvetica,sans-Serif\" font-size=\"14.00\" fill=\"#000000\">value = [56, 61]</text>\n<text text-anchor=\"start\" x=\"1698\" y=\"-111.8\" font-family=\"Helvetica,sans-Serif\" font-size=\"14.00\" fill=\"#000000\">class = deleted</text>\n</g>\n<!-- 30&#45;&gt;32 -->\n<g id=\"edge32\" class=\"edge\">\n<title>30&#45;&gt;32</title>\n<path fill=\"none\" stroke=\"#000000\" d=\"M1702.7831,-222.8796C1707.7237,-214.2335 1712.9816,-205.0322 1718.0833,-196.1042\"/>\n<polygon fill=\"#000000\" stroke=\"#000000\" points=\"1721.1928,-197.717 1723.1154,-187.2981 1715.1151,-194.244 1721.1928,-197.717\"/>\n</g>\n<!-- 33 -->\n<g id=\"node34\" class=\"node\">\n<title>33</title>\n<path fill=\"#7ebfee\" stroke=\"#000000\" d=\"M1786,-68C1786,-68 1696,-68 1696,-68 1690,-68 1684,-62 1684,-56 1684,-56 1684,-12 1684,-12 1684,-6 1690,0 1696,0 1696,0 1786,0 1786,0 1792,0 1798,-6 1798,-12 1798,-12 1798,-56 1798,-56 1798,-62 1792,-68 1786,-68\"/>\n<text text-anchor=\"start\" x=\"1703\" y=\"-52.8\" font-family=\"Helvetica,sans-Serif\" font-size=\"14.00\" fill=\"#000000\">gini = 0.382</text>\n<text text-anchor=\"start\" x=\"1697\" y=\"-37.8\" font-family=\"Helvetica,sans-Serif\" font-size=\"14.00\" fill=\"#000000\">samples = 35</text>\n<text text-anchor=\"start\" x=\"1695.5\" y=\"-22.8\" font-family=\"Helvetica,sans-Serif\" font-size=\"14.00\" fill=\"#000000\">value = [9, 26]</text>\n<text text-anchor=\"start\" x=\"1692\" y=\"-7.8\" font-family=\"Helvetica,sans-Serif\" font-size=\"14.00\" fill=\"#000000\">class = deleted</text>\n</g>\n<!-- 32&#45;&gt;33 -->\n<g id=\"edge33\" class=\"edge\">\n<title>32&#45;&gt;33</title>\n<path fill=\"none\" stroke=\"#000000\" d=\"M1744.7658,-103.9815C1744.3158,-95.618 1743.8411,-86.7965 1743.3861,-78.3409\"/>\n<polygon fill=\"#000000\" stroke=\"#000000\" points=\"1746.8762,-78.0611 1742.8438,-68.2637 1739.8863,-78.4373 1746.8762,-78.0611\"/>\n</g>\n<!-- 34 -->\n<g id=\"node35\" class=\"node\">\n<title>34</title>\n<path fill=\"#f8dfcc\" stroke=\"#000000\" d=\"M1942,-68C1942,-68 1828,-68 1828,-68 1822,-68 1816,-62 1816,-56 1816,-56 1816,-12 1816,-12 1816,-6 1822,0 1828,0 1828,0 1942,0 1942,0 1948,0 1954,-6 1954,-12 1954,-12 1954,-56 1954,-56 1954,-62 1948,-68 1942,-68\"/>\n<text text-anchor=\"start\" x=\"1847\" y=\"-52.8\" font-family=\"Helvetica,sans-Serif\" font-size=\"14.00\" fill=\"#000000\">gini = 0.489</text>\n<text text-anchor=\"start\" x=\"1841\" y=\"-37.8\" font-family=\"Helvetica,sans-Serif\" font-size=\"14.00\" fill=\"#000000\">samples = 82</text>\n<text text-anchor=\"start\" x=\"1835\" y=\"-22.8\" font-family=\"Helvetica,sans-Serif\" font-size=\"14.00\" fill=\"#000000\">value = [47, 35]</text>\n<text text-anchor=\"start\" x=\"1824\" y=\"-7.8\" font-family=\"Helvetica,sans-Serif\" font-size=\"14.00\" fill=\"#000000\">class = not deleted</text>\n</g>\n<!-- 32&#45;&gt;34 -->\n<g id=\"edge34\" class=\"edge\">\n<title>32&#45;&gt;34</title>\n<path fill=\"none\" stroke=\"#000000\" d=\"M1798.3861,-103.9815C1810.2161,-94.4232 1822.7864,-84.2668 1834.5751,-74.7419\"/>\n<polygon fill=\"#000000\" stroke=\"#000000\" points=\"1837.0142,-77.2708 1842.5929,-68.2637 1832.6149,-71.826 1837.0142,-77.2708\"/>\n</g>\n<!-- 36 -->\n<g id=\"node37\" class=\"node\">\n<title>36</title>\n<path fill=\"#399de5\" stroke=\"#000000\" d=\"M1931,-179.5C1931,-179.5 1841,-179.5 1841,-179.5 1835,-179.5 1829,-173.5 1829,-167.5 1829,-167.5 1829,-123.5 1829,-123.5 1829,-117.5 1835,-111.5 1841,-111.5 1841,-111.5 1931,-111.5 1931,-111.5 1937,-111.5 1943,-117.5 1943,-123.5 1943,-123.5 1943,-167.5 1943,-167.5 1943,-173.5 1937,-179.5 1931,-179.5\"/>\n<text text-anchor=\"start\" x=\"1856.5\" y=\"-164.3\" font-family=\"Helvetica,sans-Serif\" font-size=\"14.00\" fill=\"#000000\">gini = 0.0</text>\n<text text-anchor=\"start\" x=\"1846.5\" y=\"-149.3\" font-family=\"Helvetica,sans-Serif\" font-size=\"14.00\" fill=\"#000000\">samples = 1</text>\n<text text-anchor=\"start\" x=\"1844.5\" y=\"-134.3\" font-family=\"Helvetica,sans-Serif\" font-size=\"14.00\" fill=\"#000000\">value = [0, 1]</text>\n<text text-anchor=\"start\" x=\"1837\" y=\"-119.3\" font-family=\"Helvetica,sans-Serif\" font-size=\"14.00\" fill=\"#000000\">class = deleted</text>\n</g>\n<!-- 35&#45;&gt;36 -->\n<g id=\"edge36\" class=\"edge\">\n<title>35&#45;&gt;36</title>\n<path fill=\"none\" stroke=\"#000000\" d=\"M1886,-222.8796C1886,-212.2134 1886,-200.7021 1886,-189.9015\"/>\n<polygon fill=\"#000000\" stroke=\"#000000\" points=\"1889.5001,-189.8149 1886,-179.8149 1882.5001,-189.815 1889.5001,-189.8149\"/>\n</g>\n<!-- 37 -->\n<g id=\"node38\" class=\"node\">\n<title>37</title>\n<path fill=\"#e68844\" stroke=\"#000000\" d=\"M2098,-187C2098,-187 1984,-187 1984,-187 1978,-187 1972,-181 1972,-175 1972,-175 1972,-116 1972,-116 1972,-110 1978,-104 1984,-104 1984,-104 2098,-104 2098,-104 2104,-104 2110,-110 2110,-116 2110,-116 2110,-175 2110,-175 2110,-181 2104,-187 2098,-187\"/>\n<text text-anchor=\"start\" x=\"1997\" y=\"-171.8\" font-family=\"Helvetica,sans-Serif\" font-size=\"14.00\" fill=\"#000000\">count_1 ≤ 5.5</text>\n<text text-anchor=\"start\" x=\"2003\" y=\"-156.8\" font-family=\"Helvetica,sans-Serif\" font-size=\"14.00\" fill=\"#000000\">gini = 0.097</text>\n<text text-anchor=\"start\" x=\"1993\" y=\"-141.8\" font-family=\"Helvetica,sans-Serif\" font-size=\"14.00\" fill=\"#000000\">samples = 177</text>\n<text text-anchor=\"start\" x=\"1991\" y=\"-126.8\" font-family=\"Helvetica,sans-Serif\" font-size=\"14.00\" fill=\"#000000\">value = [168, 9]</text>\n<text text-anchor=\"start\" x=\"1980\" y=\"-111.8\" font-family=\"Helvetica,sans-Serif\" font-size=\"14.00\" fill=\"#000000\">class = not deleted</text>\n</g>\n<!-- 35&#45;&gt;37 -->\n<g id=\"edge37\" class=\"edge\">\n<title>35&#45;&gt;37</title>\n<path fill=\"none\" stroke=\"#000000\" d=\"M1940.2115,-222.8796C1952.6006,-213.368 1965.8649,-203.1843 1978.5676,-193.432\"/>\n<polygon fill=\"#000000\" stroke=\"#000000\" points=\"1981.0186,-195.9628 1986.8191,-187.0969 1976.7558,-190.4105 1981.0186,-195.9628\"/>\n</g>\n<!-- 38 -->\n<g id=\"node39\" class=\"node\">\n<title>38</title>\n<path fill=\"#e89152\" stroke=\"#000000\" d=\"M2098,-68C2098,-68 1984,-68 1984,-68 1978,-68 1972,-62 1972,-56 1972,-56 1972,-12 1972,-12 1972,-6 1978,0 1984,0 1984,0 2098,0 2098,0 2104,0 2110,-6 2110,-12 2110,-12 2110,-56 2110,-56 2110,-62 2104,-68 2098,-68\"/>\n<text text-anchor=\"start\" x=\"2011.5\" y=\"-52.8\" font-family=\"Helvetica,sans-Serif\" font-size=\"14.00\" fill=\"#000000\">gini = 0.2</text>\n<text text-anchor=\"start\" x=\"1997\" y=\"-37.8\" font-family=\"Helvetica,sans-Serif\" font-size=\"14.00\" fill=\"#000000\">samples = 62</text>\n<text text-anchor=\"start\" x=\"1995.5\" y=\"-22.8\" font-family=\"Helvetica,sans-Serif\" font-size=\"14.00\" fill=\"#000000\">value = [55, 7]</text>\n<text text-anchor=\"start\" x=\"1980\" y=\"-7.8\" font-family=\"Helvetica,sans-Serif\" font-size=\"14.00\" fill=\"#000000\">class = not deleted</text>\n</g>\n<!-- 37&#45;&gt;38 -->\n<g id=\"edge38\" class=\"edge\">\n<title>37&#45;&gt;38</title>\n<path fill=\"none\" stroke=\"#000000\" d=\"M2041,-103.9815C2041,-95.618 2041,-86.7965 2041,-78.3409\"/>\n<polygon fill=\"#000000\" stroke=\"#000000\" points=\"2044.5001,-78.2636 2041,-68.2637 2037.5001,-78.2637 2044.5001,-78.2636\"/>\n</g>\n<!-- 39 -->\n<g id=\"node40\" class=\"node\">\n<title>39</title>\n<path fill=\"#e5833d\" stroke=\"#000000\" d=\"M2254,-68C2254,-68 2140,-68 2140,-68 2134,-68 2128,-62 2128,-56 2128,-56 2128,-12 2128,-12 2128,-6 2134,0 2140,0 2140,0 2254,0 2254,0 2260,0 2266,-6 2266,-12 2266,-12 2266,-56 2266,-56 2266,-62 2260,-68 2254,-68\"/>\n<text text-anchor=\"start\" x=\"2159\" y=\"-52.8\" font-family=\"Helvetica,sans-Serif\" font-size=\"14.00\" fill=\"#000000\">gini = 0.034</text>\n<text text-anchor=\"start\" x=\"2149\" y=\"-37.8\" font-family=\"Helvetica,sans-Serif\" font-size=\"14.00\" fill=\"#000000\">samples = 115</text>\n<text text-anchor=\"start\" x=\"2147\" y=\"-22.8\" font-family=\"Helvetica,sans-Serif\" font-size=\"14.00\" fill=\"#000000\">value = [113, 2]</text>\n<text text-anchor=\"start\" x=\"2136\" y=\"-7.8\" font-family=\"Helvetica,sans-Serif\" font-size=\"14.00\" fill=\"#000000\">class = not deleted</text>\n</g>\n<!-- 37&#45;&gt;39 -->\n<g id=\"edge39\" class=\"edge\">\n<title>37&#45;&gt;39</title>\n<path fill=\"none\" stroke=\"#000000\" d=\"M2099.0886,-103.9815C2112.7189,-94.2394 2127.2184,-83.8759 2140.7658,-74.193\"/>\n<polygon fill=\"#000000\" stroke=\"#000000\" points=\"2142.9612,-76.926 2149.0616,-68.2637 2138.8908,-71.2311 2142.9612,-76.926\"/>\n</g>\n</g>\n</svg>\n"
          },
          "metadata": {
            "tags": []
          },
          "execution_count": 63
        }
      ]
    },
    {
      "cell_type": "code",
      "metadata": {
        "id": "Ca29Wp2hZ_cT",
        "colab_type": "code",
        "colab": {}
      },
      "source": [
        ""
      ],
      "execution_count": null,
      "outputs": []
    }
  ]
}