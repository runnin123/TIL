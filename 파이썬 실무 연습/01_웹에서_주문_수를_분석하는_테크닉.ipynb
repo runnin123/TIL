{
  "nbformat": 4,
  "nbformat_minor": 0,
  "metadata": {
    "colab": {
      "name": "01. 웹에서 주문 수를 분석하는 테크닉.ipynb",
      "provenance": [],
      "collapsed_sections": []
    },
    "kernelspec": {
      "name": "python3",
      "display_name": "Python 3"
    }
  },
  "cells": [
    {
      "cell_type": "markdown",
      "metadata": {
        "id": "6agftSZpg8MA",
        "colab_type": "text"
      },
      "source": [
        "* 데이터\n",
        "\n",
        "customer_master.csv : 쇼핑몰 사이트의 고객 정보\n",
        "\n",
        "item_master.csv : 취급하는 상품 데이터(상품명, 가격)\n",
        "\n",
        "transaction_1.csv, transaction_2.csv : 구매내역 데이터(언제, 어느 고객이 얼마나 샀는지)\n",
        "\n",
        "transaction_detail_1.csv, transaction_detail_2.csv : 구매내역 상세 데이터"
      ]
    },
    {
      "cell_type": "markdown",
      "metadata": {
        "id": "wC2Oy6zTk4pD",
        "colab_type": "text"
      },
      "source": [
        "#### 테크닉 001 : 데이터를 읽어 들이자"
      ]
    },
    {
      "cell_type": "code",
      "metadata": {
        "id": "mMy1KbRxgk72",
        "colab_type": "code",
        "colab": {
          "base_uri": "https://localhost:8080/",
          "height": 383
        },
        "outputId": "37e45b6d-1897-44d7-b410-9b89b48ef03b"
      },
      "source": [
        "# customer master 읽어오기\n",
        "import pandas as pd\n",
        "\n",
        "customer_master = pd.read_csv('/content/drive/My Drive/pyda100/pyda100-master/1장/customer_master.csv')\n",
        "customer_master.head()"
      ],
      "execution_count": 1,
      "outputs": [
        {
          "output_type": "execute_result",
          "data": {
            "text/html": [
              "<div>\n",
              "<style scoped>\n",
              "    .dataframe tbody tr th:only-of-type {\n",
              "        vertical-align: middle;\n",
              "    }\n",
              "\n",
              "    .dataframe tbody tr th {\n",
              "        vertical-align: top;\n",
              "    }\n",
              "\n",
              "    .dataframe thead th {\n",
              "        text-align: right;\n",
              "    }\n",
              "</style>\n",
              "<table border=\"1\" class=\"dataframe\">\n",
              "  <thead>\n",
              "    <tr style=\"text-align: right;\">\n",
              "      <th></th>\n",
              "      <th>customer_id</th>\n",
              "      <th>customer_name</th>\n",
              "      <th>registration_date</th>\n",
              "      <th>email</th>\n",
              "      <th>gender</th>\n",
              "      <th>age</th>\n",
              "      <th>birth</th>\n",
              "      <th>pref</th>\n",
              "    </tr>\n",
              "  </thead>\n",
              "  <tbody>\n",
              "    <tr>\n",
              "      <th>0</th>\n",
              "      <td>IK152942</td>\n",
              "      <td>김서준</td>\n",
              "      <td>2019-01-01 0:25</td>\n",
              "      <td>hirata_yuujirou@example.com</td>\n",
              "      <td>M</td>\n",
              "      <td>29</td>\n",
              "      <td>1990-06-10</td>\n",
              "      <td>대전광역시</td>\n",
              "    </tr>\n",
              "    <tr>\n",
              "      <th>1</th>\n",
              "      <td>TS808488</td>\n",
              "      <td>김예준</td>\n",
              "      <td>2019-01-01 1:13</td>\n",
              "      <td>tamura_shiori@example.com</td>\n",
              "      <td>F</td>\n",
              "      <td>33</td>\n",
              "      <td>1986-05-20</td>\n",
              "      <td>인천광역시</td>\n",
              "    </tr>\n",
              "    <tr>\n",
              "      <th>2</th>\n",
              "      <td>AS834628</td>\n",
              "      <td>김도윤</td>\n",
              "      <td>2019-01-01 2:00</td>\n",
              "      <td>hisano_yuki@example.com</td>\n",
              "      <td>F</td>\n",
              "      <td>63</td>\n",
              "      <td>1956-01-02</td>\n",
              "      <td>광주광역시</td>\n",
              "    </tr>\n",
              "    <tr>\n",
              "      <th>3</th>\n",
              "      <td>AS345469</td>\n",
              "      <td>김시우</td>\n",
              "      <td>2019-01-01 4:48</td>\n",
              "      <td>tsuruoka_kaoru@example.com</td>\n",
              "      <td>M</td>\n",
              "      <td>74</td>\n",
              "      <td>1945-03-25</td>\n",
              "      <td>인천광역시</td>\n",
              "    </tr>\n",
              "    <tr>\n",
              "      <th>4</th>\n",
              "      <td>GD892565</td>\n",
              "      <td>김주원</td>\n",
              "      <td>2019-01-01 4:54</td>\n",
              "      <td>oouchi_takashi@example.com</td>\n",
              "      <td>M</td>\n",
              "      <td>54</td>\n",
              "      <td>1965-08-05</td>\n",
              "      <td>울산광역시</td>\n",
              "    </tr>\n",
              "  </tbody>\n",
              "</table>\n",
              "</div>"
            ],
            "text/plain": [
              "  customer_id customer_name registration_date  ... age       birth   pref\n",
              "0    IK152942           김서준   2019-01-01 0:25  ...  29  1990-06-10  대전광역시\n",
              "1    TS808488           김예준   2019-01-01 1:13  ...  33  1986-05-20  인천광역시\n",
              "2    AS834628           김도윤   2019-01-01 2:00  ...  63  1956-01-02  광주광역시\n",
              "3    AS345469           김시우   2019-01-01 4:48  ...  74  1945-03-25  인천광역시\n",
              "4    GD892565           김주원   2019-01-01 4:54  ...  54  1965-08-05  울산광역시\n",
              "\n",
              "[5 rows x 8 columns]"
            ]
          },
          "metadata": {
            "tags": []
          },
          "execution_count": 1
        }
      ]
    },
    {
      "cell_type": "code",
      "metadata": {
        "id": "5bmrU4arlNRb",
        "colab_type": "code",
        "colab": {
          "base_uri": "https://localhost:8080/",
          "height": 195
        },
        "outputId": "7fdf8a1b-edc9-4e9f-a7cb-e3781a02af0f"
      },
      "source": [
        "# 다른 데이터 읽어오기\n",
        "\n",
        "item_master = pd.read_csv('/content/drive/My Drive/pyda100/pyda100-master/1장/item_master.csv')\n",
        "item_master.head()"
      ],
      "execution_count": 2,
      "outputs": [
        {
          "output_type": "execute_result",
          "data": {
            "text/html": [
              "<div>\n",
              "<style scoped>\n",
              "    .dataframe tbody tr th:only-of-type {\n",
              "        vertical-align: middle;\n",
              "    }\n",
              "\n",
              "    .dataframe tbody tr th {\n",
              "        vertical-align: top;\n",
              "    }\n",
              "\n",
              "    .dataframe thead th {\n",
              "        text-align: right;\n",
              "    }\n",
              "</style>\n",
              "<table border=\"1\" class=\"dataframe\">\n",
              "  <thead>\n",
              "    <tr style=\"text-align: right;\">\n",
              "      <th></th>\n",
              "      <th>item_id</th>\n",
              "      <th>item_name</th>\n",
              "      <th>item_price</th>\n",
              "    </tr>\n",
              "  </thead>\n",
              "  <tbody>\n",
              "    <tr>\n",
              "      <th>0</th>\n",
              "      <td>S001</td>\n",
              "      <td>PC-A</td>\n",
              "      <td>50000</td>\n",
              "    </tr>\n",
              "    <tr>\n",
              "      <th>1</th>\n",
              "      <td>S002</td>\n",
              "      <td>PC-B</td>\n",
              "      <td>85000</td>\n",
              "    </tr>\n",
              "    <tr>\n",
              "      <th>2</th>\n",
              "      <td>S003</td>\n",
              "      <td>PC-C</td>\n",
              "      <td>120000</td>\n",
              "    </tr>\n",
              "    <tr>\n",
              "      <th>3</th>\n",
              "      <td>S004</td>\n",
              "      <td>PC-D</td>\n",
              "      <td>180000</td>\n",
              "    </tr>\n",
              "    <tr>\n",
              "      <th>4</th>\n",
              "      <td>S005</td>\n",
              "      <td>PC-E</td>\n",
              "      <td>210000</td>\n",
              "    </tr>\n",
              "  </tbody>\n",
              "</table>\n",
              "</div>"
            ],
            "text/plain": [
              "  item_id item_name  item_price\n",
              "0    S001      PC-A       50000\n",
              "1    S002      PC-B       85000\n",
              "2    S003      PC-C      120000\n",
              "3    S004      PC-D      180000\n",
              "4    S005      PC-E      210000"
            ]
          },
          "metadata": {
            "tags": []
          },
          "execution_count": 2
        }
      ]
    },
    {
      "cell_type": "code",
      "metadata": {
        "id": "E-xSIWXWl5_E",
        "colab_type": "code",
        "colab": {
          "base_uri": "https://localhost:8080/",
          "height": 195
        },
        "outputId": "cf7c236d-c098-45c6-b249-287e3e9b7e35"
      },
      "source": [
        "transaction_1 = pd.read_csv('/content/drive/My Drive/pyda100/pyda100-master/1장/transaction_1.csv')\n",
        "transaction_1.head()"
      ],
      "execution_count": 3,
      "outputs": [
        {
          "output_type": "execute_result",
          "data": {
            "text/html": [
              "<div>\n",
              "<style scoped>\n",
              "    .dataframe tbody tr th:only-of-type {\n",
              "        vertical-align: middle;\n",
              "    }\n",
              "\n",
              "    .dataframe tbody tr th {\n",
              "        vertical-align: top;\n",
              "    }\n",
              "\n",
              "    .dataframe thead th {\n",
              "        text-align: right;\n",
              "    }\n",
              "</style>\n",
              "<table border=\"1\" class=\"dataframe\">\n",
              "  <thead>\n",
              "    <tr style=\"text-align: right;\">\n",
              "      <th></th>\n",
              "      <th>transaction_id</th>\n",
              "      <th>price</th>\n",
              "      <th>payment_date</th>\n",
              "      <th>customer_id</th>\n",
              "    </tr>\n",
              "  </thead>\n",
              "  <tbody>\n",
              "    <tr>\n",
              "      <th>0</th>\n",
              "      <td>T0000000113</td>\n",
              "      <td>210000</td>\n",
              "      <td>2019-02-01 01:36:57</td>\n",
              "      <td>PL563502</td>\n",
              "    </tr>\n",
              "    <tr>\n",
              "      <th>1</th>\n",
              "      <td>T0000000114</td>\n",
              "      <td>50000</td>\n",
              "      <td>2019-02-01 01:37:23</td>\n",
              "      <td>HD678019</td>\n",
              "    </tr>\n",
              "    <tr>\n",
              "      <th>2</th>\n",
              "      <td>T0000000115</td>\n",
              "      <td>120000</td>\n",
              "      <td>2019-02-01 02:34:19</td>\n",
              "      <td>HD298120</td>\n",
              "    </tr>\n",
              "    <tr>\n",
              "      <th>3</th>\n",
              "      <td>T0000000116</td>\n",
              "      <td>210000</td>\n",
              "      <td>2019-02-01 02:47:23</td>\n",
              "      <td>IK452215</td>\n",
              "    </tr>\n",
              "    <tr>\n",
              "      <th>4</th>\n",
              "      <td>T0000000117</td>\n",
              "      <td>170000</td>\n",
              "      <td>2019-02-01 04:33:46</td>\n",
              "      <td>PL542865</td>\n",
              "    </tr>\n",
              "  </tbody>\n",
              "</table>\n",
              "</div>"
            ],
            "text/plain": [
              "  transaction_id   price         payment_date customer_id\n",
              "0    T0000000113  210000  2019-02-01 01:36:57    PL563502\n",
              "1    T0000000114   50000  2019-02-01 01:37:23    HD678019\n",
              "2    T0000000115  120000  2019-02-01 02:34:19    HD298120\n",
              "3    T0000000116  210000  2019-02-01 02:47:23    IK452215\n",
              "4    T0000000117  170000  2019-02-01 04:33:46    PL542865"
            ]
          },
          "metadata": {
            "tags": []
          },
          "execution_count": 3
        }
      ]
    },
    {
      "cell_type": "code",
      "metadata": {
        "id": "4auzzFgPmAeW",
        "colab_type": "code",
        "colab": {
          "base_uri": "https://localhost:8080/",
          "height": 195
        },
        "outputId": "243f5c21-97ef-42b5-f74a-6cda40d1419f"
      },
      "source": [
        "transaction_detail_1 = pd.read_csv('/content/drive/My Drive/pyda100/pyda100-master/1장/transaction_detail_1.csv')\n",
        "transaction_detail_1.head()"
      ],
      "execution_count": 4,
      "outputs": [
        {
          "output_type": "execute_result",
          "data": {
            "text/html": [
              "<div>\n",
              "<style scoped>\n",
              "    .dataframe tbody tr th:only-of-type {\n",
              "        vertical-align: middle;\n",
              "    }\n",
              "\n",
              "    .dataframe tbody tr th {\n",
              "        vertical-align: top;\n",
              "    }\n",
              "\n",
              "    .dataframe thead th {\n",
              "        text-align: right;\n",
              "    }\n",
              "</style>\n",
              "<table border=\"1\" class=\"dataframe\">\n",
              "  <thead>\n",
              "    <tr style=\"text-align: right;\">\n",
              "      <th></th>\n",
              "      <th>detail_id</th>\n",
              "      <th>transaction_id</th>\n",
              "      <th>item_id</th>\n",
              "      <th>quantity</th>\n",
              "    </tr>\n",
              "  </thead>\n",
              "  <tbody>\n",
              "    <tr>\n",
              "      <th>0</th>\n",
              "      <td>0</td>\n",
              "      <td>T0000000113</td>\n",
              "      <td>S005</td>\n",
              "      <td>1</td>\n",
              "    </tr>\n",
              "    <tr>\n",
              "      <th>1</th>\n",
              "      <td>1</td>\n",
              "      <td>T0000000114</td>\n",
              "      <td>S001</td>\n",
              "      <td>1</td>\n",
              "    </tr>\n",
              "    <tr>\n",
              "      <th>2</th>\n",
              "      <td>2</td>\n",
              "      <td>T0000000115</td>\n",
              "      <td>S003</td>\n",
              "      <td>1</td>\n",
              "    </tr>\n",
              "    <tr>\n",
              "      <th>3</th>\n",
              "      <td>3</td>\n",
              "      <td>T0000000116</td>\n",
              "      <td>S005</td>\n",
              "      <td>1</td>\n",
              "    </tr>\n",
              "    <tr>\n",
              "      <th>4</th>\n",
              "      <td>4</td>\n",
              "      <td>T0000000117</td>\n",
              "      <td>S002</td>\n",
              "      <td>2</td>\n",
              "    </tr>\n",
              "  </tbody>\n",
              "</table>\n",
              "</div>"
            ],
            "text/plain": [
              "   detail_id transaction_id item_id  quantity\n",
              "0          0    T0000000113    S005         1\n",
              "1          1    T0000000114    S001         1\n",
              "2          2    T0000000115    S003         1\n",
              "3          3    T0000000116    S005         1\n",
              "4          4    T0000000117    S002         2"
            ]
          },
          "metadata": {
            "tags": []
          },
          "execution_count": 4
        }
      ]
    },
    {
      "cell_type": "markdown",
      "metadata": {
        "id": "P_8jgBOqmb6L",
        "colab_type": "text"
      },
      "source": [
        "데이터 가공 방향) 상세하게 나와 있는 쪽에 맞추어 데이터를 가공하는 것이 중요\n",
        "\n",
        "매출 관련 데이터(transaction_detail)를 기준으로 생각\n",
        "\n",
        "1. transaction_detail_1과 transaction_detail_2 / transaction_1과 transaction_2를 세로로 결합(유니언)\n",
        "\n",
        "2. transaction_detail을 기준으로 transaction, customer_master, item_master를 가로로 결합(조인)"
      ]
    },
    {
      "cell_type": "markdown",
      "metadata": {
        "id": "kmhQ_Vfy1AlO",
        "colab_type": "text"
      },
      "source": [
        "#### 테크닉 002 : 데이터를 결합(유니언)해 보자"
      ]
    },
    {
      "cell_type": "code",
      "metadata": {
        "id": "s9OfatbEmL6s",
        "colab_type": "code",
        "colab": {
          "base_uri": "https://localhost:8080/",
          "height": 195
        },
        "outputId": "7a4ddf03-e1b8-469e-8ce3-502ffd4c8cd0"
      },
      "source": [
        "# transaction 결합\n",
        "transaction_2 = pd.read_csv('/content/drive/My Drive/pyda100/pyda100-master/1장/transaction_2.csv')\n",
        "transaction = pd.concat([transaction_1, transaction_2], ignore_index = True)\n",
        "transaction.head()"
      ],
      "execution_count": 5,
      "outputs": [
        {
          "output_type": "execute_result",
          "data": {
            "text/html": [
              "<div>\n",
              "<style scoped>\n",
              "    .dataframe tbody tr th:only-of-type {\n",
              "        vertical-align: middle;\n",
              "    }\n",
              "\n",
              "    .dataframe tbody tr th {\n",
              "        vertical-align: top;\n",
              "    }\n",
              "\n",
              "    .dataframe thead th {\n",
              "        text-align: right;\n",
              "    }\n",
              "</style>\n",
              "<table border=\"1\" class=\"dataframe\">\n",
              "  <thead>\n",
              "    <tr style=\"text-align: right;\">\n",
              "      <th></th>\n",
              "      <th>transaction_id</th>\n",
              "      <th>price</th>\n",
              "      <th>payment_date</th>\n",
              "      <th>customer_id</th>\n",
              "    </tr>\n",
              "  </thead>\n",
              "  <tbody>\n",
              "    <tr>\n",
              "      <th>0</th>\n",
              "      <td>T0000000113</td>\n",
              "      <td>210000</td>\n",
              "      <td>2019-02-01 01:36:57</td>\n",
              "      <td>PL563502</td>\n",
              "    </tr>\n",
              "    <tr>\n",
              "      <th>1</th>\n",
              "      <td>T0000000114</td>\n",
              "      <td>50000</td>\n",
              "      <td>2019-02-01 01:37:23</td>\n",
              "      <td>HD678019</td>\n",
              "    </tr>\n",
              "    <tr>\n",
              "      <th>2</th>\n",
              "      <td>T0000000115</td>\n",
              "      <td>120000</td>\n",
              "      <td>2019-02-01 02:34:19</td>\n",
              "      <td>HD298120</td>\n",
              "    </tr>\n",
              "    <tr>\n",
              "      <th>3</th>\n",
              "      <td>T0000000116</td>\n",
              "      <td>210000</td>\n",
              "      <td>2019-02-01 02:47:23</td>\n",
              "      <td>IK452215</td>\n",
              "    </tr>\n",
              "    <tr>\n",
              "      <th>4</th>\n",
              "      <td>T0000000117</td>\n",
              "      <td>170000</td>\n",
              "      <td>2019-02-01 04:33:46</td>\n",
              "      <td>PL542865</td>\n",
              "    </tr>\n",
              "  </tbody>\n",
              "</table>\n",
              "</div>"
            ],
            "text/plain": [
              "  transaction_id   price         payment_date customer_id\n",
              "0    T0000000113  210000  2019-02-01 01:36:57    PL563502\n",
              "1    T0000000114   50000  2019-02-01 01:37:23    HD678019\n",
              "2    T0000000115  120000  2019-02-01 02:34:19    HD298120\n",
              "3    T0000000116  210000  2019-02-01 02:47:23    IK452215\n",
              "4    T0000000117  170000  2019-02-01 04:33:46    PL542865"
            ]
          },
          "metadata": {
            "tags": []
          },
          "execution_count": 5
        }
      ]
    },
    {
      "cell_type": "code",
      "metadata": {
        "id": "WXaS83uG1ho5",
        "colab_type": "code",
        "colab": {
          "base_uri": "https://localhost:8080/",
          "height": 70
        },
        "outputId": "2741e56e-7a53-4ace-934a-eef86f6e70a8"
      },
      "source": [
        "print(len(transaction_1))\n",
        "print(len(transaction_2))\n",
        "print(len(transaction))"
      ],
      "execution_count": 24,
      "outputs": [
        {
          "output_type": "stream",
          "text": [
            "5000\n",
            "1786\n",
            "6786\n"
          ],
          "name": "stdout"
        }
      ]
    },
    {
      "cell_type": "code",
      "metadata": {
        "id": "UYBCuPyA1rTM",
        "colab_type": "code",
        "colab": {
          "base_uri": "https://localhost:8080/",
          "height": 195
        },
        "outputId": "642f3349-efcd-4682-c4a0-a1b14012667f"
      },
      "source": [
        "# transaction_detail 결합\n",
        "transaction_detail_2 = pd.read_csv('/content/drive/My Drive/pyda100/pyda100-master/1장/transaction_detail_2.csv')\n",
        "transaction_detail = pd.concat([transaction_detail_1, transaction_detail_2], ignore_index = True)\n",
        "transaction_detail.head()"
      ],
      "execution_count": 11,
      "outputs": [
        {
          "output_type": "execute_result",
          "data": {
            "text/html": [
              "<div>\n",
              "<style scoped>\n",
              "    .dataframe tbody tr th:only-of-type {\n",
              "        vertical-align: middle;\n",
              "    }\n",
              "\n",
              "    .dataframe tbody tr th {\n",
              "        vertical-align: top;\n",
              "    }\n",
              "\n",
              "    .dataframe thead th {\n",
              "        text-align: right;\n",
              "    }\n",
              "</style>\n",
              "<table border=\"1\" class=\"dataframe\">\n",
              "  <thead>\n",
              "    <tr style=\"text-align: right;\">\n",
              "      <th></th>\n",
              "      <th>detail_id</th>\n",
              "      <th>transaction_id</th>\n",
              "      <th>item_id</th>\n",
              "      <th>quantity</th>\n",
              "    </tr>\n",
              "  </thead>\n",
              "  <tbody>\n",
              "    <tr>\n",
              "      <th>0</th>\n",
              "      <td>0</td>\n",
              "      <td>T0000000113</td>\n",
              "      <td>S005</td>\n",
              "      <td>1</td>\n",
              "    </tr>\n",
              "    <tr>\n",
              "      <th>1</th>\n",
              "      <td>1</td>\n",
              "      <td>T0000000114</td>\n",
              "      <td>S001</td>\n",
              "      <td>1</td>\n",
              "    </tr>\n",
              "    <tr>\n",
              "      <th>2</th>\n",
              "      <td>2</td>\n",
              "      <td>T0000000115</td>\n",
              "      <td>S003</td>\n",
              "      <td>1</td>\n",
              "    </tr>\n",
              "    <tr>\n",
              "      <th>3</th>\n",
              "      <td>3</td>\n",
              "      <td>T0000000116</td>\n",
              "      <td>S005</td>\n",
              "      <td>1</td>\n",
              "    </tr>\n",
              "    <tr>\n",
              "      <th>4</th>\n",
              "      <td>4</td>\n",
              "      <td>T0000000117</td>\n",
              "      <td>S002</td>\n",
              "      <td>2</td>\n",
              "    </tr>\n",
              "  </tbody>\n",
              "</table>\n",
              "</div>"
            ],
            "text/plain": [
              "   detail_id transaction_id item_id  quantity\n",
              "0          0    T0000000113    S005         1\n",
              "1          1    T0000000114    S001         1\n",
              "2          2    T0000000115    S003         1\n",
              "3          3    T0000000116    S005         1\n",
              "4          4    T0000000117    S002         2"
            ]
          },
          "metadata": {
            "tags": []
          },
          "execution_count": 11
        }
      ]
    },
    {
      "cell_type": "markdown",
      "metadata": {
        "id": "PtTnkpki2DmF",
        "colab_type": "text"
      },
      "source": [
        "#### 테크닉 003 : 매출 데이터끼리 결합(조인)해 보자"
      ]
    },
    {
      "cell_type": "markdown",
      "metadata": {
        "id": "Z4x2JwD72IyY",
        "colab_type": "text"
      },
      "source": [
        "매출 데이터 조인)\n",
        "\n",
        "1. 부족한(추가하고 싶은) 데이터 칼럼이 무엇인지\n",
        "\n",
        "2. 공통되는 데이터 칼럼은 무엇인지\n",
        "\n",
        "이번 경우) transaction의 payment_date, customer_id(price : 한 번 구매할 때의 합계 금액 → transaction_detail의 quantity, item_master의 item_price로부터 계산된 것. price는 추가하지 않음)\n",
        "\n",
        "공통 데이터 칼럼 : transaction_id"
      ]
    },
    {
      "cell_type": "code",
      "metadata": {
        "id": "W-DMuPE72B2U",
        "colab_type": "code",
        "colab": {
          "base_uri": "https://localhost:8080/",
          "height": 195
        },
        "outputId": "2f4e25f7-d0de-4c72-e3c9-4e483a851b4e"
      },
      "source": [
        "join_data = pd.merge(transaction_detail, transaction[['transaction_id', 'payment_date', 'customer_id']], on = 'transaction_id', how = 'left')\n",
        "join_data.head()"
      ],
      "execution_count": 12,
      "outputs": [
        {
          "output_type": "execute_result",
          "data": {
            "text/html": [
              "<div>\n",
              "<style scoped>\n",
              "    .dataframe tbody tr th:only-of-type {\n",
              "        vertical-align: middle;\n",
              "    }\n",
              "\n",
              "    .dataframe tbody tr th {\n",
              "        vertical-align: top;\n",
              "    }\n",
              "\n",
              "    .dataframe thead th {\n",
              "        text-align: right;\n",
              "    }\n",
              "</style>\n",
              "<table border=\"1\" class=\"dataframe\">\n",
              "  <thead>\n",
              "    <tr style=\"text-align: right;\">\n",
              "      <th></th>\n",
              "      <th>detail_id</th>\n",
              "      <th>transaction_id</th>\n",
              "      <th>item_id</th>\n",
              "      <th>quantity</th>\n",
              "      <th>payment_date</th>\n",
              "      <th>customer_id</th>\n",
              "    </tr>\n",
              "  </thead>\n",
              "  <tbody>\n",
              "    <tr>\n",
              "      <th>0</th>\n",
              "      <td>0</td>\n",
              "      <td>T0000000113</td>\n",
              "      <td>S005</td>\n",
              "      <td>1</td>\n",
              "      <td>2019-02-01 01:36:57</td>\n",
              "      <td>PL563502</td>\n",
              "    </tr>\n",
              "    <tr>\n",
              "      <th>1</th>\n",
              "      <td>1</td>\n",
              "      <td>T0000000114</td>\n",
              "      <td>S001</td>\n",
              "      <td>1</td>\n",
              "      <td>2019-02-01 01:37:23</td>\n",
              "      <td>HD678019</td>\n",
              "    </tr>\n",
              "    <tr>\n",
              "      <th>2</th>\n",
              "      <td>2</td>\n",
              "      <td>T0000000115</td>\n",
              "      <td>S003</td>\n",
              "      <td>1</td>\n",
              "      <td>2019-02-01 02:34:19</td>\n",
              "      <td>HD298120</td>\n",
              "    </tr>\n",
              "    <tr>\n",
              "      <th>3</th>\n",
              "      <td>3</td>\n",
              "      <td>T0000000116</td>\n",
              "      <td>S005</td>\n",
              "      <td>1</td>\n",
              "      <td>2019-02-01 02:47:23</td>\n",
              "      <td>IK452215</td>\n",
              "    </tr>\n",
              "    <tr>\n",
              "      <th>4</th>\n",
              "      <td>4</td>\n",
              "      <td>T0000000117</td>\n",
              "      <td>S002</td>\n",
              "      <td>2</td>\n",
              "      <td>2019-02-01 04:33:46</td>\n",
              "      <td>PL542865</td>\n",
              "    </tr>\n",
              "  </tbody>\n",
              "</table>\n",
              "</div>"
            ],
            "text/plain": [
              "   detail_id transaction_id item_id  quantity         payment_date customer_id\n",
              "0          0    T0000000113    S005         1  2019-02-01 01:36:57    PL563502\n",
              "1          1    T0000000114    S001         1  2019-02-01 01:37:23    HD678019\n",
              "2          2    T0000000115    S003         1  2019-02-01 02:34:19    HD298120\n",
              "3          3    T0000000116    S005         1  2019-02-01 02:47:23    IK452215\n",
              "4          4    T0000000117    S002         2  2019-02-01 04:33:46    PL542865"
            ]
          },
          "metadata": {
            "tags": []
          },
          "execution_count": 12
        }
      ]
    },
    {
      "cell_type": "markdown",
      "metadata": {
        "id": "cAc8Gy9F3NXB",
        "colab_type": "text"
      },
      "source": [
        "- pd.merge로 조인\n",
        "- 기준 : transaction_detail / 조인 키 : transaction_id / 조인 종류 : 레프트 조인"
      ]
    },
    {
      "cell_type": "markdown",
      "metadata": {
        "id": "svfV9gPt3kex",
        "colab_type": "text"
      },
      "source": [
        "#### 테크닉 004 : 마스터데이터를 결합(조인)해 보자"
      ]
    },
    {
      "cell_type": "markdown",
      "metadata": {
        "id": "NDGeK6GA3phJ",
        "colab_type": "text"
      },
      "source": [
        "- 추가할 데이터 : customer_master와 item_master에 포함된 데이터\n",
        "- 공통 칼럼 : customer_id, item_id로 연결"
      ]
    },
    {
      "cell_type": "code",
      "metadata": {
        "id": "dGhDodrE299F",
        "colab_type": "code",
        "colab": {
          "base_uri": "https://localhost:8080/",
          "height": 383
        },
        "outputId": "3b39b8f8-9224-427e-a73f-5d6ad75bcde7"
      },
      "source": [
        "join_data = pd.merge(join_data, customer_master, on = 'customer_id', how = 'left')\n",
        "join_data = pd.merge(join_data, item_master, on = 'item_id', how = 'left')\n",
        "join_data.head()"
      ],
      "execution_count": 13,
      "outputs": [
        {
          "output_type": "execute_result",
          "data": {
            "text/html": [
              "<div>\n",
              "<style scoped>\n",
              "    .dataframe tbody tr th:only-of-type {\n",
              "        vertical-align: middle;\n",
              "    }\n",
              "\n",
              "    .dataframe tbody tr th {\n",
              "        vertical-align: top;\n",
              "    }\n",
              "\n",
              "    .dataframe thead th {\n",
              "        text-align: right;\n",
              "    }\n",
              "</style>\n",
              "<table border=\"1\" class=\"dataframe\">\n",
              "  <thead>\n",
              "    <tr style=\"text-align: right;\">\n",
              "      <th></th>\n",
              "      <th>detail_id</th>\n",
              "      <th>transaction_id</th>\n",
              "      <th>item_id</th>\n",
              "      <th>quantity</th>\n",
              "      <th>payment_date</th>\n",
              "      <th>customer_id</th>\n",
              "      <th>customer_name</th>\n",
              "      <th>registration_date</th>\n",
              "      <th>email</th>\n",
              "      <th>gender</th>\n",
              "      <th>age</th>\n",
              "      <th>birth</th>\n",
              "      <th>pref</th>\n",
              "      <th>item_name</th>\n",
              "      <th>item_price</th>\n",
              "    </tr>\n",
              "  </thead>\n",
              "  <tbody>\n",
              "    <tr>\n",
              "      <th>0</th>\n",
              "      <td>0</td>\n",
              "      <td>T0000000113</td>\n",
              "      <td>S005</td>\n",
              "      <td>1</td>\n",
              "      <td>2019-02-01 01:36:57</td>\n",
              "      <td>PL563502</td>\n",
              "      <td>김태경</td>\n",
              "      <td>2019-01-07 14:34</td>\n",
              "      <td>imoto_yoshimasa@example.com</td>\n",
              "      <td>M</td>\n",
              "      <td>30</td>\n",
              "      <td>1989-07-15</td>\n",
              "      <td>대전광역시</td>\n",
              "      <td>PC-E</td>\n",
              "      <td>210000</td>\n",
              "    </tr>\n",
              "    <tr>\n",
              "      <th>1</th>\n",
              "      <td>1</td>\n",
              "      <td>T0000000114</td>\n",
              "      <td>S001</td>\n",
              "      <td>1</td>\n",
              "      <td>2019-02-01 01:37:23</td>\n",
              "      <td>HD678019</td>\n",
              "      <td>김영웅</td>\n",
              "      <td>2019-01-27 18:00</td>\n",
              "      <td>mifune_rokurou@example.com</td>\n",
              "      <td>M</td>\n",
              "      <td>73</td>\n",
              "      <td>1945-11-29</td>\n",
              "      <td>서울특별시</td>\n",
              "      <td>PC-A</td>\n",
              "      <td>50000</td>\n",
              "    </tr>\n",
              "    <tr>\n",
              "      <th>2</th>\n",
              "      <td>2</td>\n",
              "      <td>T0000000115</td>\n",
              "      <td>S003</td>\n",
              "      <td>1</td>\n",
              "      <td>2019-02-01 02:34:19</td>\n",
              "      <td>HD298120</td>\n",
              "      <td>김강현</td>\n",
              "      <td>2019-01-11 8:16</td>\n",
              "      <td>yamane_kogan@example.com</td>\n",
              "      <td>M</td>\n",
              "      <td>42</td>\n",
              "      <td>1977-05-17</td>\n",
              "      <td>광주광역시</td>\n",
              "      <td>PC-C</td>\n",
              "      <td>120000</td>\n",
              "    </tr>\n",
              "    <tr>\n",
              "      <th>3</th>\n",
              "      <td>3</td>\n",
              "      <td>T0000000116</td>\n",
              "      <td>S005</td>\n",
              "      <td>1</td>\n",
              "      <td>2019-02-01 02:47:23</td>\n",
              "      <td>IK452215</td>\n",
              "      <td>김주한</td>\n",
              "      <td>2019-01-10 5:07</td>\n",
              "      <td>ikeda_natsumi@example.com</td>\n",
              "      <td>F</td>\n",
              "      <td>47</td>\n",
              "      <td>1972-03-17</td>\n",
              "      <td>인천광역시</td>\n",
              "      <td>PC-E</td>\n",
              "      <td>210000</td>\n",
              "    </tr>\n",
              "    <tr>\n",
              "      <th>4</th>\n",
              "      <td>4</td>\n",
              "      <td>T0000000117</td>\n",
              "      <td>S002</td>\n",
              "      <td>2</td>\n",
              "      <td>2019-02-01 04:33:46</td>\n",
              "      <td>PL542865</td>\n",
              "      <td>김영빈</td>\n",
              "      <td>2019-01-25 6:46</td>\n",
              "      <td>kurita_kenichi@example.com</td>\n",
              "      <td>M</td>\n",
              "      <td>74</td>\n",
              "      <td>1944-12-17</td>\n",
              "      <td>광주광역시</td>\n",
              "      <td>PC-B</td>\n",
              "      <td>85000</td>\n",
              "    </tr>\n",
              "  </tbody>\n",
              "</table>\n",
              "</div>"
            ],
            "text/plain": [
              "   detail_id transaction_id item_id  ...   pref item_name item_price\n",
              "0          0    T0000000113    S005  ...  대전광역시      PC-E     210000\n",
              "1          1    T0000000114    S001  ...  서울특별시      PC-A      50000\n",
              "2          2    T0000000115    S003  ...  광주광역시      PC-C     120000\n",
              "3          3    T0000000116    S005  ...  인천광역시      PC-E     210000\n",
              "4          4    T0000000117    S002  ...  광주광역시      PC-B      85000\n",
              "\n",
              "[5 rows x 15 columns]"
            ]
          },
          "metadata": {
            "tags": []
          },
          "execution_count": 13
        }
      ]
    },
    {
      "cell_type": "markdown",
      "metadata": {
        "id": "ejz0lqsX4QIX",
        "colab_type": "text"
      },
      "source": [
        "- price가 사라졌기 때문에 다시 계산해야 함"
      ]
    },
    {
      "cell_type": "markdown",
      "metadata": {
        "id": "QnPdCTNx4Uuv",
        "colab_type": "text"
      },
      "source": [
        "#### 테크닉 005 : 필요한 데이터 칼럼을 만들자"
      ]
    },
    {
      "cell_type": "markdown",
      "metadata": {
        "id": "o-ORl0Aj4Y_u",
        "colab_type": "text"
      },
      "source": [
        "- 매출 : quantity와 item_price의 곱을 계산해서 추가 가능"
      ]
    },
    {
      "cell_type": "code",
      "metadata": {
        "id": "A8795A8r4A8y",
        "colab_type": "code",
        "colab": {
          "base_uri": "https://localhost:8080/",
          "height": 195
        },
        "outputId": "a76a7c54-32fc-4adc-f7bf-e24720861938"
      },
      "source": [
        "join_data['price'] = join_data['quantity'] * join_data['item_price']\n",
        "join_data[['quantity', 'item_price', 'price']].head()"
      ],
      "execution_count": 14,
      "outputs": [
        {
          "output_type": "execute_result",
          "data": {
            "text/html": [
              "<div>\n",
              "<style scoped>\n",
              "    .dataframe tbody tr th:only-of-type {\n",
              "        vertical-align: middle;\n",
              "    }\n",
              "\n",
              "    .dataframe tbody tr th {\n",
              "        vertical-align: top;\n",
              "    }\n",
              "\n",
              "    .dataframe thead th {\n",
              "        text-align: right;\n",
              "    }\n",
              "</style>\n",
              "<table border=\"1\" class=\"dataframe\">\n",
              "  <thead>\n",
              "    <tr style=\"text-align: right;\">\n",
              "      <th></th>\n",
              "      <th>quantity</th>\n",
              "      <th>item_price</th>\n",
              "      <th>price</th>\n",
              "    </tr>\n",
              "  </thead>\n",
              "  <tbody>\n",
              "    <tr>\n",
              "      <th>0</th>\n",
              "      <td>1</td>\n",
              "      <td>210000</td>\n",
              "      <td>210000</td>\n",
              "    </tr>\n",
              "    <tr>\n",
              "      <th>1</th>\n",
              "      <td>1</td>\n",
              "      <td>50000</td>\n",
              "      <td>50000</td>\n",
              "    </tr>\n",
              "    <tr>\n",
              "      <th>2</th>\n",
              "      <td>1</td>\n",
              "      <td>120000</td>\n",
              "      <td>120000</td>\n",
              "    </tr>\n",
              "    <tr>\n",
              "      <th>3</th>\n",
              "      <td>1</td>\n",
              "      <td>210000</td>\n",
              "      <td>210000</td>\n",
              "    </tr>\n",
              "    <tr>\n",
              "      <th>4</th>\n",
              "      <td>2</td>\n",
              "      <td>85000</td>\n",
              "      <td>170000</td>\n",
              "    </tr>\n",
              "  </tbody>\n",
              "</table>\n",
              "</div>"
            ],
            "text/plain": [
              "   quantity  item_price   price\n",
              "0         1      210000  210000\n",
              "1         1       50000   50000\n",
              "2         1      120000  120000\n",
              "3         1      210000  210000\n",
              "4         2       85000  170000"
            ]
          },
          "metadata": {
            "tags": []
          },
          "execution_count": 14
        }
      ]
    },
    {
      "cell_type": "markdown",
      "metadata": {
        "id": "Gcc_Gual4ui6",
        "colab_type": "text"
      },
      "source": [
        "- 데이터 결합 시 신중히 개수를 확인해야 함\n",
        "- 되도록 검산이 가능한 데이터 칼럼을 찾고 계산할 것"
      ]
    },
    {
      "cell_type": "markdown",
      "metadata": {
        "id": "oK6ouVFV411v",
        "colab_type": "text"
      },
      "source": [
        "#### 테크닉 006 : 데이터를 검산하자"
      ]
    },
    {
      "cell_type": "code",
      "metadata": {
        "id": "9F28hqrf4nM-",
        "colab_type": "code",
        "colab": {
          "base_uri": "https://localhost:8080/",
          "height": 52
        },
        "outputId": "0d01498d-0ee0-43bf-a306-f79ffc23a9d4"
      },
      "source": [
        "# transaction의 price 총합 = 데이터 가공 후 join_data의 price 총합\n",
        "print(join_data['price'].sum())\n",
        "print(transaction['price'].sum())"
      ],
      "execution_count": 23,
      "outputs": [
        {
          "output_type": "stream",
          "text": [
            "971135000\n",
            "971135000\n"
          ],
          "name": "stdout"
        }
      ]
    },
    {
      "cell_type": "code",
      "metadata": {
        "id": "nnP6arQD4_Ns",
        "colab_type": "code",
        "colab": {
          "base_uri": "https://localhost:8080/",
          "height": 34
        },
        "outputId": "e302b720-8726-478e-9f4e-e459216fe24e"
      },
      "source": [
        "# true/false를 이용, 두 값이 같은 지 확인\n",
        "join_data['price'].sum() == transaction['price'].sum()"
      ],
      "execution_count": 17,
      "outputs": [
        {
          "output_type": "execute_result",
          "data": {
            "text/plain": [
              "True"
            ]
          },
          "metadata": {
            "tags": []
          },
          "execution_count": 17
        }
      ]
    },
    {
      "cell_type": "markdown",
      "metadata": {
        "id": "--YIFiwg5QZn",
        "colab_type": "text"
      },
      "source": [
        "#### 테크닉 007 : 각종 통계량을 확인하자"
      ]
    },
    {
      "cell_type": "markdown",
      "metadata": {
        "id": "uy_w-1S76q0k",
        "colab_type": "text"
      },
      "source": [
        "1. 결손치의 개수 :  제거 혹은 보간\n",
        "2. 전체를 파악할 수 있는 숫자감"
      ]
    },
    {
      "cell_type": "code",
      "metadata": {
        "id": "rjnnMNdV5LmT",
        "colab_type": "code",
        "colab": {
          "base_uri": "https://localhost:8080/",
          "height": 316
        },
        "outputId": "f4343757-2184-40cc-e73a-e54a354204c1"
      },
      "source": [
        "# 결손치 파악\n",
        "join_data.isnull().sum()"
      ],
      "execution_count": 18,
      "outputs": [
        {
          "output_type": "execute_result",
          "data": {
            "text/plain": [
              "detail_id            0\n",
              "transaction_id       0\n",
              "item_id              0\n",
              "quantity             0\n",
              "payment_date         0\n",
              "customer_id          0\n",
              "customer_name        0\n",
              "registration_date    0\n",
              "email                0\n",
              "gender               0\n",
              "age                  0\n",
              "birth                0\n",
              "pref                 0\n",
              "item_name            0\n",
              "item_price           0\n",
              "price                0\n",
              "dtype: int64"
            ]
          },
          "metadata": {
            "tags": []
          },
          "execution_count": 18
        }
      ]
    },
    {
      "cell_type": "code",
      "metadata": {
        "id": "C-Uj2OmO67OQ",
        "colab_type": "code",
        "colab": {
          "base_uri": "https://localhost:8080/",
          "height": 284
        },
        "outputId": "f2738476-3718-4865-855e-315ebfd9ba53"
      },
      "source": [
        "# 각종 통계량 파악\n",
        "join_data.describe()"
      ],
      "execution_count": 19,
      "outputs": [
        {
          "output_type": "execute_result",
          "data": {
            "text/html": [
              "<div>\n",
              "<style scoped>\n",
              "    .dataframe tbody tr th:only-of-type {\n",
              "        vertical-align: middle;\n",
              "    }\n",
              "\n",
              "    .dataframe tbody tr th {\n",
              "        vertical-align: top;\n",
              "    }\n",
              "\n",
              "    .dataframe thead th {\n",
              "        text-align: right;\n",
              "    }\n",
              "</style>\n",
              "<table border=\"1\" class=\"dataframe\">\n",
              "  <thead>\n",
              "    <tr style=\"text-align: right;\">\n",
              "      <th></th>\n",
              "      <th>detail_id</th>\n",
              "      <th>quantity</th>\n",
              "      <th>age</th>\n",
              "      <th>item_price</th>\n",
              "      <th>price</th>\n",
              "    </tr>\n",
              "  </thead>\n",
              "  <tbody>\n",
              "    <tr>\n",
              "      <th>count</th>\n",
              "      <td>7144.000000</td>\n",
              "      <td>7144.000000</td>\n",
              "      <td>7144.000000</td>\n",
              "      <td>7144.000000</td>\n",
              "      <td>7144.000000</td>\n",
              "    </tr>\n",
              "    <tr>\n",
              "      <th>mean</th>\n",
              "      <td>3571.500000</td>\n",
              "      <td>1.199888</td>\n",
              "      <td>50.265677</td>\n",
              "      <td>121698.628219</td>\n",
              "      <td>135937.150056</td>\n",
              "    </tr>\n",
              "    <tr>\n",
              "      <th>std</th>\n",
              "      <td>2062.439494</td>\n",
              "      <td>0.513647</td>\n",
              "      <td>17.190314</td>\n",
              "      <td>64571.311830</td>\n",
              "      <td>68511.453297</td>\n",
              "    </tr>\n",
              "    <tr>\n",
              "      <th>min</th>\n",
              "      <td>0.000000</td>\n",
              "      <td>1.000000</td>\n",
              "      <td>20.000000</td>\n",
              "      <td>50000.000000</td>\n",
              "      <td>50000.000000</td>\n",
              "    </tr>\n",
              "    <tr>\n",
              "      <th>25%</th>\n",
              "      <td>1785.750000</td>\n",
              "      <td>1.000000</td>\n",
              "      <td>36.000000</td>\n",
              "      <td>50000.000000</td>\n",
              "      <td>85000.000000</td>\n",
              "    </tr>\n",
              "    <tr>\n",
              "      <th>50%</th>\n",
              "      <td>3571.500000</td>\n",
              "      <td>1.000000</td>\n",
              "      <td>50.000000</td>\n",
              "      <td>102500.000000</td>\n",
              "      <td>120000.000000</td>\n",
              "    </tr>\n",
              "    <tr>\n",
              "      <th>75%</th>\n",
              "      <td>5357.250000</td>\n",
              "      <td>1.000000</td>\n",
              "      <td>65.000000</td>\n",
              "      <td>187500.000000</td>\n",
              "      <td>210000.000000</td>\n",
              "    </tr>\n",
              "    <tr>\n",
              "      <th>max</th>\n",
              "      <td>7143.000000</td>\n",
              "      <td>4.000000</td>\n",
              "      <td>80.000000</td>\n",
              "      <td>210000.000000</td>\n",
              "      <td>420000.000000</td>\n",
              "    </tr>\n",
              "  </tbody>\n",
              "</table>\n",
              "</div>"
            ],
            "text/plain": [
              "         detail_id     quantity          age     item_price          price\n",
              "count  7144.000000  7144.000000  7144.000000    7144.000000    7144.000000\n",
              "mean   3571.500000     1.199888    50.265677  121698.628219  135937.150056\n",
              "std    2062.439494     0.513647    17.190314   64571.311830   68511.453297\n",
              "min       0.000000     1.000000    20.000000   50000.000000   50000.000000\n",
              "25%    1785.750000     1.000000    36.000000   50000.000000   85000.000000\n",
              "50%    3571.500000     1.000000    50.000000  102500.000000  120000.000000\n",
              "75%    5357.250000     1.000000    65.000000  187500.000000  210000.000000\n",
              "max    7143.000000     4.000000    80.000000  210000.000000  420000.000000"
            ]
          },
          "metadata": {
            "tags": []
          },
          "execution_count": 19
        }
      ]
    },
    {
      "cell_type": "markdown",
      "metadata": {
        "id": "xiL0OjFh7HRN",
        "colab_type": "text"
      },
      "source": [
        "- count : 개수\n",
        "- mean : 평균값\n",
        "- std : 표준편차\n",
        "- min : 최솟값\n",
        "- 25% : 사분위수(1/4)\n",
        "- 50% : 중앙값\n",
        "- 75% : 사분위수(3/4)\n",
        "- max : 최댓값"
      ]
    },
    {
      "cell_type": "code",
      "metadata": {
        "id": "j2nqYLVV697U",
        "colab_type": "code",
        "colab": {
          "base_uri": "https://localhost:8080/",
          "height": 52
        },
        "outputId": "2c86da34-6211-43a3-aa05-4b782a7ceec6"
      },
      "source": [
        "# 추가 확인 : 데이터의 기간\n",
        "print(join_data['payment_date'].min())\n",
        "print(join_data['payment_date'].max())"
      ],
      "execution_count": 22,
      "outputs": [
        {
          "output_type": "stream",
          "text": [
            "2019-02-01 01:36:57\n",
            "2019-07-31 23:41:38\n"
          ],
          "name": "stdout"
        }
      ]
    },
    {
      "cell_type": "markdown",
      "metadata": {
        "id": "gsmlnC-X7vaf",
        "colab_type": "text"
      },
      "source": [
        "#### 테크닉 008 : 월별로 데이터를 집계해 보자"
      ]
    },
    {
      "cell_type": "markdown",
      "metadata": {
        "id": "rci3X4Oa8AhJ",
        "colab_type": "text"
      },
      "source": [
        "- 전체적인 데이터를 파악했으므로 시계열 상황을 살펴볼 차례\n",
        "- 범위가 넓을 경우, 범위를 좁혀서 분석하는 것도 하나의 방법\n",
        "- 전체적인 매출의 증가/감소 여부를 파악하는 것이 첫 번째\n",
        "\n",
        "* payment_date에서 연월 추출, 칼럼 생성 후 price 집계"
      ]
    },
    {
      "cell_type": "code",
      "metadata": {
        "id": "vCBh8Nxy7pI8",
        "colab_type": "code",
        "colab": {
          "base_uri": "https://localhost:8080/",
          "height": 316
        },
        "outputId": "9c25a476-d3eb-475b-eee8-618bf307adb8"
      },
      "source": [
        "# 데이터 형태 파악\n",
        "join_data.dtypes"
      ],
      "execution_count": 25,
      "outputs": [
        {
          "output_type": "execute_result",
          "data": {
            "text/plain": [
              "detail_id             int64\n",
              "transaction_id       object\n",
              "item_id              object\n",
              "quantity              int64\n",
              "payment_date         object\n",
              "customer_id          object\n",
              "customer_name        object\n",
              "registration_date    object\n",
              "email                object\n",
              "gender               object\n",
              "age                   int64\n",
              "birth                object\n",
              "pref                 object\n",
              "item_name            object\n",
              "item_price            int64\n",
              "price                 int64\n",
              "dtype: object"
            ]
          },
          "metadata": {
            "tags": []
          },
          "execution_count": 25
        }
      ]
    },
    {
      "cell_type": "markdown",
      "metadata": {
        "id": "DRiwYM-28dlx",
        "colab_type": "text"
      },
      "source": [
        "- payment_date : object형. 편의를 위해 datetime으로 변환 후 연월 생성"
      ]
    },
    {
      "cell_type": "code",
      "metadata": {
        "id": "kLzOTT_R8Ya9",
        "colab_type": "code",
        "colab": {
          "base_uri": "https://localhost:8080/",
          "height": 195
        },
        "outputId": "77a32976-490c-4493-84a7-fae45c4a91ed"
      },
      "source": [
        "join_data[\"payment_date\"] = pd.to_datetime(join_data[\"payment_date\"]) # datetime 변환\n",
        "join_data[\"payment_month\"] = join_data[\"payment_date\"].dt.strftime(\"%Y%m\") # %Y%m : 연월 표기\n",
        "join_data[[\"payment_date\", \"payment_month\"]].head()"
      ],
      "execution_count": 32,
      "outputs": [
        {
          "output_type": "execute_result",
          "data": {
            "text/html": [
              "<div>\n",
              "<style scoped>\n",
              "    .dataframe tbody tr th:only-of-type {\n",
              "        vertical-align: middle;\n",
              "    }\n",
              "\n",
              "    .dataframe tbody tr th {\n",
              "        vertical-align: top;\n",
              "    }\n",
              "\n",
              "    .dataframe thead th {\n",
              "        text-align: right;\n",
              "    }\n",
              "</style>\n",
              "<table border=\"1\" class=\"dataframe\">\n",
              "  <thead>\n",
              "    <tr style=\"text-align: right;\">\n",
              "      <th></th>\n",
              "      <th>payment_date</th>\n",
              "      <th>payment_month</th>\n",
              "    </tr>\n",
              "  </thead>\n",
              "  <tbody>\n",
              "    <tr>\n",
              "      <th>0</th>\n",
              "      <td>2019-02-01 01:36:57</td>\n",
              "      <td>201902</td>\n",
              "    </tr>\n",
              "    <tr>\n",
              "      <th>1</th>\n",
              "      <td>2019-02-01 01:37:23</td>\n",
              "      <td>201902</td>\n",
              "    </tr>\n",
              "    <tr>\n",
              "      <th>2</th>\n",
              "      <td>2019-02-01 02:34:19</td>\n",
              "      <td>201902</td>\n",
              "    </tr>\n",
              "    <tr>\n",
              "      <th>3</th>\n",
              "      <td>2019-02-01 02:47:23</td>\n",
              "      <td>201902</td>\n",
              "    </tr>\n",
              "    <tr>\n",
              "      <th>4</th>\n",
              "      <td>2019-02-01 04:33:46</td>\n",
              "      <td>201902</td>\n",
              "    </tr>\n",
              "  </tbody>\n",
              "</table>\n",
              "</div>"
            ],
            "text/plain": [
              "         payment_date payment_month\n",
              "0 2019-02-01 01:36:57        201902\n",
              "1 2019-02-01 01:37:23        201902\n",
              "2 2019-02-01 02:34:19        201902\n",
              "3 2019-02-01 02:47:23        201902\n",
              "4 2019-02-01 04:33:46        201902"
            ]
          },
          "metadata": {
            "tags": []
          },
          "execution_count": 32
        }
      ]
    },
    {
      "cell_type": "code",
      "metadata": {
        "id": "Pg55efpT8186",
        "colab_type": "code",
        "colab": {
          "base_uri": "https://localhost:8080/",
          "height": 158
        },
        "outputId": "b002c8ec-747e-4d8f-8180-433149042528"
      },
      "source": [
        "# 월별 집계\n",
        "join_data.groupby('payment_month').sum()['price']"
      ],
      "execution_count": 33,
      "outputs": [
        {
          "output_type": "execute_result",
          "data": {
            "text/plain": [
              "payment_month\n",
              "201902    160185000\n",
              "201903    160370000\n",
              "201904    160510000\n",
              "201905    155420000\n",
              "201906    164030000\n",
              "201907    170620000\n",
              "Name: price, dtype: int64"
            ]
          },
          "metadata": {
            "tags": []
          },
          "execution_count": 33
        }
      ]
    },
    {
      "cell_type": "markdown",
      "metadata": {
        "id": "Ot2StvsX9wfx",
        "colab_type": "text"
      },
      "source": [
        "- 5월 매출 소폭 감소, 6,7 월 회복\n",
        "- 반년 중 가장 매출 높은 달 : 7월\n",
        "- 한 달 대략 1억 6천의 매출 / 연간 20억 원 매출 예상\n",
        "- 어떤 상품이 가장 잘 팔리는지 집계"
      ]
    },
    {
      "cell_type": "markdown",
      "metadata": {
        "id": "fdGG2TUv-CJo",
        "colab_type": "text"
      },
      "source": [
        "#### 테크닉 009 : 월별, 상품별로 데이터를 집계해 보자"
      ]
    },
    {
      "cell_type": "code",
      "metadata": {
        "id": "gdWqRPjz9sTA",
        "colab_type": "code",
        "colab": {
          "base_uri": "https://localhost:8080/",
          "height": 965
        },
        "outputId": "9172939d-0dff-4ea3-a1f7-e65628392046"
      },
      "source": [
        "join_data.groupby(['payment_month', 'item_name']).sum()[['price', 'quantity']]"
      ],
      "execution_count": 34,
      "outputs": [
        {
          "output_type": "execute_result",
          "data": {
            "text/html": [
              "<div>\n",
              "<style scoped>\n",
              "    .dataframe tbody tr th:only-of-type {\n",
              "        vertical-align: middle;\n",
              "    }\n",
              "\n",
              "    .dataframe tbody tr th {\n",
              "        vertical-align: top;\n",
              "    }\n",
              "\n",
              "    .dataframe thead th {\n",
              "        text-align: right;\n",
              "    }\n",
              "</style>\n",
              "<table border=\"1\" class=\"dataframe\">\n",
              "  <thead>\n",
              "    <tr style=\"text-align: right;\">\n",
              "      <th></th>\n",
              "      <th></th>\n",
              "      <th>price</th>\n",
              "      <th>quantity</th>\n",
              "    </tr>\n",
              "    <tr>\n",
              "      <th>payment_month</th>\n",
              "      <th>item_name</th>\n",
              "      <th></th>\n",
              "      <th></th>\n",
              "    </tr>\n",
              "  </thead>\n",
              "  <tbody>\n",
              "    <tr>\n",
              "      <th rowspan=\"5\" valign=\"top\">201902</th>\n",
              "      <th>PC-A</th>\n",
              "      <td>24150000</td>\n",
              "      <td>483</td>\n",
              "    </tr>\n",
              "    <tr>\n",
              "      <th>PC-B</th>\n",
              "      <td>25245000</td>\n",
              "      <td>297</td>\n",
              "    </tr>\n",
              "    <tr>\n",
              "      <th>PC-C</th>\n",
              "      <td>19800000</td>\n",
              "      <td>165</td>\n",
              "    </tr>\n",
              "    <tr>\n",
              "      <th>PC-D</th>\n",
              "      <td>31140000</td>\n",
              "      <td>173</td>\n",
              "    </tr>\n",
              "    <tr>\n",
              "      <th>PC-E</th>\n",
              "      <td>59850000</td>\n",
              "      <td>285</td>\n",
              "    </tr>\n",
              "    <tr>\n",
              "      <th rowspan=\"5\" valign=\"top\">201903</th>\n",
              "      <th>PC-A</th>\n",
              "      <td>26000000</td>\n",
              "      <td>520</td>\n",
              "    </tr>\n",
              "    <tr>\n",
              "      <th>PC-B</th>\n",
              "      <td>25500000</td>\n",
              "      <td>300</td>\n",
              "    </tr>\n",
              "    <tr>\n",
              "      <th>PC-C</th>\n",
              "      <td>19080000</td>\n",
              "      <td>159</td>\n",
              "    </tr>\n",
              "    <tr>\n",
              "      <th>PC-D</th>\n",
              "      <td>25740000</td>\n",
              "      <td>143</td>\n",
              "    </tr>\n",
              "    <tr>\n",
              "      <th>PC-E</th>\n",
              "      <td>64050000</td>\n",
              "      <td>305</td>\n",
              "    </tr>\n",
              "    <tr>\n",
              "      <th rowspan=\"5\" valign=\"top\">201904</th>\n",
              "      <th>PC-A</th>\n",
              "      <td>25900000</td>\n",
              "      <td>518</td>\n",
              "    </tr>\n",
              "    <tr>\n",
              "      <th>PC-B</th>\n",
              "      <td>23460000</td>\n",
              "      <td>276</td>\n",
              "    </tr>\n",
              "    <tr>\n",
              "      <th>PC-C</th>\n",
              "      <td>21960000</td>\n",
              "      <td>183</td>\n",
              "    </tr>\n",
              "    <tr>\n",
              "      <th>PC-D</th>\n",
              "      <td>24300000</td>\n",
              "      <td>135</td>\n",
              "    </tr>\n",
              "    <tr>\n",
              "      <th>PC-E</th>\n",
              "      <td>64890000</td>\n",
              "      <td>309</td>\n",
              "    </tr>\n",
              "    <tr>\n",
              "      <th rowspan=\"5\" valign=\"top\">201905</th>\n",
              "      <th>PC-A</th>\n",
              "      <td>24850000</td>\n",
              "      <td>497</td>\n",
              "    </tr>\n",
              "    <tr>\n",
              "      <th>PC-B</th>\n",
              "      <td>25330000</td>\n",
              "      <td>298</td>\n",
              "    </tr>\n",
              "    <tr>\n",
              "      <th>PC-C</th>\n",
              "      <td>20520000</td>\n",
              "      <td>171</td>\n",
              "    </tr>\n",
              "    <tr>\n",
              "      <th>PC-D</th>\n",
              "      <td>25920000</td>\n",
              "      <td>144</td>\n",
              "    </tr>\n",
              "    <tr>\n",
              "      <th>PC-E</th>\n",
              "      <td>58800000</td>\n",
              "      <td>280</td>\n",
              "    </tr>\n",
              "    <tr>\n",
              "      <th rowspan=\"5\" valign=\"top\">201906</th>\n",
              "      <th>PC-A</th>\n",
              "      <td>26000000</td>\n",
              "      <td>520</td>\n",
              "    </tr>\n",
              "    <tr>\n",
              "      <th>PC-B</th>\n",
              "      <td>23970000</td>\n",
              "      <td>282</td>\n",
              "    </tr>\n",
              "    <tr>\n",
              "      <th>PC-C</th>\n",
              "      <td>21840000</td>\n",
              "      <td>182</td>\n",
              "    </tr>\n",
              "    <tr>\n",
              "      <th>PC-D</th>\n",
              "      <td>28800000</td>\n",
              "      <td>160</td>\n",
              "    </tr>\n",
              "    <tr>\n",
              "      <th>PC-E</th>\n",
              "      <td>63420000</td>\n",
              "      <td>302</td>\n",
              "    </tr>\n",
              "    <tr>\n",
              "      <th rowspan=\"5\" valign=\"top\">201907</th>\n",
              "      <th>PC-A</th>\n",
              "      <td>25250000</td>\n",
              "      <td>505</td>\n",
              "    </tr>\n",
              "    <tr>\n",
              "      <th>PC-B</th>\n",
              "      <td>28220000</td>\n",
              "      <td>332</td>\n",
              "    </tr>\n",
              "    <tr>\n",
              "      <th>PC-C</th>\n",
              "      <td>19440000</td>\n",
              "      <td>162</td>\n",
              "    </tr>\n",
              "    <tr>\n",
              "      <th>PC-D</th>\n",
              "      <td>26100000</td>\n",
              "      <td>145</td>\n",
              "    </tr>\n",
              "    <tr>\n",
              "      <th>PC-E</th>\n",
              "      <td>71610000</td>\n",
              "      <td>341</td>\n",
              "    </tr>\n",
              "  </tbody>\n",
              "</table>\n",
              "</div>"
            ],
            "text/plain": [
              "                            price  quantity\n",
              "payment_month item_name                    \n",
              "201902        PC-A       24150000       483\n",
              "              PC-B       25245000       297\n",
              "              PC-C       19800000       165\n",
              "              PC-D       31140000       173\n",
              "              PC-E       59850000       285\n",
              "201903        PC-A       26000000       520\n",
              "              PC-B       25500000       300\n",
              "              PC-C       19080000       159\n",
              "              PC-D       25740000       143\n",
              "              PC-E       64050000       305\n",
              "201904        PC-A       25900000       518\n",
              "              PC-B       23460000       276\n",
              "              PC-C       21960000       183\n",
              "              PC-D       24300000       135\n",
              "              PC-E       64890000       309\n",
              "201905        PC-A       24850000       497\n",
              "              PC-B       25330000       298\n",
              "              PC-C       20520000       171\n",
              "              PC-D       25920000       144\n",
              "              PC-E       58800000       280\n",
              "201906        PC-A       26000000       520\n",
              "              PC-B       23970000       282\n",
              "              PC-C       21840000       182\n",
              "              PC-D       28800000       160\n",
              "              PC-E       63420000       302\n",
              "201907        PC-A       25250000       505\n",
              "              PC-B       28220000       332\n",
              "              PC-C       19440000       162\n",
              "              PC-D       26100000       145\n",
              "              PC-E       71610000       341"
            ]
          },
          "metadata": {
            "tags": []
          },
          "execution_count": 34
        }
      ]
    },
    {
      "cell_type": "markdown",
      "metadata": {
        "id": "RUuWAiTj-R1S",
        "colab_type": "text"
      },
      "source": [
        "- groupby로 출력하고 싶은 칼럼이 여러 개 : 리스트 형으로 지정\n",
        "- pivot_table로 재집계"
      ]
    },
    {
      "cell_type": "code",
      "metadata": {
        "id": "GM70NlXr-ORX",
        "colab_type": "code",
        "colab": {
          "base_uri": "https://localhost:8080/",
          "height": 274
        },
        "outputId": "94ad0c19-da20-40a1-9cf0-09e48e6555f6"
      },
      "source": [
        "pd.pivot_table(join_data, index = 'item_name', columns = 'payment_month', values = ['price', 'quantity'], aggfunc = 'sum')"
      ],
      "execution_count": 35,
      "outputs": [
        {
          "output_type": "execute_result",
          "data": {
            "text/html": [
              "<div>\n",
              "<style scoped>\n",
              "    .dataframe tbody tr th:only-of-type {\n",
              "        vertical-align: middle;\n",
              "    }\n",
              "\n",
              "    .dataframe tbody tr th {\n",
              "        vertical-align: top;\n",
              "    }\n",
              "\n",
              "    .dataframe thead tr th {\n",
              "        text-align: left;\n",
              "    }\n",
              "\n",
              "    .dataframe thead tr:last-of-type th {\n",
              "        text-align: right;\n",
              "    }\n",
              "</style>\n",
              "<table border=\"1\" class=\"dataframe\">\n",
              "  <thead>\n",
              "    <tr>\n",
              "      <th></th>\n",
              "      <th colspan=\"6\" halign=\"left\">price</th>\n",
              "      <th colspan=\"6\" halign=\"left\">quantity</th>\n",
              "    </tr>\n",
              "    <tr>\n",
              "      <th>payment_month</th>\n",
              "      <th>201902</th>\n",
              "      <th>201903</th>\n",
              "      <th>201904</th>\n",
              "      <th>201905</th>\n",
              "      <th>201906</th>\n",
              "      <th>201907</th>\n",
              "      <th>201902</th>\n",
              "      <th>201903</th>\n",
              "      <th>201904</th>\n",
              "      <th>201905</th>\n",
              "      <th>201906</th>\n",
              "      <th>201907</th>\n",
              "    </tr>\n",
              "    <tr>\n",
              "      <th>item_name</th>\n",
              "      <th></th>\n",
              "      <th></th>\n",
              "      <th></th>\n",
              "      <th></th>\n",
              "      <th></th>\n",
              "      <th></th>\n",
              "      <th></th>\n",
              "      <th></th>\n",
              "      <th></th>\n",
              "      <th></th>\n",
              "      <th></th>\n",
              "      <th></th>\n",
              "    </tr>\n",
              "  </thead>\n",
              "  <tbody>\n",
              "    <tr>\n",
              "      <th>PC-A</th>\n",
              "      <td>24150000</td>\n",
              "      <td>26000000</td>\n",
              "      <td>25900000</td>\n",
              "      <td>24850000</td>\n",
              "      <td>26000000</td>\n",
              "      <td>25250000</td>\n",
              "      <td>483</td>\n",
              "      <td>520</td>\n",
              "      <td>518</td>\n",
              "      <td>497</td>\n",
              "      <td>520</td>\n",
              "      <td>505</td>\n",
              "    </tr>\n",
              "    <tr>\n",
              "      <th>PC-B</th>\n",
              "      <td>25245000</td>\n",
              "      <td>25500000</td>\n",
              "      <td>23460000</td>\n",
              "      <td>25330000</td>\n",
              "      <td>23970000</td>\n",
              "      <td>28220000</td>\n",
              "      <td>297</td>\n",
              "      <td>300</td>\n",
              "      <td>276</td>\n",
              "      <td>298</td>\n",
              "      <td>282</td>\n",
              "      <td>332</td>\n",
              "    </tr>\n",
              "    <tr>\n",
              "      <th>PC-C</th>\n",
              "      <td>19800000</td>\n",
              "      <td>19080000</td>\n",
              "      <td>21960000</td>\n",
              "      <td>20520000</td>\n",
              "      <td>21840000</td>\n",
              "      <td>19440000</td>\n",
              "      <td>165</td>\n",
              "      <td>159</td>\n",
              "      <td>183</td>\n",
              "      <td>171</td>\n",
              "      <td>182</td>\n",
              "      <td>162</td>\n",
              "    </tr>\n",
              "    <tr>\n",
              "      <th>PC-D</th>\n",
              "      <td>31140000</td>\n",
              "      <td>25740000</td>\n",
              "      <td>24300000</td>\n",
              "      <td>25920000</td>\n",
              "      <td>28800000</td>\n",
              "      <td>26100000</td>\n",
              "      <td>173</td>\n",
              "      <td>143</td>\n",
              "      <td>135</td>\n",
              "      <td>144</td>\n",
              "      <td>160</td>\n",
              "      <td>145</td>\n",
              "    </tr>\n",
              "    <tr>\n",
              "      <th>PC-E</th>\n",
              "      <td>59850000</td>\n",
              "      <td>64050000</td>\n",
              "      <td>64890000</td>\n",
              "      <td>58800000</td>\n",
              "      <td>63420000</td>\n",
              "      <td>71610000</td>\n",
              "      <td>285</td>\n",
              "      <td>305</td>\n",
              "      <td>309</td>\n",
              "      <td>280</td>\n",
              "      <td>302</td>\n",
              "      <td>341</td>\n",
              "    </tr>\n",
              "  </tbody>\n",
              "</table>\n",
              "</div>"
            ],
            "text/plain": [
              "                  price                      ... quantity              \n",
              "payment_month    201902    201903    201904  ...   201905 201906 201907\n",
              "item_name                                    ...                       \n",
              "PC-A           24150000  26000000  25900000  ...      497    520    505\n",
              "PC-B           25245000  25500000  23460000  ...      298    282    332\n",
              "PC-C           19800000  19080000  21960000  ...      171    182    162\n",
              "PC-D           31140000  25740000  24300000  ...      144    160    145\n",
              "PC-E           59850000  64050000  64890000  ...      280    302    341\n",
              "\n",
              "[5 rows x 12 columns]"
            ]
          },
          "metadata": {
            "tags": []
          },
          "execution_count": 35
        }
      ]
    },
    {
      "cell_type": "markdown",
      "metadata": {
        "id": "czXjtB31-mVt",
        "colab_type": "text"
      },
      "source": [
        "pivot_table : 행, 칼럼 지정 가능\n",
        "\n",
        "- 행 : 상품명\n",
        "- 칼럼 : 월"
      ]
    },
    {
      "cell_type": "markdown",
      "metadata": {
        "id": "Cw_uj-eX-u_0",
        "colab_type": "text"
      },
      "source": [
        "- 매출 합계 : PC-E가 가장 높음\n",
        "- 수량 : PC-A가 가장 많음\n",
        "- 5월에 매출이 감소한 것은 PC-E의 매출 감소가 큰 영향\n",
        "- 간단한 그래프로 표현"
      ]
    },
    {
      "cell_type": "markdown",
      "metadata": {
        "id": "pXBymX-__E4_",
        "colab_type": "text"
      },
      "source": [
        "#### 테크닉 010 : 상품별 매출 추이를 가시화해 보자"
      ]
    },
    {
      "cell_type": "code",
      "metadata": {
        "id": "YZRP1L8G-j5E",
        "colab_type": "code",
        "colab": {
          "base_uri": "https://localhost:8080/",
          "height": 225
        },
        "outputId": "fdb0663d-2ef5-4361-9e2d-6580e19269ff"
      },
      "source": [
        "# pivot_table 이용, 데이터 집계\n",
        "graph_data = pd.pivot_table(join_data, index = 'payment_month', columns = 'item_name', values = 'price', aggfunc = 'sum')\n",
        "graph_data.head()"
      ],
      "execution_count": 36,
      "outputs": [
        {
          "output_type": "execute_result",
          "data": {
            "text/html": [
              "<div>\n",
              "<style scoped>\n",
              "    .dataframe tbody tr th:only-of-type {\n",
              "        vertical-align: middle;\n",
              "    }\n",
              "\n",
              "    .dataframe tbody tr th {\n",
              "        vertical-align: top;\n",
              "    }\n",
              "\n",
              "    .dataframe thead th {\n",
              "        text-align: right;\n",
              "    }\n",
              "</style>\n",
              "<table border=\"1\" class=\"dataframe\">\n",
              "  <thead>\n",
              "    <tr style=\"text-align: right;\">\n",
              "      <th>item_name</th>\n",
              "      <th>PC-A</th>\n",
              "      <th>PC-B</th>\n",
              "      <th>PC-C</th>\n",
              "      <th>PC-D</th>\n",
              "      <th>PC-E</th>\n",
              "    </tr>\n",
              "    <tr>\n",
              "      <th>payment_month</th>\n",
              "      <th></th>\n",
              "      <th></th>\n",
              "      <th></th>\n",
              "      <th></th>\n",
              "      <th></th>\n",
              "    </tr>\n",
              "  </thead>\n",
              "  <tbody>\n",
              "    <tr>\n",
              "      <th>201902</th>\n",
              "      <td>24150000</td>\n",
              "      <td>25245000</td>\n",
              "      <td>19800000</td>\n",
              "      <td>31140000</td>\n",
              "      <td>59850000</td>\n",
              "    </tr>\n",
              "    <tr>\n",
              "      <th>201903</th>\n",
              "      <td>26000000</td>\n",
              "      <td>25500000</td>\n",
              "      <td>19080000</td>\n",
              "      <td>25740000</td>\n",
              "      <td>64050000</td>\n",
              "    </tr>\n",
              "    <tr>\n",
              "      <th>201904</th>\n",
              "      <td>25900000</td>\n",
              "      <td>23460000</td>\n",
              "      <td>21960000</td>\n",
              "      <td>24300000</td>\n",
              "      <td>64890000</td>\n",
              "    </tr>\n",
              "    <tr>\n",
              "      <th>201905</th>\n",
              "      <td>24850000</td>\n",
              "      <td>25330000</td>\n",
              "      <td>20520000</td>\n",
              "      <td>25920000</td>\n",
              "      <td>58800000</td>\n",
              "    </tr>\n",
              "    <tr>\n",
              "      <th>201906</th>\n",
              "      <td>26000000</td>\n",
              "      <td>23970000</td>\n",
              "      <td>21840000</td>\n",
              "      <td>28800000</td>\n",
              "      <td>63420000</td>\n",
              "    </tr>\n",
              "  </tbody>\n",
              "</table>\n",
              "</div>"
            ],
            "text/plain": [
              "item_name          PC-A      PC-B      PC-C      PC-D      PC-E\n",
              "payment_month                                                  \n",
              "201902         24150000  25245000  19800000  31140000  59850000\n",
              "201903         26000000  25500000  19080000  25740000  64050000\n",
              "201904         25900000  23460000  21960000  24300000  64890000\n",
              "201905         24850000  25330000  20520000  25920000  58800000\n",
              "201906         26000000  23970000  21840000  28800000  63420000"
            ]
          },
          "metadata": {
            "tags": []
          },
          "execution_count": 36
        }
      ]
    },
    {
      "cell_type": "markdown",
      "metadata": {
        "id": "rOcIWa-g_Zrl",
        "colab_type": "text"
      },
      "source": [
        "- 그래프를 위해 가로축에 payment_month, 세로축에 graph_data의 해당 상품명 지정"
      ]
    },
    {
      "cell_type": "code",
      "metadata": {
        "id": "dsuIaX2h_UAC",
        "colab_type": "code",
        "colab": {
          "base_uri": "https://localhost:8080/",
          "height": 294
        },
        "outputId": "2bfe0fc0-0f13-4fb0-cea7-b23498a2876f"
      },
      "source": [
        "# matplotlib 이용, 그래프 작성\n",
        "import matplotlib.pyplot as plt\n",
        "%matplotlib inline # 노트북 상에 그래프를 표시하기 위한 코드\n",
        "\n",
        "plt.plot(list(graph_data.index), graph_data['PC-A'], label = 'PC-A')\n",
        "plt.plot(list(graph_data.index), graph_data['PC-B'], label = 'PC-B')\n",
        "plt.plot(list(graph_data.index), graph_data['PC-C'], label = 'PC-C')\n",
        "plt.plot(list(graph_data.index), graph_data['PC-D'], label = 'PC-D')\n",
        "plt.plot(list(graph_data.index), graph_data['PC-E'], label = 'PC-E')\n",
        "\n",
        "plt.legend()"
      ],
      "execution_count": 37,
      "outputs": [
        {
          "output_type": "execute_result",
          "data": {
            "text/plain": [
              "<matplotlib.legend.Legend at 0x7f3d522287b8>"
            ]
          },
          "metadata": {
            "tags": []
          },
          "execution_count": 37
        },
        {
          "output_type": "display_data",
          "data": {
            "image/png": "[encoded data removed]",
            "text/plain": [
              "<Figure size 432x288 with 1 Axes>"
            ]
          },
          "metadata": {
            "tags": [],
            "needs_background": "light"
          }
        }
      ]
    },
    {
      "cell_type": "markdown",
      "metadata": {
        "id": "Tg-pyjEmAFg8",
        "colab_type": "text"
      },
      "source": [
        "- 가로축 : 월을 표시해야 하므로 graph_data.index를 리스트형으로 변환해서 지정\n",
        "- 세로축 : 상품별 매출 → graph_data 칼럼 지정\n",
        "- label : 범례 표시"
      ]
    },
    {
      "cell_type": "code",
      "metadata": {
        "id": "aEW61XF__2Dn",
        "colab_type": "code",
        "colab": {}
      },
      "source": [
        ""
      ],
      "execution_count": null,
      "outputs": []
    }
  ]
}