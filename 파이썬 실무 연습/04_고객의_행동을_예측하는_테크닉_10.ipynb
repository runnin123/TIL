{
  "nbformat": 4,
  "nbformat_minor": 0,
  "metadata": {
    "colab": {
      "name": "04 고객의 행동을 예측하는 테크닉 10.ipynb",
      "provenance": [],
      "collapsed_sections": []
    },
    "kernelspec": {
      "name": "python3",
      "display_name": "Python 3"
    }
  },
  "cells": [
    {
      "cell_type": "markdown",
      "metadata": {
        "id": "jWer3UglYrm_",
        "colab_type": "text"
      },
      "source": [
        "- 03에서 사전 분석한 스포츠 센터 회원 데이터를 이용, 머신러닝으로 예측하는 과정\n",
        "- 회원의 행동은 이용 빈도수 등에 따라 크게 경향이 달라지므로 군집화(클러스터링)를 이용, 회원을 그룹화, 각 그룹의 행동 패턴을 파악"
      ]
    },
    {
      "cell_type": "markdown",
      "metadata": {
        "id": "G4SgGBTjY-fz",
        "colab_type": "text"
      },
      "source": [
        "### 데이터\n",
        "- 앞 장에서의 use_log.csv, customer_join.csv 이용\n",
        "- use_log.csv : 스포츠 센터의 이용 이력 데이터 (201804 ~ 201903)\n",
        "- customer_join.csv : 이용 이력을 포함한 고객 데이터"
      ]
    },
    {
      "cell_type": "markdown",
      "metadata": {
        "id": "2k-6P9wxZMYt",
        "colab_type": "text"
      },
      "source": [
        "### 테크닉 031 : 데이터를 읽어 들이고 확인하자"
      ]
    },
    {
      "cell_type": "code",
      "metadata": {
        "id": "nfVROQaaYUtE",
        "colab_type": "code",
        "colab": {
          "base_uri": "https://localhost:8080/",
          "height": 87
        },
        "outputId": "1234ba14-291d-43e7-eaee-0339a34bc2c6"
      },
      "source": [
        "import pandas as pd\n",
        "\n",
        "# 파일 불러오기 및 결측치 확인\n",
        "uselog = pd.read_csv('/content/drive/My Drive/pyda100/pyda100-master/4장/use_log.csv')\n",
        "uselog.isnull().sum()"
      ],
      "execution_count": 1,
      "outputs": [
        {
          "output_type": "execute_result",
          "data": {
            "text/plain": [
              "log_id         0\n",
              "customer_id    0\n",
              "usedate        0\n",
              "dtype: int64"
            ]
          },
          "metadata": {
            "tags": []
          },
          "execution_count": 1
        }
      ]
    },
    {
      "cell_type": "code",
      "metadata": {
        "id": "4JPpbiPHZdC-",
        "colab_type": "code",
        "colab": {
          "base_uri": "https://localhost:8080/",
          "height": 351
        },
        "outputId": "027b0c2d-86f6-4503-d7a9-dd7f064b42c9"
      },
      "source": [
        "customer = pd.read_csv('/content/drive/My Drive/pyda100/pyda100-master/4장/customer_join.csv')\n",
        "customer.isnull().sum()"
      ],
      "execution_count": 2,
      "outputs": [
        {
          "output_type": "execute_result",
          "data": {
            "text/plain": [
              "customer_id             0\n",
              "name                    0\n",
              "class                   0\n",
              "gender                  0\n",
              "start_date              0\n",
              "end_date             2842\n",
              "campaign_id             0\n",
              "is_deleted              0\n",
              "class_name              0\n",
              "price                   0\n",
              "campaign_name           0\n",
              "mean                    0\n",
              "median                  0\n",
              "max                     0\n",
              "min                     0\n",
              "routine_flg             0\n",
              "calc_date               0\n",
              "membership_period       0\n",
              "dtype: int64"
            ]
          },
          "metadata": {
            "tags": []
          },
          "execution_count": 2
        }
      ]
    },
    {
      "cell_type": "markdown",
      "metadata": {
        "id": "kUzq4pNNZreL",
        "colab_type": "text"
      },
      "source": [
        "### 테크닉 032 : 클러스티링으로 회원을 그룹화하자"
      ]
    },
    {
      "cell_type": "markdown",
      "metadata": {
        "id": "-uLq-PnIZuUP",
        "colab_type": "text"
      },
      "source": [
        "- customer 데이터를 이용, 회원 그룹화 진행\n",
        "- 변수 : 고객 한 달 이용 이력 데이터 (mean, median, max, min, membership_period)"
      ]
    },
    {
      "cell_type": "code",
      "metadata": {
        "id": "OPoHwFh5ZiQb",
        "colab_type": "code",
        "colab": {
          "base_uri": "https://localhost:8080/",
          "height": 195
        },
        "outputId": "60d54fb2-1bb1-4958-fb66-48bf701623ca"
      },
      "source": [
        "# 변수 추출\n",
        "customer_clustering = customer[['mean', 'median', 'max', 'min', 'membership_period']]\n",
        "customer_clustering.head()"
      ],
      "execution_count": 3,
      "outputs": [
        {
          "output_type": "execute_result",
          "data": {
            "text/html": [
              "<div>\n",
              "<style scoped>\n",
              "    .dataframe tbody tr th:only-of-type {\n",
              "        vertical-align: middle;\n",
              "    }\n",
              "\n",
              "    .dataframe tbody tr th {\n",
              "        vertical-align: top;\n",
              "    }\n",
              "\n",
              "    .dataframe thead th {\n",
              "        text-align: right;\n",
              "    }\n",
              "</style>\n",
              "<table border=\"1\" class=\"dataframe\">\n",
              "  <thead>\n",
              "    <tr style=\"text-align: right;\">\n",
              "      <th></th>\n",
              "      <th>mean</th>\n",
              "      <th>median</th>\n",
              "      <th>max</th>\n",
              "      <th>min</th>\n",
              "      <th>membership_period</th>\n",
              "    </tr>\n",
              "  </thead>\n",
              "  <tbody>\n",
              "    <tr>\n",
              "      <th>0</th>\n",
              "      <td>4.833333</td>\n",
              "      <td>5.0</td>\n",
              "      <td>8</td>\n",
              "      <td>2</td>\n",
              "      <td>47</td>\n",
              "    </tr>\n",
              "    <tr>\n",
              "      <th>1</th>\n",
              "      <td>5.083333</td>\n",
              "      <td>5.0</td>\n",
              "      <td>7</td>\n",
              "      <td>3</td>\n",
              "      <td>47</td>\n",
              "    </tr>\n",
              "    <tr>\n",
              "      <th>2</th>\n",
              "      <td>4.583333</td>\n",
              "      <td>5.0</td>\n",
              "      <td>6</td>\n",
              "      <td>3</td>\n",
              "      <td>47</td>\n",
              "    </tr>\n",
              "    <tr>\n",
              "      <th>3</th>\n",
              "      <td>4.833333</td>\n",
              "      <td>4.5</td>\n",
              "      <td>7</td>\n",
              "      <td>2</td>\n",
              "      <td>47</td>\n",
              "    </tr>\n",
              "    <tr>\n",
              "      <th>4</th>\n",
              "      <td>3.916667</td>\n",
              "      <td>4.0</td>\n",
              "      <td>6</td>\n",
              "      <td>1</td>\n",
              "      <td>47</td>\n",
              "    </tr>\n",
              "  </tbody>\n",
              "</table>\n",
              "</div>"
            ],
            "text/plain": [
              "       mean  median  max  min  membership_period\n",
              "0  4.833333     5.0    8    2                 47\n",
              "1  5.083333     5.0    7    3                 47\n",
              "2  4.583333     5.0    6    3                 47\n",
              "3  4.833333     4.5    7    2                 47\n",
              "4  3.916667     4.0    6    1                 47"
            ]
          },
          "metadata": {
            "tags": []
          },
          "execution_count": 3
        }
      ]
    },
    {
      "cell_type": "markdown",
      "metadata": {
        "id": "tcPi7I8kaDri",
        "colab_type": "text"
      },
      "source": [
        "- 가장 전통적인 클러스터링 방법 : K-means 클러스터링\n",
        "- K-means 클러스터링 : 변수 간의 거리를 기반으로 그룹화를 진행. 주어진 데이터를 k개의 클러스터로 묶는 알고리즘으로, 각 클러스터와 거리 차이의 분산을 최소화하는 방식으로 동작\n",
        "- 그룹화하고자 하는 수를 미리 지정해야 함. 여기서는 4개의 그룹으로 지정\n",
        "- mean, median, max, min의 경우 1~8 사이의 값이나, membership_period는 최대 47 → 표준화를 해줘야 함"
      ]
    },
    {
      "cell_type": "code",
      "metadata": {
        "id": "LLS_OsKAaAo4",
        "colab_type": "code",
        "colab": {
          "base_uri": "https://localhost:8080/",
          "height": 318
        },
        "outputId": "e270cf2a-e869-40b3-e4ca-e23aa1cf6320"
      },
      "source": [
        "# KMeans 임포트 및 표준화를 위한 StandardScaler 임포트\n",
        "from sklearn.cluster import KMeans\n",
        "from sklearn.preprocessing import StandardScaler\n",
        "\n",
        "# 표준화 적용\n",
        "sc = StandardScaler()\n",
        "customer_clustering_sc = sc.fit_transform(customer_clustering)\n",
        "\n",
        "kmeans = KMeans(n_clusters = 4, random_state = 0) # 클러스터 수 = 4\n",
        "clusters = kmeans.fit(customer_clustering_sc) # K-means 클러스터 적용\n",
        "customer_clustering['cluster'] = clusters.labels_\n",
        "print(customer_clustering['cluster'].unique())\n",
        "customer_clustering.head()"
      ],
      "execution_count": 5,
      "outputs": [
        {
          "output_type": "stream",
          "text": [
            "[3 1 0 2]\n"
          ],
          "name": "stdout"
        },
        {
          "output_type": "stream",
          "text": [
            "/usr/local/lib/python3.6/dist-packages/ipykernel_launcher.py:8: SettingWithCopyWarning: \n",
            "A value is trying to be set on a copy of a slice from a DataFrame.\n",
            "Try using .loc[row_indexer,col_indexer] = value instead\n",
            "\n",
            "See the caveats in the documentation: https://pandas.pydata.org/pandas-docs/stable/user_guide/indexing.html#returning-a-view-versus-a-copy\n",
            "  \n"
          ],
          "name": "stderr"
        },
        {
          "output_type": "execute_result",
          "data": {
            "text/html": [
              "<div>\n",
              "<style scoped>\n",
              "    .dataframe tbody tr th:only-of-type {\n",
              "        vertical-align: middle;\n",
              "    }\n",
              "\n",
              "    .dataframe tbody tr th {\n",
              "        vertical-align: top;\n",
              "    }\n",
              "\n",
              "    .dataframe thead th {\n",
              "        text-align: right;\n",
              "    }\n",
              "</style>\n",
              "<table border=\"1\" class=\"dataframe\">\n",
              "  <thead>\n",
              "    <tr style=\"text-align: right;\">\n",
              "      <th></th>\n",
              "      <th>mean</th>\n",
              "      <th>median</th>\n",
              "      <th>max</th>\n",
              "      <th>min</th>\n",
              "      <th>membership_period</th>\n",
              "      <th>cluster</th>\n",
              "    </tr>\n",
              "  </thead>\n",
              "  <tbody>\n",
              "    <tr>\n",
              "      <th>0</th>\n",
              "      <td>4.833333</td>\n",
              "      <td>5.0</td>\n",
              "      <td>8</td>\n",
              "      <td>2</td>\n",
              "      <td>47</td>\n",
              "      <td>3</td>\n",
              "    </tr>\n",
              "    <tr>\n",
              "      <th>1</th>\n",
              "      <td>5.083333</td>\n",
              "      <td>5.0</td>\n",
              "      <td>7</td>\n",
              "      <td>3</td>\n",
              "      <td>47</td>\n",
              "      <td>3</td>\n",
              "    </tr>\n",
              "    <tr>\n",
              "      <th>2</th>\n",
              "      <td>4.583333</td>\n",
              "      <td>5.0</td>\n",
              "      <td>6</td>\n",
              "      <td>3</td>\n",
              "      <td>47</td>\n",
              "      <td>3</td>\n",
              "    </tr>\n",
              "    <tr>\n",
              "      <th>3</th>\n",
              "      <td>4.833333</td>\n",
              "      <td>4.5</td>\n",
              "      <td>7</td>\n",
              "      <td>2</td>\n",
              "      <td>47</td>\n",
              "      <td>3</td>\n",
              "    </tr>\n",
              "    <tr>\n",
              "      <th>4</th>\n",
              "      <td>3.916667</td>\n",
              "      <td>4.0</td>\n",
              "      <td>6</td>\n",
              "      <td>1</td>\n",
              "      <td>47</td>\n",
              "      <td>3</td>\n",
              "    </tr>\n",
              "  </tbody>\n",
              "</table>\n",
              "</div>"
            ],
            "text/plain": [
              "       mean  median  max  min  membership_period  cluster\n",
              "0  4.833333     5.0    8    2                 47        3\n",
              "1  5.083333     5.0    7    3                 47        3\n",
              "2  4.583333     5.0    6    3                 47        3\n",
              "3  4.833333     4.5    7    2                 47        3\n",
              "4  3.916667     4.0    6    1                 47        3"
            ]
          },
          "metadata": {
            "tags": []
          },
          "execution_count": 5
        }
      ]
    },
    {
      "cell_type": "markdown",
      "metadata": {
        "id": "jhva18sPbjN6",
        "colab_type": "text"
      },
      "source": [
        "### 테크닉 033 : 클러스터링 결과를 분석하자"
      ]
    },
    {
      "cell_type": "code",
      "metadata": {
        "id": "_gGxLJ69bIp4",
        "colab_type": "code",
        "colab": {
          "base_uri": "https://localhost:8080/",
          "height": 195
        },
        "outputId": "4580a632-6daa-4ca4-cfff-89596712bc4f"
      },
      "source": [
        "# 칼럼명 변경\n",
        "customer_clustering.columns = ['월평균값', '월중앙값', '월최댓값', '월최솟값', '회원기간', 'cluster']\n",
        "customer_clustering.groupby('cluster').count() # 클러스터를 중심으로 데이터 집계"
      ],
      "execution_count": 6,
      "outputs": [
        {
          "output_type": "execute_result",
          "data": {
            "text/html": [
              "<div>\n",
              "<style scoped>\n",
              "    .dataframe tbody tr th:only-of-type {\n",
              "        vertical-align: middle;\n",
              "    }\n",
              "\n",
              "    .dataframe tbody tr th {\n",
              "        vertical-align: top;\n",
              "    }\n",
              "\n",
              "    .dataframe thead th {\n",
              "        text-align: right;\n",
              "    }\n",
              "</style>\n",
              "<table border=\"1\" class=\"dataframe\">\n",
              "  <thead>\n",
              "    <tr style=\"text-align: right;\">\n",
              "      <th></th>\n",
              "      <th>월평균값</th>\n",
              "      <th>월중앙값</th>\n",
              "      <th>월최댓값</th>\n",
              "      <th>월최솟값</th>\n",
              "      <th>회원기간</th>\n",
              "    </tr>\n",
              "    <tr>\n",
              "      <th>cluster</th>\n",
              "      <th></th>\n",
              "      <th></th>\n",
              "      <th></th>\n",
              "      <th></th>\n",
              "      <th></th>\n",
              "    </tr>\n",
              "  </thead>\n",
              "  <tbody>\n",
              "    <tr>\n",
              "      <th>0</th>\n",
              "      <td>1334</td>\n",
              "      <td>1334</td>\n",
              "      <td>1334</td>\n",
              "      <td>1334</td>\n",
              "      <td>1334</td>\n",
              "    </tr>\n",
              "    <tr>\n",
              "      <th>1</th>\n",
              "      <td>763</td>\n",
              "      <td>763</td>\n",
              "      <td>763</td>\n",
              "      <td>763</td>\n",
              "      <td>763</td>\n",
              "    </tr>\n",
              "    <tr>\n",
              "      <th>2</th>\n",
              "      <td>846</td>\n",
              "      <td>846</td>\n",
              "      <td>846</td>\n",
              "      <td>846</td>\n",
              "      <td>846</td>\n",
              "    </tr>\n",
              "    <tr>\n",
              "      <th>3</th>\n",
              "      <td>1249</td>\n",
              "      <td>1249</td>\n",
              "      <td>1249</td>\n",
              "      <td>1249</td>\n",
              "      <td>1249</td>\n",
              "    </tr>\n",
              "  </tbody>\n",
              "</table>\n",
              "</div>"
            ],
            "text/plain": [
              "         월평균값  월중앙값  월최댓값  월최솟값  회원기간\n",
              "cluster                              \n",
              "0        1334  1334  1334  1334  1334\n",
              "1         763   763   763   763   763\n",
              "2         846   846   846   846   846\n",
              "3        1249  1249  1249  1249  1249"
            ]
          },
          "metadata": {
            "tags": []
          },
          "execution_count": 6
        }
      ]
    },
    {
      "cell_type": "markdown",
      "metadata": {
        "id": "q-1NBYqvb7xo",
        "colab_type": "text"
      },
      "source": [
        "- 평균적으로 그룹 0이 가장 많고 그 다음이 3, 2, 1 순\n",
        "- 각 그룹의 특징을 파악하는 것이 중요"
      ]
    },
    {
      "cell_type": "code",
      "metadata": {
        "id": "YzmlvR38b5Fa",
        "colab_type": "code",
        "colab": {
          "base_uri": "https://localhost:8080/",
          "height": 195
        },
        "outputId": "b7b42993-dc8f-4142-b675-f6be20e5490b"
      },
      "source": [
        "# 그룹별 평균값 계산\n",
        "customer_clustering.groupby('cluster').mean()"
      ],
      "execution_count": 8,
      "outputs": [
        {
          "output_type": "execute_result",
          "data": {
            "text/html": [
              "<div>\n",
              "<style scoped>\n",
              "    .dataframe tbody tr th:only-of-type {\n",
              "        vertical-align: middle;\n",
              "    }\n",
              "\n",
              "    .dataframe tbody tr th {\n",
              "        vertical-align: top;\n",
              "    }\n",
              "\n",
              "    .dataframe thead th {\n",
              "        text-align: right;\n",
              "    }\n",
              "</style>\n",
              "<table border=\"1\" class=\"dataframe\">\n",
              "  <thead>\n",
              "    <tr style=\"text-align: right;\">\n",
              "      <th></th>\n",
              "      <th>월평균값</th>\n",
              "      <th>월중앙값</th>\n",
              "      <th>월최댓값</th>\n",
              "      <th>월최솟값</th>\n",
              "      <th>회원기간</th>\n",
              "    </tr>\n",
              "    <tr>\n",
              "      <th>cluster</th>\n",
              "      <th></th>\n",
              "      <th></th>\n",
              "      <th></th>\n",
              "      <th></th>\n",
              "      <th></th>\n",
              "    </tr>\n",
              "  </thead>\n",
              "  <tbody>\n",
              "    <tr>\n",
              "      <th>0</th>\n",
              "      <td>5.524239</td>\n",
              "      <td>5.375187</td>\n",
              "      <td>8.745877</td>\n",
              "      <td>2.687406</td>\n",
              "      <td>14.843328</td>\n",
              "    </tr>\n",
              "    <tr>\n",
              "      <th>1</th>\n",
              "      <td>3.054713</td>\n",
              "      <td>2.888598</td>\n",
              "      <td>4.756225</td>\n",
              "      <td>1.653997</td>\n",
              "      <td>9.263434</td>\n",
              "    </tr>\n",
              "    <tr>\n",
              "      <th>2</th>\n",
              "      <td>8.054608</td>\n",
              "      <td>8.039598</td>\n",
              "      <td>10.009456</td>\n",
              "      <td>6.160757</td>\n",
              "      <td>7.072104</td>\n",
              "    </tr>\n",
              "    <tr>\n",
              "      <th>3</th>\n",
              "      <td>4.677494</td>\n",
              "      <td>4.671337</td>\n",
              "      <td>7.232986</td>\n",
              "      <td>2.153723</td>\n",
              "      <td>36.915933</td>\n",
              "    </tr>\n",
              "  </tbody>\n",
              "</table>\n",
              "</div>"
            ],
            "text/plain": [
              "             월평균값      월중앙값       월최댓값      월최솟값       회원기간\n",
              "cluster                                                    \n",
              "0        5.524239  5.375187   8.745877  2.687406  14.843328\n",
              "1        3.054713  2.888598   4.756225  1.653997   9.263434\n",
              "2        8.054608  8.039598  10.009456  6.160757   7.072104\n",
              "3        4.677494  4.671337   7.232986  2.153723  36.915933"
            ]
          },
          "metadata": {
            "tags": []
          },
          "execution_count": 8
        }
      ]
    },
    {
      "cell_type": "markdown",
      "metadata": {
        "id": "fD4fVzVkcS-y",
        "colab_type": "text"
      },
      "source": [
        "- 그룹 2 : 회원기간이 가장 짧으나 평균값, 중앙값, 최댓값, 최솟값을 보면 이용률이 높은 회원 그룹\n",
        "- 그룹 0, 3 : 회원기간이 긴 편\n",
        "- 그룹 3이 그룹 0보다 회원기간이 길지만 이용률은 그룹 3이 좀 더 좋은편"
      ]
    },
    {
      "cell_type": "markdown",
      "metadata": {
        "id": "rhRoB00PcqW4",
        "colab_type": "text"
      },
      "source": [
        "### 테크닉 034 : 클러스터링 결과를 가시화하자"
      ]
    },
    {
      "cell_type": "markdown",
      "metadata": {
        "id": "zgTouleCcv9D",
        "colab_type": "text"
      },
      "source": [
        "- 클러스터링에 사용한 변수 : 5개 → 2차원으로 그리기 위해 차원을 축소\n",
        "- 차원 축소 : 비지도학습의 일종. 정보를 최대한 손실이 없게 하면서 새로운 축을 만드는 것 → 5개의 변수를 2개의 변수로 표현할 수 있으며, 그래프 작성 또한 가능\n",
        "- 이번의 경우 주성분 분석 이용"
      ]
    },
    {
      "cell_type": "markdown",
      "metadata": {
        "id": "qkt4P5RrejMc",
        "colab_type": "text"
      },
      "source": [
        "- 주성분 분석 : 변수가 너무 많아 이들 중 중요하다고 판단되는 변수들 몇 개만 뽑아 모델링을 하고자 할 때 주로 사용.\n",
        "- PCA(주성분 분석)의 본질은 차원 축소. 원본 데이터가 아닌 변환된 데이터(주성분)를 이용해 분석 혹은 모델링을 진행하겠다는 것"
      ]
    },
    {
      "cell_type": "code",
      "metadata": {
        "id": "DLLRFUBzcKvz",
        "colab_type": "code",
        "colab": {}
      },
      "source": [
        "# 주성분 분석 라이브러리 임포트\n",
        "from sklearn.decomposition import PCA\n",
        "X = customer_clustering_sc # 표준화된 데이터 사용\n",
        "pca = PCA(n_components = 2) # 2차원으로 차원 축소\n",
        "pca.fit(X) # 주성분 분석 적용\n",
        "x_pca = pca.transform(X) # 데이터 변환\n",
        "pca_df = pd.DataFrame(x_pca) # 주성분 분석을 적용해 변환된 데이터를 데이터프레임에 저장\n",
        "pca_df['cluster'] = customer_clustering['cluster']"
      ],
      "execution_count": 11,
      "outputs": []
    },
    {
      "cell_type": "code",
      "metadata": {
        "id": "8tkjiMwcdlJf",
        "colab_type": "code",
        "colab": {
          "base_uri": "https://localhost:8080/",
          "height": 265
        },
        "outputId": "bf00efb2-e07a-4e88-b9ca-1a9f0dd8479d"
      },
      "source": [
        "import matplotlib.pyplot as plt\n",
        "%matplotlib inline\n",
        "for i in customer_clustering['cluster'].unique(): # 그룹 별 그래프 생성\n",
        "  tmp = pca_df.loc[pca_df['cluster'] == i]\n",
        "  plt.scatter(tmp[0], tmp[1]) # scatter plot 사용"
      ],
      "execution_count": 12,
      "outputs": [
        {
          "output_type": "display_data",
          "data": {
            "image/png": "[encoded data removed]",
            "text/plain": [
              "<Figure size 432x288 with 1 Axes>"
            ]
          },
          "metadata": {
            "tags": [],
            "needs_background": "light"
          }
        }
      ]
    },
    {
      "cell_type": "markdown",
      "metadata": {
        "id": "cW0ZFD0UflCB",
        "colab_type": "text"
      },
      "source": [
        "### 테크닉 035 : 클러스터링 결과를 바탕으로 탈퇴 회원의 경향을 파악하자"
      ]
    },
    {
      "cell_type": "markdown",
      "metadata": {
        "id": "Xs3A0zCbfr2p",
        "colab_type": "text"
      },
      "source": [
        "- 탈퇴 회원을 특정하기 위해 is_deleted 칼럼을 추가, cluster 및 is_deleted별 집계"
      ]
    },
    {
      "cell_type": "code",
      "metadata": {
        "id": "Shhc0etQeQaF",
        "colab_type": "code",
        "colab": {
          "base_uri": "https://localhost:8080/",
          "height": 254
        },
        "outputId": "228aab33-28b5-4deb-ec03-8f5a9551926d"
      },
      "source": [
        "# 데이터 결합\n",
        "customer_clustering = pd.concat([customer_clustering, customer], axis = 1) # 두 데이터는 동일한 index로 연결되어 있으므로 concat 사용 가능\n",
        "customer_clustering.groupby(['cluster', 'is_deleted'], as_index = False).count()[['cluster', 'is_deleted', 'customer_id']] # cluster, is_deleted별로 집계"
      ],
      "execution_count": 17,
      "outputs": [
        {
          "output_type": "execute_result",
          "data": {
            "text/html": [
              "<div>\n",
              "<style scoped>\n",
              "    .dataframe tbody tr th:only-of-type {\n",
              "        vertical-align: middle;\n",
              "    }\n",
              "\n",
              "    .dataframe tbody tr th {\n",
              "        vertical-align: top;\n",
              "    }\n",
              "\n",
              "    .dataframe thead th {\n",
              "        text-align: right;\n",
              "    }\n",
              "</style>\n",
              "<table border=\"1\" class=\"dataframe\">\n",
              "  <thead>\n",
              "    <tr style=\"text-align: right;\">\n",
              "      <th></th>\n",
              "      <th>cluster</th>\n",
              "      <th>is_deleted</th>\n",
              "      <th>customer_id</th>\n",
              "    </tr>\n",
              "  </thead>\n",
              "  <tbody>\n",
              "    <tr>\n",
              "      <th>0</th>\n",
              "      <td>0</td>\n",
              "      <td>0</td>\n",
              "      <td>785</td>\n",
              "    </tr>\n",
              "    <tr>\n",
              "      <th>1</th>\n",
              "      <td>0</td>\n",
              "      <td>1</td>\n",
              "      <td>549</td>\n",
              "    </tr>\n",
              "    <tr>\n",
              "      <th>2</th>\n",
              "      <td>1</td>\n",
              "      <td>1</td>\n",
              "      <td>763</td>\n",
              "    </tr>\n",
              "    <tr>\n",
              "      <th>3</th>\n",
              "      <td>2</td>\n",
              "      <td>0</td>\n",
              "      <td>827</td>\n",
              "    </tr>\n",
              "    <tr>\n",
              "      <th>4</th>\n",
              "      <td>2</td>\n",
              "      <td>1</td>\n",
              "      <td>19</td>\n",
              "    </tr>\n",
              "    <tr>\n",
              "      <th>5</th>\n",
              "      <td>3</td>\n",
              "      <td>0</td>\n",
              "      <td>1230</td>\n",
              "    </tr>\n",
              "    <tr>\n",
              "      <th>6</th>\n",
              "      <td>3</td>\n",
              "      <td>1</td>\n",
              "      <td>19</td>\n",
              "    </tr>\n",
              "  </tbody>\n",
              "</table>\n",
              "</div>"
            ],
            "text/plain": [
              "   cluster  is_deleted  customer_id\n",
              "0        0           0          785\n",
              "1        0           1          549\n",
              "2        1           1          763\n",
              "3        2           0          827\n",
              "4        2           1           19\n",
              "5        3           0         1230\n",
              "6        3           1           19"
            ]
          },
          "metadata": {
            "tags": []
          },
          "execution_count": 17
        }
      ]
    },
    {
      "cell_type": "markdown",
      "metadata": {
        "id": "-3sX1dJYgPgQ",
        "colab_type": "text"
      },
      "source": [
        "- is_deleted = 0 : 지속 회원\n",
        "- is_deleted = 1 : 탈퇴 회원\n",
        "- 그룹 2와 3의 경우 탈퇴 회원에 비해 지속 회원이 훨씬 많음\n",
        "- 그룹 1 : 탈퇴 회원이 존재하지 않음\n",
        "- 그룹 0 : 탈퇴 회원과 지속 회원이 골고루 존재"
      ]
    },
    {
      "cell_type": "code",
      "metadata": {
        "id": "F-mDB0sjgKFZ",
        "colab_type": "code",
        "colab": {
          "base_uri": "https://localhost:8080/",
          "height": 284
        },
        "outputId": "af015ca6-35d2-4b5c-df78-62f6537f4c23"
      },
      "source": [
        "# 정기적/비정기적 이용 여부\n",
        "customer_clustering.groupby(['cluster', 'routine_flg'], as_index = False).count()[['cluster', 'routine_flg', 'customer_id']]"
      ],
      "execution_count": 18,
      "outputs": [
        {
          "output_type": "execute_result",
          "data": {
            "text/html": [
              "<div>\n",
              "<style scoped>\n",
              "    .dataframe tbody tr th:only-of-type {\n",
              "        vertical-align: middle;\n",
              "    }\n",
              "\n",
              "    .dataframe tbody tr th {\n",
              "        vertical-align: top;\n",
              "    }\n",
              "\n",
              "    .dataframe thead th {\n",
              "        text-align: right;\n",
              "    }\n",
              "</style>\n",
              "<table border=\"1\" class=\"dataframe\">\n",
              "  <thead>\n",
              "    <tr style=\"text-align: right;\">\n",
              "      <th></th>\n",
              "      <th>cluster</th>\n",
              "      <th>routine_flg</th>\n",
              "      <th>customer_id</th>\n",
              "    </tr>\n",
              "  </thead>\n",
              "  <tbody>\n",
              "    <tr>\n",
              "      <th>0</th>\n",
              "      <td>0</td>\n",
              "      <td>0</td>\n",
              "      <td>228</td>\n",
              "    </tr>\n",
              "    <tr>\n",
              "      <th>1</th>\n",
              "      <td>0</td>\n",
              "      <td>1</td>\n",
              "      <td>1106</td>\n",
              "    </tr>\n",
              "    <tr>\n",
              "      <th>2</th>\n",
              "      <td>1</td>\n",
              "      <td>0</td>\n",
              "      <td>497</td>\n",
              "    </tr>\n",
              "    <tr>\n",
              "      <th>3</th>\n",
              "      <td>1</td>\n",
              "      <td>1</td>\n",
              "      <td>266</td>\n",
              "    </tr>\n",
              "    <tr>\n",
              "      <th>4</th>\n",
              "      <td>2</td>\n",
              "      <td>0</td>\n",
              "      <td>52</td>\n",
              "    </tr>\n",
              "    <tr>\n",
              "      <th>5</th>\n",
              "      <td>2</td>\n",
              "      <td>1</td>\n",
              "      <td>794</td>\n",
              "    </tr>\n",
              "    <tr>\n",
              "      <th>6</th>\n",
              "      <td>3</td>\n",
              "      <td>0</td>\n",
              "      <td>2</td>\n",
              "    </tr>\n",
              "    <tr>\n",
              "      <th>7</th>\n",
              "      <td>3</td>\n",
              "      <td>1</td>\n",
              "      <td>1247</td>\n",
              "    </tr>\n",
              "  </tbody>\n",
              "</table>\n",
              "</div>"
            ],
            "text/plain": [
              "   cluster  routine_flg  customer_id\n",
              "0        0            0          228\n",
              "1        0            1         1106\n",
              "2        1            0          497\n",
              "3        1            1          266\n",
              "4        2            0           52\n",
              "5        2            1          794\n",
              "6        3            0            2\n",
              "7        3            1         1247"
            ]
          },
          "metadata": {
            "tags": []
          },
          "execution_count": 18
        }
      ]
    },
    {
      "cell_type": "markdown",
      "metadata": {
        "id": "XC9ogNzchIXS",
        "colab_type": "text"
      },
      "source": [
        "### 테크닉 036 : 다음 달의 이용 횟수 예측을 위해 데이터를 준비하자"
      ]
    },
    {
      "cell_type": "markdown",
      "metadata": {
        "id": "YPhIoE2LhMSp",
        "colab_type": "text"
      },
      "source": [
        "- 과거의 데이터로부터 미래의 특정 수치를 예측할 경우, 지도학습의 회귀분석을 이용\n",
        "- 지도학습 : 미리 정해져 있는 정답(숫자 데이터)을 이용\n",
        "- 여기서는 과거 6개월의 데이터를 이용\n",
        "- 가령 2018년 11월의 이용 횟수를 예측해야 할 경우, 2018년 11월 데이터는 사용할 수 없음\n",
        "- 이번에는 2018년 5월 ~ 10월 데이터와 2018년 11월의 이용 횟수를 정답 데이터로 학습에 사용\n",
        "- 특정 고객의 특정 월별 데이터를 만들어야 함"
      ]
    },
    {
      "cell_type": "code",
      "metadata": {
        "id": "6BnuA1deg1PL",
        "colab_type": "code",
        "colab": {
          "base_uri": "https://localhost:8080/",
          "height": 195
        },
        "outputId": "e9eb837c-6261-4379-a5a6-76351fdf7e78"
      },
      "source": [
        "# 연월, 회원별 집계\n",
        "uselog['usedate'] = pd.to_datetime(uselog['usedate'])\n",
        "uselog['연월'] = uselog['usedate'].dt.strftime('%Y%m') # 연월 칼럼 생성\n",
        "uselog_months = uselog.groupby(['연월', 'customer_id'], as_index = False).count() # 연월, 회원별 수 집계\n",
        "uselog_months.rename(columns = {'log_id' : 'count'}, inplace = True)\n",
        "del uselog_months['usedate']\n",
        "uselog_months.head()"
      ],
      "execution_count": 19,
      "outputs": [
        {
          "output_type": "execute_result",
          "data": {
            "text/html": [
              "<div>\n",
              "<style scoped>\n",
              "    .dataframe tbody tr th:only-of-type {\n",
              "        vertical-align: middle;\n",
              "    }\n",
              "\n",
              "    .dataframe tbody tr th {\n",
              "        vertical-align: top;\n",
              "    }\n",
              "\n",
              "    .dataframe thead th {\n",
              "        text-align: right;\n",
              "    }\n",
              "</style>\n",
              "<table border=\"1\" class=\"dataframe\">\n",
              "  <thead>\n",
              "    <tr style=\"text-align: right;\">\n",
              "      <th></th>\n",
              "      <th>연월</th>\n",
              "      <th>customer_id</th>\n",
              "      <th>count</th>\n",
              "    </tr>\n",
              "  </thead>\n",
              "  <tbody>\n",
              "    <tr>\n",
              "      <th>0</th>\n",
              "      <td>201804</td>\n",
              "      <td>AS002855</td>\n",
              "      <td>4</td>\n",
              "    </tr>\n",
              "    <tr>\n",
              "      <th>1</th>\n",
              "      <td>201804</td>\n",
              "      <td>AS009013</td>\n",
              "      <td>2</td>\n",
              "    </tr>\n",
              "    <tr>\n",
              "      <th>2</th>\n",
              "      <td>201804</td>\n",
              "      <td>AS009373</td>\n",
              "      <td>3</td>\n",
              "    </tr>\n",
              "    <tr>\n",
              "      <th>3</th>\n",
              "      <td>201804</td>\n",
              "      <td>AS015315</td>\n",
              "      <td>6</td>\n",
              "    </tr>\n",
              "    <tr>\n",
              "      <th>4</th>\n",
              "      <td>201804</td>\n",
              "      <td>AS015739</td>\n",
              "      <td>7</td>\n",
              "    </tr>\n",
              "  </tbody>\n",
              "</table>\n",
              "</div>"
            ],
            "text/plain": [
              "       연월 customer_id  count\n",
              "0  201804    AS002855      4\n",
              "1  201804    AS009013      2\n",
              "2  201804    AS009373      3\n",
              "3  201804    AS015315      6\n",
              "4  201804    AS015739      7"
            ]
          },
          "metadata": {
            "tags": []
          },
          "execution_count": 19
        }
      ]
    },
    {
      "cell_type": "code",
      "metadata": {
        "id": "WoHv1oYIiR4L",
        "colab_type": "code",
        "colab": {
          "base_uri": "https://localhost:8080/",
          "height": 283
        },
        "outputId": "3eeb21d7-eb33-488a-e707-3c58ea72cad0"
      },
      "source": [
        "# 2018년 10월 ~ 2019년 3월까지의 6개월 데이터를 저장\n",
        "year_months = list(uselog_months['연월'].unique()) # 연월 리스트 저장\n",
        "predict_data = pd.DataFrame() # 예측 데이터용 데이터 프레임 생성\n",
        "\n",
        "for i in range(6, len(year_months)): # 6(2018년 10월) ~ 연월 리스트 길이(12) 범위 만큼 반복문\n",
        "  tmp = uselog_months.loc[uselog_months['연월'] == year_months[i]]\n",
        "  tmp.rename(columns = {'count' : 'count_pred'}, inplace = True)\n",
        "  for j in range(1, 7):\n",
        "    tmp_before = uselog_months.loc[uselog_months['연월'] == year_months[i-j]] # 2018년 10월 이전의 데이터\n",
        "    del tmp_before['연월']\n",
        "    tmp_before.rename(columns = {'count' : 'count_{}'.format(j-1)}, inplace = True)\n",
        "    tmp = pd.merge(tmp, tmp_before, on = 'customer_id', how = 'left')\n",
        "  predict_data = pd.concat([predict_data, tmp], ignore_index = True)\n",
        "predict_data.head()"
      ],
      "execution_count": 20,
      "outputs": [
        {
          "output_type": "stream",
          "text": [
            "/usr/local/lib/python3.6/dist-packages/pandas/core/frame.py:4133: SettingWithCopyWarning: \n",
            "A value is trying to be set on a copy of a slice from a DataFrame\n",
            "\n",
            "See the caveats in the documentation: https://pandas.pydata.org/pandas-docs/stable/user_guide/indexing.html#returning-a-view-versus-a-copy\n",
            "  errors=errors,\n"
          ],
          "name": "stderr"
        },
        {
          "output_type": "execute_result",
          "data": {
            "text/html": [
              "<div>\n",
              "<style scoped>\n",
              "    .dataframe tbody tr th:only-of-type {\n",
              "        vertical-align: middle;\n",
              "    }\n",
              "\n",
              "    .dataframe tbody tr th {\n",
              "        vertical-align: top;\n",
              "    }\n",
              "\n",
              "    .dataframe thead th {\n",
              "        text-align: right;\n",
              "    }\n",
              "</style>\n",
              "<table border=\"1\" class=\"dataframe\">\n",
              "  <thead>\n",
              "    <tr style=\"text-align: right;\">\n",
              "      <th></th>\n",
              "      <th>연월</th>\n",
              "      <th>customer_id</th>\n",
              "      <th>count_pred</th>\n",
              "      <th>count_0</th>\n",
              "      <th>count_1</th>\n",
              "      <th>count_2</th>\n",
              "      <th>count_3</th>\n",
              "      <th>count_4</th>\n",
              "      <th>count_5</th>\n",
              "    </tr>\n",
              "  </thead>\n",
              "  <tbody>\n",
              "    <tr>\n",
              "      <th>0</th>\n",
              "      <td>201810</td>\n",
              "      <td>AS002855</td>\n",
              "      <td>3</td>\n",
              "      <td>7.0</td>\n",
              "      <td>3.0</td>\n",
              "      <td>5.0</td>\n",
              "      <td>5.0</td>\n",
              "      <td>5.0</td>\n",
              "      <td>4.0</td>\n",
              "    </tr>\n",
              "    <tr>\n",
              "      <th>1</th>\n",
              "      <td>201810</td>\n",
              "      <td>AS008805</td>\n",
              "      <td>2</td>\n",
              "      <td>2.0</td>\n",
              "      <td>5.0</td>\n",
              "      <td>7.0</td>\n",
              "      <td>8.0</td>\n",
              "      <td>NaN</td>\n",
              "      <td>NaN</td>\n",
              "    </tr>\n",
              "    <tr>\n",
              "      <th>2</th>\n",
              "      <td>201810</td>\n",
              "      <td>AS009373</td>\n",
              "      <td>5</td>\n",
              "      <td>6.0</td>\n",
              "      <td>6.0</td>\n",
              "      <td>7.0</td>\n",
              "      <td>4.0</td>\n",
              "      <td>4.0</td>\n",
              "      <td>3.0</td>\n",
              "    </tr>\n",
              "    <tr>\n",
              "      <th>3</th>\n",
              "      <td>201810</td>\n",
              "      <td>AS015233</td>\n",
              "      <td>7</td>\n",
              "      <td>9.0</td>\n",
              "      <td>11.0</td>\n",
              "      <td>5.0</td>\n",
              "      <td>7.0</td>\n",
              "      <td>7.0</td>\n",
              "      <td>NaN</td>\n",
              "    </tr>\n",
              "    <tr>\n",
              "      <th>4</th>\n",
              "      <td>201810</td>\n",
              "      <td>AS015315</td>\n",
              "      <td>4</td>\n",
              "      <td>7.0</td>\n",
              "      <td>3.0</td>\n",
              "      <td>6.0</td>\n",
              "      <td>3.0</td>\n",
              "      <td>3.0</td>\n",
              "      <td>6.0</td>\n",
              "    </tr>\n",
              "  </tbody>\n",
              "</table>\n",
              "</div>"
            ],
            "text/plain": [
              "       연월 customer_id  count_pred  count_0  ...  count_2  count_3  count_4  count_5\n",
              "0  201810    AS002855           3      7.0  ...      5.0      5.0      5.0      4.0\n",
              "1  201810    AS008805           2      2.0  ...      7.0      8.0      NaN      NaN\n",
              "2  201810    AS009373           5      6.0  ...      7.0      4.0      4.0      3.0\n",
              "3  201810    AS015233           7      9.0  ...      5.0      7.0      7.0      NaN\n",
              "4  201810    AS015315           4      7.0  ...      6.0      3.0      3.0      6.0\n",
              "\n",
              "[5 rows x 9 columns]"
            ]
          },
          "metadata": {
            "tags": []
          },
          "execution_count": 20
        }
      ]
    },
    {
      "cell_type": "markdown",
      "metadata": {
        "id": "P6t6B6yNmTQE",
        "colab_type": "text"
      },
      "source": [
        "- count_pred : 예측하고 싶은 달의 데이터\n",
        "- count_0 ~ count_5 : 예측하고 싶은 달로부터 1개월 ~ 6개월 전 데이터\n",
        "- 결측치 : 가입기간이 짧아 수 개월 전의 데이터가 존재하지 않음\n",
        "- 머신러닝 : 결측치를 처리해주어야 함 → dropna 이용, 결측치 삭제 후 인덱스 초기화"
      ]
    },
    {
      "cell_type": "code",
      "metadata": {
        "id": "J0jatuhCkRKr",
        "colab_type": "code",
        "colab": {
          "base_uri": "https://localhost:8080/",
          "height": 195
        },
        "outputId": "c2a81181-5a9e-4328-9bc5-5fda0b160bd7"
      },
      "source": [
        "# 결측치 삭제\n",
        "predict_data = predict_data.dropna()\n",
        "# 인덱스 리셋\n",
        "predict_data = predict_data.reset_index(drop = True)\n",
        "predict_data.head()"
      ],
      "execution_count": 21,
      "outputs": [
        {
          "output_type": "execute_result",
          "data": {
            "text/html": [
              "<div>\n",
              "<style scoped>\n",
              "    .dataframe tbody tr th:only-of-type {\n",
              "        vertical-align: middle;\n",
              "    }\n",
              "\n",
              "    .dataframe tbody tr th {\n",
              "        vertical-align: top;\n",
              "    }\n",
              "\n",
              "    .dataframe thead th {\n",
              "        text-align: right;\n",
              "    }\n",
              "</style>\n",
              "<table border=\"1\" class=\"dataframe\">\n",
              "  <thead>\n",
              "    <tr style=\"text-align: right;\">\n",
              "      <th></th>\n",
              "      <th>연월</th>\n",
              "      <th>customer_id</th>\n",
              "      <th>count_pred</th>\n",
              "      <th>count_0</th>\n",
              "      <th>count_1</th>\n",
              "      <th>count_2</th>\n",
              "      <th>count_3</th>\n",
              "      <th>count_4</th>\n",
              "      <th>count_5</th>\n",
              "    </tr>\n",
              "  </thead>\n",
              "  <tbody>\n",
              "    <tr>\n",
              "      <th>0</th>\n",
              "      <td>201810</td>\n",
              "      <td>AS002855</td>\n",
              "      <td>3</td>\n",
              "      <td>7.0</td>\n",
              "      <td>3.0</td>\n",
              "      <td>5.0</td>\n",
              "      <td>5.0</td>\n",
              "      <td>5.0</td>\n",
              "      <td>4.0</td>\n",
              "    </tr>\n",
              "    <tr>\n",
              "      <th>1</th>\n",
              "      <td>201810</td>\n",
              "      <td>AS009373</td>\n",
              "      <td>5</td>\n",
              "      <td>6.0</td>\n",
              "      <td>6.0</td>\n",
              "      <td>7.0</td>\n",
              "      <td>4.0</td>\n",
              "      <td>4.0</td>\n",
              "      <td>3.0</td>\n",
              "    </tr>\n",
              "    <tr>\n",
              "      <th>2</th>\n",
              "      <td>201810</td>\n",
              "      <td>AS015315</td>\n",
              "      <td>4</td>\n",
              "      <td>7.0</td>\n",
              "      <td>3.0</td>\n",
              "      <td>6.0</td>\n",
              "      <td>3.0</td>\n",
              "      <td>3.0</td>\n",
              "      <td>6.0</td>\n",
              "    </tr>\n",
              "    <tr>\n",
              "      <th>3</th>\n",
              "      <td>201810</td>\n",
              "      <td>AS015739</td>\n",
              "      <td>5</td>\n",
              "      <td>6.0</td>\n",
              "      <td>5.0</td>\n",
              "      <td>8.0</td>\n",
              "      <td>6.0</td>\n",
              "      <td>5.0</td>\n",
              "      <td>7.0</td>\n",
              "    </tr>\n",
              "    <tr>\n",
              "      <th>4</th>\n",
              "      <td>201810</td>\n",
              "      <td>AS019860</td>\n",
              "      <td>7</td>\n",
              "      <td>5.0</td>\n",
              "      <td>7.0</td>\n",
              "      <td>4.0</td>\n",
              "      <td>6.0</td>\n",
              "      <td>8.0</td>\n",
              "      <td>6.0</td>\n",
              "    </tr>\n",
              "  </tbody>\n",
              "</table>\n",
              "</div>"
            ],
            "text/plain": [
              "       연월 customer_id  count_pred  count_0  ...  count_2  count_3  count_4  count_5\n",
              "0  201810    AS002855           3      7.0  ...      5.0      5.0      5.0      4.0\n",
              "1  201810    AS009373           5      6.0  ...      7.0      4.0      4.0      3.0\n",
              "2  201810    AS015315           4      7.0  ...      6.0      3.0      3.0      6.0\n",
              "3  201810    AS015739           5      6.0  ...      8.0      6.0      5.0      7.0\n",
              "4  201810    AS019860           7      5.0  ...      4.0      6.0      8.0      6.0\n",
              "\n",
              "[5 rows x 9 columns]"
            ]
          },
          "metadata": {
            "tags": []
          },
          "execution_count": 21
        }
      ]
    },
    {
      "cell_type": "markdown",
      "metadata": {
        "id": "qcs67mHbm_Rb",
        "colab_type": "text"
      },
      "source": [
        "- predict_data는 결측치를 제거한 데이터이므로, 6개월 이상 가입되어 있는 회원의 데이터"
      ]
    },
    {
      "cell_type": "markdown",
      "metadata": {
        "id": "56XoPf4knKO0",
        "colab_type": "text"
      },
      "source": [
        "### 테크닉 037 : 특징이 되는 변수를 추가하자"
      ]
    },
    {
      "cell_type": "markdown",
      "metadata": {
        "id": "_OFCleVHnOkz",
        "colab_type": "text"
      },
      "source": [
        "- 회원 기간의 경우 시계열 변화를 볼 수 있기 때문에, 기본 데이터가 시계열 데이터인 경우 회원 기간 변수가 유의미한 변화를 줄 가능성이 큼\n",
        "- customer의 start_date 칼럼을 predict_data에 결합"
      ]
    },
    {
      "cell_type": "code",
      "metadata": {
        "id": "lFTu6q6Fm4qc",
        "colab_type": "code",
        "colab": {
          "base_uri": "https://localhost:8080/",
          "height": 195
        },
        "outputId": "88e9837d-60d7-4477-e435-f82eab9a7cc7"
      },
      "source": [
        "predict_data = pd.merge(predict_data, customer[['customer_id', 'start_date']], on = 'customer_id', how = 'left')\n",
        "predict_data.head()"
      ],
      "execution_count": 22,
      "outputs": [
        {
          "output_type": "execute_result",
          "data": {
            "text/html": [
              "<div>\n",
              "<style scoped>\n",
              "    .dataframe tbody tr th:only-of-type {\n",
              "        vertical-align: middle;\n",
              "    }\n",
              "\n",
              "    .dataframe tbody tr th {\n",
              "        vertical-align: top;\n",
              "    }\n",
              "\n",
              "    .dataframe thead th {\n",
              "        text-align: right;\n",
              "    }\n",
              "</style>\n",
              "<table border=\"1\" class=\"dataframe\">\n",
              "  <thead>\n",
              "    <tr style=\"text-align: right;\">\n",
              "      <th></th>\n",
              "      <th>연월</th>\n",
              "      <th>customer_id</th>\n",
              "      <th>count_pred</th>\n",
              "      <th>count_0</th>\n",
              "      <th>count_1</th>\n",
              "      <th>count_2</th>\n",
              "      <th>count_3</th>\n",
              "      <th>count_4</th>\n",
              "      <th>count_5</th>\n",
              "      <th>start_date</th>\n",
              "    </tr>\n",
              "  </thead>\n",
              "  <tbody>\n",
              "    <tr>\n",
              "      <th>0</th>\n",
              "      <td>201810</td>\n",
              "      <td>AS002855</td>\n",
              "      <td>3</td>\n",
              "      <td>7.0</td>\n",
              "      <td>3.0</td>\n",
              "      <td>5.0</td>\n",
              "      <td>5.0</td>\n",
              "      <td>5.0</td>\n",
              "      <td>4.0</td>\n",
              "      <td>2016-11-01</td>\n",
              "    </tr>\n",
              "    <tr>\n",
              "      <th>1</th>\n",
              "      <td>201810</td>\n",
              "      <td>AS009373</td>\n",
              "      <td>5</td>\n",
              "      <td>6.0</td>\n",
              "      <td>6.0</td>\n",
              "      <td>7.0</td>\n",
              "      <td>4.0</td>\n",
              "      <td>4.0</td>\n",
              "      <td>3.0</td>\n",
              "      <td>2015-11-01</td>\n",
              "    </tr>\n",
              "    <tr>\n",
              "      <th>2</th>\n",
              "      <td>201810</td>\n",
              "      <td>AS015315</td>\n",
              "      <td>4</td>\n",
              "      <td>7.0</td>\n",
              "      <td>3.0</td>\n",
              "      <td>6.0</td>\n",
              "      <td>3.0</td>\n",
              "      <td>3.0</td>\n",
              "      <td>6.0</td>\n",
              "      <td>2015-07-01</td>\n",
              "    </tr>\n",
              "    <tr>\n",
              "      <th>3</th>\n",
              "      <td>201810</td>\n",
              "      <td>AS015739</td>\n",
              "      <td>5</td>\n",
              "      <td>6.0</td>\n",
              "      <td>5.0</td>\n",
              "      <td>8.0</td>\n",
              "      <td>6.0</td>\n",
              "      <td>5.0</td>\n",
              "      <td>7.0</td>\n",
              "      <td>2017-06-01</td>\n",
              "    </tr>\n",
              "    <tr>\n",
              "      <th>4</th>\n",
              "      <td>201810</td>\n",
              "      <td>AS019860</td>\n",
              "      <td>7</td>\n",
              "      <td>5.0</td>\n",
              "      <td>7.0</td>\n",
              "      <td>4.0</td>\n",
              "      <td>6.0</td>\n",
              "      <td>8.0</td>\n",
              "      <td>6.0</td>\n",
              "      <td>2017-10-01</td>\n",
              "    </tr>\n",
              "  </tbody>\n",
              "</table>\n",
              "</div>"
            ],
            "text/plain": [
              "       연월 customer_id  count_pred  ...  count_4  count_5  start_date\n",
              "0  201810    AS002855           3  ...      5.0      4.0  2016-11-01\n",
              "1  201810    AS009373           5  ...      4.0      3.0  2015-11-01\n",
              "2  201810    AS015315           4  ...      3.0      6.0  2015-07-01\n",
              "3  201810    AS015739           5  ...      5.0      7.0  2017-06-01\n",
              "4  201810    AS019860           7  ...      8.0      6.0  2017-10-01\n",
              "\n",
              "[5 rows x 10 columns]"
            ]
          },
          "metadata": {
            "tags": []
          },
          "execution_count": 22
        }
      ]
    },
    {
      "cell_type": "code",
      "metadata": {
        "id": "r1g0ytQFnmMw",
        "colab_type": "code",
        "colab": {
          "base_uri": "https://localhost:8080/",
          "height": 283
        },
        "outputId": "e107055e-ebcb-4ea3-ee13-2b7f221535f6"
      },
      "source": [
        "# 연월과 start_date의 차이를 이용, 회원 기간을 월 단위로 칼럼 생성\n",
        "\n",
        "# 날짜 표기 형식 변환\n",
        "predict_data['now_date'] = pd.to_datetime(predict_data['연월'], format = '%Y%m')\n",
        "predict_data['start_date'] = pd.to_datetime(predict_data['start_date'])\n",
        "\n",
        "# 날짜 비교 라이브러리 임포트\n",
        "from dateutil.relativedelta import relativedelta\n",
        "\n",
        "predict_data['period'] = None\n",
        "for i in range(len(predict_data)):\n",
        "  delta = relativedelta(predict_data['now_date'][i], predict_data['start_date'][i]) # now_date와 start_date를 이용, 날짜의 차이를 delta에 저장\n",
        "  predict_data['period'][i] = delta.years*12 + delta.months # 월 단위로 계산 후 period 칼럼에 저장\n",
        "predict_data.head()"
      ],
      "execution_count": 24,
      "outputs": [
        {
          "output_type": "stream",
          "text": [
            "/usr/local/lib/python3.6/dist-packages/ipykernel_launcher.py:13: SettingWithCopyWarning: \n",
            "A value is trying to be set on a copy of a slice from a DataFrame\n",
            "\n",
            "See the caveats in the documentation: https://pandas.pydata.org/pandas-docs/stable/user_guide/indexing.html#returning-a-view-versus-a-copy\n",
            "  del sys.path[0]\n"
          ],
          "name": "stderr"
        },
        {
          "output_type": "execute_result",
          "data": {
            "text/html": [
              "<div>\n",
              "<style scoped>\n",
              "    .dataframe tbody tr th:only-of-type {\n",
              "        vertical-align: middle;\n",
              "    }\n",
              "\n",
              "    .dataframe tbody tr th {\n",
              "        vertical-align: top;\n",
              "    }\n",
              "\n",
              "    .dataframe thead th {\n",
              "        text-align: right;\n",
              "    }\n",
              "</style>\n",
              "<table border=\"1\" class=\"dataframe\">\n",
              "  <thead>\n",
              "    <tr style=\"text-align: right;\">\n",
              "      <th></th>\n",
              "      <th>연월</th>\n",
              "      <th>customer_id</th>\n",
              "      <th>count_pred</th>\n",
              "      <th>count_0</th>\n",
              "      <th>count_1</th>\n",
              "      <th>count_2</th>\n",
              "      <th>count_3</th>\n",
              "      <th>count_4</th>\n",
              "      <th>count_5</th>\n",
              "      <th>start_date</th>\n",
              "      <th>now_date</th>\n",
              "      <th>period</th>\n",
              "    </tr>\n",
              "  </thead>\n",
              "  <tbody>\n",
              "    <tr>\n",
              "      <th>0</th>\n",
              "      <td>201810</td>\n",
              "      <td>AS002855</td>\n",
              "      <td>3</td>\n",
              "      <td>7.0</td>\n",
              "      <td>3.0</td>\n",
              "      <td>5.0</td>\n",
              "      <td>5.0</td>\n",
              "      <td>5.0</td>\n",
              "      <td>4.0</td>\n",
              "      <td>2016-11-01</td>\n",
              "      <td>2018-10-01</td>\n",
              "      <td>23</td>\n",
              "    </tr>\n",
              "    <tr>\n",
              "      <th>1</th>\n",
              "      <td>201810</td>\n",
              "      <td>AS009373</td>\n",
              "      <td>5</td>\n",
              "      <td>6.0</td>\n",
              "      <td>6.0</td>\n",
              "      <td>7.0</td>\n",
              "      <td>4.0</td>\n",
              "      <td>4.0</td>\n",
              "      <td>3.0</td>\n",
              "      <td>2015-11-01</td>\n",
              "      <td>2018-10-01</td>\n",
              "      <td>35</td>\n",
              "    </tr>\n",
              "    <tr>\n",
              "      <th>2</th>\n",
              "      <td>201810</td>\n",
              "      <td>AS015315</td>\n",
              "      <td>4</td>\n",
              "      <td>7.0</td>\n",
              "      <td>3.0</td>\n",
              "      <td>6.0</td>\n",
              "      <td>3.0</td>\n",
              "      <td>3.0</td>\n",
              "      <td>6.0</td>\n",
              "      <td>2015-07-01</td>\n",
              "      <td>2018-10-01</td>\n",
              "      <td>39</td>\n",
              "    </tr>\n",
              "    <tr>\n",
              "      <th>3</th>\n",
              "      <td>201810</td>\n",
              "      <td>AS015739</td>\n",
              "      <td>5</td>\n",
              "      <td>6.0</td>\n",
              "      <td>5.0</td>\n",
              "      <td>8.0</td>\n",
              "      <td>6.0</td>\n",
              "      <td>5.0</td>\n",
              "      <td>7.0</td>\n",
              "      <td>2017-06-01</td>\n",
              "      <td>2018-10-01</td>\n",
              "      <td>16</td>\n",
              "    </tr>\n",
              "    <tr>\n",
              "      <th>4</th>\n",
              "      <td>201810</td>\n",
              "      <td>AS019860</td>\n",
              "      <td>7</td>\n",
              "      <td>5.0</td>\n",
              "      <td>7.0</td>\n",
              "      <td>4.0</td>\n",
              "      <td>6.0</td>\n",
              "      <td>8.0</td>\n",
              "      <td>6.0</td>\n",
              "      <td>2017-10-01</td>\n",
              "      <td>2018-10-01</td>\n",
              "      <td>12</td>\n",
              "    </tr>\n",
              "  </tbody>\n",
              "</table>\n",
              "</div>"
            ],
            "text/plain": [
              "       연월 customer_id  count_pred  ...  start_date   now_date  period\n",
              "0  201810    AS002855           3  ...  2016-11-01 2018-10-01      23\n",
              "1  201810    AS009373           5  ...  2015-11-01 2018-10-01      35\n",
              "2  201810    AS015315           4  ...  2015-07-01 2018-10-01      39\n",
              "3  201810    AS015739           5  ...  2017-06-01 2018-10-01      16\n",
              "4  201810    AS019860           7  ...  2017-10-01 2018-10-01      12\n",
              "\n",
              "[5 rows x 12 columns]"
            ]
          },
          "metadata": {
            "tags": []
          },
          "execution_count": 24
        }
      ]
    },
    {
      "cell_type": "markdown",
      "metadata": {
        "id": "LraSYSbio5xG",
        "colab_type": "text"
      },
      "source": [
        "### 테크닉 038 : 다음 달 이용 횟수를 예측하는 모델을 구축하자"
      ]
    },
    {
      "cell_type": "markdown",
      "metadata": {
        "id": "ZMgfxgilo-6V",
        "colab_type": "text"
      },
      "source": [
        "- 2018년 4월 이후에 새로 가입한 회원만 이용하여 모델 작성\n",
        "- 너무 오래된 회원의 경우 가입 시기 데이터가 존재하지 않거나 이용 횟수가 안정적일 가능성이 있기 때문\n",
        "- 사용할 회귀 모델 : 사이킷런의 LinearRegression(선형회귀 모델)"
      ]
    },
    {
      "cell_type": "code",
      "metadata": {
        "id": "Sqns8ZefotRr",
        "colab_type": "code",
        "colab": {
          "base_uri": "https://localhost:8080/",
          "height": 34
        },
        "outputId": "68502125-0aba-41e0-b771-88764d17800d"
      },
      "source": [
        "# 데이터를 학습용 데이터와 평가용 데이터로 나누어 학습\n",
        "\n",
        "# 가입일이 2018년 4월부터인 데이터만 추출\n",
        "predict_data = predict_data.loc[predict_data['start_date'] >= pd.to_datetime('20180401')]\n",
        "\n",
        "# 선형회귀를 위한 모델 임포트\n",
        "from sklearn import linear_model\n",
        "# 데이터 분할용 라이브러리 임포트\n",
        "import sklearn.model_selection\n",
        "\n",
        "model = linear_model.LinearRegression() # 모델 초기화\n",
        "X = predict_data[['count_0', 'count_1', 'count_2', 'count_3', 'count_4', 'count_5', 'period']] # 예측에 사용할 변수(1개월 전~ 6개월 전 데이터, 회원 기간)(설명 변수)\n",
        "y = predict_data['count_pred'] # 예측하고 싶은 변수(목적 변수)\n",
        "\n",
        "# 데이터 분할(따로 지정하지 않을 경우 학습용 75%, 평가용 25%로 분할)\n",
        "X_train, X_test, y_train, y_test = sklearn.model_selection.train_test_split(X, y)\n",
        "model.fit(X_train, y_train)"
      ],
      "execution_count": 26,
      "outputs": [
        {
          "output_type": "execute_result",
          "data": {
            "text/plain": [
              "LinearRegression(copy_X=True, fit_intercept=True, n_jobs=None, normalize=False)"
            ]
          },
          "metadata": {
            "tags": []
          },
          "execution_count": 26
        }
      ]
    },
    {
      "cell_type": "markdown",
      "metadata": {
        "id": "qQV_pDZdq0ZP",
        "colab_type": "text"
      },
      "source": [
        "- 데이터를 학습용과 평가용으로 분할하는 이유 : 모든 데이터를 학습용 데이터로 넣어버릴 경우, 너무 완벽하게 학습해서 미지의 데이터에 대응할 수가 없음 → \"과적합\""
      ]
    },
    {
      "cell_type": "code",
      "metadata": {
        "id": "Dj5fvLa9qWY2",
        "colab_type": "code",
        "colab": {
          "base_uri": "https://localhost:8080/",
          "height": 52
        },
        "outputId": "65e6ea79-d9c7-4536-ec13-dc45bc011554"
      },
      "source": [
        "# 정확도 검증\n",
        "print(model.score(X_train, y_train))\n",
        "print(model.score(X_test, y_test))"
      ],
      "execution_count": 27,
      "outputs": [
        {
          "output_type": "stream",
          "text": [
            "0.607020033293673\n",
            "0.6090547862791538\n"
          ],
          "name": "stdout"
        }
      ]
    },
    {
      "cell_type": "markdown",
      "metadata": {
        "id": "E0IXrIZwrET3",
        "colab_type": "text"
      },
      "source": [
        "- 약 60% 정도의 정확도를 보이고 있음\n",
        "- 모델에 기여하는 변수를 확인할 차례\n",
        "- 정확도가 높은 예측 모델을 구축해도 어떤 모델인지 이해를 하지 못할 경우 현장에서도 납득이 되지 않음"
      ]
    },
    {
      "cell_type": "markdown",
      "metadata": {
        "id": "Hb2BIYyVrXye",
        "colab_type": "text"
      },
      "source": [
        "### 테크닉 039 : 모델에 기여하는 변수를 확인하자"
      ]
    },
    {
      "cell_type": "code",
      "metadata": {
        "id": "uKJS9PpsrC9n",
        "colab_type": "code",
        "colab": {
          "base_uri": "https://localhost:8080/",
          "height": 254
        },
        "outputId": "9228a64d-d2ba-4838-95aa-4ffff8ddf1d2"
      },
      "source": [
        "# 설명 변수마다 기여하는 계수(상관계수) 출력\n",
        "coef = pd.DataFrame({'feature_names' : X.columns, 'coefficient' : model.coef_})\n",
        "coef"
      ],
      "execution_count": 28,
      "outputs": [
        {
          "output_type": "execute_result",
          "data": {
            "text/html": [
              "<div>\n",
              "<style scoped>\n",
              "    .dataframe tbody tr th:only-of-type {\n",
              "        vertical-align: middle;\n",
              "    }\n",
              "\n",
              "    .dataframe tbody tr th {\n",
              "        vertical-align: top;\n",
              "    }\n",
              "\n",
              "    .dataframe thead th {\n",
              "        text-align: right;\n",
              "    }\n",
              "</style>\n",
              "<table border=\"1\" class=\"dataframe\">\n",
              "  <thead>\n",
              "    <tr style=\"text-align: right;\">\n",
              "      <th></th>\n",
              "      <th>feature_names</th>\n",
              "      <th>coefficient</th>\n",
              "    </tr>\n",
              "  </thead>\n",
              "  <tbody>\n",
              "    <tr>\n",
              "      <th>0</th>\n",
              "      <td>count_0</td>\n",
              "      <td>0.333194</td>\n",
              "    </tr>\n",
              "    <tr>\n",
              "      <th>1</th>\n",
              "      <td>count_1</td>\n",
              "      <td>0.190322</td>\n",
              "    </tr>\n",
              "    <tr>\n",
              "      <th>2</th>\n",
              "      <td>count_2</td>\n",
              "      <td>0.169938</td>\n",
              "    </tr>\n",
              "    <tr>\n",
              "      <th>3</th>\n",
              "      <td>count_3</td>\n",
              "      <td>0.185834</td>\n",
              "    </tr>\n",
              "    <tr>\n",
              "      <th>4</th>\n",
              "      <td>count_4</td>\n",
              "      <td>0.102969</td>\n",
              "    </tr>\n",
              "    <tr>\n",
              "      <th>5</th>\n",
              "      <td>count_5</td>\n",
              "      <td>0.034806</td>\n",
              "    </tr>\n",
              "    <tr>\n",
              "      <th>6</th>\n",
              "      <td>period</td>\n",
              "      <td>0.074404</td>\n",
              "    </tr>\n",
              "  </tbody>\n",
              "</table>\n",
              "</div>"
            ],
            "text/plain": [
              "  feature_names  coefficient\n",
              "0       count_0     0.333194\n",
              "1       count_1     0.190322\n",
              "2       count_2     0.169938\n",
              "3       count_3     0.185834\n",
              "4       count_4     0.102969\n",
              "5       count_5     0.034806\n",
              "6        period     0.074404"
            ]
          },
          "metadata": {
            "tags": []
          },
          "execution_count": 28
        }
      ]
    },
    {
      "cell_type": "markdown",
      "metadata": {
        "id": "YskzRu59rr2X",
        "colab_type": "text"
      },
      "source": [
        "- count_0(1개월 전 데이터)이 가장 크며 count_5(6개월 전 데이터)가 가장 작음\n",
        "- 바로 직전 달의 이용 횟수가 다음 달 이용 횟수에 큰 영향을 미침"
      ]
    },
    {
      "cell_type": "markdown",
      "metadata": {
        "id": "T3QQ46DEr8r8",
        "colab_type": "text"
      },
      "source": [
        "### 테크닉 040 : 다음 달의 이용 횟수를 예측하자"
      ]
    },
    {
      "cell_type": "markdown",
      "metadata": {
        "id": "EeIjSmmPsBOF",
        "colab_type": "text"
      },
      "source": [
        "- 간단하게 최원 두 명의 이용 데이터를 작성\n",
        "- 임의의 회원 데이터를 작성, 두 회원의 다음 달 방문 횟수를 예측"
      ]
    },
    {
      "cell_type": "code",
      "metadata": {
        "id": "3HEgHHfZrpyu",
        "colab_type": "code",
        "colab": {}
      },
      "source": [
        "# 임의의 회원 데이터 작성\n",
        "# 1개월 전~ 6개월 전 방문 횟수 + 재적 기간\n",
        "x1 = [3, 4, 4, 6, 8, 7, 8]\n",
        "x2 = [2, 2, 3, 3, 4, 6, 8]\n",
        "x_pred = [x1, x2]"
      ],
      "execution_count": 29,
      "outputs": []
    },
    {
      "cell_type": "code",
      "metadata": {
        "id": "MDQxUo5msZiQ",
        "colab_type": "code",
        "colab": {
          "base_uri": "https://localhost:8080/",
          "height": 34
        },
        "outputId": "1040e6ba-6a73-463f-a79f-2c25034c558b"
      },
      "source": [
        "# 만들어 둔 예측 모델로 다음 달 이용 횟수 예측\n",
        "model.predict(x_pred)"
      ],
      "execution_count": 30,
      "outputs": [
        {
          "output_type": "execute_result",
          "data": {
            "text/plain": [
              "array([3.87018901, 1.98223111])"
            ]
          },
          "metadata": {
            "tags": []
          },
          "execution_count": 30
        }
      ]
    },
    {
      "cell_type": "code",
      "metadata": {
        "id": "-R_KA9DBsbxT",
        "colab_type": "code",
        "colab": {}
      },
      "source": [
        "# 추후 사용을 위해 파일 저장\n",
        "uselog_months.to_csv('/content/drive/My Drive/pyda100/pyda100-master/4장/uselog_months.csv', index = False)"
      ],
      "execution_count": 31,
      "outputs": []
    }
  ]
}