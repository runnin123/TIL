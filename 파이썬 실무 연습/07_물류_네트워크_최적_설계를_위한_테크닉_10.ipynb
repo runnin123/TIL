{
  "nbformat": 4,
  "nbformat_minor": 0,
  "metadata": {
    "colab": {
      "name": "07 물류 네트워크 최적 설계를 위한 테크닉 10.ipynb",
      "provenance": [],
      "collapsed_sections": []
    },
    "kernelspec": {
      "name": "python3",
      "display_name": "Python 3"
    }
  },
  "cells": [
    {
      "cell_type": "markdown",
      "metadata": {
        "id": "JdoAU9u-voDB",
        "colab_type": "text"
      },
      "source": [
        "### 전제조건\n",
        "- 최종적으로 제품을 판매하는 대리점 P, Q\n",
        "- 판매되는 상품 A, B\n",
        "- 상품의 예측 수요로 공장 X, Y에서 생산량 결정\n",
        "- 각 제품을 어느 공장의 어느 라인(0, 1)에서 제조할 지는 여러 방면을 고려해서 결정"
      ]
    },
    {
      "cell_type": "markdown",
      "metadata": {
        "id": "F05IvPfMv8W1",
        "colab_type": "text"
      },
      "source": [
        "### 테크닉 061 : 운송 최적화 문제를 풀어보자"
      ]
    },
    {
      "cell_type": "markdown",
      "metadata": {
        "id": "gPN7YSNzv_if",
        "colab_type": "text"
      },
      "source": [
        "- 사용할 최적화 계산 라이브러리 : pulp, ortoolpy\n",
        "- pulp : 최적화 모델 작성\n",
        "- ortoolpy : 목적함수 생성, 최적화 문제를 품"
      ]
    },
    {
      "cell_type": "code",
      "metadata": {
        "id": "ZxD43iCNx6L3",
        "colab_type": "code",
        "colab": {
          "base_uri": "https://localhost:8080/",
          "height": 336
        },
        "outputId": "74095dfb-8752-4846-e7d6-86ea7f9f8689"
      },
      "source": [
        "!pip install pulp"
      ],
      "execution_count": 1,
      "outputs": [
        {
          "output_type": "stream",
          "text": [
            "Collecting pulp\n",
            "\u001b[?25l  Downloading https://files.pythonhosted.org/packages/c3/22/5743d7b5d69f84fb63a0b4925862522dbf80e82defcd0c447afb694f3fd0/PuLP-2.3-py3-none-any.whl (40.6MB)\n",
            "\u001b[K     |████████████████████████████████| 40.6MB 112kB/s \n",
            "\u001b[?25hCollecting amply>=0.1.2\n",
            "  Downloading https://files.pythonhosted.org/packages/7f/11/33cb09557ac838d9488779b79e05a2a3c1f3ce9747cd242ba68332736778/amply-0.1.2.tar.gz\n",
            "  Installing build dependencies ... \u001b[?25l\u001b[?25hdone\n",
            "  Getting requirements to build wheel ... \u001b[?25l\u001b[?25hdone\n",
            "    Preparing wheel metadata ... \u001b[?25l\u001b[?25hdone\n",
            "Requirement already satisfied: pyparsing in /usr/local/lib/python3.6/dist-packages (from amply>=0.1.2->pulp) (2.4.7)\n",
            "Requirement already satisfied: docutils>=0.3 in /usr/local/lib/python3.6/dist-packages (from amply>=0.1.2->pulp) (0.15.2)\n",
            "Building wheels for collected packages: amply\n",
            "  Building wheel for amply (PEP 517) ... \u001b[?25l\u001b[?25hdone\n",
            "  Created wheel for amply: filename=amply-0.1.2-cp36-none-any.whl size=16572 sha256=a62814e7f2397891baae30fd4df81fad8309c84b2f5cd4ab2ed3ffbb5e7838bd\n",
            "  Stored in directory: /root/.cache/pip/wheels/84/18/f7/e5c3ed13ed5bb721763f77d4a924331d59ef115ce61c9d26eb\n",
            "Successfully built amply\n",
            "Installing collected packages: amply, pulp\n",
            "Successfully installed amply-0.1.2 pulp-2.3\n"
          ],
          "name": "stdout"
        }
      ]
    },
    {
      "cell_type": "code",
      "metadata": {
        "id": "knSfKvLnyIs_",
        "colab_type": "code",
        "colab": {
          "base_uri": "https://localhost:8080/",
          "height": 266
        },
        "outputId": "13330df4-59d5-47de-fec4-39d566fe4f94"
      },
      "source": [
        "! pip install ortoolpy"
      ],
      "execution_count": 2,
      "outputs": [
        {
          "output_type": "stream",
          "text": [
            "Collecting ortoolpy\n",
            "  Downloading https://files.pythonhosted.org/packages/97/8a/7c7ee8c19ca5157c89f498e062ccb421c97cb0ce0c2a77754e09865d9a48/ortoolpy-0.2.30.tar.gz\n",
            "Requirement already satisfied: pulp in /usr/local/lib/python3.6/dist-packages (from ortoolpy) (2.3)\n",
            "Requirement already satisfied: amply>=0.1.2 in /usr/local/lib/python3.6/dist-packages (from pulp->ortoolpy) (0.1.2)\n",
            "Requirement already satisfied: pyparsing in /usr/local/lib/python3.6/dist-packages (from amply>=0.1.2->pulp->ortoolpy) (2.4.7)\n",
            "Requirement already satisfied: docutils>=0.3 in /usr/local/lib/python3.6/dist-packages (from amply>=0.1.2->pulp->ortoolpy) (0.15.2)\n",
            "Building wheels for collected packages: ortoolpy\n",
            "  Building wheel for ortoolpy (setup.py) ... \u001b[?25l\u001b[?25hdone\n",
            "  Created wheel for ortoolpy: filename=ortoolpy-0.2.30-cp36-none-any.whl size=23236 sha256=2b5dd6b506fb759c4c066f49cbf7d6b6b1afca35299652c4f2b9ff4271c2876f\n",
            "  Stored in directory: /root/.cache/pip/wheels/04/b2/96/f6ef2da1545a11cd91ee4bd9da930d588dde5751ac7e088a74\n",
            "Successfully built ortoolpy\n",
            "Installing collected packages: ortoolpy\n",
            "Successfully installed ortoolpy-0.2.30\n"
          ],
          "name": "stdout"
        }
      ]
    },
    {
      "cell_type": "code",
      "metadata": {
        "id": "BZYJYukHt7iE",
        "colab_type": "code",
        "colab": {
          "base_uri": "https://localhost:8080/",
          "height": 122
        },
        "outputId": "3e5eec0a-fdbc-4e17-c869-7f9747bc7bfa"
      },
      "source": [
        "# 라이브러리 임포트\n",
        "import numpy as np\n",
        "import pandas as pd\n",
        "from itertools import product\n",
        "from pulp import LpVariable, lpSum, value\n",
        "from ortoolpy import model_min, addvars, addvals\n",
        "\n",
        "# 운송 비용, 수요량, 공급량 데이터\n",
        "df_tc = pd.read_csv('/content/drive/My Drive/pyda100/pyda100-master/7장/trans_cost.csv', index_col = '공장')\n",
        "df_demand = pd.read_csv('/content/drive/My Drive/pyda100/pyda100-master/7장/demand.csv')\n",
        "df_supply = pd.read_csv('/content/drive/My Drive/pyda100/pyda100-master/7장/supply.csv')\n",
        "\n",
        "# 초기 설정\n",
        "np.random.seed(1)\n",
        "nw = len(df_tc.index)\n",
        "nf = len(df_tc.columns)\n",
        "pr = list(product(range(nw), range(nf)))\n",
        "\n",
        "# 수리 모델 설정\n",
        "# '최소화를 실행하는' 모델. 목적함수를 제약 조건 하에서 최소화할 수 있음\n",
        "m1 = model_min()\n",
        "# 목적함수, 제약조건 추가\n",
        "v1 = {(i,j):LpVariable('v%d_%d'%(i,j), lowBound = 0) for i,j in pr}\n",
        "m1 += lpSum(df_tc.iloc[i][j]*v1[i,j] for i,j in pr)\n",
        "\n",
        "# 창고가 제공할 제품이 제공 한계를 넘지 않도록 제약 조건 설정\n",
        "for i in range(nw):\n",
        "  m1 += lpSum(v1[i,j] for j in range(nf)) <= df_supply.iloc[0][i]\n",
        "for j in range(nf):\n",
        "  m1 += lpSum(v1[i,j] for i in range(nw)) >= df_demand.iloc[0][j]\n",
        "m1.solve() # 최적화 문제 풀이\n",
        "\n",
        "# 총 운송 비용 계산\n",
        "df_tr_sol = df_tc.copy()\n",
        "total_cost = 0\n",
        "for k,x in v1.items():\n",
        "  i,j = k[0], k[1]\n",
        "  df_tr_sol.iloc[i][j] = value(x)\n",
        "  total_cost += df_tc.iloc[i][j]*value(x)\n",
        "\n",
        "print(df_tr_sol)\n",
        "print('총 운송 비용:' + str(total_cost))"
      ],
      "execution_count": 3,
      "outputs": [
        {
          "output_type": "stream",
          "text": [
            "    F1  F2  F3  F4\n",
            "공장                \n",
            "W1  28   7   0   0\n",
            "W2   0   0  31   5\n",
            "W3   0  22   0  20\n",
            "총 운송 비용:1296.0\n"
          ],
          "name": "stdout"
        }
      ]
    },
    {
      "cell_type": "markdown",
      "metadata": {
        "id": "kTolFQwAzPzQ",
        "colab_type": "text"
      },
      "source": [
        "### 테크닉 062 : 최적 운송 경로를 네트워크로 확인하자"
      ]
    },
    {
      "cell_type": "code",
      "metadata": {
        "id": "oi2O9yo8x0kd",
        "colab_type": "code",
        "colab": {
          "base_uri": "https://localhost:8080/",
          "height": 319
        },
        "outputId": "82c628b1-6fd9-423f-a301-457aabf41245"
      },
      "source": [
        "# 라이브러리 임포트\n",
        "import matplotlib.pyplot as plt\n",
        "import networkx as nx\n",
        "\n",
        "# 운송 경로, 위치 정보 데이터\n",
        "df_tr = df_tr_sol.copy() # 위에서 계산한 최적화 경로 데이터\n",
        "df_pos = pd.read_csv('/content/drive/My Drive/pyda100/pyda100-master/7장/trans_route_pos.csv')\n",
        "\n",
        "# 객체 생성\n",
        "G = nx.Graph()\n",
        "\n",
        "# 노드 설정\n",
        "for i in range(len(df_pos.columns)):\n",
        "  G.add_node(df_pos.columns[i])\n",
        "\n",
        "# 엣지 설정 및 엣지 가중치 리스트화\n",
        "num_pre = 0\n",
        "edge_weights = []\n",
        "size = 0.1\n",
        "for i in range(len(df_pos.columns)):\n",
        "  for j in range(len(df_pos.columns)):\n",
        "    if not (i == j):\n",
        "      # 엣지 추가\n",
        "      G.add_edge(df_pos.columns[i], df_pos.columns[j])\n",
        "      # 엣지 가중치 추가\n",
        "      if num_pre < len(G.edges):\n",
        "        num_pre = len(G.edges)\n",
        "        weight = 0\n",
        "        if (df_pos.columns[i] in df_tr.columns) and (df_pos.columns[j] in df_tr.index):\n",
        "          if df_tr[df_pos.columns[i]][df_pos.columns[j]]:\n",
        "            weight = df_tr[df_pos.columns[i]][df_pos.columns[j]]*size\n",
        "        elif (df_pos.columns[j] in df_tr.columns) and (df_pos.columns[i] in df_tr.index):\n",
        "          if df_tr[df_pos.columns[j]][df_pos.columns[i]]:\n",
        "            weight = df_tr[df_pos.columns[j]][df_pos.columns[i]]*size\n",
        "        edge_weights.append(weight)\n",
        "\n",
        "# 좌표 설정\n",
        "pos = {}\n",
        "for i in range(len(df_pos.columns)):\n",
        "  node = df_pos.columns[i]\n",
        "  pos[node] = (df_pos[node][0], df_pos[node][1])\n",
        "\n",
        "# 그리기\n",
        "nx.draw(G, pos, with_labels = True, font_size = 16, node_size = 1000, node_color = 'k', font_color = 'w', width = edge_weights)\n",
        "\n",
        "# 표시\n",
        "plt.show()"
      ],
      "execution_count": 4,
      "outputs": [
        {
          "output_type": "display_data",
          "data": {
            "image/png": "[encoded data removed]",
            "text/plain": [
              "<Figure size 432x288 with 1 Axes>"
            ]
          },
          "metadata": {
            "tags": []
          }
        }
      ]
    },
    {
      "cell_type": "markdown",
      "metadata": {
        "id": "l1pyygjD4eox",
        "colab_type": "text"
      },
      "source": [
        "- 창고 W1 → 공장 F1, 창고 W2 → 공장 F3, 창고 W3 → 공장 F2, F4로의 공급이 대부분\n",
        "- 나머지 경로는 최소화 되어 있음"
      ]
    },
    {
      "cell_type": "markdown",
      "metadata": {
        "id": "7MHR1KDP42T7",
        "colab_type": "text"
      },
      "source": [
        "### 테크닉 063 : 최적 운송 경로가 제약 조건을 만족하는지 확인하자"
      ]
    },
    {
      "cell_type": "markdown",
      "metadata": {
        "id": "RkUoXBaw47OR",
        "colab_type": "text"
      },
      "source": [
        "- 테크닉 60에서 작성한 제약 조건을 계산하는 함수 이용, 계산된 운송 경로가 제약 조건을 만족하는지 확인"
      ]
    },
    {
      "cell_type": "code",
      "metadata": {
        "id": "jhtGNlNZ1-qH",
        "colab_type": "code",
        "colab": {
          "base_uri": "https://localhost:8080/",
          "height": 52
        },
        "outputId": "2715342e-9295-4ad5-a1bb-88950f554ab4"
      },
      "source": [
        "# 제약조건 계산함수\n",
        "# 수요측\n",
        "def condition_demand(df_tr,df_demand):\n",
        "    flag = np.zeros(len(df_demand.columns))\n",
        "    for i in range(len(df_demand.columns)):\n",
        "        temp_sum = sum(df_tr[df_demand.columns[i]])\n",
        "        if (temp_sum>=df_demand.iloc[0][i]):\n",
        "            flag[i] = 1\n",
        "    return flag\n",
        "            \n",
        "# 공급측\n",
        "def condition_supply(df_tr,df_supply):\n",
        "    flag = np.zeros(len(df_supply.columns))\n",
        "    for i in range(len(df_supply.columns)):\n",
        "        temp_sum = sum(df_tr.loc[df_supply.columns[i]])\n",
        "        if temp_sum<=df_supply.iloc[0][i]:\n",
        "            flag[i] = 1\n",
        "    return flag\n",
        "\n",
        "print(\"수요 조건 계산 결과:\"+str(condition_demand(df_tr_sol,df_demand)))\n",
        "print(\"공급 조건 계산 결과:\"+str(condition_supply(df_tr_sol,df_supply)))"
      ],
      "execution_count": 5,
      "outputs": [
        {
          "output_type": "stream",
          "text": [
            "수요 조건 계산 결과:[1. 1. 1. 1.]\n",
            "공급 조건 계산 결과:[1. 1. 1.]\n"
          ],
          "name": "stdout"
        }
      ]
    },
    {
      "cell_type": "markdown",
      "metadata": {
        "id": "kSNO_NUa5YGN",
        "colab_type": "text"
      },
      "source": [
        "- 수요 조건과 공급 조건 모두 1로 만족\n",
        "- 목적함수와 제약 조건만 명확하게 정의한다면 최적화 계산 도구를 이용하여 간단히 답을 구할 수 있음"
      ]
    },
    {
      "cell_type": "markdown",
      "metadata": {
        "id": "hVZmX4SQ5uCI",
        "colab_type": "text"
      },
      "source": [
        "### 테크닉 064 : 생산 계획 데이터를 불러오자"
      ]
    },
    {
      "cell_type": "markdown",
      "metadata": {
        "id": "lk6UTfe05xO8",
        "colab_type": "text"
      },
      "source": [
        "- 운송 비용 최적화를 해결했으니, 다음은 생산 계획을 다룰 차례"
      ]
    },
    {
      "cell_type": "markdown",
      "metadata": {
        "id": "aSB9Vfkh54eR",
        "colab_type": "text"
      },
      "source": [
        "### 데이터\n",
        "- product_plan_material.csv : 제품 제조에 필요한 원료 비율\n",
        "- product_plan_profit.csv : 제품 이익\n",
        "- product_plan_stock.csv : 원료 재고\n",
        "- product_paln.csv : 제품 생산량"
      ]
    },
    {
      "cell_type": "code",
      "metadata": {
        "id": "JwSFVASu5WUA",
        "colab_type": "code",
        "colab": {
          "base_uri": "https://localhost:8080/",
          "height": 281
        },
        "outputId": "890f5619-4da1-4829-d406-dd250d5e0dec"
      },
      "source": [
        "# 데이터 불러오기\n",
        "df_material = pd.read_csv('/content/drive/My Drive/pyda100/pyda100-master/7장/product_plan_material.csv', index_col = '제품')\n",
        "print(df_material)\n",
        "\n",
        "df_profit = pd.read_csv('/content/drive/My Drive/pyda100/pyda100-master/7장/product_plan_profit.csv', index_col = '제품')\n",
        "print(df_profit)\n",
        "\n",
        "df_stock = pd.read_csv('/content/drive/My Drive/pyda100/pyda100-master/7장/product_plan_stock.csv', index_col = '항목')\n",
        "print(df_stock)\n",
        "\n",
        "df_plan = pd.read_csv('/content/drive/My Drive/pyda100/pyda100-master/7장/product_plan.csv', index_col = '제품')\n",
        "print(df_plan)"
      ],
      "execution_count": 6,
      "outputs": [
        {
          "output_type": "stream",
          "text": [
            "     원료1  원료2  원료3\n",
            "제품                \n",
            "제품1    1    4    3\n",
            "제품2    2    4    1\n",
            "      이익\n",
            "제품      \n",
            "제품1  5.0\n",
            "제품2  4.0\n",
            "    원료1  원료2  원료3\n",
            "항목               \n",
            "재고   40   80   50\n",
            "      생산량\n",
            "제품       \n",
            "제품1    16\n",
            "제품2     0\n"
          ],
          "name": "stdout"
        }
      ]
    },
    {
      "cell_type": "markdown",
      "metadata": {
        "id": "YhoFDoC_7S9M",
        "colab_type": "text"
      },
      "source": [
        "- 이익이 다소 적은 제품2는 생산 계획이 없음\n",
        "- 따라서 원료 재고가 비효율적으로 발생\n",
        "- 제품2의 생산량을 늘려 이익을 높일 방법을 찾는 것이 중요"
      ]
    },
    {
      "cell_type": "markdown",
      "metadata": {
        "id": "Q9NCT0zn7jHd",
        "colab_type": "text"
      },
      "source": [
        "### 테크닉 065 : 이익을 계산하는 함수를 만들자\n",
        "- 생산계획 최적화는 최적화 문제의 일반적인 흐름과 동일\n",
        "- 목적함수와 제약 조건 정의 후 목적함수를 최소화(혹은 최대화)하는 변수 조합을 찾음"
      ]
    },
    {
      "cell_type": "code",
      "metadata": {
        "id": "5aftwBjJ7HA3",
        "colab_type": "code",
        "colab": {
          "base_uri": "https://localhost:8080/",
          "height": 34
        },
        "outputId": "3d51f859-39b1-45d0-bb31-4949c6c7eeb6"
      },
      "source": [
        "# 이익 계산 함수\n",
        "def product_plan(df_profit,df_plan):\n",
        "    profit = 0\n",
        "    for i in range(len(df_profit.index)):\n",
        "        for j in range(len(df_plan.columns)):\n",
        "            profit += df_profit.iloc[i][j]*df_plan.iloc[i][j]\n",
        "    return profit\n",
        "\n",
        "print(\"총 이익:\"+str(product_plan(df_profit,df_plan)))"
      ],
      "execution_count": 7,
      "outputs": [
        {
          "output_type": "stream",
          "text": [
            "총 이익:80.0\n"
          ],
          "name": "stdout"
        }
      ]
    },
    {
      "cell_type": "markdown",
      "metadata": {
        "id": "TBr0UErJ78Wr",
        "colab_type": "text"
      },
      "source": [
        "- 총 이익 : (각 제품의 이익 x 계획된 생산량)의 총 합\n",
        "- 이 총 이익(80만원)은 제품 1만 계산된 것. 제품 2의 생산량을 늘려 변화 여부를 파악해보자"
      ]
    },
    {
      "cell_type": "markdown",
      "metadata": {
        "id": "BPTkZ8_I8iP-",
        "colab_type": "text"
      },
      "source": [
        "### 테크닉 066 : 생산 최적화 문제를 풀어보자\n",
        "- 문제를 푸는 흐름은 테크닉 61과 동일"
      ]
    },
    {
      "cell_type": "code",
      "metadata": {
        "id": "4VPUvuYg75BQ",
        "colab_type": "code",
        "colab": {
          "base_uri": "https://localhost:8080/",
          "height": 105
        },
        "outputId": "c647db88-d74f-4030-80f3-974769b1602d"
      },
      "source": [
        "from pulp import LpVariable, lpSum, value\n",
        "from ortoolpy import model_max, addvars, addvals\n",
        "\n",
        "\n",
        "df = df_material.copy()\n",
        "inv = df_stock\n",
        "\n",
        "m = model_max() # 최대화 계산\n",
        "v1 = {(i):LpVariable('v%d'%(i),lowBound=0) for i in range(len(df_profit))}\n",
        "m += lpSum(df_profit.iloc[i]*v1[i] for i in range(len(df_profit)))\n",
        "\n",
        "# 각 원료 사용량이 원료 재고를 넘지 않도록 제약 조건 정의\n",
        "for i in range(len(df_material.columns)):\n",
        "    m += lpSum(df_material.iloc[j,i]*v1[j] for j in range(len(df_profit)) ) <= df_stock.iloc[:,i]\n",
        "m.solve()\n",
        "\n",
        "df_plan_sol = df_plan.copy()\n",
        "for k,x in v1.items():\n",
        "    df_plan_sol.iloc[k] = value(x)\n",
        "    \n",
        "print(df_plan_sol)\n",
        "print(\"총 이익:\"+str(value(m.objective)))"
      ],
      "execution_count": 8,
      "outputs": [
        {
          "output_type": "stream",
          "text": [
            "      생산량\n",
            "제품       \n",
            "제품1  15.0\n",
            "제품2   5.0\n",
            "총 이익:95.0\n"
          ],
          "name": "stdout"
        }
      ]
    },
    {
      "cell_type": "markdown",
      "metadata": {
        "id": "HAzKA2l9H3TS",
        "colab_type": "text"
      },
      "source": [
        "- 제품1의 생산량이 16에서 15로 1 줄었고, 제품2의 생산량이 0에서 5로 늘었다\n",
        "- 총 이익은 80에서 95로 증가"
      ]
    },
    {
      "cell_type": "markdown",
      "metadata": {
        "id": "9UlC3BTHH-ko",
        "colab_type": "text"
      },
      "source": [
        "### 테크닉 067 : 최적 생산 계획이 제약 조건을 만족하는지 확인하자\n",
        "- 최적화 문제를 풀 때 가장 주의할 점: 최적화 계산을 한 결과를 이해하지 않고 그냥 받아들이면 안된다는 것\n",
        "- 제약 조건을 만족하는지 확인하는 것이 우선"
      ]
    },
    {
      "cell_type": "code",
      "metadata": {
        "id": "VGfsi_ex8vNo",
        "colab_type": "code",
        "colab": {
          "base_uri": "https://localhost:8080/",
          "height": 87
        },
        "outputId": "2b44a08c-3e9d-493c-9fad-5c0453b7a880"
      },
      "source": [
        "# 제약 조건 계산 함수\n",
        "def condition_stock(df_plan,df_material,df_stock):\n",
        "    flag = np.zeros(len(df_material.columns))\n",
        "    for i in range(len(df_material.columns)):  \n",
        "        temp_sum = 0\n",
        "        for j in range(len(df_material.index)):  \n",
        "            temp_sum = temp_sum + df_material.iloc[j][i]*float(df_plan.iloc[j])\n",
        "        if (temp_sum<=float(df_stock.iloc[0][i])):\n",
        "            flag[i] = 1\n",
        "        print(df_material.columns[i]+\"  사용량:\"+str(temp_sum)+\", 재고:\"+str(float(df_stock.iloc[0][i])))\n",
        "    return flag\n",
        "\n",
        "print(\"제약 조건 계산 결과:\"+str(condition_stock(df_plan_sol,df_material,df_stock)))"
      ],
      "execution_count": 9,
      "outputs": [
        {
          "output_type": "stream",
          "text": [
            "원료1  사용량:25.0, 재고:40.0\n",
            "원료2  사용량:80.0, 재고:80.0\n",
            "원료3  사용량:50.0, 재고:50.0\n",
            "제약 조건 계산 결과:[1. 1. 1.]\n"
          ],
          "name": "stdout"
        }
      ]
    },
    {
      "cell_type": "markdown",
      "metadata": {
        "id": "lPU9ilYeI_L2",
        "colab_type": "text"
      },
      "source": [
        "- 제약 조건 모두 충족\n",
        "- 원료2, 원료3의 경우 재고를 모두 사용하고 원료1은 재고가 조금 남아 있음\n",
        "- 비교적 효율적으로 원료 재고를 소비"
      ]
    },
    {
      "cell_type": "markdown",
      "metadata": {
        "id": "ILlhpbBYJox9",
        "colab_type": "text"
      },
      "source": [
        "### 테크닉 068 : 물류 네트워크 설계 문제를 풀어보자\n",
        "- 이제 운송 경로와 생산 계획 최적화 문제를 함께 고려\n",
        "- 상품의 수요가 이미 결정되어 있으면 이제 고려할 것은 어떻게 비용을 낮출 것인가 하는 것. 운송 비용과 제조 비용이 수요를 만족하면서 최소가 되게 정식화\n",
        "- 목적함수 = 운송 비용 + 제조 비용\n",
        "- 제약조건 = 대리점 판매 수 > 수요 수"
      ]
    },
    {
      "cell_type": "code",
      "metadata": {
        "id": "oJfDh6JEI9bp",
        "colab_type": "code",
        "colab": {
          "base_uri": "https://localhost:8080/",
          "height": 562
        },
        "outputId": "8fb66cf6-5e42-4430-e3b6-61e2b86cfc94"
      },
      "source": [
        "import numpy as np\n",
        "import pandas as pd\n",
        "\n",
        "제품 = list('AB')\n",
        "대리점 = list('PQ')\n",
        "공장 = list('XY')\n",
        "레인 = (2,2)\n",
        "\n",
        "# 운송비 #\n",
        "tbdi = pd.DataFrame(((j,k) for j in 대리점 for k in 공장), columns=['대리점','공장'])\n",
        "tbdi['운송비'] = [1,2,3,1]\n",
        "print(tbdi)\n",
        "\n",
        "# 수요 #\n",
        "tbde = pd.DataFrame(((j,i) for j in 대리점 for i in 제품), columns=['대리점','제품'])\n",
        "tbde['수요'] = [10,10,20,20]\n",
        "print(tbde)\n",
        "\n",
        "# 생산 #\n",
        "tbfa = pd.DataFrame(((k,l,i,0,np.inf) for k,nl in zip (공장,레인) for l in range(nl) for i in 제품), \n",
        "                    columns=['공장','레인','제품','하한','상한'])\n",
        "tbfa['생산비'] = [1,np.nan,np.nan,1,3,np.nan,5,3]\n",
        "tbfa.dropna(inplace=True)\n",
        "tbfa.loc[4,'상한']=10\n",
        "print(tbfa)\n",
        "\n",
        "from ortoolpy import logistics_network\n",
        "_, tbdi2, _ = logistics_network(tbde, tbdi, tbfa,dep = \"대리점\", dem = \"수요\",fac = \"공장\",\n",
        "                                prd = \"제품\",tcs = \"운송비\",pcs = \"생산비\",lwb = \"하한\",upb = \"상한\")\n",
        "\n",
        "print(tbfa)\n",
        "print(tbdi2)"
      ],
      "execution_count": 10,
      "outputs": [
        {
          "output_type": "stream",
          "text": [
            "  대리점 공장  운송비\n",
            "0   P  X    1\n",
            "1   P  Y    2\n",
            "2   Q  X    3\n",
            "3   Q  Y    1\n",
            "  대리점 제품  수요\n",
            "0   P  A  10\n",
            "1   P  B  10\n",
            "2   Q  A  20\n",
            "3   Q  B  20\n",
            "  공장  레인 제품  하한    상한  생산비\n",
            "0  X   0  A   0   inf  1.0\n",
            "3  X   1  B   0   inf  1.0\n",
            "4  Y   0  A   0  10.0  3.0\n",
            "6  Y   1  A   0   inf  5.0\n",
            "7  Y   1  B   0   inf  3.0\n",
            "  공장  레인 제품  하한    상한  생산비     VarY  ValY\n",
            "0  X   0  A   0   inf  1.0  v000009  20.0\n",
            "3  X   1  B   0   inf  1.0  v000010  10.0\n",
            "4  Y   0  A   0  10.0  3.0  v000011  10.0\n",
            "6  Y   1  A   0   inf  5.0  v000012   0.0\n",
            "7  Y   1  B   0   inf  3.0  v000013  20.0\n",
            "  대리점 공장  운송비 제품     VarX  ValX\n",
            "0   P  X    1  A  v000001  10.0\n",
            "1   P  X    1  B  v000002  10.0\n",
            "2   Q  X    3  A  v000003  10.0\n",
            "3   Q  X    3  B  v000004   0.0\n",
            "4   P  Y    2  A  v000005   0.0\n",
            "5   P  Y    2  B  v000006   0.0\n",
            "6   Q  Y    1  A  v000007  10.0\n",
            "7   Q  Y    1  B  v000008  20.0\n"
          ],
          "name": "stdout"
        }
      ]
    },
    {
      "cell_type": "markdown",
      "metadata": {
        "id": "ZHfo1MdVKX2z",
        "colab_type": "text"
      },
      "source": [
        "- 함수 logistics_network)\n",
        "- ValY: 최적 생산량\n",
        "- ValX: 최적 운송량"
      ]
    },
    {
      "cell_type": "markdown",
      "metadata": {
        "id": "qFGfvsLBQoNT",
        "colab_type": "text"
      },
      "source": [
        "### 테크닉 069 : 최적 네트워크의 운송 비용과 그 내역을 계산하자\n",
        "- 운송 비용: logistics_network의 반환값으로 tbdi2에 저장됨\n",
        "- '운송비' 칼럼과 'ValX' 칼럼(최적 운송량)을 곱하면 운송 비용 계산 가능"
      ]
    },
    {
      "cell_type": "code",
      "metadata": {
        "id": "EjPIhddEKKhR",
        "colab_type": "code",
        "colab": {
          "base_uri": "https://localhost:8080/",
          "height": 284
        },
        "outputId": "4d4de56b-63c5-47d2-b9cc-02250e4c1397"
      },
      "source": [
        "# 칼럼 재정렬\n",
        "tbdi2 = tbdi2[['공장', '대리점', '운송비', '제품', 'VarX', 'ValX']]\n",
        "tbdi2"
      ],
      "execution_count": 11,
      "outputs": [
        {
          "output_type": "execute_result",
          "data": {
            "text/html": [
              "<div>\n",
              "<style scoped>\n",
              "    .dataframe tbody tr th:only-of-type {\n",
              "        vertical-align: middle;\n",
              "    }\n",
              "\n",
              "    .dataframe tbody tr th {\n",
              "        vertical-align: top;\n",
              "    }\n",
              "\n",
              "    .dataframe thead th {\n",
              "        text-align: right;\n",
              "    }\n",
              "</style>\n",
              "<table border=\"1\" class=\"dataframe\">\n",
              "  <thead>\n",
              "    <tr style=\"text-align: right;\">\n",
              "      <th></th>\n",
              "      <th>공장</th>\n",
              "      <th>대리점</th>\n",
              "      <th>운송비</th>\n",
              "      <th>제품</th>\n",
              "      <th>VarX</th>\n",
              "      <th>ValX</th>\n",
              "    </tr>\n",
              "  </thead>\n",
              "  <tbody>\n",
              "    <tr>\n",
              "      <th>0</th>\n",
              "      <td>X</td>\n",
              "      <td>P</td>\n",
              "      <td>1</td>\n",
              "      <td>A</td>\n",
              "      <td>v000001</td>\n",
              "      <td>10.0</td>\n",
              "    </tr>\n",
              "    <tr>\n",
              "      <th>1</th>\n",
              "      <td>X</td>\n",
              "      <td>P</td>\n",
              "      <td>1</td>\n",
              "      <td>B</td>\n",
              "      <td>v000002</td>\n",
              "      <td>10.0</td>\n",
              "    </tr>\n",
              "    <tr>\n",
              "      <th>2</th>\n",
              "      <td>X</td>\n",
              "      <td>Q</td>\n",
              "      <td>3</td>\n",
              "      <td>A</td>\n",
              "      <td>v000003</td>\n",
              "      <td>10.0</td>\n",
              "    </tr>\n",
              "    <tr>\n",
              "      <th>3</th>\n",
              "      <td>X</td>\n",
              "      <td>Q</td>\n",
              "      <td>3</td>\n",
              "      <td>B</td>\n",
              "      <td>v000004</td>\n",
              "      <td>0.0</td>\n",
              "    </tr>\n",
              "    <tr>\n",
              "      <th>4</th>\n",
              "      <td>Y</td>\n",
              "      <td>P</td>\n",
              "      <td>2</td>\n",
              "      <td>A</td>\n",
              "      <td>v000005</td>\n",
              "      <td>0.0</td>\n",
              "    </tr>\n",
              "    <tr>\n",
              "      <th>5</th>\n",
              "      <td>Y</td>\n",
              "      <td>P</td>\n",
              "      <td>2</td>\n",
              "      <td>B</td>\n",
              "      <td>v000006</td>\n",
              "      <td>0.0</td>\n",
              "    </tr>\n",
              "    <tr>\n",
              "      <th>6</th>\n",
              "      <td>Y</td>\n",
              "      <td>Q</td>\n",
              "      <td>1</td>\n",
              "      <td>A</td>\n",
              "      <td>v000007</td>\n",
              "      <td>10.0</td>\n",
              "    </tr>\n",
              "    <tr>\n",
              "      <th>7</th>\n",
              "      <td>Y</td>\n",
              "      <td>Q</td>\n",
              "      <td>1</td>\n",
              "      <td>B</td>\n",
              "      <td>v000008</td>\n",
              "      <td>20.0</td>\n",
              "    </tr>\n",
              "  </tbody>\n",
              "</table>\n",
              "</div>"
            ],
            "text/plain": [
              "  공장 대리점  운송비 제품     VarX  ValX\n",
              "0  X   P    1  A  v000001  10.0\n",
              "1  X   P    1  B  v000002  10.0\n",
              "2  X   Q    3  A  v000003  10.0\n",
              "3  X   Q    3  B  v000004   0.0\n",
              "4  Y   P    2  A  v000005   0.0\n",
              "5  Y   P    2  B  v000006   0.0\n",
              "6  Y   Q    1  A  v000007  10.0\n",
              "7  Y   Q    1  B  v000008  20.0"
            ]
          },
          "metadata": {
            "tags": []
          },
          "execution_count": 11
        }
      ]
    },
    {
      "cell_type": "code",
      "metadata": {
        "id": "71qypwI0RTko",
        "colab_type": "code",
        "colab": {
          "base_uri": "https://localhost:8080/",
          "height": 34
        },
        "outputId": "5aeed8d5-bdce-47a7-d17e-24255a737fe1"
      },
      "source": [
        "trans_cost = 0\n",
        "for i in range(len(tbdi2.index)):\n",
        "  trans_cost += tbdi2['운송비'].iloc[i]*tbdi2['ValX'].iloc[i]\n",
        "print('총 운송비:' + str(trans_cost))"
      ],
      "execution_count": 12,
      "outputs": [
        {
          "output_type": "stream",
          "text": [
            "총 운송비:80.0\n"
          ],
          "name": "stdout"
        }
      ]
    },
    {
      "cell_type": "markdown",
      "metadata": {
        "id": "hUIRomiER5-R",
        "colab_type": "text"
      },
      "source": [
        "### 테크닉 070 : 최적 네트워크의 생산 비용과 그 내역을 계산하자"
      ]
    },
    {
      "cell_type": "code",
      "metadata": {
        "id": "PmpvPETxRuLS",
        "colab_type": "code",
        "colab": {
          "base_uri": "https://localhost:8080/",
          "height": 140
        },
        "outputId": "826fbde3-7fca-4ad5-9638-c727db258838"
      },
      "source": [
        "# tbfa: 생산 비용\n",
        "# 생산 비용 = '생산비' 칼럼 * ValY 칼럼(최적 생산량)\n",
        "print(tbfa)\n",
        "product_cost = 0\n",
        "for i in range(len(tbfa.index)):\n",
        "  product_cost += tbfa['생산비'].iloc[i]*tbfa['ValY'].iloc[i]\n",
        "print('총 생산비:' + str(product_cost))"
      ],
      "execution_count": 13,
      "outputs": [
        {
          "output_type": "stream",
          "text": [
            "  공장  레인 제품  하한    상한  생산비     VarY  ValY\n",
            "0  X   0  A   0   inf  1.0  v000009  20.0\n",
            "3  X   1  B   0   inf  1.0  v000010  10.0\n",
            "4  Y   0  A   0  10.0  3.0  v000011  10.0\n",
            "6  Y   1  A   0   inf  5.0  v000012   0.0\n",
            "7  Y   1  B   0   inf  3.0  v000013  20.0\n",
            "총 생산비:120.0\n"
          ],
          "name": "stdout"
        }
      ]
    },
    {
      "cell_type": "code",
      "metadata": {
        "id": "SuliUpqqSVAG",
        "colab_type": "code",
        "colab": {}
      },
      "source": [
        ""
      ],
      "execution_count": null,
      "outputs": []
    }
  ]
}