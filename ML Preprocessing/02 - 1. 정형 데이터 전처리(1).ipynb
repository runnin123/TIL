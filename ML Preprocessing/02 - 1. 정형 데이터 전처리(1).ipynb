{
  "nbformat": 4,
  "nbformat_minor": 0,
  "metadata": {
    "colab": {
      "name": "02. 정형 데이터 전처리(1) - 1)",
      "provenance": [],
      "collapsed_sections": []
    },
    "kernelspec": {
      "name": "python3",
      "display_name": "Python 3"
    }
  },
  "cells": [
    {
      "cell_type": "markdown",
      "metadata": {
        "id": "i_LEegTu2i_7"
      },
      "source": [
        "# 비즈니스 시나리오"
      ]
    },
    {
      "cell_type": "markdown",
      "metadata": {
        "id": "e2LmakIB2pbn"
      },
      "source": [
        "\"어떤 한 은행에서 정기예금 계약을 위한 텔레마케팅을 실시.   \n",
        "오퍼레이터가 과거의 경험에 의거, 잠재고객에게 전화를 걸고 있지만 최근 수 년간 신규고객의 계약 건수가 주춤하고 있고 실패 건수가 눈에 띄는 상태.   \n",
        "전화를 걸수록 인건비만 늘어나므로 고객 수를 늘리기 위한 대책 필요\""
      ]
    },
    {
      "cell_type": "markdown",
      "metadata": {
        "id": "z2Sewq1h3Jug"
      },
      "source": [
        "## 목적\n",
        "계약 건수를 늘리는 것\n",
        "- 현재 상태: 과거의 경험을 바탕으로 텔레마케팅 실시(정성적)   \n",
        "\n",
        "- 목표 상태: 데이터를 활용해 계약 잠재력이 높은 고객부터 먼저 텔레마케팅 실시(정량적)"
      ]
    },
    {
      "cell_type": "markdown",
      "metadata": {
        "id": "kg-RQpxg3DjS"
      },
      "source": [
        "## 분석 목표\n",
        "계약 잠재력이 높은 고객을 발견하는 것"
      ]
    },
    {
      "cell_type": "markdown",
      "metadata": {
        "id": "35OH_6q93aDP"
      },
      "source": [
        "# 1. 데이터 이해\n",
        "파일: bank.csv   \n",
        "변수 설명\n",
        "- age : 나이   \n",
        "- job : 직종   \n",
        "- matrial : 결혼 이력   \n",
        "- education :학력   \n",
        "- default : 채무 불이행 유무\n",
        "- balance : 연간 평균 잔고\n",
        "- housing : 주택 대출 유무   \n",
        "- loan : 개인 대출 유무\n",
        "- contact : 연락 수단\n",
        "- day : 마지막으로 접촉한 날짜\n",
        "- month : 마지막으로 접촉한 달\n",
        "- duration : 접촉한 시간\n",
        "- campaign : 이번 캠페인으로 접촉한 회수\n",
        "- pdays : 지난 번 캠페인에서 마지막으로 접촉한 후의 경과 시간\n",
        "- previous : 이번 캠페인 이전에 접촉한 회수\n",
        "- poutcome : 지난 번 캠페인의 성공 유무\n",
        "- y : 예금 신청 유무"
      ]
    },
    {
      "cell_type": "markdown",
      "metadata": {
        "id": "TDqWkJnc4Q7w"
      },
      "source": [
        "## 1.1 데이터 읽기와 확인"
      ]
    },
    {
      "cell_type": "code",
      "metadata": {
        "id": "hJfnG3eb2Zb_",
        "outputId": "50f74d44-055c-4aec-d04e-d4fcf6d18483",
        "colab": {
          "base_uri": "https://localhost:8080/",
          "height": 195
        }
      },
      "source": [
        "# pandas 임포트 및 파일 업로드\n",
        "import pandas as pd\n",
        "\n",
        "bank_df = pd.read_csv('/content/drive/My Drive/Colab Notebooks/전처리/chap3-4/data/data/bank.csv')\n",
        "bank_df.head()"
      ],
      "execution_count": 1,
      "outputs": [
        {
          "output_type": "execute_result",
          "data": {
            "text/html": [
              "<div>\n",
              "<style scoped>\n",
              "    .dataframe tbody tr th:only-of-type {\n",
              "        vertical-align: middle;\n",
              "    }\n",
              "\n",
              "    .dataframe tbody tr th {\n",
              "        vertical-align: top;\n",
              "    }\n",
              "\n",
              "    .dataframe thead th {\n",
              "        text-align: right;\n",
              "    }\n",
              "</style>\n",
              "<table border=\"1\" class=\"dataframe\">\n",
              "  <thead>\n",
              "    <tr style=\"text-align: right;\">\n",
              "      <th></th>\n",
              "      <th>age</th>\n",
              "      <th>job</th>\n",
              "      <th>marital</th>\n",
              "      <th>education</th>\n",
              "      <th>default</th>\n",
              "      <th>balance</th>\n",
              "      <th>housing</th>\n",
              "      <th>loan</th>\n",
              "      <th>contact</th>\n",
              "      <th>day</th>\n",
              "      <th>month</th>\n",
              "      <th>duration</th>\n",
              "      <th>campaign</th>\n",
              "      <th>pdays</th>\n",
              "      <th>previous</th>\n",
              "      <th>poutcome</th>\n",
              "      <th>y</th>\n",
              "    </tr>\n",
              "  </thead>\n",
              "  <tbody>\n",
              "    <tr>\n",
              "      <th>0</th>\n",
              "      <td>58</td>\n",
              "      <td>management</td>\n",
              "      <td>married</td>\n",
              "      <td>tertiary</td>\n",
              "      <td>no</td>\n",
              "      <td>2143</td>\n",
              "      <td>yes</td>\n",
              "      <td>no</td>\n",
              "      <td>NaN</td>\n",
              "      <td>5</td>\n",
              "      <td>may</td>\n",
              "      <td>261</td>\n",
              "      <td>1</td>\n",
              "      <td>-1</td>\n",
              "      <td>0</td>\n",
              "      <td>NaN</td>\n",
              "      <td>no</td>\n",
              "    </tr>\n",
              "    <tr>\n",
              "      <th>1</th>\n",
              "      <td>36</td>\n",
              "      <td>technician</td>\n",
              "      <td>single</td>\n",
              "      <td>secondary</td>\n",
              "      <td>no</td>\n",
              "      <td>265</td>\n",
              "      <td>yes</td>\n",
              "      <td>yes</td>\n",
              "      <td>NaN</td>\n",
              "      <td>5</td>\n",
              "      <td>may</td>\n",
              "      <td>348</td>\n",
              "      <td>1</td>\n",
              "      <td>-1</td>\n",
              "      <td>0</td>\n",
              "      <td>NaN</td>\n",
              "      <td>no</td>\n",
              "    </tr>\n",
              "    <tr>\n",
              "      <th>2</th>\n",
              "      <td>25</td>\n",
              "      <td>blue-collar</td>\n",
              "      <td>married</td>\n",
              "      <td>secondary</td>\n",
              "      <td>no</td>\n",
              "      <td>-7</td>\n",
              "      <td>yes</td>\n",
              "      <td>no</td>\n",
              "      <td>NaN</td>\n",
              "      <td>5</td>\n",
              "      <td>may</td>\n",
              "      <td>365</td>\n",
              "      <td>1</td>\n",
              "      <td>-1</td>\n",
              "      <td>0</td>\n",
              "      <td>NaN</td>\n",
              "      <td>no</td>\n",
              "    </tr>\n",
              "    <tr>\n",
              "      <th>3</th>\n",
              "      <td>53</td>\n",
              "      <td>technician</td>\n",
              "      <td>married</td>\n",
              "      <td>secondary</td>\n",
              "      <td>no</td>\n",
              "      <td>-3</td>\n",
              "      <td>no</td>\n",
              "      <td>no</td>\n",
              "      <td>NaN</td>\n",
              "      <td>5</td>\n",
              "      <td>may</td>\n",
              "      <td>1666</td>\n",
              "      <td>1</td>\n",
              "      <td>-1</td>\n",
              "      <td>0</td>\n",
              "      <td>NaN</td>\n",
              "      <td>no</td>\n",
              "    </tr>\n",
              "    <tr>\n",
              "      <th>4</th>\n",
              "      <td>24</td>\n",
              "      <td>technician</td>\n",
              "      <td>single</td>\n",
              "      <td>secondary</td>\n",
              "      <td>no</td>\n",
              "      <td>-103</td>\n",
              "      <td>yes</td>\n",
              "      <td>yes</td>\n",
              "      <td>NaN</td>\n",
              "      <td>5</td>\n",
              "      <td>may</td>\n",
              "      <td>145</td>\n",
              "      <td>1</td>\n",
              "      <td>-1</td>\n",
              "      <td>0</td>\n",
              "      <td>NaN</td>\n",
              "      <td>no</td>\n",
              "    </tr>\n",
              "  </tbody>\n",
              "</table>\n",
              "</div>"
            ],
            "text/plain": [
              "   age          job  marital  education  ... pdays  previous poutcome   y\n",
              "0   58   management  married   tertiary  ...    -1         0      NaN  no\n",
              "1   36   technician   single  secondary  ...    -1         0      NaN  no\n",
              "2   25  blue-collar  married  secondary  ...    -1         0      NaN  no\n",
              "3   53   technician  married  secondary  ...    -1         0      NaN  no\n",
              "4   24   technician   single  secondary  ...    -1         0      NaN  no\n",
              "\n",
              "[5 rows x 17 columns]"
            ]
          },
          "metadata": {
            "tags": []
          },
          "execution_count": 1
        }
      ]
    },
    {
      "cell_type": "code",
      "metadata": {
        "id": "8ZM7N3Jo4pu6",
        "outputId": "a814311c-f0b8-411b-9f4d-d7b9e3cfe251",
        "colab": {
          "base_uri": "https://localhost:8080/",
          "height": 343
        }
      },
      "source": [
        "# 연습 1) 끝에서 10행까지 표시\n",
        "bank_df.tail(10)"
      ],
      "execution_count": 2,
      "outputs": [
        {
          "output_type": "execute_result",
          "data": {
            "text/html": [
              "<div>\n",
              "<style scoped>\n",
              "    .dataframe tbody tr th:only-of-type {\n",
              "        vertical-align: middle;\n",
              "    }\n",
              "\n",
              "    .dataframe tbody tr th {\n",
              "        vertical-align: top;\n",
              "    }\n",
              "\n",
              "    .dataframe thead th {\n",
              "        text-align: right;\n",
              "    }\n",
              "</style>\n",
              "<table border=\"1\" class=\"dataframe\">\n",
              "  <thead>\n",
              "    <tr style=\"text-align: right;\">\n",
              "      <th></th>\n",
              "      <th>age</th>\n",
              "      <th>job</th>\n",
              "      <th>marital</th>\n",
              "      <th>education</th>\n",
              "      <th>default</th>\n",
              "      <th>balance</th>\n",
              "      <th>housing</th>\n",
              "      <th>loan</th>\n",
              "      <th>contact</th>\n",
              "      <th>day</th>\n",
              "      <th>month</th>\n",
              "      <th>duration</th>\n",
              "      <th>campaign</th>\n",
              "      <th>pdays</th>\n",
              "      <th>previous</th>\n",
              "      <th>poutcome</th>\n",
              "      <th>y</th>\n",
              "    </tr>\n",
              "  </thead>\n",
              "  <tbody>\n",
              "    <tr>\n",
              "      <th>7224</th>\n",
              "      <td>63</td>\n",
              "      <td>retired</td>\n",
              "      <td>married</td>\n",
              "      <td>primary</td>\n",
              "      <td>no</td>\n",
              "      <td>3738</td>\n",
              "      <td>no</td>\n",
              "      <td>no</td>\n",
              "      <td>telephone</td>\n",
              "      <td>9</td>\n",
              "      <td>nov</td>\n",
              "      <td>301</td>\n",
              "      <td>1</td>\n",
              "      <td>456</td>\n",
              "      <td>4</td>\n",
              "      <td>failure</td>\n",
              "      <td>no</td>\n",
              "    </tr>\n",
              "    <tr>\n",
              "      <th>7225</th>\n",
              "      <td>29</td>\n",
              "      <td>admin.</td>\n",
              "      <td>single</td>\n",
              "      <td>secondary</td>\n",
              "      <td>no</td>\n",
              "      <td>464</td>\n",
              "      <td>no</td>\n",
              "      <td>no</td>\n",
              "      <td>cellular</td>\n",
              "      <td>9</td>\n",
              "      <td>nov</td>\n",
              "      <td>208</td>\n",
              "      <td>2</td>\n",
              "      <td>91</td>\n",
              "      <td>3</td>\n",
              "      <td>success</td>\n",
              "      <td>yes</td>\n",
              "    </tr>\n",
              "    <tr>\n",
              "      <th>7226</th>\n",
              "      <td>33</td>\n",
              "      <td>admin.</td>\n",
              "      <td>single</td>\n",
              "      <td>secondary</td>\n",
              "      <td>no</td>\n",
              "      <td>690</td>\n",
              "      <td>no</td>\n",
              "      <td>no</td>\n",
              "      <td>cellular</td>\n",
              "      <td>10</td>\n",
              "      <td>nov</td>\n",
              "      <td>223</td>\n",
              "      <td>3</td>\n",
              "      <td>555</td>\n",
              "      <td>16</td>\n",
              "      <td>failure</td>\n",
              "      <td>no</td>\n",
              "    </tr>\n",
              "    <tr>\n",
              "      <th>7227</th>\n",
              "      <td>36</td>\n",
              "      <td>admin.</td>\n",
              "      <td>single</td>\n",
              "      <td>tertiary</td>\n",
              "      <td>no</td>\n",
              "      <td>980</td>\n",
              "      <td>no</td>\n",
              "      <td>no</td>\n",
              "      <td>cellular</td>\n",
              "      <td>11</td>\n",
              "      <td>nov</td>\n",
              "      <td>118</td>\n",
              "      <td>4</td>\n",
              "      <td>104</td>\n",
              "      <td>7</td>\n",
              "      <td>failure</td>\n",
              "      <td>no</td>\n",
              "    </tr>\n",
              "    <tr>\n",
              "      <th>7228</th>\n",
              "      <td>38</td>\n",
              "      <td>entrepreneur</td>\n",
              "      <td>single</td>\n",
              "      <td>secondary</td>\n",
              "      <td>no</td>\n",
              "      <td>2543</td>\n",
              "      <td>no</td>\n",
              "      <td>no</td>\n",
              "      <td>cellular</td>\n",
              "      <td>11</td>\n",
              "      <td>nov</td>\n",
              "      <td>357</td>\n",
              "      <td>3</td>\n",
              "      <td>93</td>\n",
              "      <td>5</td>\n",
              "      <td>success</td>\n",
              "      <td>yes</td>\n",
              "    </tr>\n",
              "    <tr>\n",
              "      <th>7229</th>\n",
              "      <td>25</td>\n",
              "      <td>services</td>\n",
              "      <td>single</td>\n",
              "      <td>secondary</td>\n",
              "      <td>no</td>\n",
              "      <td>199</td>\n",
              "      <td>no</td>\n",
              "      <td>no</td>\n",
              "      <td>cellular</td>\n",
              "      <td>16</td>\n",
              "      <td>nov</td>\n",
              "      <td>173</td>\n",
              "      <td>1</td>\n",
              "      <td>92</td>\n",
              "      <td>5</td>\n",
              "      <td>failure</td>\n",
              "      <td>no</td>\n",
              "    </tr>\n",
              "    <tr>\n",
              "      <th>7230</th>\n",
              "      <td>28</td>\n",
              "      <td>self-employed</td>\n",
              "      <td>single</td>\n",
              "      <td>tertiary</td>\n",
              "      <td>no</td>\n",
              "      <td>159</td>\n",
              "      <td>no</td>\n",
              "      <td>no</td>\n",
              "      <td>cellular</td>\n",
              "      <td>16</td>\n",
              "      <td>nov</td>\n",
              "      <td>449</td>\n",
              "      <td>2</td>\n",
              "      <td>33</td>\n",
              "      <td>4</td>\n",
              "      <td>success</td>\n",
              "      <td>yes</td>\n",
              "    </tr>\n",
              "    <tr>\n",
              "      <th>7231</th>\n",
              "      <td>59</td>\n",
              "      <td>management</td>\n",
              "      <td>married</td>\n",
              "      <td>tertiary</td>\n",
              "      <td>no</td>\n",
              "      <td>138</td>\n",
              "      <td>yes</td>\n",
              "      <td>yes</td>\n",
              "      <td>cellular</td>\n",
              "      <td>16</td>\n",
              "      <td>nov</td>\n",
              "      <td>162</td>\n",
              "      <td>2</td>\n",
              "      <td>187</td>\n",
              "      <td>5</td>\n",
              "      <td>failure</td>\n",
              "      <td>no</td>\n",
              "    </tr>\n",
              "    <tr>\n",
              "      <th>7232</th>\n",
              "      <td>37</td>\n",
              "      <td>management</td>\n",
              "      <td>married</td>\n",
              "      <td>tertiary</td>\n",
              "      <td>no</td>\n",
              "      <td>1428</td>\n",
              "      <td>no</td>\n",
              "      <td>no</td>\n",
              "      <td>cellular</td>\n",
              "      <td>16</td>\n",
              "      <td>nov</td>\n",
              "      <td>333</td>\n",
              "      <td>2</td>\n",
              "      <td>-1</td>\n",
              "      <td>0</td>\n",
              "      <td>NaN</td>\n",
              "      <td>no</td>\n",
              "    </tr>\n",
              "    <tr>\n",
              "      <th>7233</th>\n",
              "      <td>25</td>\n",
              "      <td>technician</td>\n",
              "      <td>single</td>\n",
              "      <td>secondary</td>\n",
              "      <td>no</td>\n",
              "      <td>505</td>\n",
              "      <td>no</td>\n",
              "      <td>yes</td>\n",
              "      <td>cellular</td>\n",
              "      <td>17</td>\n",
              "      <td>nov</td>\n",
              "      <td>386</td>\n",
              "      <td>2</td>\n",
              "      <td>-1</td>\n",
              "      <td>0</td>\n",
              "      <td>NaN</td>\n",
              "      <td>yes</td>\n",
              "    </tr>\n",
              "  </tbody>\n",
              "</table>\n",
              "</div>"
            ],
            "text/plain": [
              "      age            job  marital  education  ... pdays  previous poutcome    y\n",
              "7224   63        retired  married    primary  ...   456         4  failure   no\n",
              "7225   29         admin.   single  secondary  ...    91         3  success  yes\n",
              "7226   33         admin.   single  secondary  ...   555        16  failure   no\n",
              "7227   36         admin.   single   tertiary  ...   104         7  failure   no\n",
              "7228   38   entrepreneur   single  secondary  ...    93         5  success  yes\n",
              "7229   25       services   single  secondary  ...    92         5  failure   no\n",
              "7230   28  self-employed   single   tertiary  ...    33         4  success  yes\n",
              "7231   59     management  married   tertiary  ...   187         5  failure   no\n",
              "7232   37     management  married   tertiary  ...    -1         0      NaN   no\n",
              "7233   25     technician   single  secondary  ...    -1         0      NaN  yes\n",
              "\n",
              "[10 rows x 17 columns]"
            ]
          },
          "metadata": {
            "tags": []
          },
          "execution_count": 2
        }
      ]
    },
    {
      "cell_type": "code",
      "metadata": {
        "id": "SPhrtUaJ45Qg",
        "outputId": "31dee003-0067-44e4-8f31-446cce2695cb",
        "colab": {
          "base_uri": "https://localhost:8080/"
        }
      },
      "source": [
        "# 데이터 행, 열 갯수 확인\n",
        "bank_df.shape"
      ],
      "execution_count": 3,
      "outputs": [
        {
          "output_type": "execute_result",
          "data": {
            "text/plain": [
              "(7234, 17)"
            ]
          },
          "metadata": {
            "tags": []
          },
          "execution_count": 3
        }
      ]
    },
    {
      "cell_type": "code",
      "metadata": {
        "id": "mt-jPtfY4-9Q",
        "outputId": "cba27880-8b64-4f58-9064-a37220680179",
        "colab": {
          "base_uri": "https://localhost:8080/"
        }
      },
      "source": [
        "# 데이터 타입 확인\n",
        "bank_df.dtypes"
      ],
      "execution_count": 4,
      "outputs": [
        {
          "output_type": "execute_result",
          "data": {
            "text/plain": [
              "age           int64\n",
              "job          object\n",
              "marital      object\n",
              "education    object\n",
              "default      object\n",
              "balance       int64\n",
              "housing      object\n",
              "loan         object\n",
              "contact      object\n",
              "day           int64\n",
              "month        object\n",
              "duration      int64\n",
              "campaign      int64\n",
              "pdays         int64\n",
              "previous      int64\n",
              "poutcome     object\n",
              "y            object\n",
              "dtype: object"
            ]
          },
          "metadata": {
            "tags": []
          },
          "execution_count": 4
        }
      ]
    },
    {
      "cell_type": "markdown",
      "metadata": {
        "id": "UP1IsvWL5OSQ"
      },
      "source": [
        "## 1.2 결손값 확인"
      ]
    },
    {
      "cell_type": "code",
      "metadata": {
        "id": "C_3g9P1c5CYE",
        "outputId": "3684d59a-1419-48c1-e0ed-1a752cd3ce7d",
        "colab": {
          "base_uri": "https://localhost:8080/"
        }
      },
      "source": [
        "# 결손값 포함 유무 확인\n",
        "\n",
        "# 행 방향\n",
        "bank_df.isnull().any(axis = 1)"
      ],
      "execution_count": 5,
      "outputs": [
        {
          "output_type": "execute_result",
          "data": {
            "text/plain": [
              "0        True\n",
              "1        True\n",
              "2        True\n",
              "3        True\n",
              "4        True\n",
              "        ...  \n",
              "7229    False\n",
              "7230    False\n",
              "7231    False\n",
              "7232     True\n",
              "7233     True\n",
              "Length: 7234, dtype: bool"
            ]
          },
          "metadata": {
            "tags": []
          },
          "execution_count": 5
        }
      ]
    },
    {
      "cell_type": "code",
      "metadata": {
        "id": "_cBzJr7y5W2A",
        "outputId": "b820d4bc-5cac-48f2-af9f-0347fd227c7b",
        "colab": {
          "base_uri": "https://localhost:8080/"
        }
      },
      "source": [
        "# 열 방향\n",
        "bank_df.isnull().any(axis = 0)"
      ],
      "execution_count": 6,
      "outputs": [
        {
          "output_type": "execute_result",
          "data": {
            "text/plain": [
              "age          False\n",
              "job           True\n",
              "marital      False\n",
              "education     True\n",
              "default      False\n",
              "balance      False\n",
              "housing      False\n",
              "loan         False\n",
              "contact       True\n",
              "day          False\n",
              "month        False\n",
              "duration     False\n",
              "campaign     False\n",
              "pdays        False\n",
              "previous     False\n",
              "poutcome      True\n",
              "y            False\n",
              "dtype: bool"
            ]
          },
          "metadata": {
            "tags": []
          },
          "execution_count": 6
        }
      ]
    },
    {
      "cell_type": "code",
      "metadata": {
        "id": "fKvC91f95nZn",
        "outputId": "6f19f67f-150e-444a-b0de-ae2563e8ad9b",
        "colab": {
          "base_uri": "https://localhost:8080/"
        }
      },
      "source": [
        "# 결손값 개수 파악\n",
        "\n",
        "# 행 방향\n",
        "bank_df.isnull().sum(axis = 1)"
      ],
      "execution_count": 7,
      "outputs": [
        {
          "output_type": "execute_result",
          "data": {
            "text/plain": [
              "0       2\n",
              "1       2\n",
              "2       2\n",
              "3       2\n",
              "4       2\n",
              "       ..\n",
              "7229    0\n",
              "7230    0\n",
              "7231    0\n",
              "7232    1\n",
              "7233    1\n",
              "Length: 7234, dtype: int64"
            ]
          },
          "metadata": {
            "tags": []
          },
          "execution_count": 7
        }
      ]
    },
    {
      "cell_type": "code",
      "metadata": {
        "id": "wGnvK8we5xYH",
        "outputId": "1405d696-8d35-4dfa-fa41-fe8f3fcd4175",
        "colab": {
          "base_uri": "https://localhost:8080/"
        }
      },
      "source": [
        "# 열 방향\n",
        "bank_df.isnull().sum(axis = 0)"
      ],
      "execution_count": 8,
      "outputs": [
        {
          "output_type": "execute_result",
          "data": {
            "text/plain": [
              "age             0\n",
              "job            44\n",
              "marital         0\n",
              "education     273\n",
              "default         0\n",
              "balance         0\n",
              "housing         0\n",
              "loan            0\n",
              "contact      2038\n",
              "day             0\n",
              "month           0\n",
              "duration        0\n",
              "campaign        0\n",
              "pdays           0\n",
              "previous        0\n",
              "poutcome     5900\n",
              "y               0\n",
              "dtype: int64"
            ]
          },
          "metadata": {
            "tags": []
          },
          "execution_count": 8
        }
      ]
    },
    {
      "cell_type": "code",
      "metadata": {
        "id": "B3Ymc0C250i0",
        "outputId": "d693cb7e-38f5-49ad-9449-7a4a656c7a82",
        "colab": {
          "base_uri": "https://localhost:8080/"
        }
      },
      "source": [
        "# 연습 2) 행 기준 결손값 개수를 많은 순서대로 정렬\n",
        "bank_df.isnull().sum(axis = 1).sort_values(ascending = False)"
      ],
      "execution_count": 9,
      "outputs": [
        {
          "output_type": "execute_result",
          "data": {
            "text/plain": [
              "1837    4\n",
              "1629    4\n",
              "139     4\n",
              "1814    4\n",
              "1670    4\n",
              "       ..\n",
              "5919    0\n",
              "5918    0\n",
              "5917    0\n",
              "5916    0\n",
              "5379    0\n",
              "Length: 7234, dtype: int64"
            ]
          },
          "metadata": {
            "tags": []
          },
          "execution_count": 9
        }
      ]
    },
    {
      "cell_type": "markdown",
      "metadata": {
        "id": "gTe3iNnz18Qa"
      },
      "source": [
        "## 1-3. 통계량 계산"
      ]
    },
    {
      "cell_type": "code",
      "metadata": {
        "id": "0yryZLkI6B-9",
        "outputId": "f8088065-2744-4b30-8fb2-935119a9c3ab",
        "colab": {
          "base_uri": "https://localhost:8080/",
          "height": 284
        }
      },
      "source": [
        "# 데이터형이 수치인 항목의 통계량 계산\n",
        "bank_df.describe()"
      ],
      "execution_count": 11,
      "outputs": [
        {
          "output_type": "execute_result",
          "data": {
            "text/html": [
              "<div>\n",
              "<style scoped>\n",
              "    .dataframe tbody tr th:only-of-type {\n",
              "        vertical-align: middle;\n",
              "    }\n",
              "\n",
              "    .dataframe tbody tr th {\n",
              "        vertical-align: top;\n",
              "    }\n",
              "\n",
              "    .dataframe thead th {\n",
              "        text-align: right;\n",
              "    }\n",
              "</style>\n",
              "<table border=\"1\" class=\"dataframe\">\n",
              "  <thead>\n",
              "    <tr style=\"text-align: right;\">\n",
              "      <th></th>\n",
              "      <th>age</th>\n",
              "      <th>balance</th>\n",
              "      <th>day</th>\n",
              "      <th>duration</th>\n",
              "      <th>campaign</th>\n",
              "      <th>pdays</th>\n",
              "      <th>previous</th>\n",
              "    </tr>\n",
              "  </thead>\n",
              "  <tbody>\n",
              "    <tr>\n",
              "      <th>count</th>\n",
              "      <td>7234.000000</td>\n",
              "      <td>7234.000000</td>\n",
              "      <td>7234.000000</td>\n",
              "      <td>7234.000000</td>\n",
              "      <td>7234.000000</td>\n",
              "      <td>7234.000000</td>\n",
              "      <td>7234.000000</td>\n",
              "    </tr>\n",
              "    <tr>\n",
              "      <th>mean</th>\n",
              "      <td>40.834808</td>\n",
              "      <td>1374.912911</td>\n",
              "      <td>15.623860</td>\n",
              "      <td>262.875311</td>\n",
              "      <td>2.713989</td>\n",
              "      <td>40.277716</td>\n",
              "      <td>0.565939</td>\n",
              "    </tr>\n",
              "    <tr>\n",
              "      <th>std</th>\n",
              "      <td>10.706442</td>\n",
              "      <td>3033.882933</td>\n",
              "      <td>8.307826</td>\n",
              "      <td>268.921065</td>\n",
              "      <td>2.983740</td>\n",
              "      <td>99.188008</td>\n",
              "      <td>1.825100</td>\n",
              "    </tr>\n",
              "    <tr>\n",
              "      <th>min</th>\n",
              "      <td>2.000000</td>\n",
              "      <td>-3313.000000</td>\n",
              "      <td>1.000000</td>\n",
              "      <td>0.000000</td>\n",
              "      <td>1.000000</td>\n",
              "      <td>-1.000000</td>\n",
              "      <td>0.000000</td>\n",
              "    </tr>\n",
              "    <tr>\n",
              "      <th>25%</th>\n",
              "      <td>33.000000</td>\n",
              "      <td>74.000000</td>\n",
              "      <td>8.000000</td>\n",
              "      <td>103.000000</td>\n",
              "      <td>1.000000</td>\n",
              "      <td>-1.000000</td>\n",
              "      <td>0.000000</td>\n",
              "    </tr>\n",
              "    <tr>\n",
              "      <th>50%</th>\n",
              "      <td>39.000000</td>\n",
              "      <td>453.500000</td>\n",
              "      <td>16.000000</td>\n",
              "      <td>183.000000</td>\n",
              "      <td>2.000000</td>\n",
              "      <td>-1.000000</td>\n",
              "      <td>0.000000</td>\n",
              "    </tr>\n",
              "    <tr>\n",
              "      <th>75%</th>\n",
              "      <td>48.000000</td>\n",
              "      <td>1470.750000</td>\n",
              "      <td>21.000000</td>\n",
              "      <td>321.750000</td>\n",
              "      <td>3.000000</td>\n",
              "      <td>-1.000000</td>\n",
              "      <td>0.000000</td>\n",
              "    </tr>\n",
              "    <tr>\n",
              "      <th>max</th>\n",
              "      <td>157.000000</td>\n",
              "      <td>81204.000000</td>\n",
              "      <td>31.000000</td>\n",
              "      <td>3366.000000</td>\n",
              "      <td>44.000000</td>\n",
              "      <td>850.000000</td>\n",
              "      <td>40.000000</td>\n",
              "    </tr>\n",
              "  </tbody>\n",
              "</table>\n",
              "</div>"
            ],
            "text/plain": [
              "               age       balance  ...        pdays     previous\n",
              "count  7234.000000   7234.000000  ...  7234.000000  7234.000000\n",
              "mean     40.834808   1374.912911  ...    40.277716     0.565939\n",
              "std      10.706442   3033.882933  ...    99.188008     1.825100\n",
              "min       2.000000  -3313.000000  ...    -1.000000     0.000000\n",
              "25%      33.000000     74.000000  ...    -1.000000     0.000000\n",
              "50%      39.000000    453.500000  ...    -1.000000     0.000000\n",
              "75%      48.000000   1470.750000  ...    -1.000000     0.000000\n",
              "max     157.000000  81204.000000  ...   850.000000    40.000000\n",
              "\n",
              "[8 rows x 7 columns]"
            ]
          },
          "metadata": {
            "tags": []
          },
          "execution_count": 11
        }
      ]
    },
    {
      "cell_type": "markdown",
      "metadata": {
        "id": "de4DXUEt05we"
      },
      "source": [
        "통계량 항목 )   \n",
        "- count : 건수\n",
        "- mean : 평균값\n",
        "- std : 표준편차\n",
        "- min : 최솟값\n",
        "- 25% : 제1사분위값\n",
        "- 50% : 제2사분위값/중앙치\n",
        "- 75% : 제3사분위값\n",
        "- max : 최댓값"
      ]
    },
    {
      "cell_type": "code",
      "metadata": {
        "id": "f6hEdSqF04en",
        "outputId": "05aa20ec-736f-46a0-c3e0-dc71f096aac2",
        "colab": {
          "base_uri": "https://localhost:8080/",
          "height": 166
        }
      },
      "source": [
        "# 연습 3) 데이터형이 문자열(object)인 항목에 대해 각종 통계량 계산\n",
        "bank_df.describe(include = [object])"
      ],
      "execution_count": 12,
      "outputs": [
        {
          "output_type": "execute_result",
          "data": {
            "text/html": [
              "<div>\n",
              "<style scoped>\n",
              "    .dataframe tbody tr th:only-of-type {\n",
              "        vertical-align: middle;\n",
              "    }\n",
              "\n",
              "    .dataframe tbody tr th {\n",
              "        vertical-align: top;\n",
              "    }\n",
              "\n",
              "    .dataframe thead th {\n",
              "        text-align: right;\n",
              "    }\n",
              "</style>\n",
              "<table border=\"1\" class=\"dataframe\">\n",
              "  <thead>\n",
              "    <tr style=\"text-align: right;\">\n",
              "      <th></th>\n",
              "      <th>job</th>\n",
              "      <th>marital</th>\n",
              "      <th>education</th>\n",
              "      <th>default</th>\n",
              "      <th>housing</th>\n",
              "      <th>loan</th>\n",
              "      <th>contact</th>\n",
              "      <th>month</th>\n",
              "      <th>poutcome</th>\n",
              "      <th>y</th>\n",
              "    </tr>\n",
              "  </thead>\n",
              "  <tbody>\n",
              "    <tr>\n",
              "      <th>count</th>\n",
              "      <td>7190</td>\n",
              "      <td>7234</td>\n",
              "      <td>6961</td>\n",
              "      <td>7234</td>\n",
              "      <td>7234</td>\n",
              "      <td>7234</td>\n",
              "      <td>5196</td>\n",
              "      <td>7234</td>\n",
              "      <td>1334</td>\n",
              "      <td>7234</td>\n",
              "    </tr>\n",
              "    <tr>\n",
              "      <th>unique</th>\n",
              "      <td>11</td>\n",
              "      <td>3</td>\n",
              "      <td>3</td>\n",
              "      <td>2</td>\n",
              "      <td>2</td>\n",
              "      <td>2</td>\n",
              "      <td>2</td>\n",
              "      <td>12</td>\n",
              "      <td>3</td>\n",
              "      <td>2</td>\n",
              "    </tr>\n",
              "    <tr>\n",
              "      <th>top</th>\n",
              "      <td>management</td>\n",
              "      <td>married</td>\n",
              "      <td>secondary</td>\n",
              "      <td>no</td>\n",
              "      <td>yes</td>\n",
              "      <td>no</td>\n",
              "      <td>cellular</td>\n",
              "      <td>may</td>\n",
              "      <td>failure</td>\n",
              "      <td>no</td>\n",
              "    </tr>\n",
              "    <tr>\n",
              "      <th>freq</th>\n",
              "      <td>1560</td>\n",
              "      <td>4343</td>\n",
              "      <td>3745</td>\n",
              "      <td>7101</td>\n",
              "      <td>4058</td>\n",
              "      <td>6066</td>\n",
              "      <td>4697</td>\n",
              "      <td>2202</td>\n",
              "      <td>772</td>\n",
              "      <td>6381</td>\n",
              "    </tr>\n",
              "  </tbody>\n",
              "</table>\n",
              "</div>"
            ],
            "text/plain": [
              "               job  marital  education default  ...   contact month poutcome     y\n",
              "count         7190     7234       6961    7234  ...      5196  7234     1334  7234\n",
              "unique          11        3          3       2  ...         2    12        3     2\n",
              "top     management  married  secondary      no  ...  cellular   may  failure    no\n",
              "freq          1560     4343       3745    7101  ...      4697  2202      772  6381\n",
              "\n",
              "[4 rows x 10 columns]"
            ]
          },
          "metadata": {
            "tags": []
          },
          "execution_count": 12
        }
      ]
    },
    {
      "cell_type": "markdown",
      "metadata": {
        "id": "PrRMq58j2BQK"
      },
      "source": [
        "## 1-4. 데이터 시각화 (1)"
      ]
    },
    {
      "cell_type": "markdown",
      "metadata": {
        "id": "5LxUF4HF2Fk1"
      },
      "source": [
        "- Matplotlib 사용, 데이터 시각화 및 분포 확인\n",
        "- 'age' 항목 히스토그램 작성"
      ]
    },
    {
      "cell_type": "code",
      "metadata": {
        "id": "ua9pl_u010e_",
        "outputId": "1d96a270-a58b-4c36-a153-997e427ee9e6",
        "colab": {
          "base_uri": "https://localhost:8080/",
          "height": 279
        }
      },
      "source": [
        "# 'age' 히스토그램 작성\n",
        "import matplotlib.pyplot as plt # matplotlib 임포트\n",
        "%matplotlib inline\n",
        "\n",
        "plt.hist(bank_df['age']) # hist: 히스토그램 작성\n",
        "plt.xlabel('age')\n",
        "plt.ylabel('freq')\n",
        "plt.show()"
      ],
      "execution_count": 13,
      "outputs": [
        {
          "output_type": "display_data",
          "data": {
            "image/png": "[encoded data removed]",
            "text/plain": [
              "<Figure size 432x288 with 1 Axes>"
            ]
          },
          "metadata": {
            "tags": [],
            "needs_background": "light"
          }
        }
      ]
    },
    {
      "cell_type": "code",
      "metadata": {
        "id": "AcsGIJWX2Y1U",
        "outputId": "8b88ca4b-e00e-4fbb-8507-fe95c05e0803",
        "colab": {
          "base_uri": "https://localhost:8080/",
          "height": 279
        }
      },
      "source": [
        "# 연습 4) 그 밖의 수치 항목(balance, day, duration, campaign, pdays, previous) 히스토그램 작성, 분포 확인\n",
        "\n",
        "# 연습 4-1) 'balance'\n",
        "plt.hist(bank_df['balance'])\n",
        "plt.xlabel('balance')\n",
        "plt.ylabel('freq')\n",
        "plt.show()"
      ],
      "execution_count": 14,
      "outputs": [
        {
          "output_type": "display_data",
          "data": {
            "image/png": "[encoded data removed]",
            "text/plain": [
              "<Figure size 432x288 with 1 Axes>"
            ]
          },
          "metadata": {
            "tags": [],
            "needs_background": "light"
          }
        }
      ]
    },
    {
      "cell_type": "code",
      "metadata": {
        "id": "HLWCOpXY20GN",
        "outputId": "694a54f3-e605-4e62-c6ab-2f0dc2e9d6d9",
        "colab": {
          "base_uri": "https://localhost:8080/",
          "height": 279
        }
      },
      "source": [
        "# 연습 4-2) 'day'\n",
        "plt.hist(bank_df['day'])\n",
        "plt.xlabel('day')\n",
        "plt.ylabel('freq')\n",
        "plt.show()"
      ],
      "execution_count": 15,
      "outputs": [
        {
          "output_type": "display_data",
          "data": {
            "image/png": "[encoded data removed]",
            "text/plain": [
              "<Figure size 432x288 with 1 Axes>"
            ]
          },
          "metadata": {
            "tags": [],
            "needs_background": "light"
          }
        }
      ]
    },
    {
      "cell_type": "code",
      "metadata": {
        "id": "mSJpFdVQ23kb",
        "outputId": "f7218b5d-f289-4691-d955-9ab46e89b086",
        "colab": {
          "base_uri": "https://localhost:8080/",
          "height": 279
        }
      },
      "source": [
        "# 연습 4-3) 'duration'\n",
        "plt.hist(bank_df['duration'])\n",
        "plt.xlabel('duration')\n",
        "plt.ylabel('freq')\n",
        "plt.show()"
      ],
      "execution_count": 16,
      "outputs": [
        {
          "output_type": "display_data",
          "data": {
            "image/png": "[encoded data removed]",
            "text/plain": [
              "<Figure size 432x288 with 1 Axes>"
            ]
          },
          "metadata": {
            "tags": [],
            "needs_background": "light"
          }
        }
      ]
    },
    {
      "cell_type": "code",
      "metadata": {
        "id": "ylwqPygi28YV",
        "outputId": "6373715b-c57b-489a-882f-d60ea1e4cebb",
        "colab": {
          "base_uri": "https://localhost:8080/",
          "height": 279
        }
      },
      "source": [
        "# 연습 4-4) 'campaign'\n",
        "plt.hist(bank_df['campaign'])\n",
        "plt.xlabel('campaign')\n",
        "plt.ylabel('freq')\n",
        "plt.show()"
      ],
      "execution_count": 17,
      "outputs": [
        {
          "output_type": "display_data",
          "data": {
            "image/png": "[encoded data removed]",
            "text/plain": [
              "<Figure size 432x288 with 1 Axes>"
            ]
          },
          "metadata": {
            "tags": [],
            "needs_background": "light"
          }
        }
      ]
    },
    {
      "cell_type": "code",
      "metadata": {
        "id": "V54TzrRD3BGY",
        "outputId": "767c2ee4-1930-4769-ecd2-cd9e7efec8e8",
        "colab": {
          "base_uri": "https://localhost:8080/",
          "height": 279
        }
      },
      "source": [
        "# 연습 4-5) 'pdays'\n",
        "plt.hist(bank_df['pdays'])\n",
        "plt.xlabel('pdays')\n",
        "plt.ylabel('freq')\n",
        "plt.show()"
      ],
      "execution_count": 18,
      "outputs": [
        {
          "output_type": "display_data",
          "data": {
            "image/png": "[encoded data removed]",
            "text/plain": [
              "<Figure size 432x288 with 1 Axes>"
            ]
          },
          "metadata": {
            "tags": [],
            "needs_background": "light"
          }
        }
      ]
    },
    {
      "cell_type": "code",
      "metadata": {
        "id": "SZbRU_I73De8",
        "outputId": "751c8746-1959-4667-84c8-916cbd1ff3fe",
        "colab": {
          "base_uri": "https://localhost:8080/",
          "height": 279
        }
      },
      "source": [
        "# 연습 4-6) 'previous'\n",
        "plt.hist(bank_df['previous'])\n",
        "plt.xlabel('previous')\n",
        "plt.ylabel('freq')\n",
        "plt.show()"
      ],
      "execution_count": 19,
      "outputs": [
        {
          "output_type": "display_data",
          "data": {
            "image/png": "[encoded data removed]",
            "text/plain": [
              "<Figure size 432x288 with 1 Axes>"
            ]
          },
          "metadata": {
            "tags": [],
            "needs_background": "light"
          }
        }
      ]
    },
    {
      "cell_type": "code",
      "metadata": {
        "id": "n7PcJTKP3FkG",
        "outputId": "4780e649-a078-4073-bd4a-385f0ab01fbf",
        "colab": {
          "base_uri": "https://localhost:8080/",
          "height": 369
        }
      },
      "source": [
        "# age, balance 산포도 작성 및 항목 관련성 확인\n",
        "plt.scatter(bank_df['age'], bank_df['balance'])\n",
        "plt.xlabel('age')\n",
        "plt.ylabel('balance')\n",
        "plt.show()\n",
        "\n",
        "bank_df[['age', 'balance']].corr()"
      ],
      "execution_count": 20,
      "outputs": [
        {
          "output_type": "display_data",
          "data": {
            "image/png": "[encoded data removed]",
            "text/plain": [
              "<Figure size 432x288 with 1 Axes>"
            ]
          },
          "metadata": {
            "tags": [],
            "needs_background": "light"
          }
        },
        {
          "output_type": "execute_result",
          "data": {
            "text/html": [
              "<div>\n",
              "<style scoped>\n",
              "    .dataframe tbody tr th:only-of-type {\n",
              "        vertical-align: middle;\n",
              "    }\n",
              "\n",
              "    .dataframe tbody tr th {\n",
              "        vertical-align: top;\n",
              "    }\n",
              "\n",
              "    .dataframe thead th {\n",
              "        text-align: right;\n",
              "    }\n",
              "</style>\n",
              "<table border=\"1\" class=\"dataframe\">\n",
              "  <thead>\n",
              "    <tr style=\"text-align: right;\">\n",
              "      <th></th>\n",
              "      <th>age</th>\n",
              "      <th>balance</th>\n",
              "    </tr>\n",
              "  </thead>\n",
              "  <tbody>\n",
              "    <tr>\n",
              "      <th>age</th>\n",
              "      <td>1.000000</td>\n",
              "      <td>0.112364</td>\n",
              "    </tr>\n",
              "    <tr>\n",
              "      <th>balance</th>\n",
              "      <td>0.112364</td>\n",
              "      <td>1.000000</td>\n",
              "    </tr>\n",
              "  </tbody>\n",
              "</table>\n",
              "</div>"
            ],
            "text/plain": [
              "              age   balance\n",
              "age      1.000000  0.112364\n",
              "balance  0.112364  1.000000"
            ]
          },
          "metadata": {
            "tags": []
          },
          "execution_count": 20
        }
      ]
    },
    {
      "cell_type": "markdown",
      "metadata": {
        "id": "er_R4P5g3aHr"
      },
      "source": [
        "- 'age'와 'balance'의 상관계수: 0.112364 → 관련성이 거의 없음\n",
        "- 상관계수 : -1부터 1 사이의 값. 절댓값이 클수록 관련성이 강함."
      ]
    },
    {
      "cell_type": "code",
      "metadata": {
        "id": "6NAUCp433YOr",
        "outputId": "16b7634d-d2b5-43b9-9e31-5070332d5188",
        "colab": {
          "base_uri": "https://localhost:8080/",
          "height": 297
        }
      },
      "source": [
        "# 연습 5) age, balance, day, duration에 대해 산포도 행렬 작성, 두 가지 항목의 관계성 확인\n",
        "pd.plotting.scatter_matrix(bank_df[['age', 'balance', 'day', 'duration']])\n",
        "plt.tight_layout()\n",
        "plt.show()"
      ],
      "execution_count": 21,
      "outputs": [
        {
          "output_type": "display_data",
          "data": {
            "image/png": "[encoded data removed]",
            "text/plain": [
              "<Figure size 432x288 with 16 Axes>"
            ]
          },
          "metadata": {
            "tags": [],
            "needs_background": "light"
          }
        }
      ]
    },
    {
      "cell_type": "code",
      "metadata": {
        "id": "jYhAsoDD4G67",
        "outputId": "9612217c-3d4c-494d-d72e-4e0f8f859955",
        "colab": {
          "base_uri": "https://localhost:8080/"
        }
      },
      "source": [
        "# 문자열 항목 중 job의 원 그래프 작성(1)\n",
        "# job의 값별 비율 계산\n",
        "bank_df['job'].value_counts(ascending = False, normalize = True)"
      ],
      "execution_count": 22,
      "outputs": [
        {
          "output_type": "execute_result",
          "data": {
            "text/plain": [
              "management       0.216968\n",
              "blue-collar      0.208484\n",
              "technician       0.167733\n",
              "admin.           0.115994\n",
              "services         0.091933\n",
              "retired          0.048818\n",
              "self-employed    0.035605\n",
              "entrepreneur     0.033241\n",
              "unemployed       0.031015\n",
              "housemaid        0.028929\n",
              "student          0.021280\n",
              "Name: job, dtype: float64"
            ]
          },
          "metadata": {
            "tags": []
          },
          "execution_count": 22
        }
      ]
    },
    {
      "cell_type": "markdown",
      "metadata": {
        "id": "2iCIMxIi4bGj"
      },
      "source": [
        "- normalize = True : 발생횟수가 1이 되도록 정규화"
      ]
    },
    {
      "cell_type": "code",
      "metadata": {
        "id": "Ozx7MQcM4V1-",
        "outputId": "ef290faa-2736-4aef-aeaf-59606c5080af",
        "colab": {
          "base_uri": "https://localhost:8080/",
          "height": 253
        }
      },
      "source": [
        "# 문자열 항목 중 job의 원 그래프 작성(2)\n",
        "job_label = bank_df['job'].value_counts(ascending = False, normalize = True).index # 위에서 구한 값의 레이블 저장\n",
        "job_val = bank_df['job'].value_counts(ascending = False, normalize = True).values # 위에서 구한 값의 비율값 저장\n",
        "\n",
        "plt.pie(job_val, labels = job_label)\n",
        "plt.axis('equal') # 원의 가로 세로 비율 동일하게 고정\n",
        "plt.show()"
      ],
      "execution_count": 25,
      "outputs": [
        {
          "output_type": "display_data",
          "data": {
            "image/png": "[encoded data removed]",
            "text/plain": [
              "<Figure size 432x288 with 1 Axes>"
            ]
          },
          "metadata": {
            "tags": []
          }
        }
      ]
    },
    {
      "cell_type": "code",
      "metadata": {
        "id": "FtKCWiaJ5D0s",
        "outputId": "f574f264-4cc4-47eb-91bf-1c6a9a20fc1d",
        "colab": {
          "base_uri": "https://localhost:8080/",
          "height": 252
        }
      },
      "source": [
        "# 연습 6) 다른 문자열 항목도 마찬가지로 각 항목의 값별로 비율과 원 그래프 작성, 데이터 분포 확인\n",
        "# education\n",
        "edu_label = bank_df['education'].value_counts(ascending = False, normalize = True).index \n",
        "edu_val = bank_df['education'].value_counts(ascending = False, normalize = True).values \n",
        "\n",
        "plt.pie(edu_val, labels = edu_label)\n",
        "plt.axis('equal') \n",
        "plt.show()"
      ],
      "execution_count": 26,
      "outputs": [
        {
          "output_type": "display_data",
          "data": {
            "image/png": "[encoded data removed]",
            "text/plain": [
              "<Figure size 432x288 with 1 Axes>"
            ]
          },
          "metadata": {
            "tags": []
          }
        }
      ]
    },
    {
      "cell_type": "code",
      "metadata": {
        "id": "lzDce2g-5xXh",
        "outputId": "32071a33-7ac0-4113-a6a1-34e1aefa01bb",
        "colab": {
          "base_uri": "https://localhost:8080/",
          "height": 248
        }
      },
      "source": [
        "# y의 원 그래프 작성 및 데이터 분포 확인\n",
        "y_label = bank_df['y'].value_counts(ascending = False, normalize = True).index\n",
        "y_val = bank_df['y'].value_counts(ascending = False, normalize = True).values\n",
        "\n",
        "plt.pie(y_val, labels = y_label)\n",
        "plt.axis('equal')\n",
        "plt.show()"
      ],
      "execution_count": 27,
      "outputs": [
        {
          "output_type": "display_data",
          "data": {
            "image/png": "[encoded data removed]",
            "text/plain": [
              "<Figure size 432x288 with 1 Axes>"
            ]
          },
          "metadata": {
            "tags": []
          }
        }
      ]
    },
    {
      "cell_type": "markdown",
      "metadata": {
        "id": "rAPdVbOZ59km"
      },
      "source": [
        "- 'no (예금 신청 없음)'가 'yes (예금 신청 있음)' 에 비해 압도적으로 많음 → 불균형 데이터\n",
        "- 그대로 사용할 경우 다수 클래스만 검출되는 모델이 만들어짐"
      ]
    },
    {
      "cell_type": "markdown",
      "metadata": {
        "id": "luLWJLO76NdW"
      },
      "source": [
        "## 1-5. 데이터 시각화 (2)"
      ]
    },
    {
      "cell_type": "code",
      "metadata": {
        "id": "igvHnnIB56tj",
        "outputId": "eee935e9-4c1e-45fb-97df-9630a228558a",
        "colab": {
          "base_uri": "https://localhost:8080/",
          "height": 279
        }
      },
      "source": [
        "# 목적변수 y에 대한 데이터 분포 확인\n",
        "y_yes = bank_df[bank_df['y'] == 'yes']\n",
        "y_no = bank_df[bank_df['y'] == 'no']\n",
        "y_age = [y_yes['age'], y_no['age']]\n",
        "\n",
        "plt.boxplot(y_age) # boxplot: 데이터의 분산 상태를 표현하기 적합\n",
        "plt.xlabel('y')\n",
        "plt.ylabel('age')\n",
        "ax = plt.gca()\n",
        "plt.setp(ax, xticklabels = ['yes', 'no'])\n",
        "plt.show()"
      ],
      "execution_count": 32,
      "outputs": [
        {
          "output_type": "display_data",
          "data": {
            "image/png": "[encoded data removed]",
            "text/plain": [
              "<Figure size 432x288 with 1 Axes>"
            ]
          },
          "metadata": {
            "tags": [],
            "needs_background": "light"
          }
        }
      ]
    },
    {
      "cell_type": "markdown",
      "metadata": {
        "id": "hG7JxpHv7GMv"
      },
      "source": [
        "- 박스 안의 선: 데이터 중앙치\n",
        "- 박스의 상하선: 제3사분위수, 제1사분위수\n",
        "- 위쪽 수염: 최대치\n",
        "- 아래쪽 수염: 최소치\n",
        "- 'no' 데이터: 이상치 포함 → 추후에 제외해야 함"
      ]
    },
    {
      "cell_type": "code",
      "metadata": {
        "id": "Is80mVq26ykG"
      },
      "source": [
        ""
      ],
      "execution_count": null,
      "outputs": []
    }
  ]
}
