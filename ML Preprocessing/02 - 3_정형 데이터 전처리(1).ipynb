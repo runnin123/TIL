{
  "nbformat": 4,
  "nbformat_minor": 0,
  "metadata": {
    "colab": {
      "name": "02 - 3. 정형 데이터 전처리(1).ipynb",
      "provenance": [],
      "collapsed_sections": []
    },
    "kernelspec": {
      "name": "python3",
      "display_name": "Python 3"
    }
  },
  "cells": [
    {
      "cell_type": "markdown",
      "metadata": {
        "id": "xStCUUk1Fr9h"
      },
      "source": [
        "# 3. 모델 생성"
      ]
    },
    {
      "cell_type": "markdown",
      "metadata": {
        "id": "5HGXF9w6FvDB"
      },
      "source": [
        "## 3.1 데이터 읽기 및 확인"
      ]
    },
    {
      "cell_type": "code",
      "metadata": {
        "id": "UdCY1Xk-EgrJ",
        "outputId": "f9d212d2-c195-40b3-aa8b-cf8e09a9b3a1",
        "colab": {
          "base_uri": "https://localhost:8080/",
          "height": 215
        }
      },
      "source": [
        "# 데이터 로드\n",
        "import pandas as pd\n",
        "\n",
        "bank_df = pd.read_csv('/content/drive/My Drive/Colab Notebooks/전처리/chap3-4/data/bank-prep.csv')\n",
        "bank_df.head()"
      ],
      "execution_count": 1,
      "outputs": [
        {
          "output_type": "execute_result",
          "data": {
            "text/html": [
              "<div>\n",
              "<style scoped>\n",
              "    .dataframe tbody tr th:only-of-type {\n",
              "        vertical-align: middle;\n",
              "    }\n",
              "\n",
              "    .dataframe tbody tr th {\n",
              "        vertical-align: top;\n",
              "    }\n",
              "\n",
              "    .dataframe thead th {\n",
              "        text-align: right;\n",
              "    }\n",
              "</style>\n",
              "<table border=\"1\" class=\"dataframe\">\n",
              "  <thead>\n",
              "    <tr style=\"text-align: right;\">\n",
              "      <th></th>\n",
              "      <th>age</th>\n",
              "      <th>default</th>\n",
              "      <th>balance</th>\n",
              "      <th>housing</th>\n",
              "      <th>loan</th>\n",
              "      <th>day</th>\n",
              "      <th>duration</th>\n",
              "      <th>campaign</th>\n",
              "      <th>pdays</th>\n",
              "      <th>previous</th>\n",
              "      <th>y</th>\n",
              "      <th>divorced</th>\n",
              "      <th>married</th>\n",
              "      <th>single</th>\n",
              "      <th>primary</th>\n",
              "      <th>secondary</th>\n",
              "      <th>tertiary</th>\n",
              "      <th>cellular</th>\n",
              "      <th>telephone</th>\n",
              "      <th>unknown</th>\n",
              "      <th>apr</th>\n",
              "      <th>aug</th>\n",
              "      <th>dec</th>\n",
              "      <th>feb</th>\n",
              "      <th>jan</th>\n",
              "      <th>jul</th>\n",
              "      <th>jun</th>\n",
              "      <th>mar</th>\n",
              "      <th>may</th>\n",
              "      <th>nov</th>\n",
              "      <th>oct</th>\n",
              "      <th>sep</th>\n",
              "    </tr>\n",
              "  </thead>\n",
              "  <tbody>\n",
              "    <tr>\n",
              "      <th>0</th>\n",
              "      <td>58</td>\n",
              "      <td>0</td>\n",
              "      <td>2143</td>\n",
              "      <td>1</td>\n",
              "      <td>0</td>\n",
              "      <td>5</td>\n",
              "      <td>261</td>\n",
              "      <td>1</td>\n",
              "      <td>-1</td>\n",
              "      <td>0</td>\n",
              "      <td>0</td>\n",
              "      <td>0</td>\n",
              "      <td>1</td>\n",
              "      <td>0</td>\n",
              "      <td>0</td>\n",
              "      <td>0</td>\n",
              "      <td>1</td>\n",
              "      <td>0</td>\n",
              "      <td>0</td>\n",
              "      <td>1</td>\n",
              "      <td>0</td>\n",
              "      <td>0</td>\n",
              "      <td>0</td>\n",
              "      <td>0</td>\n",
              "      <td>0</td>\n",
              "      <td>0</td>\n",
              "      <td>0</td>\n",
              "      <td>0</td>\n",
              "      <td>1</td>\n",
              "      <td>0</td>\n",
              "      <td>0</td>\n",
              "      <td>0</td>\n",
              "    </tr>\n",
              "    <tr>\n",
              "      <th>1</th>\n",
              "      <td>36</td>\n",
              "      <td>0</td>\n",
              "      <td>265</td>\n",
              "      <td>1</td>\n",
              "      <td>1</td>\n",
              "      <td>5</td>\n",
              "      <td>348</td>\n",
              "      <td>1</td>\n",
              "      <td>-1</td>\n",
              "      <td>0</td>\n",
              "      <td>0</td>\n",
              "      <td>0</td>\n",
              "      <td>0</td>\n",
              "      <td>1</td>\n",
              "      <td>0</td>\n",
              "      <td>1</td>\n",
              "      <td>0</td>\n",
              "      <td>0</td>\n",
              "      <td>0</td>\n",
              "      <td>1</td>\n",
              "      <td>0</td>\n",
              "      <td>0</td>\n",
              "      <td>0</td>\n",
              "      <td>0</td>\n",
              "      <td>0</td>\n",
              "      <td>0</td>\n",
              "      <td>0</td>\n",
              "      <td>0</td>\n",
              "      <td>1</td>\n",
              "      <td>0</td>\n",
              "      <td>0</td>\n",
              "      <td>0</td>\n",
              "    </tr>\n",
              "    <tr>\n",
              "      <th>2</th>\n",
              "      <td>25</td>\n",
              "      <td>0</td>\n",
              "      <td>-7</td>\n",
              "      <td>1</td>\n",
              "      <td>0</td>\n",
              "      <td>5</td>\n",
              "      <td>365</td>\n",
              "      <td>1</td>\n",
              "      <td>-1</td>\n",
              "      <td>0</td>\n",
              "      <td>0</td>\n",
              "      <td>0</td>\n",
              "      <td>1</td>\n",
              "      <td>0</td>\n",
              "      <td>0</td>\n",
              "      <td>1</td>\n",
              "      <td>0</td>\n",
              "      <td>0</td>\n",
              "      <td>0</td>\n",
              "      <td>1</td>\n",
              "      <td>0</td>\n",
              "      <td>0</td>\n",
              "      <td>0</td>\n",
              "      <td>0</td>\n",
              "      <td>0</td>\n",
              "      <td>0</td>\n",
              "      <td>0</td>\n",
              "      <td>0</td>\n",
              "      <td>1</td>\n",
              "      <td>0</td>\n",
              "      <td>0</td>\n",
              "      <td>0</td>\n",
              "    </tr>\n",
              "    <tr>\n",
              "      <th>3</th>\n",
              "      <td>53</td>\n",
              "      <td>0</td>\n",
              "      <td>-3</td>\n",
              "      <td>0</td>\n",
              "      <td>0</td>\n",
              "      <td>5</td>\n",
              "      <td>1666</td>\n",
              "      <td>1</td>\n",
              "      <td>-1</td>\n",
              "      <td>0</td>\n",
              "      <td>0</td>\n",
              "      <td>0</td>\n",
              "      <td>1</td>\n",
              "      <td>0</td>\n",
              "      <td>0</td>\n",
              "      <td>1</td>\n",
              "      <td>0</td>\n",
              "      <td>0</td>\n",
              "      <td>0</td>\n",
              "      <td>1</td>\n",
              "      <td>0</td>\n",
              "      <td>0</td>\n",
              "      <td>0</td>\n",
              "      <td>0</td>\n",
              "      <td>0</td>\n",
              "      <td>0</td>\n",
              "      <td>0</td>\n",
              "      <td>0</td>\n",
              "      <td>1</td>\n",
              "      <td>0</td>\n",
              "      <td>0</td>\n",
              "      <td>0</td>\n",
              "    </tr>\n",
              "    <tr>\n",
              "      <th>4</th>\n",
              "      <td>24</td>\n",
              "      <td>0</td>\n",
              "      <td>-103</td>\n",
              "      <td>1</td>\n",
              "      <td>1</td>\n",
              "      <td>5</td>\n",
              "      <td>145</td>\n",
              "      <td>1</td>\n",
              "      <td>-1</td>\n",
              "      <td>0</td>\n",
              "      <td>0</td>\n",
              "      <td>0</td>\n",
              "      <td>0</td>\n",
              "      <td>1</td>\n",
              "      <td>0</td>\n",
              "      <td>1</td>\n",
              "      <td>0</td>\n",
              "      <td>0</td>\n",
              "      <td>0</td>\n",
              "      <td>1</td>\n",
              "      <td>0</td>\n",
              "      <td>0</td>\n",
              "      <td>0</td>\n",
              "      <td>0</td>\n",
              "      <td>0</td>\n",
              "      <td>0</td>\n",
              "      <td>0</td>\n",
              "      <td>0</td>\n",
              "      <td>1</td>\n",
              "      <td>0</td>\n",
              "      <td>0</td>\n",
              "      <td>0</td>\n",
              "    </tr>\n",
              "  </tbody>\n",
              "</table>\n",
              "</div>"
            ],
            "text/plain": [
              "   age  default  balance  housing  loan  day  ...  jun  mar  may  nov  oct  sep\n",
              "0   58        0     2143        1     0    5  ...    0    0    1    0    0    0\n",
              "1   36        0      265        1     1    5  ...    0    0    1    0    0    0\n",
              "2   25        0       -7        1     0    5  ...    0    0    1    0    0    0\n",
              "3   53        0       -3        0     0    5  ...    0    0    1    0    0    0\n",
              "4   24        0     -103        1     1    5  ...    0    0    1    0    0    0\n",
              "\n",
              "[5 rows x 32 columns]"
            ]
          },
          "metadata": {
            "tags": []
          },
          "execution_count": 1
        }
      ]
    },
    {
      "cell_type": "markdown",
      "metadata": {
        "id": "CRMFGVlRF6D-"
      },
      "source": [
        "## 3.2 불균형 데이터의 균형화"
      ]
    },
    {
      "cell_type": "markdown",
      "metadata": {
        "id": "U_KG_MF6F9A-"
      },
      "source": [
        "- 목적변수 ' y '의 경우, yes가 no에 비해 압도적으로 데이터 건수가 적음\n",
        "- 다수 클래스의 데이터를 섞고 소수 클래스와 동일한 건수의 데이터를 선택 → [언더샘플링]\n",
        "- 소수 클래스의 데이터를 다수 클래스의 데이터 건수와 맞춤 → [오버샘플링]\n",
        "- imbalanced-learn 패키지: 언더샘플링 혹은 오버샘플링을 위한 기능 제공"
      ]
    },
    {
      "cell_type": "code",
      "metadata": {
        "id": "_pSH9hVpF4sP",
        "outputId": "68628e74-4c05-49bd-e1b7-376b3fe26971",
        "colab": {
          "base_uri": "https://localhost:8080/"
        }
      },
      "source": [
        "# imbalanced-learn 패키지 설치 유무 확인\n",
        "!pip show imbalanced-learn"
      ],
      "execution_count": 2,
      "outputs": [
        {
          "output_type": "stream",
          "text": [
            "Name: imbalanced-learn\n",
            "Version: 0.4.3\n",
            "Summary: Toolbox for imbalanced dataset in machine learning.\n",
            "Home-page: https://github.com/scikit-learn-contrib/imbalanced-learn\n",
            "Author: None\n",
            "Author-email: None\n",
            "License: MIT\n",
            "Location: /usr/local/lib/python3.6/dist-packages\n",
            "Requires: scipy, scikit-learn, numpy\n",
            "Required-by: imblearn\n"
          ],
          "name": "stdout"
        }
      ]
    },
    {
      "cell_type": "code",
      "metadata": {
        "id": "tiaYPbw6Gx5X"
      },
      "source": [
        "bank_df_new = bank_df.copy()"
      ],
      "execution_count": 3,
      "outputs": []
    },
    {
      "cell_type": "code",
      "metadata": {
        "id": "DMgT3By-GfSY",
        "outputId": "0b06495d-6dcb-48be-d275-64ffb2c6d2ac",
        "colab": {
          "base_uri": "https://localhost:8080/"
        }
      },
      "source": [
        "# 불균형 데이터셋에 대한 언더 샘플링\n",
        "import numpy as np\n",
        "from imblearn.under_sampling import RandomUnderSampler\n",
        "\n",
        "X = np.array(bank_df_new.drop('y', axis = 1)) # 'y' 외의 모든 항목을 설명변수\n",
        "Y = np.array(bank_df_new[['y']]) # 'y' 항목을 목적변수\n",
        "print(np.sum(Y == 1), np.sum(Y == 0))\n",
        "\n",
        "sampler = RandomUnderSampler(random_state = 42)\n",
        "X, Y = sampler.fit_resample(X, Y)\n",
        "print(np.sum(Y == 1), np.sum(Y == 0))"
      ],
      "execution_count": 5,
      "outputs": [
        {
          "output_type": "stream",
          "text": [
            "820 6113\n",
            "820 820\n"
          ],
          "name": "stdout"
        },
        {
          "output_type": "stream",
          "text": [
            "/usr/local/lib/python3.6/dist-packages/sklearn/utils/deprecation.py:87: FutureWarning: Function safe_indexing is deprecated; safe_indexing is deprecated in version 0.22 and will be removed in version 0.24.\n",
            "  warnings.warn(msg, category=FutureWarning)\n"
          ],
          "name": "stderr"
        }
      ]
    },
    {
      "cell_type": "markdown",
      "metadata": {
        "id": "imprnS85HbXw"
      },
      "source": [
        "- ' y ' 의 값이 ' 1(yes) '인 갯수 820에 맞춰 언더샘플링 되었음을 확인 가능"
      ]
    },
    {
      "cell_type": "markdown",
      "metadata": {
        "id": "4nbAH530HtdL"
      },
      "source": [
        "## 3.3 결정 트리 모델의 작성 및 검증"
      ]
    },
    {
      "cell_type": "code",
      "metadata": {
        "id": "BVCuVvl5HGj4",
        "outputId": "99153d63-ff71-4cbc-8833-b86523e20339",
        "colab": {
          "base_uri": "https://localhost:8080/"
        }
      },
      "source": [
        "# 결정 트리 알고리즘을 사용한 모델 검증\n",
        "from sklearn.model_selection import KFold\n",
        "from sklearn import tree\n",
        "from sklearn.metrics import accuracy_score\n",
        "\n",
        "# K-Fold 교차검증\n",
        "kf = KFold(n_splits = 10, shuffle = True)\n",
        "scores = []\n",
        "\n",
        "# 데이터 셔플한 후, 훈련 데이터와 테스트 데이터로 분할\n",
        "for train_id, test_id in kf.split(X):\n",
        "  x = X[train_id]\n",
        "  y = Y[train_id]\n",
        "  clf = tree.DecisionTreeClassifier()\n",
        "  clf.fit(x, y)\n",
        "\n",
        "  pred_y = clf.predict(X[test_id])\n",
        "  score = accuracy_score(Y[test_id], pred_y)\n",
        "  scores.append(score)\n",
        "\n",
        "scores = np.array(scores)\n",
        "print(scores.mean(), scores.std())"
      ],
      "execution_count": 10,
      "outputs": [
        {
          "output_type": "stream",
          "text": [
            "0.7682926829268293 0.02685697017749422\n"
          ],
          "name": "stdout"
        }
      ]
    },
    {
      "cell_type": "code",
      "metadata": {
        "id": "YjrByVi2IZXR",
        "outputId": "deb0244e-ebd7-4a7c-dd51-be8d403b0b90",
        "colab": {
          "base_uri": "https://localhost:8080/"
        }
      },
      "source": [
        "# 재현율, 적합도 확인\n",
        "from sklearn.metrics import recall_score\n",
        "from sklearn.metrics import precision_score\n",
        "\n",
        "print(recall_score(Y[test_id], pred_y)) # 재현율\n",
        "print(precision_score(Y[test_id], pred_y)) # 적합도"
      ],
      "execution_count": 12,
      "outputs": [
        {
          "output_type": "stream",
          "text": [
            "0.7368421052631579\n",
            "0.7466666666666667\n"
          ],
          "name": "stdout"
        }
      ]
    },
    {
      "cell_type": "markdown",
      "metadata": {
        "id": "ZcY9gxoPJudL"
      },
      "source": [
        "- 분석 목표가 ' 계약 확률이 높은 고객을 찾아내는 것 ' 이므로, 재현율을 좀 더 높일 필요가 있음"
      ]
    },
    {
      "cell_type": "markdown",
      "metadata": {
        "id": "Z9jMXCFkJz25"
      },
      "source": [
        "## 3.4 파라미터 최적화"
      ]
    },
    {
      "cell_type": "code",
      "metadata": {
        "id": "1AYjFLMPJVTR",
        "outputId": "e78f8ebd-24fe-4ba7-c12d-d263160b0a0a",
        "colab": {
          "base_uri": "https://localhost:8080/"
        }
      },
      "source": [
        "# 파라미터 기본값 확인\n",
        "print(clf)"
      ],
      "execution_count": 13,
      "outputs": [
        {
          "output_type": "stream",
          "text": [
            "DecisionTreeClassifier(ccp_alpha=0.0, class_weight=None, criterion='gini',\n",
            "                       max_depth=None, max_features=None, max_leaf_nodes=None,\n",
            "                       min_impurity_decrease=0.0, min_impurity_split=None,\n",
            "                       min_samples_leaf=1, min_samples_split=2,\n",
            "                       min_weight_fraction_leaf=0.0, presort='deprecated',\n",
            "                       random_state=None, splitter='best')\n"
          ],
          "name": "stdout"
        }
      ]
    },
    {
      "cell_type": "markdown",
      "metadata": {
        "id": "N2FJMAz7J6fU"
      },
      "source": [
        "- 지금의 파라미터가 최적이라고 장담하기 힘듦 → 그리드 서치 사용, 최적의 파라미터 조합 탐색"
      ]
    },
    {
      "cell_type": "code",
      "metadata": {
        "id": "d4fYdLuNJ27J",
        "outputId": "3cd4f702-e9be-449d-dbaf-077a50fc5aa3",
        "colab": {
          "base_uri": "https://localhost:8080/"
        }
      },
      "source": [
        "# 그리드 서치 사용, 모델 성능 개선\n",
        "from sklearn.model_selection import GridSearchCV\n",
        "\n",
        "params = {\n",
        "    'criterion': ['entropy'],\n",
        "    'max_depth': [2, 4, 6, 8, 10],\n",
        "    'min_samples_leaf': [10, 20, 30, 40, 50]\n",
        "}\n",
        "\n",
        "clf_gs = GridSearchCV(tree.DecisionTreeClassifier(), params,\n",
        "                      cv = KFold(n_splits = 10, shuffle = True), scoring = 'accuracy')\n",
        "\n",
        "clf_gs.fit(X, Y)"
      ],
      "execution_count": 14,
      "outputs": [
        {
          "output_type": "execute_result",
          "data": {
            "text/plain": [
              "GridSearchCV(cv=KFold(n_splits=10, random_state=None, shuffle=True),\n",
              "             error_score=nan,\n",
              "             estimator=DecisionTreeClassifier(ccp_alpha=0.0, class_weight=None,\n",
              "                                              criterion='gini', max_depth=None,\n",
              "                                              max_features=None,\n",
              "                                              max_leaf_nodes=None,\n",
              "                                              min_impurity_decrease=0.0,\n",
              "                                              min_impurity_split=None,\n",
              "                                              min_samples_leaf=1,\n",
              "                                              min_samples_split=2,\n",
              "                                              min_weight_fraction_leaf=0.0,\n",
              "                                              presort='deprecated',\n",
              "                                              random_state=None,\n",
              "                                              splitter='best'),\n",
              "             iid='deprecated', n_jobs=None,\n",
              "             param_grid={'criterion': ['entropy'],\n",
              "                         'max_depth': [2, 4, 6, 8, 10],\n",
              "                         'min_samples_leaf': [10, 20, 30, 40, 50]},\n",
              "             pre_dispatch='2*n_jobs', refit=True, return_train_score=False,\n",
              "             scoring='accuracy', verbose=0)"
            ]
          },
          "metadata": {
            "tags": []
          },
          "execution_count": 14
        }
      ]
    },
    {
      "cell_type": "code",
      "metadata": {
        "id": "W8RmyK0JKcJB",
        "outputId": "9d9d9d60-af98-4da8-b9bf-8fcbe3741d48",
        "colab": {
          "base_uri": "https://localhost:8080/"
        }
      },
      "source": [
        "# 가장 높은 성능일 때의 모델에 대한 파라미터 조합 확인\n",
        "print(clf_gs.best_score_)\n",
        "print(clf_gs.best_params_)"
      ],
      "execution_count": 15,
      "outputs": [
        {
          "output_type": "stream",
          "text": [
            "0.7939024390243903\n",
            "{'criterion': 'entropy', 'max_depth': 6, 'min_samples_leaf': 20}\n"
          ],
          "name": "stdout"
        }
      ]
    },
    {
      "cell_type": "code",
      "metadata": {
        "id": "IeLOKoxeK34e",
        "outputId": "12b38ad1-f1a9-405f-ab94-e8f2b585efad",
        "colab": {
          "base_uri": "https://localhost:8080/"
        }
      },
      "source": [
        "# 모델 완성 및 영향력 높은 변수 확인\n",
        "clf_best = tree.DecisionTreeClassifier(\n",
        "    criterion = 'entropy', max_depth = 10, min_samples_leaf = 20\n",
        ")\n",
        "clf_best.fit(X, Y)\n",
        "\n",
        "print(clf_best.feature_importances_) # 모델 작성에 사용한 모든 결과에 대한 영향력 표시"
      ],
      "execution_count": 16,
      "outputs": [
        {
          "output_type": "stream",
          "text": [
            "[0.01501975 0.         0.04462147 0.09361932 0.01618605 0.04211927\n",
            " 0.54413625 0.00306831 0.06565549 0.03995862 0.         0.00560226\n",
            " 0.         0.         0.00305009 0.         0.         0.\n",
            " 0.07052362 0.         0.013052   0.         0.         0.\n",
            " 0.01208667 0.         0.         0.03130083 0.         0.\n",
            " 0.        ]\n"
          ],
          "name": "stdout"
        }
      ]
    },
    {
      "cell_type": "markdown",
      "metadata": {
        "id": "qaPS2GreLcq5"
      },
      "source": [
        "- 좀 더 깊이있는 전처리 → 기존변수로부터 신규변수 작성 → 좀 더 좋은 모델이 될 수 있음"
      ]
    }
  ]
}