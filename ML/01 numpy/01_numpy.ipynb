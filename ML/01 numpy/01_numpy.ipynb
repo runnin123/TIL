{
  "nbformat": 4,
  "nbformat_minor": 0,
  "metadata": {
    "colab": {
      "name": "01 numpy.ipynb",
      "provenance": [],
      "collapsed_sections": []
    },
    "kernelspec": {
      "name": "python3",
      "display_name": "Python 3"
    }
  },
  "cells": [
    {
      "cell_type": "markdown",
      "metadata": {
        "id": "RwqUJOqHvnd4",
        "colab_type": "text"
      },
      "source": [
        "### 1. 넘파이 ndarray 개요"
      ]
    },
    {
      "cell_type": "code",
      "metadata": {
        "id": "te0Q1FP6uyIG",
        "colab_type": "code",
        "colab": {}
      },
      "source": [
        "import numpy as np"
      ],
      "execution_count": 1,
      "outputs": []
    },
    {
      "cell_type": "markdown",
      "metadata": {
        "id": "p81caCbzvgRN",
        "colab_type": "text"
      },
      "source": [
        "- 기본적으로 as np와 같이 약어로 모듈을 표현해주는 것이 관례\n",
        "- 넘파이의 기본 데이터 타입: ndarray → 다차원 배열 생성 및 연산 수행"
      ]
    },
    {
      "cell_type": "code",
      "metadata": {
        "id": "jQ1SE1mFvdiR",
        "colab_type": "code",
        "colab": {
          "base_uri": "https://localhost:8080/",
          "height": 87
        },
        "outputId": "dcd3d742-745f-4a42-ae7e-d059368bba5c"
      },
      "source": [
        "array1 = np.array([1, 2, 3])\n",
        "print('array1 type:', type(array1))\n",
        "print('array1 array 형태:', array1.shape)\n",
        "\n",
        "array2 = np.array([[1, 2, 3],\n",
        "                   [2, 3, 4]])\n",
        "print('array2 type:', type(array2))\n",
        "print('array2 array 형태:', array2.shape)"
      ],
      "execution_count": 4,
      "outputs": [
        {
          "output_type": "stream",
          "text": [
            "array1 type: <class 'numpy.ndarray'>\n",
            "array1 array 형태: (3,)\n",
            "array2 type: <class 'numpy.ndarray'>\n",
            "array2 array 형태: (2, 3)\n"
          ],
          "name": "stdout"
        }
      ]
    },
    {
      "cell_type": "markdown",
      "metadata": {
        "id": "11hy7nFbwDq7",
        "colab_type": "text"
      },
      "source": [
        "- np.array() : 인자를 ndarray로 변환하여 반환\n",
        "- ndarray.shpae : ndarray의 차원과 크기를 튜플 형태로 반환(예: (3, ) → 1차원, 3개 데이터 / (2, 3) → 2차원, 2개의 row와 3개의 column으로 이루어짐)"
      ]
    },
    {
      "cell_type": "code",
      "metadata": {
        "id": "QyuqV3SnwAk8",
        "colab_type": "code",
        "colab": {
          "base_uri": "https://localhost:8080/",
          "height": 52
        },
        "outputId": "4f1d6319-477c-4cb5-8985-a2e44b7c5676"
      },
      "source": [
        "print('array1의 차원:', array1.ndim)\n",
        "print('array2의 차원:', array2.ndim)"
      ],
      "execution_count": 5,
      "outputs": [
        {
          "output_type": "stream",
          "text": [
            "array1의 차원: 1\n",
            "array2의 차원: 2\n"
          ],
          "name": "stdout"
        }
      ]
    },
    {
      "cell_type": "markdown",
      "metadata": {
        "id": "3K_JHsYkweQw",
        "colab_type": "text"
      },
      "source": [
        "- ndarray.ndim : ndarray의 차원 확인"
      ]
    },
    {
      "cell_type": "markdown",
      "metadata": {
        "id": "ZoeXNjXVxEey",
        "colab_type": "text"
      },
      "source": [
        "### 2. ndarray의 데이터 타입"
      ]
    },
    {
      "cell_type": "markdown",
      "metadata": {
        "id": "G1zfB_VexKCr",
        "colab_type": "text"
      },
      "source": [
        "- ndarray 내의 데이터값은 숫자, 문자열, bool 모두 가능\n",
        "- 다만 ndarray 내의 데이터는 연산 특성 상 모두 같은 타입이어야 함. int와 float이 함께 존재할 수 없음\n",
        "- dtype 이용, ndarray 내의 데이터 타입 확인 가능"
      ]
    },
    {
      "cell_type": "code",
      "metadata": {
        "id": "4dkU91Wmwc9V",
        "colab_type": "code",
        "colab": {
          "base_uri": "https://localhost:8080/",
          "height": 70
        },
        "outputId": "03d7d687-a297-4435-ccfc-d2db77222d20"
      },
      "source": [
        "list1 = [1, 2, 3]\n",
        "print(type(list1))\n",
        "\n",
        "array1 = np.array(list1)\n",
        "print(type(array1))\n",
        "print(array1, array1.dtype)"
      ],
      "execution_count": 6,
      "outputs": [
        {
          "output_type": "stream",
          "text": [
            "<class 'list'>\n",
            "<class 'numpy.ndarray'>\n",
            "[1 2 3] int64\n"
          ],
          "name": "stdout"
        }
      ]
    },
    {
      "cell_type": "markdown",
      "metadata": {
        "id": "tRaBpN83xuwo",
        "colab_type": "text"
      },
      "source": [
        "- 다른 데이터 타입이 섞여있을 경우, 데이터 크기가 더 큰 데이터 타입으로 형 변환 일괄 적용"
      ]
    },
    {
      "cell_type": "code",
      "metadata": {
        "id": "wwamkJvoxnoL",
        "colab_type": "code",
        "colab": {
          "base_uri": "https://localhost:8080/",
          "height": 52
        },
        "outputId": "d01682bc-f265-4cf9-f9e8-08e30f90e233"
      },
      "source": [
        "list2 = [1, 2, 'test'] # int와 string이 공존\n",
        "array2 = np.array(list2)\n",
        "print(array2, array2.dtype)\n",
        "\n",
        "list3 = [1, 2, 3.0]\n",
        "array3 = np.array(list3)\n",
        "print(array3, array3.dtype)"
      ],
      "execution_count": 7,
      "outputs": [
        {
          "output_type": "stream",
          "text": [
            "['1' '2' 'test'] <U21\n",
            "[1. 2. 3.] float64\n"
          ],
          "name": "stdout"
        }
      ]
    },
    {
      "cell_type": "markdown",
      "metadata": {
        "id": "i0l4IiHtyHOM",
        "colab_type": "text"
      },
      "source": [
        "- list2의 경우 int값이 모두 유니코드 문자열 값으로, list3의 경우 int값이 모두 float64 값으로 형변환 됨"
      ]
    },
    {
      "cell_type": "markdown",
      "metadata": {
        "id": "kgk3rfw6yS2A",
        "colab_type": "text"
      },
      "source": [
        "- astype() 메서드 : ndarray 내의 데이터를 일괄적으로 형 변환 가능\n",
        "- 가령 int 값으로도 가능한 경우인데 데이터 타입이 float일 때 메모리 절약을 위해 astype('int')를 이용, 메모리를 절약하는 경우로 많이 사용"
      ]
    },
    {
      "cell_type": "code",
      "metadata": {
        "id": "fnjcDLgCyAxn",
        "colab_type": "code",
        "colab": {
          "base_uri": "https://localhost:8080/",
          "height": 70
        },
        "outputId": "0e67a469-2b07-4141-a96a-2eb263421766"
      },
      "source": [
        "# int → float\n",
        "array_int = np.array([1, 2, 3])\n",
        "array_float = array_int.astype('float64')\n",
        "print(array_float, array_float.dtype)\n",
        "\n",
        "# float → int\n",
        "# float → int 형 변환 시 소수점 이하는 제거됨\n",
        "array_int1 = array_float.astype('int32')\n",
        "print(array_int1, array_int1.dtype)\n",
        "\n",
        "# float → int\n",
        "array_float1 = np.array([1.1, 2.1, 3.1])\n",
        "array_int2 = array_float1.astype('int32')\n",
        "print(array_int2, array_int2.dtype)"
      ],
      "execution_count": 8,
      "outputs": [
        {
          "output_type": "stream",
          "text": [
            "[1. 2. 3.] float64\n",
            "[1 2 3] int32\n",
            "[1 2 3] int32\n"
          ],
          "name": "stdout"
        }
      ]
    },
    {
      "cell_type": "markdown",
      "metadata": {
        "id": "A3LSef-dzpqT",
        "colab_type": "text"
      },
      "source": [
        "### 3. arange, zeros, ones"
      ]
    },
    {
      "cell_type": "markdown",
      "metadata": {
        "id": "P62bXNQ4zx5y",
        "colab_type": "text"
      },
      "source": [
        "- arange() : range()와 유사한 기능. array()를 range()로 표현\n",
        "- 0부터 함수 인자 값 -1까지의 값을 순차적으로 ndarray 데이터값으로 변환\n",
        "- np.arange(start, end) : start부터 end - 1 값까지 ndarray 생성"
      ]
    },
    {
      "cell_type": "code",
      "metadata": {
        "id": "UonYNnsmzYXJ",
        "colab_type": "code",
        "colab": {
          "base_uri": "https://localhost:8080/",
          "height": 52
        },
        "outputId": "ce906b76-653d-4371-e101-3b4e1fa02f83"
      },
      "source": [
        "# 0부터 9까지 ndarray로 표현\n",
        "sequence_array = np.arange(10)\n",
        "print(sequence_array)\n",
        "print(sequence_array.dtype, sequence_array.shape)"
      ],
      "execution_count": 9,
      "outputs": [
        {
          "output_type": "stream",
          "text": [
            "[0 1 2 3 4 5 6 7 8 9]\n",
            "int64 (10,)\n"
          ],
          "name": "stdout"
        }
      ]
    },
    {
      "cell_type": "markdown",
      "metadata": {
        "id": "syfOAdKX0hYG",
        "colab_type": "text"
      },
      "source": [
        "- zeros() : 함수 인자로 튜플 형태의 shape 값을 입력 → 모든 값을 0으로 채운 해당 shpae 형태의 ndarray 생성\n",
        "- ones() : 위와 동일하나 모든 값을 1로 채움\n",
        "- dtype을 정해주지 않을 경우 default로 float64 데이터 지정"
      ]
    },
    {
      "cell_type": "code",
      "metadata": {
        "id": "vpUEmnCL0d2u",
        "colab_type": "code",
        "colab": {
          "base_uri": "https://localhost:8080/",
          "height": 158
        },
        "outputId": "a7471963-b153-4654-9616-dbd3b7c1e938"
      },
      "source": [
        "zero_array = np.zeros((3, 2), dtype = 'int32')\n",
        "print(zero_array)\n",
        "print(zero_array.dtype, zero_array.shape)\n",
        "\n",
        "one_array = np.ones((3, 2))\n",
        "print(one_array)\n",
        "print(one_array.dtype, one_array.shape)"
      ],
      "execution_count": 11,
      "outputs": [
        {
          "output_type": "stream",
          "text": [
            "[[0 0]\n",
            " [0 0]\n",
            " [0 0]]\n",
            "int32 (3, 2)\n",
            "[[1. 1.]\n",
            " [1. 1.]\n",
            " [1. 1.]]\n",
            "float64 (3, 2)\n"
          ],
          "name": "stdout"
        }
      ]
    },
    {
      "cell_type": "markdown",
      "metadata": {
        "id": "mP8gsvwO1wlN",
        "colab_type": "text"
      },
      "source": [
        "### 4. reshape()\n",
        "- reshape() : ndarray를 특정 차원 및 크기로 변환"
      ]
    },
    {
      "cell_type": "code",
      "metadata": {
        "id": "8T7OJjrg1mr6",
        "colab_type": "code",
        "colab": {
          "base_uri": "https://localhost:8080/",
          "height": 210
        },
        "outputId": "223dd0f6-b7d1-4694-b06f-5d3fdfdc1645"
      },
      "source": [
        "# 0 ~ 9까지의 값으로 ndarray 생성\n",
        "array1 = np.arange(10)\n",
        "print('array1:\\n', array1)\n",
        "\n",
        "# (2, 5)로 변환\n",
        "array2 = array1.reshape(2, 5)\n",
        "print('array2:\\n', array2)\n",
        "\n",
        "# (5, 2)로 변환\n",
        "array3 = array1.reshape(5, 2)\n",
        "print('array3:\\n', array3)"
      ],
      "execution_count": 12,
      "outputs": [
        {
          "output_type": "stream",
          "text": [
            "array1:\n",
            " [0 1 2 3 4 5 6 7 8 9]\n",
            "array2:\n",
            " [[0 1 2 3 4]\n",
            " [5 6 7 8 9]]\n",
            "array3:\n",
            " [[0 1]\n",
            " [2 3]\n",
            " [4 5]\n",
            " [6 7]\n",
            " [8 9]]\n"
          ],
          "name": "stdout"
        }
      ]
    },
    {
      "cell_type": "markdown",
      "metadata": {
        "id": "jeZDC0L-2y2O",
        "colab_type": "text"
      },
      "source": [
        "### 5. 인덱싱\n",
        "- 1. 특정 데이터만 추출 : 원하는 위치의 인덱스 값을 지정\n",
        "- 2. 슬라이싱 : ':' 사이에 시작 인덱스와 인덱스를 표시 → 시작 인덱스 ~ (종료 인덱스 - 1) 까지의 데이터 반환\n",
        "- 3. 팬시 인덱싱 : 일정 인덱싱 집합을 리스트 또는 ndarray에 저장, 해당 위치에 있는 ndarray 반환\n",
        "- 4. 불린 인덱싱 : 특정 조건에 해당하는지 여부(True/False)값 인덱싱 집합을 기반, True에 해당하는 ndarray 반환"
      ]
    },
    {
      "cell_type": "markdown",
      "metadata": {
        "id": "UMwpwI564NvN",
        "colab_type": "text"
      },
      "source": [
        "1) 단일 값 추출"
      ]
    },
    {
      "cell_type": "code",
      "metadata": {
        "id": "InzhkADO2aRM",
        "colab_type": "code",
        "colab": {
          "base_uri": "https://localhost:8080/",
          "height": 70
        },
        "outputId": "00fef58a-461a-4dc4-8b38-124b88b3a715"
      },
      "source": [
        "# 1 ~ 9 까지의 ndarray 생성\n",
        "array1 = np.arange(start = 1, stop = 10)\n",
        "print('array1:', array1)\n",
        "\n",
        "# 인덱스 2에 해당하는 값(세번째 값) 추출\n",
        "value = array1[2]\n",
        "print('value:', value)\n",
        "print(type(value))"
      ],
      "execution_count": 13,
      "outputs": [
        {
          "output_type": "stream",
          "text": [
            "array1: [1 2 3 4 5 6 7 8 9]\n",
            "value: 3\n",
            "<class 'numpy.int64'>\n"
          ],
          "name": "stdout"
        }
      ]
    },
    {
      "cell_type": "markdown",
      "metadata": {
        "id": "psgTP1Wr3xyM",
        "colab_type": "text"
      },
      "source": [
        "- 마이너스 값 : 뒤에서부터 데이터를 추출\n",
        "- 인덱스 -1 : 맨 뒤의 데이터값, -2 : 맨 뒤에서 두 번째 데이터값"
      ]
    },
    {
      "cell_type": "code",
      "metadata": {
        "id": "-uPTY1N-3s_S",
        "colab_type": "code",
        "colab": {
          "base_uri": "https://localhost:8080/",
          "height": 34
        },
        "outputId": "98a2c15e-ff38-4374-e894-65a2f2a8a5e2"
      },
      "source": [
        "print('맨 뒤의 값:', array1[-1], '맨 뒤에서 두 번째 값:', array1[-2])"
      ],
      "execution_count": 14,
      "outputs": [
        {
          "output_type": "stream",
          "text": [
            "맨 뒤의 값: 9 맨 뒤에서 두 번째 값: 8\n"
          ],
          "name": "stdout"
        }
      ]
    },
    {
      "cell_type": "code",
      "metadata": {
        "id": "CLqKSJsY3-u6",
        "colab_type": "code",
        "colab": {
          "base_uri": "https://localhost:8080/",
          "height": 34
        },
        "outputId": "4452cfe1-ac55-4d31-8b11-66a799facc84"
      },
      "source": [
        "# 단일 인덱스를 이용, ndarray값 수정\n",
        "array1[0] = 9\n",
        "array1[8] = 0\n",
        "print('array1:', array1)"
      ],
      "execution_count": 15,
      "outputs": [
        {
          "output_type": "stream",
          "text": [
            "array1: [9 2 3 4 5 6 7 8 0]\n"
          ],
          "name": "stdout"
        }
      ]
    },
    {
      "cell_type": "markdown",
      "metadata": {
        "id": "_by2WFfJ4XRY",
        "colab_type": "text"
      },
      "source": [
        "2) 슬라이싱"
      ]
    },
    {
      "cell_type": "code",
      "metadata": {
        "id": "1tyg9-ay4IkF",
        "colab_type": "code",
        "colab": {
          "base_uri": "https://localhost:8080/",
          "height": 52
        },
        "outputId": "e28f2b7b-8cc9-46fa-e1a6-a3236e8d9f65"
      },
      "source": [
        "array1 = np.arange(start = 1, stop = 10)\n",
        "array3 = array1[0:3] # 인덱스 0부터 인덱스 2까지 슬라이싱\n",
        "print(array3)\n",
        "print(type(array3))"
      ],
      "execution_count": 16,
      "outputs": [
        {
          "output_type": "stream",
          "text": [
            "[1 2 3]\n",
            "<class 'numpy.ndarray'>\n"
          ],
          "name": "stdout"
        }
      ]
    },
    {
      "cell_type": "markdown",
      "metadata": {
        "id": "2qsjH3mq4kTM",
        "colab_type": "text"
      },
      "source": [
        "- 시작 인덱스 생략 : 0부터 시작\n",
        "- 종료 인덱스 생략 : 끝까지\n",
        "- 둘 다 생략 : 처음부터 끝까지"
      ]
    },
    {
      "cell_type": "code",
      "metadata": {
        "id": "L92U867X4iML",
        "colab_type": "code",
        "colab": {
          "base_uri": "https://localhost:8080/",
          "height": 70
        },
        "outputId": "7e5af963-a00e-4326-b449-d5470a76486e"
      },
      "source": [
        "# 시작 인덱스 생략\n",
        "print(array1[:3])\n",
        "\n",
        "# 종료 인덱스 생략\n",
        "print(array1[3:])\n",
        "\n",
        "# 둘 다 생략\n",
        "print(array1[:])"
      ],
      "execution_count": 17,
      "outputs": [
        {
          "output_type": "stream",
          "text": [
            "[1 2 3]\n",
            "[4 5 6 7 8 9]\n",
            "[1 2 3 4 5 6 7 8 9]\n"
          ],
          "name": "stdout"
        }
      ]
    },
    {
      "cell_type": "markdown",
      "metadata": {
        "id": "ujxOzUWt46d6",
        "colab_type": "text"
      },
      "source": [
        "3) 팬시 인덱싱"
      ]
    },
    {
      "cell_type": "code",
      "metadata": {
        "id": "QYzOYKAi41hw",
        "colab_type": "code",
        "colab": {
          "base_uri": "https://localhost:8080/",
          "height": 34
        },
        "outputId": "1229e473-c778-4900-da83-8735eeb4862c"
      },
      "source": [
        "array1d = np.arange(start = 1, stop = 10)\n",
        "array2d = array1d.reshape(3, 3) # 2차원 ndarray 생성\n",
        "\n",
        "array3 = array2d[[0, 1], 2]\n",
        "print('array2d[[0, 1], 2] = > ', array3.tolist())"
      ],
      "execution_count": 18,
      "outputs": [
        {
          "output_type": "stream",
          "text": [
            "array2d[[0, 1], 2] = >  [3, 6]\n"
          ],
          "name": "stdout"
        }
      ]
    },
    {
      "cell_type": "markdown",
      "metadata": {
        "id": "FuF1W6v55eBh",
        "colab_type": "text"
      },
      "source": [
        "4) 불린 인덱싱"
      ]
    },
    {
      "cell_type": "code",
      "metadata": {
        "id": "PzZgmdzQ5X8w",
        "colab_type": "code",
        "colab": {
          "base_uri": "https://localhost:8080/",
          "height": 34
        },
        "outputId": "0bc759b9-3e62-4f5f-e01c-f8d03d06e496"
      },
      "source": [
        "array1d = np.arange(start = 1, stop = 10)\n",
        "\n",
        "# 불린 인덱싱 적용\n",
        "array3 = array1d[array1d > 5]\n",
        "print('array1d > 5 불린 인덱싱 값:', array3)"
      ],
      "execution_count": 20,
      "outputs": [
        {
          "output_type": "stream",
          "text": [
            "array1d > 5 불린 인덱싱 값: [6 7 8 9]\n"
          ],
          "name": "stdout"
        }
      ]
    },
    {
      "cell_type": "code",
      "metadata": {
        "id": "lwgzESNd5sAB",
        "colab_type": "code",
        "colab": {
          "base_uri": "https://localhost:8080/",
          "height": 34
        },
        "outputId": "ca0b79cd-55f6-41f7-9cb9-04895ab2f4d3"
      },
      "source": [
        "array1d > 5"
      ],
      "execution_count": 21,
      "outputs": [
        {
          "output_type": "execute_result",
          "data": {
            "text/plain": [
              "array([False, False, False, False, False,  True,  True,  True,  True])"
            ]
          },
          "metadata": {
            "tags": []
          },
          "execution_count": 21
        }
      ]
    },
    {
      "cell_type": "markdown",
      "metadata": {
        "id": "pLXhpfsm5wPC",
        "colab_type": "text"
      },
      "source": [
        "- 위의 결과에서 True에 해당하는 6, 7, 8, 9 값만 인덱싱 되어 출력됨"
      ]
    },
    {
      "cell_type": "markdown",
      "metadata": {
        "id": "XGkSCNzZ6W5k",
        "colab_type": "text"
      },
      "source": [
        "### 6. sort(), argsrot()"
      ]
    },
    {
      "cell_type": "markdown",
      "metadata": {
        "id": "77PVRPHe6nAW",
        "colab_type": "text"
      },
      "source": [
        "- np.sort() : 원 행렬을 유지한 채 정렬된 행렬 반환\n",
        "- ndarray.sort() : 원 행렬 자체를 정렬하여 변환. 반환 값은 None"
      ]
    },
    {
      "cell_type": "code",
      "metadata": {
        "id": "P4AAahp65vne",
        "colab_type": "code",
        "colab": {
          "base_uri": "https://localhost:8080/",
          "height": 105
        },
        "outputId": "fd25a008-3d69-4c4f-9737-5a725bc97949"
      },
      "source": [
        "# 원 행렬\n",
        "org_array = np.array([3, 1, 9, 5])\n",
        "print('원본 행렬:', org_array)\n",
        "\n",
        "# np.sort()\n",
        "sort_array1 = np.sort(org_array)\n",
        "print('np.sort() 호출 후 반환된 정렬 행렬:', sort_array1)\n",
        "print('np.sort() 호출 후 반환된 원본 행렬:', org_array)\n",
        "\n",
        "# ndarray.sort()\n",
        "sort_array2 = org_array.sort()\n",
        "print('org_array.sort() 호출 후 반환된 정렬 행렬:', sort_array2)\n",
        "print('org_array.sort() 호출 후 반환된 원본 행렬:', org_array)"
      ],
      "execution_count": 22,
      "outputs": [
        {
          "output_type": "stream",
          "text": [
            "원본 행렬: [3 1 9 5]\n",
            "np.sort() 호출 후 반환된 정렬 행렬: [1 3 5 9]\n",
            "np.sort() 호출 후 반환된 원본 행렬: [3 1 9 5]\n",
            "org_array.sort() 호출 후 반환된 정렬 행렬: None\n",
            "org_array.sort() 호출 후 반환된 원본 행렬: [1 3 5 9]\n"
          ],
          "name": "stdout"
        }
      ]
    },
    {
      "cell_type": "markdown",
      "metadata": {
        "id": "Q3MkEoy-7ZIZ",
        "colab_type": "text"
      },
      "source": [
        "- 내림차순 정렬 : [::-1] 사용"
      ]
    },
    {
      "cell_type": "code",
      "metadata": {
        "id": "yMnwT1jO7RCd",
        "colab_type": "code",
        "colab": {
          "base_uri": "https://localhost:8080/",
          "height": 34
        },
        "outputId": "3ac34a2d-fbe4-431a-e7ff-997715eb0491"
      },
      "source": [
        "sort_array1_desc = np.sort(org_array)[::-1]\n",
        "print('내림차순 정렬:', sort_array1_desc)"
      ],
      "execution_count": 23,
      "outputs": [
        {
          "output_type": "stream",
          "text": [
            "내림차순 정렬: [9 5 3 1]\n"
          ],
          "name": "stdout"
        }
      ]
    },
    {
      "cell_type": "markdown",
      "metadata": {
        "id": "7xXj4_C07u5L",
        "colab_type": "text"
      },
      "source": [
        "- np.argsort() : 원본 행렬을 정렬 후, 기존 원본 행렬의 원소에 대한 인덱스가 필요한 경우 이용"
      ]
    },
    {
      "cell_type": "code",
      "metadata": {
        "id": "cu0gNeSg7oO2",
        "colab_type": "code",
        "colab": {
          "base_uri": "https://localhost:8080/",
          "height": 52
        },
        "outputId": "79ce8147-e2ff-48f8-a8af-f974e6d0916e"
      },
      "source": [
        "# 원본 행렬 생성\n",
        "org_array = np.array([3, 1, 9, 5])\n",
        "sort_indices = np.argsort(org_array)\n",
        "print(type(sort_indices))\n",
        "print('행렬 정렬 시 원본 행렬의 인덱스:', sort_indices)"
      ],
      "execution_count": 24,
      "outputs": [
        {
          "output_type": "stream",
          "text": [
            "<class 'numpy.ndarray'>\n",
            "행렬 정렬 시 원본 행렬의 인덱스: [1 0 3 2]\n"
          ],
          "name": "stdout"
        }
      ]
    },
    {
      "cell_type": "code",
      "metadata": {
        "id": "B3nixW388CN9",
        "colab_type": "code",
        "colab": {
          "base_uri": "https://localhost:8080/",
          "height": 52
        },
        "outputId": "7f4ed987-575a-41c5-9e2b-e7744bd9b8d3"
      },
      "source": [
        "# argsort() 활용 : 넘파이의 데이터 추출에서 많이 사용\n",
        "\n",
        "# 학생 이름과 점수 ndarray 생성\n",
        "name_array = np.array(['john', 'mike', 'sarah', 'kate', 'samuel'])\n",
        "score_array = np.array([78, 95, 84, 98, 88])\n",
        "\n",
        "# 성적 오름차순 후, 그 인덱스 저장\n",
        "sort_indices_asc = np.argsort(score_array)\n",
        "print('성적 오름차순 정렬 시 score_array의 인덱스:', sort_indices_asc)\n",
        "# 성적 오름차순 정렬 시 그 등수\n",
        "print('성적 오름차순으로 name_array 출력:', name_array[sort_indices_asc]) # 팬시 인덱싱 적용"
      ],
      "execution_count": 25,
      "outputs": [
        {
          "output_type": "stream",
          "text": [
            "성적 오름차순 정렬 시 score_array의 인덱스: [0 2 4 1 3]\n",
            "성적 오름차순으로 name_array 출력: ['john' 'sarah' 'samuel' 'mike' 'kate']\n"
          ],
          "name": "stdout"
        }
      ]
    },
    {
      "cell_type": "markdown",
      "metadata": {
        "id": "LWm6lzEd8_20",
        "colab_type": "text"
      },
      "source": [
        "### 7. 행렬 내적, 전치 행렬"
      ]
    },
    {
      "cell_type": "markdown",
      "metadata": {
        "id": "K-TckbT-9Cjv",
        "colab_type": "text"
      },
      "source": [
        "행렬 내적(행렬 곱)\n",
        "- np.dot()을 이용해 계산 가능"
      ]
    },
    {
      "cell_type": "code",
      "metadata": {
        "id": "GIga2rdm842Y",
        "colab_type": "code",
        "colab": {
          "base_uri": "https://localhost:8080/",
          "height": 52
        },
        "outputId": "8e203e59-a733-4f19-ad80-5114a7319925"
      },
      "source": [
        "A = np.array([[1, 2, 3],\n",
        "              [4, 5, 6]])\n",
        "B = np.array([[7, 8],\n",
        "              [9, 10],\n",
        "              [11, 12]])\n",
        "\n",
        "dot_product = np.dot(A, B)\n",
        "print('행렬 내적 결과:', dot_product)"
      ],
      "execution_count": 26,
      "outputs": [
        {
          "output_type": "stream",
          "text": [
            "행렬 내적 결과: [[ 58  64]\n",
            " [139 154]]\n"
          ],
          "name": "stdout"
        }
      ]
    },
    {
      "cell_type": "markdown",
      "metadata": {
        "id": "C9VxQrK99bpx",
        "colab_type": "text"
      },
      "source": [
        "전치 행렬\n",
        "- 원 행렬에서 행과 열의 위치를 교환한 것\n",
        "- 예 ) 2x2 행렬 → 1행 2열의 원소를 2행 1열, 2행 1열의 원소를 1행 2열로 교환\n",
        "- transpose() 이용"
      ]
    },
    {
      "cell_type": "code",
      "metadata": {
        "id": "shlUNPFB9Z1Y",
        "colab_type": "code",
        "colab": {
          "base_uri": "https://localhost:8080/",
          "height": 70
        },
        "outputId": "911f6b4d-bccb-4176-a33d-af4abfc55d49"
      },
      "source": [
        "A = np.array([[1, 2],\n",
        "             [3, 4]])\n",
        "transpose_mat = np.transpose(A)\n",
        "print('A의 전치 행렬:\\n', transpose_mat)"
      ],
      "execution_count": 28,
      "outputs": [
        {
          "output_type": "stream",
          "text": [
            "A의 전치 행렬:\n",
            " [[1 3]\n",
            " [2 4]]\n"
          ],
          "name": "stdout"
        }
      ]
    },
    {
      "cell_type": "code",
      "metadata": {
        "id": "PQ5PaNX891M7",
        "colab_type": "code",
        "colab": {}
      },
      "source": [
        ""
      ],
      "execution_count": null,
      "outputs": []
    }
  ]
}
