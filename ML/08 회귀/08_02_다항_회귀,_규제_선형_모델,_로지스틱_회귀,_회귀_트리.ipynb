{
  "nbformat": 4,
  "nbformat_minor": 0,
  "metadata": {
    "colab": {
      "name": "08-02 다항 회귀, 규제 선형 모델, 로지스틱 회귀, 회귀 트리.ipynb",
      "provenance": []
    },
    "kernelspec": {
      "name": "python3",
      "display_name": "Python 3"
    }
  },
  "cells": [
    {
      "cell_type": "markdown",
      "metadata": {
        "id": "POkqXCLJVcsk"
      },
      "source": [
        "## 1. 다항 회귀"
      ]
    },
    {
      "cell_type": "markdown",
      "metadata": {
        "id": "qHdgOhCIVjQb"
      },
      "source": [
        "다항 회귀 : 독립변수의 단항식이 아닌 2차, 3차 방정식과 같은 다항식으로 표현되는 것   \n",
        "비선형 회귀로 혼동하는 경우가 많으나, 다항 회귀 역시 선형 회귀.   \n",
        "사이킷런 → 다항 회귀 클래스 X   \n",
        "→ PolynomialFeatures : 피처를 다항식 피처로 변환시켜 줌"
      ]
    },
    {
      "cell_type": "code",
      "metadata": {
        "colab": {
          "base_uri": "https://localhost:8080/"
        },
        "id": "ZoEgWuxZVHBA",
        "outputId": "60221578-28dd-40f7-8fd9-ae5b5ef86c9f"
      },
      "source": [
        "# 단항값 [x1, x2]를 2차 다항값[1, x1, x2, x1^2, x1x2, x2^2]로 변환하는 예제\n",
        "from sklearn.preprocessing import PolynomialFeatures\n",
        "import numpy as np\n",
        "\n",
        "X = np.arange(4).reshape(2, 2)\n",
        "print('일차 단항식 계수 피쳐: \\n', X)\n",
        "\n",
        "poly = PolynomialFeatures(degree = 2)\n",
        "poly.fit(X)\n",
        "poly_ftr = poly.transform(X)\n",
        "print('변환된 2차 다항식 계수 피쳐: \\n', poly_ftr)"
      ],
      "execution_count": 1,
      "outputs": [
        {
          "output_type": "stream",
          "text": [
            "일차 단항식 계수 피쳐: \n",
            " [[0 1]\n",
            " [2 3]]\n",
            "변환된 2차 다항식 계수 피쳐: \n",
            " [[1. 0. 1. 0. 0. 1.]\n",
            " [1. 2. 3. 4. 6. 9.]]\n"
          ],
          "name": "stdout"
        }
      ]
    },
    {
      "cell_type": "code",
      "metadata": {
        "colab": {
          "base_uri": "https://localhost:8080/"
        },
        "id": "D0pyrbyqWdV4",
        "outputId": "901ea66b-b5f4-42f1-9df3-02330040e96d"
      },
      "source": [
        "## 3차 다항 회귀 함수 예제\n",
        "# 3차 다항 계수 피처값을 입력받으면 결정 값을 반환\n",
        "def polynomial_func(X):\n",
        "  y = 1 + 2*X[:,0] + 3*X[:,0]**2 + 4*X[:,1]**3 # 임의의 3차 회귀 함수식\n",
        "  return y\n",
        "\n",
        "X = np.arange(4).reshape(2, 2)\n",
        "print('일차 단항식 계수 피쳐: \\n', X)\n",
        "y = polynomial_func(X)\n",
        "print('삼차 다항식 결정 값: \\n', y)"
      ],
      "execution_count": 3,
      "outputs": [
        {
          "output_type": "stream",
          "text": [
            "일차 단항식 계수 피쳐: \n",
            " [[0 1]\n",
            " [2 3]]\n",
            "삼차 다항식 결정 값: \n",
            " [  5 125]\n"
          ],
          "name": "stdout"
        }
      ]
    },
    {
      "cell_type": "code",
      "metadata": {
        "colab": {
          "base_uri": "https://localhost:8080/"
        },
        "id": "xrl_6GqKXIuT",
        "outputId": "6f90b579-99b1-4575-d60c-da79755ad68c"
      },
      "source": [
        "from sklearn.linear_model import LinearRegression\n",
        "\n",
        "# 단항 계수 피쳐 → 3차 다항 계수 10개 변환\n",
        "poly_ftr = PolynomialFeatures(degree = 3).fit_transform(X)\n",
        "print('3차 다항식 계수 피쳐: \\n', poly_ftr)\n",
        "\n",
        "model = LinearRegression()\n",
        "model.fit(poly_ftr, y)\n",
        "print('Polynomial 회귀 계수: \\n', np.round(model.coef_, 2))\n",
        "print('Polynomial 회귀 shape: ', model.coef_.shape)"
      ],
      "execution_count": 5,
      "outputs": [
        {
          "output_type": "stream",
          "text": [
            "3차 다항식 계수 피쳐: \n",
            " [[ 1.  0.  1.  0.  0.  1.  0.  0.  0.  1.]\n",
            " [ 1.  2.  3.  4.  6.  9.  8. 12. 18. 27.]]\n",
            "Polynomial 회귀 계수: \n",
            " [0.   0.18 0.18 0.36 0.54 0.72 0.72 1.08 1.62 2.34]\n",
            "Polynomial 회귀 shape:  (10,)\n"
          ],
          "name": "stdout"
        }
      ]
    },
    {
      "cell_type": "markdown",
      "metadata": {
        "id": "L-RwyyKOYIRz"
      },
      "source": [
        "피쳐 변환과 선형 회귀 적용을 각각 별도로 하는 것 → 코드가 복잡해짐   \n",
        "→ 사이킷런의 Pipeline 객체 이용, 한 번에 구현하는 것이 코드가 더 명료함"
      ]
    },
    {
      "cell_type": "code",
      "metadata": {
        "colab": {
          "base_uri": "https://localhost:8080/"
        },
        "id": "26udOGi_XxKe",
        "outputId": "849a6141-9ea8-4e90-a5d9-0ab52430fd1b"
      },
      "source": [
        "from sklearn.preprocessing import PolynomialFeatures\n",
        "from sklearn.linear_model import LinearRegression\n",
        "from sklearn.pipeline import Pipeline\n",
        "import numpy as np\n",
        "\n",
        "def polynomial_func(X):\n",
        "  y = 1 + 2*X[:,0] + 3*X[:,0]**2 + 4*X[:,1]**3\n",
        "  return y\n",
        "\n",
        "# pipeline 객체 → polynomial feature 변환과 linear regression 연결\n",
        "model = Pipeline([('poly', PolynomialFeatures(degree = 3)),\n",
        "                   ('linear', LinearRegression())])\n",
        "\n",
        "X = np.arange(4).reshape(2, 2)\n",
        "y = polynomial_func(X)\n",
        "\n",
        "model = model.fit(X, y)\n",
        "\n",
        "print('Polynomial 회귀 계수\\n', np.round(model.named_steps['linear'].coef_, 2))"
      ],
      "execution_count": 8,
      "outputs": [
        {
          "output_type": "stream",
          "text": [
            "Polynomial 회귀 계수\n",
            " [0.   0.18 0.18 0.36 0.54 0.72 0.72 1.08 1.62 2.34]\n"
          ],
          "name": "stdout"
        }
      ]
    },
    {
      "cell_type": "markdown",
      "metadata": {
        "id": "iBxeOBb7boVj"
      },
      "source": [
        "## 2. 규제 선형 모델"
      ]
    },
    {
      "cell_type": "markdown",
      "metadata": {
        "id": "UnGnJ_V_b_H1"
      },
      "source": [
        "최적 모델을 위한 비용 함수 = 학습데이터 잔차 오류 최소화 + 회귀계수 크기 제어   \n",
        "alpha : 학습 데이터 적합 정도와 회귀 계수 값의 크기 제어를 수행하는 튜닝 파라미터\n",
        "- alpha를 0부터 지속적으로 증가 → 회귀 계수 값의 크기 감소 → \" 규제 \"\n",
        "- alpha 값을 크게 → 회귀 계수 W 감소 → 과적합 개선\n",
        "- alpha 값을 작게 → W이 커져도 상쇄 가능 → 학습 데이터 적합 개선"
      ]
    },
    {
      "cell_type": "markdown",
      "metadata": {
        "id": "HQ6Jcxzlcqph"
      },
      "source": [
        "규제 )\n",
        "1. L2 규제 : W의 제곱에 대해 패널티 부여 (릿지 회귀)\n",
        "2. L1 규제 : W의 절대값에 대해 패널티 부여 (라쏘 회귀) → 영향력이 작은 회귀 계수 값을 0으로 변환"
      ]
    },
    {
      "cell_type": "markdown",
      "metadata": {
        "id": "vysVicexdM0h"
      },
      "source": [
        "### 릿지 회귀"
      ]
    },
    {
      "cell_type": "code",
      "metadata": {
        "id": "Lxdyg4PldhBp"
      },
      "source": [
        "from sklearn.model_selection import train_test_split\n",
        "from sklearn.linear_model import LinearRegression\n",
        "from sklearn.metrics import mean_squared_error , r2_score\n",
        "from sklearn.preprocessing import PolynomialFeatures\n",
        "from sklearn.linear_model import LinearRegression\n",
        "from sklearn.pipeline import Pipeline\n",
        "from sklearn.datasets import load_boston\n",
        "import numpy as np\n",
        "import matplotlib.pyplot as plt\n",
        "import pandas as pd\n",
        "import seaborn as sns\n",
        "from scipy import stats\n",
        "from sklearn.datasets import load_boston"
      ],
      "execution_count": 13,
      "outputs": []
    },
    {
      "cell_type": "code",
      "metadata": {
        "colab": {
          "base_uri": "https://localhost:8080/"
        },
        "id": "fhNrkWQHY59F",
        "outputId": "93e5ca91-16aa-42de-c5b6-0c05a97d039d"
      },
      "source": [
        "from sklearn.linear_model import Ridge\n",
        "from sklearn.model_selection import cross_val_score\n",
        "\n",
        "boston = load_boston()\n",
        "\n",
        "bostonDF = pd.DataFrame(boston.data , columns = boston.feature_names)\n",
        "\n",
        "bostonDF['PRICE'] = boston.target\n",
        "print('Boston 데이타셋 크기 :',bostonDF.shape)\n",
        "\n",
        "y_target = bostonDF['PRICE']\n",
        "X_data = bostonDF.drop(['PRICE'],axis=1,inplace=False)\n",
        "\n",
        "\n",
        "ridge = Ridge(alpha = 10)\n",
        "neg_mse_scores = cross_val_score(ridge, X_data, y_target, scoring=\"neg_mean_squared_error\", cv = 5)\n",
        "rmse_scores  = np.sqrt(-1 * neg_mse_scores)\n",
        "avg_rmse = np.mean(rmse_scores)\n",
        "print(' 5 folds 의 개별 Negative MSE scores: ', np.round(neg_mse_scores, 3))\n",
        "print(' 5 folds 의 개별 RMSE scores : ', np.round(rmse_scores,3))\n",
        "print(' 5 folds 의 평균 RMSE : {0:.3f} '.format(avg_rmse))"
      ],
      "execution_count": 14,
      "outputs": [
        {
          "output_type": "stream",
          "text": [
            "Boston 데이타셋 크기 : (506, 14)\n",
            " 5 folds 의 개별 Negative MSE scores:  [-11.422 -24.294 -28.144 -74.599 -28.517]\n",
            " 5 folds 의 개별 RMSE scores :  [3.38  4.929 5.305 8.637 5.34 ]\n",
            " 5 folds 의 평균 RMSE : 5.518 \n"
          ],
          "name": "stdout"
        }
      ]
    },
    {
      "cell_type": "code",
      "metadata": {
        "colab": {
          "base_uri": "https://localhost:8080/"
        },
        "id": "THnwM9eSdnZ8",
        "outputId": "f7a09bbf-ea0e-4015-ede2-9b3153adec10"
      },
      "source": [
        "# alpha 값을 변경해가며 회귀 계수 값 변화 확인\n",
        "alphas = [0 , 0.1 , 1 , 10 , 100]\n",
        "\n",
        "# alphas list 값을 iteration하면서 alpha에 따른 평균 rmse 구함\n",
        "for alpha in alphas :\n",
        "    ridge = Ridge(alpha = alpha)\n",
        "    \n",
        "    #cross_val_score를 이용하여 5 fold의 평균 RMSE 계산\n",
        "    neg_mse_scores = cross_val_score(ridge, X_data, y_target, scoring=\"neg_mean_squared_error\", cv = 5)\n",
        "    avg_rmse = np.mean(np.sqrt(-1 * neg_mse_scores))\n",
        "    print('alpha {0} 일 때 5 folds 의 평균 RMSE : {1:.3f} '.format(alpha,avg_rmse))"
      ],
      "execution_count": 15,
      "outputs": [
        {
          "output_type": "stream",
          "text": [
            "alpha 0 일 때 5 folds 의 평균 RMSE : 5.829 \n",
            "alpha 0.1 일 때 5 folds 의 평균 RMSE : 5.788 \n",
            "alpha 1 일 때 5 folds 의 평균 RMSE : 5.653 \n",
            "alpha 10 일 때 5 folds 의 평균 RMSE : 5.518 \n",
            "alpha 100 일 때 5 folds 의 평균 RMSE : 5.330 \n"
          ],
          "name": "stdout"
        }
      ]
    },
    {
      "cell_type": "markdown",
      "metadata": {
        "id": "yKEut-C5eGqX"
      },
      "source": [
        "alpha 값이 100일 때 평균 RMSE가 가장 좋음"
      ]
    },
    {
      "cell_type": "code",
      "metadata": {
        "colab": {
          "base_uri": "https://localhost:8080/",
          "height": 390
        },
        "id": "AmzmEedbeEDe",
        "outputId": "8fd094c4-4d4b-449d-941a-bc32d0be3e51"
      },
      "source": [
        "# alpha 값에 따른 회귀 계수 값 시각화\n",
        "\n",
        "fig , axs = plt.subplots(figsize=(18,6) , nrows=1 , ncols=5)\n",
        "coeff_df = pd.DataFrame()\n",
        "\n",
        "for pos , alpha in enumerate(alphas) :\n",
        "    ridge = Ridge(alpha = alpha)\n",
        "    ridge.fit(X_data , y_target)\n",
        "\n",
        "    coeff = pd.Series(data=ridge.coef_ , index=X_data.columns )\n",
        "    colname='alpha:'+str(alpha)\n",
        "    coeff_df[colname] = coeff\n",
        "\n",
        "    coeff = coeff.sort_values(ascending=False)\n",
        "    axs[pos].set_title(colname)\n",
        "    axs[pos].set_xlim(-3,6)\n",
        "    sns.barplot(x=coeff.values , y=coeff.index, ax=axs[pos])\n",
        "\n",
        "plt.show()"
      ],
      "execution_count": 16,
      "outputs": [
        {
          "output_type": "display_data",
          "data": {
            "image/png": "[encoded data removed]",
            "text/plain": [
              "<Figure size 1296x432 with 5 Axes>"
            ]
          },
          "metadata": {
            "tags": [],
            "needs_background": "light"
          }
        }
      ]
    },
    {
      "cell_type": "markdown",
      "metadata": {
        "id": "RDMX-bdrea9g"
      },
      "source": [
        "alpha 값을 증가시킬수록 영향력이 큰 변수의 회귀 계수 값이 지속적으로 작아짐"
      ]
    },
    {
      "cell_type": "code",
      "metadata": {
        "colab": {
          "base_uri": "https://localhost:8080/",
          "height": 432
        },
        "id": "lhVf-lzCeS8E",
        "outputId": "fa062216-7036-4de0-d402-937a3be2ee12"
      },
      "source": [
        "# alpha 값에 따른 릿지 회귀 계수 값 확인\n",
        "ridge_alphas = [0 , 0.1 , 1 , 10 , 100]\n",
        "sort_column = 'alpha:'+str(ridge_alphas[0])\n",
        "coeff_df.sort_values(by=sort_column, ascending=False)"
      ],
      "execution_count": 17,
      "outputs": [
        {
          "output_type": "execute_result",
          "data": {
            "text/html": [
              "<div>\n",
              "<style scoped>\n",
              "    .dataframe tbody tr th:only-of-type {\n",
              "        vertical-align: middle;\n",
              "    }\n",
              "\n",
              "    .dataframe tbody tr th {\n",
              "        vertical-align: top;\n",
              "    }\n",
              "\n",
              "    .dataframe thead th {\n",
              "        text-align: right;\n",
              "    }\n",
              "</style>\n",
              "<table border=\"1\" class=\"dataframe\">\n",
              "  <thead>\n",
              "    <tr style=\"text-align: right;\">\n",
              "      <th></th>\n",
              "      <th>alpha:0</th>\n",
              "      <th>alpha:0.1</th>\n",
              "      <th>alpha:1</th>\n",
              "      <th>alpha:10</th>\n",
              "      <th>alpha:100</th>\n",
              "    </tr>\n",
              "  </thead>\n",
              "  <tbody>\n",
              "    <tr>\n",
              "      <th>RM</th>\n",
              "      <td>3.809865</td>\n",
              "      <td>3.818233</td>\n",
              "      <td>3.854000</td>\n",
              "      <td>3.702272</td>\n",
              "      <td>2.334536</td>\n",
              "    </tr>\n",
              "    <tr>\n",
              "      <th>CHAS</th>\n",
              "      <td>2.686734</td>\n",
              "      <td>2.670019</td>\n",
              "      <td>2.552393</td>\n",
              "      <td>1.952021</td>\n",
              "      <td>0.638335</td>\n",
              "    </tr>\n",
              "    <tr>\n",
              "      <th>RAD</th>\n",
              "      <td>0.306049</td>\n",
              "      <td>0.303515</td>\n",
              "      <td>0.290142</td>\n",
              "      <td>0.279596</td>\n",
              "      <td>0.315358</td>\n",
              "    </tr>\n",
              "    <tr>\n",
              "      <th>ZN</th>\n",
              "      <td>0.046420</td>\n",
              "      <td>0.046572</td>\n",
              "      <td>0.047443</td>\n",
              "      <td>0.049579</td>\n",
              "      <td>0.054496</td>\n",
              "    </tr>\n",
              "    <tr>\n",
              "      <th>INDUS</th>\n",
              "      <td>0.020559</td>\n",
              "      <td>0.015999</td>\n",
              "      <td>-0.008805</td>\n",
              "      <td>-0.042962</td>\n",
              "      <td>-0.052826</td>\n",
              "    </tr>\n",
              "    <tr>\n",
              "      <th>B</th>\n",
              "      <td>0.009312</td>\n",
              "      <td>0.009368</td>\n",
              "      <td>0.009673</td>\n",
              "      <td>0.010037</td>\n",
              "      <td>0.009393</td>\n",
              "    </tr>\n",
              "    <tr>\n",
              "      <th>AGE</th>\n",
              "      <td>0.000692</td>\n",
              "      <td>-0.000269</td>\n",
              "      <td>-0.005415</td>\n",
              "      <td>-0.010707</td>\n",
              "      <td>0.001212</td>\n",
              "    </tr>\n",
              "    <tr>\n",
              "      <th>TAX</th>\n",
              "      <td>-0.012335</td>\n",
              "      <td>-0.012421</td>\n",
              "      <td>-0.012912</td>\n",
              "      <td>-0.013993</td>\n",
              "      <td>-0.015856</td>\n",
              "    </tr>\n",
              "    <tr>\n",
              "      <th>CRIM</th>\n",
              "      <td>-0.108011</td>\n",
              "      <td>-0.107474</td>\n",
              "      <td>-0.104595</td>\n",
              "      <td>-0.101435</td>\n",
              "      <td>-0.102202</td>\n",
              "    </tr>\n",
              "    <tr>\n",
              "      <th>LSTAT</th>\n",
              "      <td>-0.524758</td>\n",
              "      <td>-0.525966</td>\n",
              "      <td>-0.533343</td>\n",
              "      <td>-0.559366</td>\n",
              "      <td>-0.660764</td>\n",
              "    </tr>\n",
              "    <tr>\n",
              "      <th>PTRATIO</th>\n",
              "      <td>-0.952747</td>\n",
              "      <td>-0.940759</td>\n",
              "      <td>-0.876074</td>\n",
              "      <td>-0.797945</td>\n",
              "      <td>-0.829218</td>\n",
              "    </tr>\n",
              "    <tr>\n",
              "      <th>DIS</th>\n",
              "      <td>-1.475567</td>\n",
              "      <td>-1.459626</td>\n",
              "      <td>-1.372654</td>\n",
              "      <td>-1.248808</td>\n",
              "      <td>-1.153390</td>\n",
              "    </tr>\n",
              "    <tr>\n",
              "      <th>NOX</th>\n",
              "      <td>-17.766611</td>\n",
              "      <td>-16.684645</td>\n",
              "      <td>-10.777015</td>\n",
              "      <td>-2.371619</td>\n",
              "      <td>-0.262847</td>\n",
              "    </tr>\n",
              "  </tbody>\n",
              "</table>\n",
              "</div>"
            ],
            "text/plain": [
              "           alpha:0  alpha:0.1    alpha:1  alpha:10  alpha:100\n",
              "RM        3.809865   3.818233   3.854000  3.702272   2.334536\n",
              "CHAS      2.686734   2.670019   2.552393  1.952021   0.638335\n",
              "RAD       0.306049   0.303515   0.290142  0.279596   0.315358\n",
              "ZN        0.046420   0.046572   0.047443  0.049579   0.054496\n",
              "INDUS     0.020559   0.015999  -0.008805 -0.042962  -0.052826\n",
              "B         0.009312   0.009368   0.009673  0.010037   0.009393\n",
              "AGE       0.000692  -0.000269  -0.005415 -0.010707   0.001212\n",
              "TAX      -0.012335  -0.012421  -0.012912 -0.013993  -0.015856\n",
              "CRIM     -0.108011  -0.107474  -0.104595 -0.101435  -0.102202\n",
              "LSTAT    -0.524758  -0.525966  -0.533343 -0.559366  -0.660764\n",
              "PTRATIO  -0.952747  -0.940759  -0.876074 -0.797945  -0.829218\n",
              "DIS      -1.475567  -1.459626  -1.372654 -1.248808  -1.153390\n",
              "NOX     -17.766611 -16.684645 -10.777015 -2.371619  -0.262847"
            ]
          },
          "metadata": {
            "tags": []
          },
          "execution_count": 17
        }
      ]
    },
    {
      "cell_type": "markdown",
      "metadata": {
        "id": "b3duRcN6emek"
      },
      "source": [
        "### 라쏘 회귀"
      ]
    },
    {
      "cell_type": "markdown",
      "metadata": {
        "id": "Z_YD9wE3epLA"
      },
      "source": [
        "L1 규제의 목표 : 불필요한 회귀 계수를 급격하게 감소시킨 뒤 0으로 만들어 제거   \n",
        "→ 적절한 피쳐만 골라 회귀에 포함 시킴 (피쳐 선택 특성)"
      ]
    },
    {
      "cell_type": "code",
      "metadata": {
        "id": "TPTeIO-lejbO"
      },
      "source": [
        "# get_linear_reg_eval : 회귀 모델 이름, alpha 리스트, 피처/타겟 데이터 셋 입력 → alpha값에 따른 평균 RMSE 출력 후 회귀 계수를 DataFrame으로 반환\n",
        "\n",
        "from sklearn.linear_model import Lasso, ElasticNet\n",
        "\n",
        "def get_linear_reg_eval(model_name, params=None, X_data_n=None, y_target_n=None, verbose=True, return_coeff=True):\n",
        "    coeff_df = pd.DataFrame()\n",
        "    if verbose : print('####### ', model_name , '#######')\n",
        "    for param in params:\n",
        "        if model_name =='Ridge': model = Ridge(alpha=param)\n",
        "        elif model_name =='Lasso': model = Lasso(alpha=param)\n",
        "        elif model_name =='ElasticNet': model = ElasticNet(alpha=param, l1_ratio=0.7)\n",
        "        neg_mse_scores = cross_val_score(model, X_data_n, \n",
        "                                             y_target_n, scoring=\"neg_mean_squared_error\", cv = 5)\n",
        "        avg_rmse = np.mean(np.sqrt(-1 * neg_mse_scores))\n",
        "        print('alpha {0}일 때 5 폴드 세트의 평균 RMSE: {1:.3f} '.format(param, avg_rmse))\n",
        "        \n",
        "        model.fit(X_data_n , y_target_n)\n",
        "        if return_coeff:\n",
        "            coeff = pd.Series(data=model.coef_ , index=X_data_n.columns )\n",
        "            colname='alpha:'+str(param)\n",
        "            coeff_df[colname] = coeff\n",
        "    \n",
        "    return coeff_df"
      ],
      "execution_count": 18,
      "outputs": []
    },
    {
      "cell_type": "code",
      "metadata": {
        "colab": {
          "base_uri": "https://localhost:8080/"
        },
        "id": "kfiQS09cfjMl",
        "outputId": "232fd612-8690-4bb1-e311-bed6a4a93886"
      },
      "source": [
        "lasso_alphas = [ 0.07, 0.1, 0.5, 1, 3]\n",
        "coeff_lasso_df =get_linear_reg_eval('Lasso', params=lasso_alphas, X_data_n=X_data, y_target_n=y_target)"
      ],
      "execution_count": 19,
      "outputs": [
        {
          "output_type": "stream",
          "text": [
            "#######  Lasso #######\n",
            "alpha 0.07일 때 5 폴드 세트의 평균 RMSE: 5.612 \n",
            "alpha 0.1일 때 5 폴드 세트의 평균 RMSE: 5.615 \n",
            "alpha 0.5일 때 5 폴드 세트의 평균 RMSE: 5.669 \n",
            "alpha 1일 때 5 폴드 세트의 평균 RMSE: 5.776 \n",
            "alpha 3일 때 5 폴드 세트의 평균 RMSE: 6.189 \n"
          ],
          "name": "stdout"
        }
      ]
    },
    {
      "cell_type": "code",
      "metadata": {
        "colab": {
          "base_uri": "https://localhost:8080/",
          "height": 432
        },
        "id": "Ju-CHIOhfpsL",
        "outputId": "eac5b11e-1914-474c-9ea3-bfbdb6a830d3"
      },
      "source": [
        "# 반환된 coeff_lasso_df를 첫번째 컬럼순으로 내림차순 정렬하여 회귀계수 DataFrame출력\n",
        "sort_column = 'alpha:'+str(lasso_alphas[0])\n",
        "coeff_lasso_df.sort_values(by=sort_column, ascending=False)"
      ],
      "execution_count": 20,
      "outputs": [
        {
          "output_type": "execute_result",
          "data": {
            "text/html": [
              "<div>\n",
              "<style scoped>\n",
              "    .dataframe tbody tr th:only-of-type {\n",
              "        vertical-align: middle;\n",
              "    }\n",
              "\n",
              "    .dataframe tbody tr th {\n",
              "        vertical-align: top;\n",
              "    }\n",
              "\n",
              "    .dataframe thead th {\n",
              "        text-align: right;\n",
              "    }\n",
              "</style>\n",
              "<table border=\"1\" class=\"dataframe\">\n",
              "  <thead>\n",
              "    <tr style=\"text-align: right;\">\n",
              "      <th></th>\n",
              "      <th>alpha:0.07</th>\n",
              "      <th>alpha:0.1</th>\n",
              "      <th>alpha:0.5</th>\n",
              "      <th>alpha:1</th>\n",
              "      <th>alpha:3</th>\n",
              "    </tr>\n",
              "  </thead>\n",
              "  <tbody>\n",
              "    <tr>\n",
              "      <th>RM</th>\n",
              "      <td>3.789725</td>\n",
              "      <td>3.703202</td>\n",
              "      <td>2.498212</td>\n",
              "      <td>0.949811</td>\n",
              "      <td>0.000000</td>\n",
              "    </tr>\n",
              "    <tr>\n",
              "      <th>CHAS</th>\n",
              "      <td>1.434343</td>\n",
              "      <td>0.955190</td>\n",
              "      <td>0.000000</td>\n",
              "      <td>0.000000</td>\n",
              "      <td>0.000000</td>\n",
              "    </tr>\n",
              "    <tr>\n",
              "      <th>RAD</th>\n",
              "      <td>0.270936</td>\n",
              "      <td>0.274707</td>\n",
              "      <td>0.277451</td>\n",
              "      <td>0.264206</td>\n",
              "      <td>0.061864</td>\n",
              "    </tr>\n",
              "    <tr>\n",
              "      <th>ZN</th>\n",
              "      <td>0.049059</td>\n",
              "      <td>0.049211</td>\n",
              "      <td>0.049544</td>\n",
              "      <td>0.049165</td>\n",
              "      <td>0.037231</td>\n",
              "    </tr>\n",
              "    <tr>\n",
              "      <th>B</th>\n",
              "      <td>0.010248</td>\n",
              "      <td>0.010249</td>\n",
              "      <td>0.009469</td>\n",
              "      <td>0.008247</td>\n",
              "      <td>0.006510</td>\n",
              "    </tr>\n",
              "    <tr>\n",
              "      <th>NOX</th>\n",
              "      <td>-0.000000</td>\n",
              "      <td>-0.000000</td>\n",
              "      <td>-0.000000</td>\n",
              "      <td>-0.000000</td>\n",
              "      <td>0.000000</td>\n",
              "    </tr>\n",
              "    <tr>\n",
              "      <th>AGE</th>\n",
              "      <td>-0.011706</td>\n",
              "      <td>-0.010037</td>\n",
              "      <td>0.003604</td>\n",
              "      <td>0.020910</td>\n",
              "      <td>0.042495</td>\n",
              "    </tr>\n",
              "    <tr>\n",
              "      <th>TAX</th>\n",
              "      <td>-0.014290</td>\n",
              "      <td>-0.014570</td>\n",
              "      <td>-0.015442</td>\n",
              "      <td>-0.015212</td>\n",
              "      <td>-0.008602</td>\n",
              "    </tr>\n",
              "    <tr>\n",
              "      <th>INDUS</th>\n",
              "      <td>-0.042120</td>\n",
              "      <td>-0.036619</td>\n",
              "      <td>-0.005253</td>\n",
              "      <td>-0.000000</td>\n",
              "      <td>-0.000000</td>\n",
              "    </tr>\n",
              "    <tr>\n",
              "      <th>CRIM</th>\n",
              "      <td>-0.098193</td>\n",
              "      <td>-0.097894</td>\n",
              "      <td>-0.083289</td>\n",
              "      <td>-0.063437</td>\n",
              "      <td>-0.000000</td>\n",
              "    </tr>\n",
              "    <tr>\n",
              "      <th>LSTAT</th>\n",
              "      <td>-0.560431</td>\n",
              "      <td>-0.568769</td>\n",
              "      <td>-0.656290</td>\n",
              "      <td>-0.761115</td>\n",
              "      <td>-0.807679</td>\n",
              "    </tr>\n",
              "    <tr>\n",
              "      <th>PTRATIO</th>\n",
              "      <td>-0.765107</td>\n",
              "      <td>-0.770654</td>\n",
              "      <td>-0.758752</td>\n",
              "      <td>-0.722966</td>\n",
              "      <td>-0.265072</td>\n",
              "    </tr>\n",
              "    <tr>\n",
              "      <th>DIS</th>\n",
              "      <td>-1.176583</td>\n",
              "      <td>-1.160538</td>\n",
              "      <td>-0.936605</td>\n",
              "      <td>-0.668790</td>\n",
              "      <td>-0.000000</td>\n",
              "    </tr>\n",
              "  </tbody>\n",
              "</table>\n",
              "</div>"
            ],
            "text/plain": [
              "         alpha:0.07  alpha:0.1  alpha:0.5   alpha:1   alpha:3\n",
              "RM         3.789725   3.703202   2.498212  0.949811  0.000000\n",
              "CHAS       1.434343   0.955190   0.000000  0.000000  0.000000\n",
              "RAD        0.270936   0.274707   0.277451  0.264206  0.061864\n",
              "ZN         0.049059   0.049211   0.049544  0.049165  0.037231\n",
              "B          0.010248   0.010249   0.009469  0.008247  0.006510\n",
              "NOX       -0.000000  -0.000000  -0.000000 -0.000000  0.000000\n",
              "AGE       -0.011706  -0.010037   0.003604  0.020910  0.042495\n",
              "TAX       -0.014290  -0.014570  -0.015442 -0.015212 -0.008602\n",
              "INDUS     -0.042120  -0.036619  -0.005253 -0.000000 -0.000000\n",
              "CRIM      -0.098193  -0.097894  -0.083289 -0.063437 -0.000000\n",
              "LSTAT     -0.560431  -0.568769  -0.656290 -0.761115 -0.807679\n",
              "PTRATIO   -0.765107  -0.770654  -0.758752 -0.722966 -0.265072\n",
              "DIS       -1.176583  -1.160538  -0.936605 -0.668790 -0.000000"
            ]
          },
          "metadata": {
            "tags": []
          },
          "execution_count": 20
        }
      ]
    },
    {
      "cell_type": "markdown",
      "metadata": {
        "id": "1eyyXvhUf2OJ"
      },
      "source": [
        "alpha 값이 증가하면서 일부 피쳐의 회귀 계수가 0으로 바뀌어서 제외됨"
      ]
    },
    {
      "cell_type": "markdown",
      "metadata": {
        "id": "Ud1_CQshgSWs"
      },
      "source": [
        "### 엘라스틱넷 회귀"
      ]
    },
    {
      "cell_type": "markdown",
      "metadata": {
        "id": "q7fXje7AgTqg"
      },
      "source": [
        "- L2 규제와 L1 규제를 결합한 회귀\n",
        "- L1 규제(라쏘 회귀) → 중요 피쳐를 선택하고 나머지 피쳐를 0으로 만듦   \n",
        "→ alpha 값에 따라 회귀 계수 값이 급변할 수가 있음   \n",
        "→ L2 규제(릿지 회귀)를 결합해 이러한 단점을 완화시켜 줌\n",
        "- 단점 : 수행시간이 상대적으로 오래 걸림\n",
        "- 엘라스틱넷 회귀의 alpha는 릿지, 라쏘의 alpha와 다른 값"
      ]
    },
    {
      "cell_type": "code",
      "metadata": {
        "colab": {
          "base_uri": "https://localhost:8080/"
        },
        "id": "nOez5mmFfwDC",
        "outputId": "66fd4668-524b-4e50-e435-653676ef605d"
      },
      "source": [
        "elastic_alphas = [ 0.07, 0.1, 0.5, 1, 3]\n",
        "coeff_elastic_df =get_linear_reg_eval('ElasticNet', params=elastic_alphas,\n",
        "                                      X_data_n=X_data, y_target_n=y_target)"
      ],
      "execution_count": 21,
      "outputs": [
        {
          "output_type": "stream",
          "text": [
            "#######  ElasticNet #######\n",
            "alpha 0.07일 때 5 폴드 세트의 평균 RMSE: 5.542 \n",
            "alpha 0.1일 때 5 폴드 세트의 평균 RMSE: 5.526 \n",
            "alpha 0.5일 때 5 폴드 세트의 평균 RMSE: 5.467 \n",
            "alpha 1일 때 5 폴드 세트의 평균 RMSE: 5.597 \n",
            "alpha 3일 때 5 폴드 세트의 평균 RMSE: 6.068 \n"
          ],
          "name": "stdout"
        }
      ]
    },
    {
      "cell_type": "code",
      "metadata": {
        "colab": {
          "base_uri": "https://localhost:8080/",
          "height": 432
        },
        "id": "Cbu2Mmhwg92E",
        "outputId": "de88c21f-47c9-4791-ec68-41f7514be420"
      },
      "source": [
        "# 반환된 coeff_elastic_df를 첫번째 컬럼순으로 내림차순 정렬하여 회귀계수 DataFrame출력\n",
        "sort_column = 'alpha:'+str(elastic_alphas[0])\n",
        "coeff_elastic_df.sort_values(by=sort_column, ascending=False)"
      ],
      "execution_count": 22,
      "outputs": [
        {
          "output_type": "execute_result",
          "data": {
            "text/html": [
              "<div>\n",
              "<style scoped>\n",
              "    .dataframe tbody tr th:only-of-type {\n",
              "        vertical-align: middle;\n",
              "    }\n",
              "\n",
              "    .dataframe tbody tr th {\n",
              "        vertical-align: top;\n",
              "    }\n",
              "\n",
              "    .dataframe thead th {\n",
              "        text-align: right;\n",
              "    }\n",
              "</style>\n",
              "<table border=\"1\" class=\"dataframe\">\n",
              "  <thead>\n",
              "    <tr style=\"text-align: right;\">\n",
              "      <th></th>\n",
              "      <th>alpha:0.07</th>\n",
              "      <th>alpha:0.1</th>\n",
              "      <th>alpha:0.5</th>\n",
              "      <th>alpha:1</th>\n",
              "      <th>alpha:3</th>\n",
              "    </tr>\n",
              "  </thead>\n",
              "  <tbody>\n",
              "    <tr>\n",
              "      <th>RM</th>\n",
              "      <td>3.574162</td>\n",
              "      <td>3.414154</td>\n",
              "      <td>1.918419</td>\n",
              "      <td>0.938789</td>\n",
              "      <td>0.000000</td>\n",
              "    </tr>\n",
              "    <tr>\n",
              "      <th>CHAS</th>\n",
              "      <td>1.330724</td>\n",
              "      <td>0.979706</td>\n",
              "      <td>0.000000</td>\n",
              "      <td>0.000000</td>\n",
              "      <td>0.000000</td>\n",
              "    </tr>\n",
              "    <tr>\n",
              "      <th>RAD</th>\n",
              "      <td>0.278880</td>\n",
              "      <td>0.283443</td>\n",
              "      <td>0.300761</td>\n",
              "      <td>0.289299</td>\n",
              "      <td>0.146846</td>\n",
              "    </tr>\n",
              "    <tr>\n",
              "      <th>ZN</th>\n",
              "      <td>0.050107</td>\n",
              "      <td>0.050617</td>\n",
              "      <td>0.052878</td>\n",
              "      <td>0.052136</td>\n",
              "      <td>0.038268</td>\n",
              "    </tr>\n",
              "    <tr>\n",
              "      <th>B</th>\n",
              "      <td>0.010122</td>\n",
              "      <td>0.010067</td>\n",
              "      <td>0.009114</td>\n",
              "      <td>0.008320</td>\n",
              "      <td>0.007020</td>\n",
              "    </tr>\n",
              "    <tr>\n",
              "      <th>AGE</th>\n",
              "      <td>-0.010116</td>\n",
              "      <td>-0.008276</td>\n",
              "      <td>0.007760</td>\n",
              "      <td>0.020348</td>\n",
              "      <td>0.043446</td>\n",
              "    </tr>\n",
              "    <tr>\n",
              "      <th>TAX</th>\n",
              "      <td>-0.014522</td>\n",
              "      <td>-0.014814</td>\n",
              "      <td>-0.016046</td>\n",
              "      <td>-0.016218</td>\n",
              "      <td>-0.011417</td>\n",
              "    </tr>\n",
              "    <tr>\n",
              "      <th>INDUS</th>\n",
              "      <td>-0.044855</td>\n",
              "      <td>-0.042719</td>\n",
              "      <td>-0.023252</td>\n",
              "      <td>-0.000000</td>\n",
              "      <td>-0.000000</td>\n",
              "    </tr>\n",
              "    <tr>\n",
              "      <th>CRIM</th>\n",
              "      <td>-0.099468</td>\n",
              "      <td>-0.099213</td>\n",
              "      <td>-0.089070</td>\n",
              "      <td>-0.073577</td>\n",
              "      <td>-0.019058</td>\n",
              "    </tr>\n",
              "    <tr>\n",
              "      <th>NOX</th>\n",
              "      <td>-0.175072</td>\n",
              "      <td>-0.000000</td>\n",
              "      <td>-0.000000</td>\n",
              "      <td>-0.000000</td>\n",
              "      <td>-0.000000</td>\n",
              "    </tr>\n",
              "    <tr>\n",
              "      <th>LSTAT</th>\n",
              "      <td>-0.574822</td>\n",
              "      <td>-0.587702</td>\n",
              "      <td>-0.693861</td>\n",
              "      <td>-0.760457</td>\n",
              "      <td>-0.800368</td>\n",
              "    </tr>\n",
              "    <tr>\n",
              "      <th>PTRATIO</th>\n",
              "      <td>-0.779498</td>\n",
              "      <td>-0.784725</td>\n",
              "      <td>-0.790969</td>\n",
              "      <td>-0.738672</td>\n",
              "      <td>-0.423065</td>\n",
              "    </tr>\n",
              "    <tr>\n",
              "      <th>DIS</th>\n",
              "      <td>-1.189438</td>\n",
              "      <td>-1.173647</td>\n",
              "      <td>-0.975902</td>\n",
              "      <td>-0.725174</td>\n",
              "      <td>-0.031208</td>\n",
              "    </tr>\n",
              "  </tbody>\n",
              "</table>\n",
              "</div>"
            ],
            "text/plain": [
              "         alpha:0.07  alpha:0.1  alpha:0.5   alpha:1   alpha:3\n",
              "RM         3.574162   3.414154   1.918419  0.938789  0.000000\n",
              "CHAS       1.330724   0.979706   0.000000  0.000000  0.000000\n",
              "RAD        0.278880   0.283443   0.300761  0.289299  0.146846\n",
              "ZN         0.050107   0.050617   0.052878  0.052136  0.038268\n",
              "B          0.010122   0.010067   0.009114  0.008320  0.007020\n",
              "AGE       -0.010116  -0.008276   0.007760  0.020348  0.043446\n",
              "TAX       -0.014522  -0.014814  -0.016046 -0.016218 -0.011417\n",
              "INDUS     -0.044855  -0.042719  -0.023252 -0.000000 -0.000000\n",
              "CRIM      -0.099468  -0.099213  -0.089070 -0.073577 -0.019058\n",
              "NOX       -0.175072  -0.000000  -0.000000 -0.000000 -0.000000\n",
              "LSTAT     -0.574822  -0.587702  -0.693861 -0.760457 -0.800368\n",
              "PTRATIO   -0.779498  -0.784725  -0.790969 -0.738672 -0.423065\n",
              "DIS       -1.189438  -1.173647  -0.975902 -0.725174 -0.031208"
            ]
          },
          "metadata": {
            "tags": []
          },
          "execution_count": 22
        }
      ]
    },
    {
      "cell_type": "markdown",
      "metadata": {
        "id": "p0LNIHl3hGjc"
      },
      "source": [
        "라쏘 회귀에 비해 회귀 계수가 0이 되는 피쳐들이 상대적으로 적어짐"
      ]
    },
    {
      "cell_type": "markdown",
      "metadata": {
        "id": "v6NYhehRhV5k"
      },
      "source": [
        "## 3. 선형 회귀 모델을 위한 데이터 변환"
      ]
    },
    {
      "cell_type": "markdown",
      "metadata": {
        "id": "Q3-71wARhaBR"
      },
      "source": [
        "선형 회귀 모델을 적용하기 전에 스케일링/정규화 작업을 거쳐주는 것이 일반적.   \n",
        "방법 )\n",
        "1. StandardScaler 클래스 → 평균 0, 분산 1인 표준 정규 분포로 변환   \n",
        "MinMaxScaler 클래스 → 최소값 0, 최대값 1인 값으로 정규화\n",
        "2. 스케일링/정규화를 수행한 데이터셋에 다항 특성을 적용하여 변환   \n",
        "(1번 방법으로 성능 향상이 되지 않았을 경우 적용)\n",
        "3. log 함수 적용 → 정규 분포에 가까운 형태로 값이 분포됨 (로그 변환)   \n",
        "가장 많이 사용되는 변환 방법.   \n",
        "1번 → 예측 성능 향상을 크게 기대하기 어려움   \n",
        "2번 → 피처 개수가 많을 경우 생성되는 피처 개수가 급격히 늘어나 과적합 발생 가능성이 생김"
      ]
    },
    {
      "cell_type": "code",
      "metadata": {
        "id": "ckEJ8-K8hDdv"
      },
      "source": [
        "from sklearn.preprocessing import StandardScaler, MinMaxScaler, PolynomialFeatures\n",
        "\n",
        "# get_scaled_data 함수 : method로 변환 방법을 입력 받음. p_degree → 다항식 특성 추가시 차수 입력(2를 넘기지 않음)\n",
        "# 일반적으로 log()가 아닌 log1p() 사용 → log()의 경우 언더플로우가 발생하기 쉬움\n",
        "def get_scaled_data(method='None', p_degree=None, input_data=None):\n",
        "    if method == 'Standard':\n",
        "        scaled_data = StandardScaler().fit_transform(input_data)\n",
        "    elif method == 'MinMax':\n",
        "        scaled_data = MinMaxScaler().fit_transform(input_data)\n",
        "    elif method == 'Log':\n",
        "        scaled_data = np.log1p(input_data)\n",
        "    else:\n",
        "        scaled_data = input_data\n",
        "\n",
        "    if p_degree != None:\n",
        "        scaled_data = PolynomialFeatures(degree=p_degree, \n",
        "                                         include_bias=False).fit_transform(scaled_data)\n",
        "    \n",
        "    return scaled_data"
      ],
      "execution_count": 26,
      "outputs": []
    },
    {
      "cell_type": "code",
      "metadata": {
        "colab": {
          "base_uri": "https://localhost:8080/"
        },
        "id": "nnSw3VYNiltu",
        "outputId": "436d7819-cff8-4434-f373-859670d00998"
      },
      "source": [
        "# Ridge의 alpha값을 다르게 적용하고 다양한 데이터 변환방법에 따른 RMSE 추출. \n",
        "alphas = [0.1, 1, 10, 100]\n",
        "\n",
        "#변환 방법 → 모두 6개, 원본 그대로, 표준정규분포, 표준정규분포+다항식 특성\n",
        "# 최대/최소 정규화, 최대/최소 정규화+다항식 특성, 로그변환 \n",
        "scale_methods=[(None, None), ('Standard', None), ('Standard', 2), \n",
        "               ('MinMax', None), ('MinMax', 2), ('Log', None)]\n",
        "for scale_method in scale_methods:\n",
        "    X_data_scaled = get_scaled_data(method=scale_method[0], p_degree=scale_method[1], \n",
        "                                    input_data=X_data)\n",
        "    print(X_data_scaled.shape, X_data.shape)\n",
        "    print('\\n## 변환 유형:{0}, Polynomial Degree:{1}'.format(scale_method[0], scale_method[1]))\n",
        "    get_linear_reg_eval('Ridge', params=alphas, X_data_n=X_data_scaled, y_target_n=y_target, verbose=False, return_coeff=False)"
      ],
      "execution_count": 27,
      "outputs": [
        {
          "output_type": "stream",
          "text": [
            "(506, 13) (506, 13)\n",
            "\n",
            "## 변환 유형:None, Polynomial Degree:None\n",
            "alpha 0.1일 때 5 폴드 세트의 평균 RMSE: 5.788 \n",
            "alpha 1일 때 5 폴드 세트의 평균 RMSE: 5.653 \n",
            "alpha 10일 때 5 폴드 세트의 평균 RMSE: 5.518 \n",
            "alpha 100일 때 5 폴드 세트의 평균 RMSE: 5.330 \n",
            "(506, 13) (506, 13)\n",
            "\n",
            "## 변환 유형:Standard, Polynomial Degree:None\n",
            "alpha 0.1일 때 5 폴드 세트의 평균 RMSE: 5.826 \n",
            "alpha 1일 때 5 폴드 세트의 평균 RMSE: 5.803 \n",
            "alpha 10일 때 5 폴드 세트의 평균 RMSE: 5.637 \n",
            "alpha 100일 때 5 폴드 세트의 평균 RMSE: 5.421 \n",
            "(506, 104) (506, 13)\n",
            "\n",
            "## 변환 유형:Standard, Polynomial Degree:2\n",
            "alpha 0.1일 때 5 폴드 세트의 평균 RMSE: 8.827 \n",
            "alpha 1일 때 5 폴드 세트의 평균 RMSE: 6.871 \n",
            "alpha 10일 때 5 폴드 세트의 평균 RMSE: 5.485 \n",
            "alpha 100일 때 5 폴드 세트의 평균 RMSE: 4.634 \n",
            "(506, 13) (506, 13)\n",
            "\n",
            "## 변환 유형:MinMax, Polynomial Degree:None\n",
            "alpha 0.1일 때 5 폴드 세트의 평균 RMSE: 5.764 \n",
            "alpha 1일 때 5 폴드 세트의 평균 RMSE: 5.465 \n",
            "alpha 10일 때 5 폴드 세트의 평균 RMSE: 5.754 \n",
            "alpha 100일 때 5 폴드 세트의 평균 RMSE: 7.635 \n",
            "(506, 104) (506, 13)\n",
            "\n",
            "## 변환 유형:MinMax, Polynomial Degree:2\n",
            "alpha 0.1일 때 5 폴드 세트의 평균 RMSE: 5.298 \n",
            "alpha 1일 때 5 폴드 세트의 평균 RMSE: 4.323 \n",
            "alpha 10일 때 5 폴드 세트의 평균 RMSE: 5.185 \n",
            "alpha 100일 때 5 폴드 세트의 평균 RMSE: 6.538 \n",
            "(506, 13) (506, 13)\n",
            "\n",
            "## 변환 유형:Log, Polynomial Degree:None\n",
            "alpha 0.1일 때 5 폴드 세트의 평균 RMSE: 4.770 \n",
            "alpha 1일 때 5 폴드 세트의 평균 RMSE: 4.676 \n",
            "alpha 10일 때 5 폴드 세트의 평균 RMSE: 4.836 \n",
            "alpha 100일 때 5 폴드 세트의 평균 RMSE: 6.241 \n"
          ],
          "name": "stdout"
        }
      ]
    },
    {
      "cell_type": "markdown",
      "metadata": {
        "id": "Uj-hjtVKjFvn"
      },
      "source": [
        "## 4. 로지스틱 회귀"
      ]
    },
    {
      "cell_type": "markdown",
      "metadata": {
        "id": "4hiINlTEjItz"
      },
      "source": [
        "로지스틱 회귀 : 선형 회귀 방식을 분류에 적용한 알고리즘   \n",
        "회귀 최적선이 아닌 시그모이드 함수 최적선을 찾고, 이 함수의 반환 값을 확률로 간주   \n",
        "→ 이 확률에 따라 분류를 결정   \n",
        "시그모이드 함수 : S자 커브 형태로, 0 ~ 1 사이의 값을 가짐 (x = 0일 때는 0.5)"
      ]
    },
    {
      "cell_type": "code",
      "metadata": {
        "id": "NEEQi7Jfitp8"
      },
      "source": [
        "# 위스콘신 유방암 데이터셋 이용, 로지스틱 회귀 적용\n",
        "import pandas as pd\n",
        "import matplotlib.pyplot as plt\n",
        "%matplotlib inline\n",
        "\n",
        "from sklearn.datasets import load_breast_cancer\n",
        "from sklearn.linear_model import LogisticRegression\n",
        "\n",
        "cancer = load_breast_cancer()"
      ],
      "execution_count": 28,
      "outputs": []
    },
    {
      "cell_type": "markdown",
      "metadata": {
        "id": "8w2q0FkUjy_2"
      },
      "source": [
        "로지스틱 회귀 → 데이터의 정규 분포도에 따라 예측 성능 영향을 받을 수 있음   \n",
        "→ 정규 분포 스케일링 적용 후 데이터셋 분할"
      ]
    },
    {
      "cell_type": "code",
      "metadata": {
        "id": "1M0GeucAjxZc"
      },
      "source": [
        "from sklearn.preprocessing import StandardScaler\n",
        "from sklearn.model_selection import train_test_split\n",
        "\n",
        "# StandardScaler( )로 평균이 0, 분산 1로 데이터 분포도 변환\n",
        "scaler = StandardScaler()\n",
        "data_scaled = scaler.fit_transform(cancer.data)\n",
        "\n",
        "X_train , X_test, y_train , y_test = train_test_split(data_scaled, cancer.target, test_size=0.3, random_state=0)"
      ],
      "execution_count": 29,
      "outputs": []
    },
    {
      "cell_type": "code",
      "metadata": {
        "colab": {
          "base_uri": "https://localhost:8080/"
        },
        "id": "D3OAbZVIj-Iy",
        "outputId": "ef164a41-5614-4083-b8a3-3652e5bab4f7"
      },
      "source": [
        "from sklearn.metrics import accuracy_score, roc_auc_score\n",
        "\n",
        "# 로지스틱 회귀를 이용하여 학습 및 예측 수행. \n",
        "lr_clf = LogisticRegression()\n",
        "lr_clf.fit(X_train, y_train)\n",
        "lr_preds = lr_clf.predict(X_test)\n",
        "\n",
        "# accuracy와 roc_auc 측정\n",
        "print('accuracy: {:0.3f}'.format(accuracy_score(y_test, lr_preds)))\n",
        "print('roc_auc: {:0.3f}'.format(roc_auc_score(y_test , lr_preds)))"
      ],
      "execution_count": 30,
      "outputs": [
        {
          "output_type": "stream",
          "text": [
            "accuracy: 0.977\n",
            "roc_auc: 0.972\n"
          ],
          "name": "stdout"
        }
      ]
    },
    {
      "cell_type": "markdown",
      "metadata": {
        "id": "u0Jao8B-kCU_"
      },
      "source": [
        "LogisticRegression 하이퍼 파라미터 )\n",
        "- penalty : 규제 유형 설정 (l2 또는 l1. 기본값은 l2)\n",
        "- C : 규제 강도를 조절하는 alpha 값의 역수. 작을 수록 규제 강도가 큼"
      ]
    },
    {
      "cell_type": "code",
      "metadata": {
        "colab": {
          "base_uri": "https://localhost:8080/"
        },
        "id": "MnjHyGV6kAtf",
        "outputId": "a9e0b975-4ea7-4bd9-b65d-76b7054ad1b2"
      },
      "source": [
        "# 하이퍼 파라미터 최적화\n",
        "from sklearn.model_selection import GridSearchCV\n",
        "\n",
        "params={'penalty':['l2', 'l1'],\n",
        "        'C':[0.01, 0.1, 1, 1, 5, 10]}\n",
        "\n",
        "grid_clf = GridSearchCV(lr_clf, param_grid=params, scoring='accuracy', cv=3 )\n",
        "grid_clf.fit(data_scaled, cancer.target)\n",
        "print('최적 하이퍼 파라미터:{0}, 최적 평균 정확도:{1:.3f}'.format(grid_clf.best_params_, \n",
        "                                                  grid_clf.best_score_))"
      ],
      "execution_count": 31,
      "outputs": [
        {
          "output_type": "stream",
          "text": [
            "/usr/local/lib/python3.6/dist-packages/sklearn/model_selection/_validation.py:536: FitFailedWarning: Estimator fit failed. The score on this train-test partition for these parameters will be set to nan. Details: \n",
            "ValueError: Solver lbfgs supports only 'l2' or 'none' penalties, got l1 penalty.\n",
            "\n",
            "  FitFailedWarning)\n",
            "/usr/local/lib/python3.6/dist-packages/sklearn/model_selection/_validation.py:536: FitFailedWarning: Estimator fit failed. The score on this train-test partition for these parameters will be set to nan. Details: \n",
            "ValueError: Solver lbfgs supports only 'l2' or 'none' penalties, got l1 penalty.\n",
            "\n",
            "  FitFailedWarning)\n",
            "/usr/local/lib/python3.6/dist-packages/sklearn/model_selection/_validation.py:536: FitFailedWarning: Estimator fit failed. The score on this train-test partition for these parameters will be set to nan. Details: \n",
            "ValueError: Solver lbfgs supports only 'l2' or 'none' penalties, got l1 penalty.\n",
            "\n",
            "  FitFailedWarning)\n",
            "/usr/local/lib/python3.6/dist-packages/sklearn/model_selection/_validation.py:536: FitFailedWarning: Estimator fit failed. The score on this train-test partition for these parameters will be set to nan. Details: \n",
            "ValueError: Solver lbfgs supports only 'l2' or 'none' penalties, got l1 penalty.\n",
            "\n",
            "  FitFailedWarning)\n",
            "/usr/local/lib/python3.6/dist-packages/sklearn/model_selection/_validation.py:536: FitFailedWarning: Estimator fit failed. The score on this train-test partition for these parameters will be set to nan. Details: \n",
            "ValueError: Solver lbfgs supports only 'l2' or 'none' penalties, got l1 penalty.\n",
            "\n",
            "  FitFailedWarning)\n"
          ],
          "name": "stderr"
        },
        {
          "output_type": "stream",
          "text": [
            "최적 하이퍼 파라미터:{'C': 1, 'penalty': 'l2'}, 최적 평균 정확도:0.975\n"
          ],
          "name": "stdout"
        },
        {
          "output_type": "stream",
          "text": [
            "/usr/local/lib/python3.6/dist-packages/sklearn/model_selection/_validation.py:536: FitFailedWarning: Estimator fit failed. The score on this train-test partition for these parameters will be set to nan. Details: \n",
            "ValueError: Solver lbfgs supports only 'l2' or 'none' penalties, got l1 penalty.\n",
            "\n",
            "  FitFailedWarning)\n"
          ],
          "name": "stderr"
        }
      ]
    },
    {
      "cell_type": "markdown",
      "metadata": {
        "id": "7Y51BRq_kaxk"
      },
      "source": [
        "## 5. 회귀 트리"
      ]
    },
    {
      "cell_type": "markdown",
      "metadata": {
        "id": "yO94DZcZkfaE"
      },
      "source": [
        "트리 기반 회귀 : 회귀를 위한 트리 생성 후, 이를 기반으로 회귀 예측 수행. 분류 트리와 크게 다르지 않음   \n",
        "차이점 )\n",
        "- 분류 트리 : 특정 클래스 레이블 결정\n",
        "- 회귀 트리 : 리프 노드에 속한 데이터 값의 평균값을 구해 회귀 예측값 계산"
      ]
    },
    {
      "cell_type": "markdown",
      "metadata": {
        "id": "g_wqGtXxk4Qw"
      },
      "source": [
        "지니 계수에 따라 데이터를 분할하여 구간을 나눈 뒤, 각 구간의 평균값을 구해 최종적으로 리프 노드에 결정 값으로 할당.   \n",
        "모든 트리 기반 알고리즘은 분류와 회귀 모두 가능 (CART 알고리즘에 기반하고 있기 때문)"
      ]
    },
    {
      "cell_type": "code",
      "metadata": {
        "colab": {
          "base_uri": "https://localhost:8080/"
        },
        "id": "yrSTT70xkSNO",
        "outputId": "1a991dbb-f749-4844-b656-8cea7eb76fd4"
      },
      "source": [
        "# 랜덤 포레스트 이용 → 보스턴 주택 가격 예측 수행\n",
        "from sklearn.datasets import load_boston\n",
        "from sklearn.model_selection import cross_val_score\n",
        "from sklearn.ensemble import RandomForestRegressor\n",
        "import pandas as pd\n",
        "import numpy as np\n",
        "\n",
        "# 보스턴 데이터 세트 로드\n",
        "boston = load_boston()\n",
        "bostonDF = pd.DataFrame(boston.data, columns = boston.feature_names)\n",
        "\n",
        "bostonDF['PRICE'] = boston.target\n",
        "y_target = bostonDF['PRICE']\n",
        "X_data = bostonDF.drop(['PRICE'], axis=1,inplace=False)\n",
        "\n",
        "rf = RandomForestRegressor(random_state=0, n_estimators=1000)\n",
        "neg_mse_scores = cross_val_score(rf, X_data, y_target, scoring=\"neg_mean_squared_error\", cv = 5)\n",
        "rmse_scores  = np.sqrt(-1 * neg_mse_scores)\n",
        "avg_rmse = np.mean(rmse_scores)\n",
        "\n",
        "print(' 5 교차 검증의 개별 Negative MSE scores: ', np.round(neg_mse_scores, 2))\n",
        "print(' 5 교차 검증의 개별 RMSE scores : ', np.round(rmse_scores, 2))\n",
        "print(' 5 교차 검증의 평균 RMSE : {0:.3f} '.format(avg_rmse))"
      ],
      "execution_count": 32,
      "outputs": [
        {
          "output_type": "stream",
          "text": [
            " 5 교차 검증의 개별 Negative MSE scores:  [ -7.93 -13.06 -20.53 -46.31 -18.8 ]\n",
            " 5 교차 검증의 개별 RMSE scores :  [2.82 3.61 4.53 6.8  4.34]\n",
            " 5 교차 검증의 평균 RMSE : 4.420 \n"
          ],
          "name": "stdout"
        }
      ]
    },
    {
      "cell_type": "code",
      "metadata": {
        "id": "KaXPymMplWxO"
      },
      "source": [
        "## GBM, XGBoost, LightGBM 이용, 주택 가격 예측 수행\n",
        "# get_model_cv_prediction() : 입력 모델, 데이터셋을 입력 받아 교차 검증으로 평균 RMSE 계산\n",
        "\n",
        "def get_model_cv_prediction(model, X_data, y_target):\n",
        "    neg_mse_scores = cross_val_score(model, X_data, y_target, scoring=\"neg_mean_squared_error\", cv = 5)\n",
        "    rmse_scores  = np.sqrt(-1 * neg_mse_scores)\n",
        "    avg_rmse = np.mean(rmse_scores)\n",
        "    print('##### ',model.__class__.__name__ , ' #####')\n",
        "    print(' 5 교차 검증의 평균 RMSE : {0:.3f} '.format(avg_rmse))"
      ],
      "execution_count": 33,
      "outputs": []
    },
    {
      "cell_type": "code",
      "metadata": {
        "colab": {
          "base_uri": "https://localhost:8080/"
        },
        "id": "2ntjXEOsllXY",
        "outputId": "c9df32e9-1c28-4dcd-cfcf-1712d491f734"
      },
      "source": [
        "from sklearn.tree import DecisionTreeRegressor\n",
        "from sklearn.ensemble import GradientBoostingRegressor\n",
        "from xgboost import XGBRegressor\n",
        "from lightgbm import LGBMRegressor\n",
        "\n",
        "dt_reg = DecisionTreeRegressor(random_state=0, max_depth=4)\n",
        "rf_reg = RandomForestRegressor(random_state=0, n_estimators=1000)\n",
        "gb_reg = GradientBoostingRegressor(random_state=0, n_estimators=1000)\n",
        "xgb_reg = XGBRegressor(n_estimators=1000)\n",
        "lgb_reg = LGBMRegressor(n_estimators=1000)\n",
        "\n",
        "# 트리 기반의 회귀 모델을 반복하면서 평가 수행 \n",
        "models = [dt_reg, rf_reg, gb_reg, xgb_reg, lgb_reg]\n",
        "for model in models:  \n",
        "    get_model_cv_prediction(model, X_data, y_target)"
      ],
      "execution_count": 34,
      "outputs": [
        {
          "output_type": "stream",
          "text": [
            "#####  DecisionTreeRegressor  #####\n",
            " 5 교차 검증의 평균 RMSE : 5.978 \n",
            "#####  RandomForestRegressor  #####\n",
            " 5 교차 검증의 평균 RMSE : 4.420 \n",
            "#####  GradientBoostingRegressor  #####\n",
            " 5 교차 검증의 평균 RMSE : 4.269 \n",
            "[09:44:44] WARNING: /workspace/src/objective/regression_obj.cu:152: reg:linear is now deprecated in favor of reg:squarederror.\n",
            "[09:44:45] WARNING: /workspace/src/objective/regression_obj.cu:152: reg:linear is now deprecated in favor of reg:squarederror.\n",
            "[09:44:45] WARNING: /workspace/src/objective/regression_obj.cu:152: reg:linear is now deprecated in favor of reg:squarederror.\n",
            "[09:44:45] WARNING: /workspace/src/objective/regression_obj.cu:152: reg:linear is now deprecated in favor of reg:squarederror.\n",
            "[09:44:46] WARNING: /workspace/src/objective/regression_obj.cu:152: reg:linear is now deprecated in favor of reg:squarederror.\n",
            "#####  XGBRegressor  #####\n",
            " 5 교차 검증의 평균 RMSE : 4.089 \n",
            "#####  LGBMRegressor  #####\n",
            " 5 교차 검증의 평균 RMSE : 4.646 \n"
          ],
          "name": "stdout"
        }
      ]
    },
    {
      "cell_type": "code",
      "metadata": {
        "colab": {
          "base_uri": "https://localhost:8080/",
          "height": 282
        },
        "id": "2GQAQJhDlnxO",
        "outputId": "4a7c8e48-9ddc-48d2-80d1-afd2694031a7"
      },
      "source": [
        "# 피처별 중요도 시각화\n",
        "import seaborn as sns\n",
        "%matplotlib inline\n",
        "\n",
        "rf_reg = RandomForestRegressor(n_estimators=1000)\n",
        "\n",
        "rf_reg.fit(X_data, y_target)\n",
        "\n",
        "feature_series = pd.Series(data=rf_reg.feature_importances_, index=X_data.columns )\n",
        "feature_series = feature_series.sort_values(ascending=False)\n",
        "sns.barplot(x= feature_series, y=feature_series.index)"
      ],
      "execution_count": 35,
      "outputs": [
        {
          "output_type": "execute_result",
          "data": {
            "text/plain": [
              "<matplotlib.axes._subplots.AxesSubplot at 0x7f9f56e7f2b0>"
            ]
          },
          "metadata": {
            "tags": []
          },
          "execution_count": 35
        },
        {
          "output_type": "display_data",
          "data": {
            "image/png": "[encoded data removed]",
            "text/plain": [
              "<Figure size 432x288 with 1 Axes>"
            ]
          },
          "metadata": {
            "tags": [],
            "needs_background": "light"
          }
        }
      ]
    },
    {
      "cell_type": "code",
      "metadata": {
        "colab": {
          "base_uri": "https://localhost:8080/",
          "height": 300
        },
        "id": "s1q-B2-RmOWy",
        "outputId": "b3a17ea0-46bc-4fc6-e000-7144e1dcf317"
      },
      "source": [
        "# 보스턴 데이터셋 100개 샘플링 후 RM, PRICE 칼럼만 추출해 산점도 시각화\n",
        "import matplotlib.pyplot as plt\n",
        "%matplotlib inline\n",
        "\n",
        "bostonDF_sample = bostonDF[['RM','PRICE']]\n",
        "bostonDF_sample = bostonDF_sample.sample(n=100,random_state=0)\n",
        "print(bostonDF_sample.shape)\n",
        "plt.figure()\n",
        "plt.scatter(bostonDF_sample.RM , bostonDF_sample.PRICE,c=\"darkorange\")"
      ],
      "execution_count": 36,
      "outputs": [
        {
          "output_type": "stream",
          "text": [
            "(100, 2)\n"
          ],
          "name": "stdout"
        },
        {
          "output_type": "execute_result",
          "data": {
            "text/plain": [
              "<matplotlib.collections.PathCollection at 0x7f9f56dae4e0>"
            ]
          },
          "metadata": {
            "tags": []
          },
          "execution_count": 36
        },
        {
          "output_type": "display_data",
          "data": {
            "image/png": "[encoded data removed]",
            "text/plain": [
              "<Figure size 432x288 with 1 Axes>"
            ]
          },
          "metadata": {
            "tags": [],
            "needs_background": "light"
          }
        }
      ]
    },
    {
      "cell_type": "code",
      "metadata": {
        "id": "lPpg3OKAmkvH"
      },
      "source": [
        "import numpy as np\n",
        "from sklearn.linear_model import LinearRegression\n",
        "\n",
        "# 선형 회귀와 결정 트리 기반의 Regressor 생성. DecisionTreeRegressor의 max_depth는 각각 2, 7\n",
        "lr_reg = LinearRegression()\n",
        "rf_reg2 = DecisionTreeRegressor(max_depth=2)\n",
        "rf_reg7 = DecisionTreeRegressor(max_depth=7)\n",
        "\n",
        "# 실제 예측을 적용할 테스트용 데이터 셋을 4.5 ~ 8.5 까지 100개 데이터 셋 생성. \n",
        "X_test = np.arange(4.5, 8.5, 0.04).reshape(-1, 1)\n",
        "\n",
        "# 보스턴 주택가격 데이터에서 시각화를 위해 피처는 RM만, 그리고 결정 데이터인 PRICE 추출\n",
        "X_feature = bostonDF_sample['RM'].values.reshape(-1,1)\n",
        "y_target = bostonDF_sample['PRICE'].values.reshape(-1,1)\n",
        "\n",
        "# 학습과 예측 수행. \n",
        "lr_reg.fit(X_feature, y_target)\n",
        "rf_reg2.fit(X_feature, y_target)\n",
        "rf_reg7.fit(X_feature, y_target)\n",
        "\n",
        "pred_lr = lr_reg.predict(X_test)\n",
        "pred_rf2 = rf_reg2.predict(X_test)\n",
        "pred_rf7 = rf_reg7.predict(X_test)"
      ],
      "execution_count": 37,
      "outputs": []
    },
    {
      "cell_type": "code",
      "metadata": {
        "colab": {
          "base_uri": "https://localhost:8080/",
          "height": 314
        },
        "id": "AIDcMRmYmy9l",
        "outputId": "270f2331-fcbe-4d65-b06e-f3eb5acaaf36"
      },
      "source": [
        "# 위에서 학습된 모델의 회귀선 시각화\n",
        "fig , (ax1, ax2, ax3) = plt.subplots(figsize=(14,4), ncols=3)\n",
        "\n",
        "# 선형 회귀로 학습된 모델 회귀 예측선 \n",
        "ax1.set_title('Linear Regression')\n",
        "ax1.scatter(bostonDF_sample.RM, bostonDF_sample.PRICE, c=\"darkorange\")\n",
        "ax1.plot(X_test, pred_lr,label=\"linear\", linewidth=2 )\n",
        "\n",
        "# DecisionTreeRegressor의 max_depth를 2로 했을 때 회귀 예측선 \n",
        "ax2.set_title('Decision Tree Regression: \\n max_depth=2')\n",
        "ax2.scatter(bostonDF_sample.RM, bostonDF_sample.PRICE, c=\"darkorange\")\n",
        "ax2.plot(X_test, pred_rf2, label=\"max_depth:3\", linewidth=2 )\n",
        "\n",
        "# DecisionTreeRegressor의 max_depth를 7로 했을 때 회귀 예측선 \n",
        "ax3.set_title('Decision Tree Regression: \\n max_depth=7')\n",
        "ax3.scatter(bostonDF_sample.RM, bostonDF_sample.PRICE, c=\"darkorange\")\n",
        "ax3.plot(X_test, pred_rf7, label=\"max_depth:7\", linewidth=2)"
      ],
      "execution_count": 38,
      "outputs": [
        {
          "output_type": "execute_result",
          "data": {
            "text/plain": [
              "[<matplotlib.lines.Line2D at 0x7f9f56d02278>]"
            ]
          },
          "metadata": {
            "tags": []
          },
          "execution_count": 38
        },
        {
          "output_type": "display_data",
          "data": {
            "image/png": "[encoded data removed]",
            "text/plain": [
              "<Figure size 1008x288 with 3 Axes>"
            ]
          },
          "metadata": {
            "tags": [],
            "needs_background": "light"
          }
        }
      ]
    },
    {
      "cell_type": "markdown",
      "metadata": {
        "id": "PhuQhARGm5hA"
      },
      "source": [
        "1. 선형 회귀 : 직선으로 예측 회귀선 표현\n",
        "2. 회귀 트리(max_depth = 2) : 분할되는 데이터 지점에 따라 계단 형태의 회귀선\n",
        "3. 회귀 트리(max_depth = 7) : 이상치 데이터까지 학습하면서 복잡한 형태의 계단 회귀선이 만들어짐   \n",
        "→ 과적합이 되기 쉬운 모델이 됨"
      ]
    }
  ]
}