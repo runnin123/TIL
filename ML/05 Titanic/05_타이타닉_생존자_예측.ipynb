{
  "nbformat": 4,
  "nbformat_minor": 0,
  "metadata": {
    "colab": {
      "name": "05 타이타닉 생존자 예측.ipynb",
      "provenance": [],
      "collapsed_sections": [],
      "mount_file_id": "1itIBKFR7d1uK8DiQLJld1EUsHzThv5rA",
      "authorship_tag": "ABX9TyOQRHcMOIR2IxF6soR5looB",
      "include_colab_link": true
    },
    "kernelspec": {
      "name": "python3",
      "display_name": "Python 3"
    }
  },
  "cells": [
    {
      "cell_type": "markdown",
      "metadata": {
        "id": "view-in-github",
        "colab_type": "text"
      },
      "source": [
        "<a href=\"https://colab.research.google.com/github/runnin123/TIL/blob/master/05_%ED%83%80%EC%9D%B4%ED%83%80%EB%8B%89_%EC%83%9D%EC%A1%B4%EC%9E%90_%EC%98%88%EC%B8%A1.ipynb\" target=\"_parent\"><img src=\"https://colab.research.google.com/assets/colab-badge.svg\" alt=\"Open In Colab\"/></a>"
      ]
    },
    {
      "cell_type": "markdown",
      "metadata": {
        "id": "dOdFGS_LexWr",
        "colab_type": "text"
      },
      "source": [
        "### 1. 데이터\n",
        "- 출처: Kaggle 연습 예제 데이터\n",
        "- passengerid: 탑승자 데이터 일련번호\n",
        "- survived: 생존 여부. 0 = 사망, 1 = 생존\n",
        "- pclass: 선실 등급. 1 = 일등석, 2 = 이등석, 3 = 삼등석\n",
        "- sex: 성별\n",
        "- name: 이름\n",
        "- age: 나이\n",
        "- sibsp: 함께 탑승한 형제자매 혹은 배우자 인원수\n",
        "- parch: 함께 탑승한 부모님 또는 어린이 인원수\n",
        "- ticket: 티켓 번호\n",
        "- fare: 요금\n",
        "- cabin: 선실 번호\n",
        "- embarked: 중간 정착 항구. C = Cherbourg, Q = Queenstown, S = Southampton"
      ]
    },
    {
      "cell_type": "code",
      "metadata": {
        "id": "HFiQ1Z0fcLQL",
        "colab_type": "code",
        "colab": {
          "base_uri": "https://localhost:8080/",
          "height": 230
        },
        "outputId": "ee89fa1b-df8a-4363-ba38-7725ec43298c"
      },
      "source": [
        "# 필요한 패키지, 데이터 로드\n",
        "import numpy as np\n",
        "import pandas as pd\n",
        "import matplotlib.pyplot as plt\n",
        "import seaborn as sns\n",
        "%matplotlib inline\n",
        "\n",
        "titanic_df = pd.read_csv('/content/drive/My Drive/titanic_train.csv')\n",
        "titanic_df.head()"
      ],
      "execution_count": 1,
      "outputs": [
        {
          "output_type": "stream",
          "text": [
            "/usr/local/lib/python3.6/dist-packages/statsmodels/tools/_testing.py:19: FutureWarning: pandas.util.testing is deprecated. Use the functions in the public API at pandas.testing instead.\n",
            "  import pandas.util.testing as tm\n"
          ],
          "name": "stderr"
        },
        {
          "output_type": "execute_result",
          "data": {
            "text/html": [
              "<div>\n",
              "<style scoped>\n",
              "    .dataframe tbody tr th:only-of-type {\n",
              "        vertical-align: middle;\n",
              "    }\n",
              "\n",
              "    .dataframe tbody tr th {\n",
              "        vertical-align: top;\n",
              "    }\n",
              "\n",
              "    .dataframe thead th {\n",
              "        text-align: right;\n",
              "    }\n",
              "</style>\n",
              "<table border=\"1\" class=\"dataframe\">\n",
              "  <thead>\n",
              "    <tr style=\"text-align: right;\">\n",
              "      <th></th>\n",
              "      <th>PassengerId</th>\n",
              "      <th>Survived</th>\n",
              "      <th>Pclass</th>\n",
              "      <th>Name</th>\n",
              "      <th>Sex</th>\n",
              "      <th>Age</th>\n",
              "      <th>SibSp</th>\n",
              "      <th>Parch</th>\n",
              "      <th>Ticket</th>\n",
              "      <th>Fare</th>\n",
              "      <th>Cabin</th>\n",
              "      <th>Embarked</th>\n",
              "    </tr>\n",
              "  </thead>\n",
              "  <tbody>\n",
              "    <tr>\n",
              "      <th>0</th>\n",
              "      <td>1</td>\n",
              "      <td>0</td>\n",
              "      <td>3</td>\n",
              "      <td>Braund, Mr. Owen Harris</td>\n",
              "      <td>male</td>\n",
              "      <td>22.0</td>\n",
              "      <td>1</td>\n",
              "      <td>0</td>\n",
              "      <td>A/5 21171</td>\n",
              "      <td>7.2500</td>\n",
              "      <td>NaN</td>\n",
              "      <td>S</td>\n",
              "    </tr>\n",
              "    <tr>\n",
              "      <th>1</th>\n",
              "      <td>2</td>\n",
              "      <td>1</td>\n",
              "      <td>1</td>\n",
              "      <td>Cumings, Mrs. John Bradley (Florence Briggs Th...</td>\n",
              "      <td>female</td>\n",
              "      <td>38.0</td>\n",
              "      <td>1</td>\n",
              "      <td>0</td>\n",
              "      <td>PC 17599</td>\n",
              "      <td>71.2833</td>\n",
              "      <td>C85</td>\n",
              "      <td>C</td>\n",
              "    </tr>\n",
              "    <tr>\n",
              "      <th>2</th>\n",
              "      <td>3</td>\n",
              "      <td>1</td>\n",
              "      <td>3</td>\n",
              "      <td>Heikkinen, Miss. Laina</td>\n",
              "      <td>female</td>\n",
              "      <td>26.0</td>\n",
              "      <td>0</td>\n",
              "      <td>0</td>\n",
              "      <td>STON/O2. 3101282</td>\n",
              "      <td>7.9250</td>\n",
              "      <td>NaN</td>\n",
              "      <td>S</td>\n",
              "    </tr>\n",
              "    <tr>\n",
              "      <th>3</th>\n",
              "      <td>4</td>\n",
              "      <td>1</td>\n",
              "      <td>1</td>\n",
              "      <td>Futrelle, Mrs. Jacques Heath (Lily May Peel)</td>\n",
              "      <td>female</td>\n",
              "      <td>35.0</td>\n",
              "      <td>1</td>\n",
              "      <td>0</td>\n",
              "      <td>113803</td>\n",
              "      <td>53.1000</td>\n",
              "      <td>C123</td>\n",
              "      <td>S</td>\n",
              "    </tr>\n",
              "    <tr>\n",
              "      <th>4</th>\n",
              "      <td>5</td>\n",
              "      <td>0</td>\n",
              "      <td>3</td>\n",
              "      <td>Allen, Mr. William Henry</td>\n",
              "      <td>male</td>\n",
              "      <td>35.0</td>\n",
              "      <td>0</td>\n",
              "      <td>0</td>\n",
              "      <td>373450</td>\n",
              "      <td>8.0500</td>\n",
              "      <td>NaN</td>\n",
              "      <td>S</td>\n",
              "    </tr>\n",
              "  </tbody>\n",
              "</table>\n",
              "</div>"
            ],
            "text/plain": [
              "   PassengerId  Survived  Pclass  ...     Fare Cabin  Embarked\n",
              "0            1         0       3  ...   7.2500   NaN         S\n",
              "1            2         1       1  ...  71.2833   C85         C\n",
              "2            3         1       3  ...   7.9250   NaN         S\n",
              "3            4         1       1  ...  53.1000  C123         S\n",
              "4            5         0       3  ...   8.0500   NaN         S\n",
              "\n",
              "[5 rows x 12 columns]"
            ]
          },
          "metadata": {
            "tags": []
          },
          "execution_count": 1
        }
      ]
    },
    {
      "cell_type": "code",
      "metadata": {
        "id": "gxlPX5VHie2u",
        "colab_type": "code",
        "colab": {
          "base_uri": "https://localhost:8080/",
          "height": 422
        },
        "outputId": "93771a3c-eb25-4570-cfdd-769c6253d8cd"
      },
      "source": [
        "# 칼럼 데이터 타입 확인\n",
        "print('\\n ## 데이터 정보 ## \\n')\n",
        "print(titanic_df.info())"
      ],
      "execution_count": 12,
      "outputs": [
        {
          "output_type": "stream",
          "text": [
            "\n",
            " ## 데이터 정보 ## \n",
            "\n",
            "<class 'pandas.core.frame.DataFrame'>\n",
            "RangeIndex: 891 entries, 0 to 890\n",
            "Data columns (total 12 columns):\n",
            " #   Column       Non-Null Count  Dtype  \n",
            "---  ------       --------------  -----  \n",
            " 0   PassengerId  891 non-null    int64  \n",
            " 1   Survived     891 non-null    int64  \n",
            " 2   Pclass       891 non-null    int64  \n",
            " 3   Name         891 non-null    object \n",
            " 4   Sex          891 non-null    object \n",
            " 5   Age          891 non-null    float64\n",
            " 6   SibSp        891 non-null    int64  \n",
            " 7   Parch        891 non-null    int64  \n",
            " 8   Ticket       891 non-null    object \n",
            " 9   Fare         891 non-null    float64\n",
            " 10  Cabin        891 non-null    object \n",
            " 11  Embarked     891 non-null    object \n",
            "dtypes: float64(2), int64(5), object(5)\n",
            "memory usage: 83.7+ KB\n",
            "None\n"
          ],
          "name": "stdout"
        }
      ]
    },
    {
      "cell_type": "markdown",
      "metadata": {
        "id": "TkdIVEaLi3HZ",
        "colab_type": "text"
      },
      "source": [
        "- 데이터 크기) row 891개, column 12개 \n",
        "- 데이터 타입) int64 5개, object 5개, float64 2개\n",
        "- Null 개수) 'Age' 177개, 'Cabin' 687개, 'Embarked' 2개\n",
        "- 결측치 처리) 'Age': 평균 나이, 나머지 칼럼: 'N'"
      ]
    },
    {
      "cell_type": "code",
      "metadata": {
        "id": "KTM9ubhvirpF",
        "colab_type": "code",
        "colab": {
          "base_uri": "https://localhost:8080/",
          "height": 34
        },
        "outputId": "8a1d7d8b-5976-436c-c4ee-2bb9e54f5a1a"
      },
      "source": [
        "# 결측치 처리\n",
        "titanic_df['Age'].fillna(titanic_df['Age'].mean(), inplace = True)\n",
        "titanic_df['Cabin'].fillna('N', inplace = True)\n",
        "titanic_df['Embarked'].fillna('N', inplace = True)\n",
        "\n",
        "# 결측치 재확인\n",
        "print('데이터셋 Null값 개수:', titanic_df.isnull().sum().sum())"
      ],
      "execution_count": 4,
      "outputs": [
        {
          "output_type": "stream",
          "text": [
            "데이터셋 Null값 개수: 0\n"
          ],
          "name": "stdout"
        }
      ]
    },
    {
      "cell_type": "code",
      "metadata": {
        "id": "oYg19jQnkHA5",
        "colab_type": "code",
        "colab": {
          "base_uri": "https://localhost:8080/",
          "height": 457
        },
        "outputId": "8eefd3a1-11af-4087-e24d-27afb6feb57f"
      },
      "source": [
        "# 문자열 피처 확인\n",
        "print('Sex 값 분포:\\n', titanic_df['Sex'].value_counts())\n",
        "print('\\n Cabin 값 분포:\\n', titanic_df['Cabin'].value_counts())\n",
        "print('\\n Embarked 값 분포:\\n', titanic_df['Embarked'].value_counts())"
      ],
      "execution_count": 6,
      "outputs": [
        {
          "output_type": "stream",
          "text": [
            "Sex 값 분포:\n",
            " male      577\n",
            "female    314\n",
            "Name: Sex, dtype: int64\n",
            "\n",
            " Cabin 값 분포:\n",
            " N              687\n",
            "G6               4\n",
            "C23 C25 C27      4\n",
            "B96 B98          4\n",
            "C22 C26          3\n",
            "              ... \n",
            "E50              1\n",
            "A10              1\n",
            "C103             1\n",
            "B41              1\n",
            "B3               1\n",
            "Name: Cabin, Length: 148, dtype: int64\n",
            "\n",
            " Embarked 값 분포:\n",
            " S    644\n",
            "C    168\n",
            "Q     77\n",
            "N      2\n",
            "Name: Embarked, dtype: int64\n"
          ],
          "name": "stdout"
        }
      ]
    },
    {
      "cell_type": "markdown",
      "metadata": {
        "id": "Pv4MaUJxmM4J",
        "colab_type": "text"
      },
      "source": [
        "- Sex와 Embarked에는 문제가 없으나 Cabin 칼럼의 N(결측치)이 비정상적으로 많음\n",
        "- 또한 C23 C25 C27 / B96 B98 등 다른 선실들과 함께 표기된 값이 존재 → 정리 필요\n",
        "- Cabin 값의 첫 알파벳(선실 등급)이 중요하게 생각됨 → 부자와 가난한 사람에 대한 차별이 있던 시절이기 때문"
      ]
    },
    {
      "cell_type": "code",
      "metadata": {
        "id": "67E0PGuumC_H",
        "colab_type": "code",
        "colab": {
          "base_uri": "https://localhost:8080/",
          "height": 122
        },
        "outputId": "284d27c0-26f7-433d-cb12-901fd8f5acb8"
      },
      "source": [
        "# Cabin 칼럼의 첫 글자 추출\n",
        "titanic_df['Cabin'] = titanic_df['Cabin'].str[:1]\n",
        "print(titanic_df['Cabin'].head())"
      ],
      "execution_count": 9,
      "outputs": [
        {
          "output_type": "stream",
          "text": [
            "0    N\n",
            "1    C\n",
            "2    N\n",
            "3    C\n",
            "4    N\n",
            "Name: Cabin, dtype: object\n"
          ],
          "name": "stdout"
        }
      ]
    },
    {
      "cell_type": "markdown",
      "metadata": {
        "id": "nsTOeYwznDMI",
        "colab_type": "text"
      },
      "source": [
        "### 2. 성별간 비교\n",
        "- 사고가 났을 경우: 여성, 아이들, 노약자가 최우선. 다음은 부자, 유명인 등\n",
        "- 먼저 성별의 영향을 확인하기 위해 성별에 따른 생존자 수 비교"
      ]
    },
    {
      "cell_type": "code",
      "metadata": {
        "id": "C0Cfn5CPm5Vq",
        "colab_type": "code",
        "colab": {
          "base_uri": "https://localhost:8080/",
          "height": 122
        },
        "outputId": "df42b0eb-2058-473a-9ce8-23d3d9a3c103"
      },
      "source": [
        "# Sex 칼럼과 Survived 칼럼을 묶어서 확인\n",
        "titanic_df.groupby(['Sex', 'Survived'])['Survived'].count()"
      ],
      "execution_count": 10,
      "outputs": [
        {
          "output_type": "execute_result",
          "data": {
            "text/plain": [
              "Sex     Survived\n",
              "female  0            81\n",
              "        1           233\n",
              "male    0           468\n",
              "        1           109\n",
              "Name: Survived, dtype: int64"
            ]
          },
          "metadata": {
            "tags": []
          },
          "execution_count": 10
        }
      ]
    },
    {
      "cell_type": "markdown",
      "metadata": {
        "id": "1BEIm4Chndrr",
        "colab_type": "text"
      },
      "source": [
        "- 남성 생존자 비율(약 18.8%)보다 여성 생존자 비율(약 74.2%)이 훨씬 높음을 확인\n",
        "- 그래프로 확인\n",
        "- Seaborn: 판다스 DataFrame과의 연동, 세련된 비주얼 등의 이유로 애용됨"
      ]
    },
    {
      "cell_type": "code",
      "metadata": {
        "id": "nrYAMvetm9hD",
        "colab_type": "code",
        "colab": {
          "base_uri": "https://localhost:8080/",
          "height": 297
        },
        "outputId": "e4c6c39b-184c-4e8e-879d-f134f92eb77d"
      },
      "source": [
        "# 시각화: Seaborn 패키지 사용\n",
        "sns.barplot(x = 'Sex', y = 'Survived', data = titanic_df)"
      ],
      "execution_count": 11,
      "outputs": [
        {
          "output_type": "execute_result",
          "data": {
            "text/plain": [
              "<matplotlib.axes._subplots.AxesSubplot at 0x7f2bbd9a8dd8>"
            ]
          },
          "metadata": {
            "tags": []
          },
          "execution_count": 11
        },
        {
          "output_type": "display_data",
          "data": {
            "image/png": "[encoded data removed]",
            "text/plain": [
              "<Figure size 432x288 with 1 Axes>"
            ]
          },
          "metadata": {
            "tags": [],
            "needs_background": "light"
          }
        }
      ]
    },
    {
      "cell_type": "markdown",
      "metadata": {
        "id": "gWN4yKHNoXf_",
        "colab_type": "text"
      },
      "source": [
        "### 3. 객실 등급별 비교\n",
        "- 성별을 함께 고려해 분석하는 것이 효율적이라 판단"
      ]
    },
    {
      "cell_type": "code",
      "metadata": {
        "id": "4I8JgRs6nwig",
        "colab_type": "code",
        "colab": {
          "base_uri": "https://localhost:8080/",
          "height": 297
        },
        "outputId": "33322fac-bda7-4422-f64b-08637a4a4ad8"
      },
      "source": [
        "# 시각화를 통한 비교\n",
        "# hue: 카테고리 변수 지정 → 색상으로 비교 가능\n",
        "sns.barplot(x = 'Pclass', y = 'Survived', hue = 'Sex', data = titanic_df)"
      ],
      "execution_count": 14,
      "outputs": [
        {
          "output_type": "execute_result",
          "data": {
            "text/plain": [
              "<matplotlib.axes._subplots.AxesSubplot at 0x7f2bbbe71860>"
            ]
          },
          "metadata": {
            "tags": []
          },
          "execution_count": 14
        },
        {
          "output_type": "display_data",
          "data": {
            "image/png": "[encoded data removed]",
            "text/plain": [
              "<Figure size 432x288 with 1 Axes>"
            ]
          },
          "metadata": {
            "tags": [],
            "needs_background": "light"
          }
        }
      ]
    },
    {
      "cell_type": "markdown",
      "metadata": {
        "id": "t9ru_6QvpKhu",
        "colab_type": "text"
      },
      "source": [
        "- 여성: 1등실과 2등실의 차이는 적으나 3등실의 경우 생존 확률이 비교적 적음\n",
        "- 남성: 1등실이 2등실, 3등실에 비해 월등히 높음"
      ]
    },
    {
      "cell_type": "markdown",
      "metadata": {
        "id": "gDPdQb2IpV1D",
        "colab_type": "text"
      },
      "source": [
        "### 4. 나이별 비교\n",
        "- Age의 값이 너무 다양하므로 몇 가지 카테고리로 분류"
      ]
    },
    {
      "cell_type": "code",
      "metadata": {
        "id": "dpmc4E9KonT9",
        "colab_type": "code",
        "colab": {
          "base_uri": "https://localhost:8080/",
          "height": 389
        },
        "outputId": "fd794973-cbce-4151-93cb-9f49f9d1e59c"
      },
      "source": [
        "# 나이 분류 함수 생성\n",
        "def get_category(age):\n",
        "  cat = ''\n",
        "  if age <= -1: cat = 'Unknown' # -1 이하의 오류 값 처리\n",
        "  elif age <= 5: cat = 'Baby'\n",
        "  elif age <= 12: cat = 'Child'\n",
        "  elif age <= 18: cat = 'Teenager'\n",
        "  elif age <= 25: cat = 'Student'\n",
        "  elif age <= 35: cat = 'Young Adult'\n",
        "  elif age <= 60: cat = 'Adult'\n",
        "  else: cat = 'Elderly'\n",
        "\n",
        "  return cat\n",
        "\n",
        "# 막대그래프 크기 설정\n",
        "plt.figure(figsize = (10, 6))\n",
        "\n",
        "# X축 이름 순서 설정\n",
        "group_names = ['Unknown', 'Baby', 'Child', 'Teenager', 'Student', 'Young Adult', 'Adult', 'Elderly']\n",
        "\n",
        "# lambda식에 함수 적용\n",
        "titanic_df['Age_cat'] = titanic_df['Age'].apply(lambda x: get_category(x))\n",
        "# 시각화\n",
        "sns.barplot(x = 'Age_cat', y = 'Survived', hue = 'Sex', data = titanic_df, order = group_names)\n",
        "titanic_df.drop('Age_cat', axis = 1, inplace = True) # 사용이 끝난 칼럼 삭제"
      ],
      "execution_count": 15,
      "outputs": [
        {
          "output_type": "display_data",
          "data": {
            "image/png": "[encoded data removed]",
            "text/plain": [
              "<Figure size 720x432 with 1 Axes>"
            ]
          },
          "metadata": {
            "tags": [],
            "needs_background": "light"
          }
        }
      ]
    },
    {
      "cell_type": "markdown",
      "metadata": {
        "id": "JRjNCMnrqzrv",
        "colab_type": "text"
      },
      "source": [
        "- 여자 Baby, Elderly: 생존 확률이 매우 높음\n",
        "- 여자 Child: 다른 나이대의 여자보다 생존 확률이 낮음\n",
        "- 남자 Teenager, Student, Young Adult, Adult, Elderly: 생존 확률이 매우 낮음"
      ]
    },
    {
      "cell_type": "markdown",
      "metadata": {
        "id": "SOKi_NH6rSlJ",
        "colab_type": "text"
      },
      "source": [
        "### 5. 문자열 카테고리 피처 변환\n",
        "- LabelEncoder 클래스 사용, 레이블 인코딩 적용"
      ]
    },
    {
      "cell_type": "code",
      "metadata": {
        "id": "o4DrJzg2qtxj",
        "colab_type": "code",
        "colab": {
          "base_uri": "https://localhost:8080/",
          "height": 195
        },
        "outputId": "7beb0abf-c75b-49ca-b7f9-4e5ad263926a"
      },
      "source": [
        "from sklearn import preprocessing\n",
        "\n",
        "# 문자열 카테고리 피처를 한 번에 인코딩하는 함수 생성\n",
        "def encode_features(dataDF):\n",
        "  features = ['Cabin', 'Sex', 'Embarked']\n",
        "  for feature in features:\n",
        "    le = preprocessing.LabelEncoder()\n",
        "    le = le.fit(dataDF[feature])\n",
        "    dataDF[feature] = le.transform(dataDF[feature])\n",
        "\n",
        "  return dataDF\n",
        "\n",
        "titanic_df = encode_features(titanic_df)\n",
        "titanic_df.head()"
      ],
      "execution_count": 16,
      "outputs": [
        {
          "output_type": "execute_result",
          "data": {
            "text/html": [
              "<div>\n",
              "<style scoped>\n",
              "    .dataframe tbody tr th:only-of-type {\n",
              "        vertical-align: middle;\n",
              "    }\n",
              "\n",
              "    .dataframe tbody tr th {\n",
              "        vertical-align: top;\n",
              "    }\n",
              "\n",
              "    .dataframe thead th {\n",
              "        text-align: right;\n",
              "    }\n",
              "</style>\n",
              "<table border=\"1\" class=\"dataframe\">\n",
              "  <thead>\n",
              "    <tr style=\"text-align: right;\">\n",
              "      <th></th>\n",
              "      <th>PassengerId</th>\n",
              "      <th>Survived</th>\n",
              "      <th>Pclass</th>\n",
              "      <th>Name</th>\n",
              "      <th>Sex</th>\n",
              "      <th>Age</th>\n",
              "      <th>SibSp</th>\n",
              "      <th>Parch</th>\n",
              "      <th>Ticket</th>\n",
              "      <th>Fare</th>\n",
              "      <th>Cabin</th>\n",
              "      <th>Embarked</th>\n",
              "    </tr>\n",
              "  </thead>\n",
              "  <tbody>\n",
              "    <tr>\n",
              "      <th>0</th>\n",
              "      <td>1</td>\n",
              "      <td>0</td>\n",
              "      <td>3</td>\n",
              "      <td>Braund, Mr. Owen Harris</td>\n",
              "      <td>1</td>\n",
              "      <td>22.0</td>\n",
              "      <td>1</td>\n",
              "      <td>0</td>\n",
              "      <td>A/5 21171</td>\n",
              "      <td>7.2500</td>\n",
              "      <td>7</td>\n",
              "      <td>3</td>\n",
              "    </tr>\n",
              "    <tr>\n",
              "      <th>1</th>\n",
              "      <td>2</td>\n",
              "      <td>1</td>\n",
              "      <td>1</td>\n",
              "      <td>Cumings, Mrs. John Bradley (Florence Briggs Th...</td>\n",
              "      <td>0</td>\n",
              "      <td>38.0</td>\n",
              "      <td>1</td>\n",
              "      <td>0</td>\n",
              "      <td>PC 17599</td>\n",
              "      <td>71.2833</td>\n",
              "      <td>2</td>\n",
              "      <td>0</td>\n",
              "    </tr>\n",
              "    <tr>\n",
              "      <th>2</th>\n",
              "      <td>3</td>\n",
              "      <td>1</td>\n",
              "      <td>3</td>\n",
              "      <td>Heikkinen, Miss. Laina</td>\n",
              "      <td>0</td>\n",
              "      <td>26.0</td>\n",
              "      <td>0</td>\n",
              "      <td>0</td>\n",
              "      <td>STON/O2. 3101282</td>\n",
              "      <td>7.9250</td>\n",
              "      <td>7</td>\n",
              "      <td>3</td>\n",
              "    </tr>\n",
              "    <tr>\n",
              "      <th>3</th>\n",
              "      <td>4</td>\n",
              "      <td>1</td>\n",
              "      <td>1</td>\n",
              "      <td>Futrelle, Mrs. Jacques Heath (Lily May Peel)</td>\n",
              "      <td>0</td>\n",
              "      <td>35.0</td>\n",
              "      <td>1</td>\n",
              "      <td>0</td>\n",
              "      <td>113803</td>\n",
              "      <td>53.1000</td>\n",
              "      <td>2</td>\n",
              "      <td>3</td>\n",
              "    </tr>\n",
              "    <tr>\n",
              "      <th>4</th>\n",
              "      <td>5</td>\n",
              "      <td>0</td>\n",
              "      <td>3</td>\n",
              "      <td>Allen, Mr. William Henry</td>\n",
              "      <td>1</td>\n",
              "      <td>35.0</td>\n",
              "      <td>0</td>\n",
              "      <td>0</td>\n",
              "      <td>373450</td>\n",
              "      <td>8.0500</td>\n",
              "      <td>7</td>\n",
              "      <td>3</td>\n",
              "    </tr>\n",
              "  </tbody>\n",
              "</table>\n",
              "</div>"
            ],
            "text/plain": [
              "   PassengerId  Survived  Pclass  ...     Fare  Cabin  Embarked\n",
              "0            1         0       3  ...   7.2500      7         3\n",
              "1            2         1       1  ...  71.2833      2         0\n",
              "2            3         1       3  ...   7.9250      7         3\n",
              "3            4         1       1  ...  53.1000      2         3\n",
              "4            5         0       3  ...   8.0500      7         3\n",
              "\n",
              "[5 rows x 12 columns]"
            ]
          },
          "metadata": {
            "tags": []
          },
          "execution_count": 16
        }
      ]
    },
    {
      "cell_type": "markdown",
      "metadata": {
        "id": "Rv9L7iJftsp9",
        "colab_type": "text"
      },
      "source": [
        "### 6. 전처리 과정 함수화"
      ]
    },
    {
      "cell_type": "code",
      "metadata": {
        "id": "aoULhB3Sr-tS",
        "colab_type": "code",
        "colab": {}
      },
      "source": [
        "# 지금까지의 전처리 과정을 함수화(재사용 위해)\n",
        "\n",
        "# 결측치 처리 함수\n",
        "def fillna(df):\n",
        "  df['Age'].fillna(df['Age'].mean(), inplace = True)\n",
        "  df['Cabin'].fillna('N', inplace = True)\n",
        "  df['Embarked'].fillna('N', inplace = True)\n",
        "  df['Fare'].fillna(0, inplace = True)\n",
        "\n",
        "  return df\n",
        "\n",
        "# 불필요한 피처 제거 함수\n",
        "def drop_features(df):\n",
        "  df.drop(['PassengerId', 'Name', 'Ticket'], axis = 1, inplace = True)\n",
        "\n",
        "  return df\n",
        "\n",
        "# 레이블 인코딩\n",
        "def format_features(df):\n",
        "  df['Cabin'] = df['Cabin'].str[:1]\n",
        "  features = ['Cabin', 'Sex', 'Embarked']\n",
        "  for feature in features:\n",
        "    le = preprocessing.LabelEncoder()\n",
        "    le = le.fit(df[feature])\n",
        "    df[feature] = le.transform(df[feature])\n",
        "\n",
        "  return df\n",
        "\n",
        "# 위의 함수들 호출, 적용하는 함수\n",
        "def transform_features(df):\n",
        "  df = fillna(df)\n",
        "  df = drop_features(df)\n",
        "  df = format_features(df)\n",
        "\n",
        "  return df"
      ],
      "execution_count": 17,
      "outputs": []
    },
    {
      "cell_type": "code",
      "metadata": {
        "id": "90HFKWWZtPfJ",
        "colab_type": "code",
        "colab": {}
      },
      "source": [
        "# 원본 데이터 다시 로드, 피처 데이터셋/레이블 데이터셋 추출\n",
        "titanic_df = pd.read_csv('/content/drive/My Drive/titanic_train.csv')\n",
        "y_titanic_df = titanic_df['Survived']\n",
        "X_titanic_df = titanic_df.drop('Survived', axis = 1)\n",
        "\n",
        "X_titanic_df = transform_features(X_titanic_df)"
      ],
      "execution_count": 18,
      "outputs": []
    },
    {
      "cell_type": "markdown",
      "metadata": {
        "id": "PNPn2Kf6t9d1",
        "colab_type": "text"
      },
      "source": [
        "### 7. 학습/테스트 데이터 분할"
      ]
    },
    {
      "cell_type": "code",
      "metadata": {
        "id": "9v-0z-zStj3s",
        "colab_type": "code",
        "colab": {}
      },
      "source": [
        "from sklearn.model_selection import train_test_split\n",
        "\n",
        "X_train, X_test, y_train, y_test = train_test_split(X_titanic_df, y_titanic_df, test_size = 0.2, random_state = 11)"
      ],
      "execution_count": 20,
      "outputs": []
    },
    {
      "cell_type": "markdown",
      "metadata": {
        "id": "8tnG5tAvuFej",
        "colab_type": "text"
      },
      "source": [
        "### 8. 학습 및 예측, 평가"
      ]
    },
    {
      "cell_type": "markdown",
      "metadata": {
        "id": "Vk_xE2Z0uIc2",
        "colab_type": "text"
      },
      "source": [
        "- 의사 결정 트리, 랜덤 포레스트, 로지스틱 회귀 사용\n",
        "- 로지스틱 회귀: 이름과는 달리 매우 성능이 좋은 분류 알고리즘"
      ]
    },
    {
      "cell_type": "code",
      "metadata": {
        "id": "KCoQVbpSuUsA",
        "colab_type": "code",
        "colab": {
          "base_uri": "https://localhost:8080/",
          "height": 210
        },
        "outputId": "18fa0dc6-4cc8-48c0-9311-22ac48879485"
      },
      "source": [
        "from sklearn.tree import DecisionTreeClassifier # 의사 결정 트리\n",
        "from sklearn.ensemble import RandomForestClassifier # 랜덤 포레스트\n",
        "from sklearn.linear_model import LogisticRegression # 로지스틱 회귀\n",
        "from sklearn.metrics import accuracy_score # 평가: 정확도\n",
        "\n",
        "# 객체 생성\n",
        "dt_clf = DecisionTreeClassifier(random_state = 11)\n",
        "rf_clf = RandomForestClassifier(random_state = 11)\n",
        "lr_clf = LogisticRegression()\n",
        "\n",
        "# 의사 결정 트리\n",
        "dt_clf.fit(X_train, y_train) # 학습\n",
        "dt_pred = dt_clf.predict(X_test) # 예측\n",
        "print('의사 결정 나무 정확도: {0:.4f}'.format(accuracy_score(y_test, dt_pred))) # 평가\n",
        "\n",
        "# 랜덤 포레스트\n",
        "rf_clf.fit(X_train, y_train) # 학습\n",
        "rf_pred = rf_clf.predict(X_test) # 예측\n",
        "print('랜덤 포레스트 정확도: {0:.4f}'.format(accuracy_score(y_test, rf_pred))) # 평가\n",
        "\n",
        "# 로지스틱 회귀\n",
        "lr_clf.fit(X_train, y_train) # 학습\n",
        "lr_pred = lr_clf.predict(X_test) # 예측\n",
        "print('로지스틱 회귀 정확도: {0:.4f}'.format(accuracy_score(y_test, lr_pred))) # 평가"
      ],
      "execution_count": 21,
      "outputs": [
        {
          "output_type": "stream",
          "text": [
            "의사 결정 나무 정확도: 0.7877\n",
            "랜덤 포레스트 정확도: 0.8547\n",
            "로지스틱 회귀 정확도: 0.8492\n"
          ],
          "name": "stdout"
        },
        {
          "output_type": "stream",
          "text": [
            "/usr/local/lib/python3.6/dist-packages/sklearn/linear_model/_logistic.py:940: ConvergenceWarning: lbfgs failed to converge (status=1):\n",
            "STOP: TOTAL NO. of ITERATIONS REACHED LIMIT.\n",
            "\n",
            "Increase the number of iterations (max_iter) or scale the data as shown in:\n",
            "    https://scikit-learn.org/stable/modules/preprocessing.html\n",
            "Please also refer to the documentation for alternative solver options:\n",
            "    https://scikit-learn.org/stable/modules/linear_model.html#logistic-regression\n",
            "  extra_warning_msg=_LOGISTIC_SOLVER_CONVERGENCE_MSG)\n"
          ],
          "name": "stderr"
        }
      ]
    },
    {
      "cell_type": "markdown",
      "metadata": {
        "id": "ICZFth57v19M",
        "colab_type": "text"
      },
      "source": [
        "### 9. 교차 검증\n",
        "- 의사 결정 나무 모델 평가"
      ]
    },
    {
      "cell_type": "markdown",
      "metadata": {
        "id": "CnEaZZEHv7Zf",
        "colab_type": "text"
      },
      "source": [
        "9 - 1) cross_val_score( )"
      ]
    },
    {
      "cell_type": "code",
      "metadata": {
        "id": "TIbY-2_XvqCK",
        "colab_type": "code",
        "colab": {
          "base_uri": "https://localhost:8080/",
          "height": 122
        },
        "outputId": "7b9c00a2-3879-41ea-fb61-c4f21aca85c1"
      },
      "source": [
        "from sklearn.model_selection import cross_val_score\n",
        "\n",
        "scores = cross_val_score(dt_clf, X_titanic_df, y_titanic_df, cv = 5)\n",
        "for iter_count, accuracy in enumerate(scores):\n",
        "  print('교차 검증 {0} 정확도: {1:.4f}'.format(iter_count, accuracy))\n",
        "\n",
        "print('평균 정확도: {0:.4f}'.format(np.mean(scores)))"
      ],
      "execution_count": 22,
      "outputs": [
        {
          "output_type": "stream",
          "text": [
            "교차 검증 0 정확도: 0.7430\n",
            "교차 검증 1 정확도: 0.7753\n",
            "교차 검증 2 정확도: 0.7921\n",
            "교차 검증 3 정확도: 0.7865\n",
            "교차 검증 4 정확도: 0.8427\n",
            "평균 정확도: 0.7879\n"
          ],
          "name": "stdout"
        }
      ]
    },
    {
      "cell_type": "markdown",
      "metadata": {
        "id": "rP2C29GBwqaf",
        "colab_type": "text"
      },
      "source": [
        "9 - 2) GridSearchCV\n",
        "- cv = 5\n",
        "- max_depth, min_samples_split, min_samples_leaf 변경"
      ]
    },
    {
      "cell_type": "code",
      "metadata": {
        "id": "gACcxOUdwnnY",
        "colab_type": "code",
        "colab": {
          "base_uri": "https://localhost:8080/",
          "height": 70
        },
        "outputId": "4404509d-c252-4167-892d-35eb8f6c1577"
      },
      "source": [
        "from sklearn.model_selection import GridSearchCV\n",
        "\n",
        "# 교차 검증할 파라미터 설정\n",
        "parameters = {'max_depth':[2, 3, 5, 10],\n",
        "              'min_samples_split':[2, 3, 5],\n",
        "              'min_samples_leaf':[1, 5, 8]}\n",
        "\n",
        "# GridSearchCV 객체 생성 후 교차 검증 수행\n",
        "grid_dclf = GridSearchCV(dt_clf, param_grid = parameters, scoring = 'accuracy', cv = 5)\n",
        "grid_dclf.fit(X_train, y_train)\n",
        "\n",
        "# 최적 하이퍼 파라미터, 최고 정확도 출력\n",
        "print('GridSearchCV 최적 하이퍼 파라미터: ', grid_dclf.best_params_)\n",
        "print('GridSearchCV 최고 정확도: {0:.4f}'.format(grid_dclf.best_score_))\n",
        "best_dclf = grid_dclf.best_estimator_\n",
        "\n",
        "# 적용된 Estimator로 예측, 평가 수행\n",
        "dpredictions = best_dclf.predict(X_test)\n",
        "accuracy = accuracy_score(y_test, dpredictions)\n",
        "print('GridSearchCV 적용 후 의사 결정 나무 정확도: {0:.4f}'.format(accuracy))"
      ],
      "execution_count": 23,
      "outputs": [
        {
          "output_type": "stream",
          "text": [
            "GridSearchCV 최적 하이퍼 파라미터:  {'max_depth': 3, 'min_samples_leaf': 5, 'min_samples_split': 2}\n",
            "GridSearchCV 최고 정확도: 0.7992\n",
            "GridSearchCV 적용 후 의사 결정 나무 정확도: 0.8715\n"
          ],
          "name": "stdout"
        }
      ]
    }
  ]
}
